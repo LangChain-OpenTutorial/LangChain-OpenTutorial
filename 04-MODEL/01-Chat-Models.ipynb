{
 "cells": [
  {
   "cell_type": "markdown",
   "metadata": {},
   "source": [
    "# Using Various LLM Models\n",
    "\n",
    "- Author: [eunhhyy](https://github.com/eunhhyy)\n",
    "- Design: []()\n",
    "- Peer Review: []()\n",
    "- This is a part of [LangChain Open Tutorial](https://github.com/LangChain-OpenTutorial/LangChain-OpenTutorial)\n",
    "\n",
    "[![Open in Colab](https://colab.research.google.com/assets/colab-badge.svg)](https://colab.research.google.com/github/langchain-ai/langchain-academy/blob/main/module-4/sub-graph.ipynb) [![Open in LangChain Academy](https://cdn.prod.website-files.com/65b8cd72835ceeacd4449a53/66e9eba12c7b7688aa3dbb5e_LCA-badge-green.svg)](https://academy.langchain.com/courses/take/intro-to-langgraph/lessons/58239937-lesson-2-sub-graphs)\n",
    "\n",
    "## Overview\n",
    "\n",
    "This tutorial provides a comprehensive overview of the major `Language Model (LLM) services` currently gaining attention in the AI market.\n",
    "\n",
    "Leading AI companies present different services with their unique features. These include OpenAI's GPT-4 series for processing different input lengths, Anthropic's Claude 3 series for seamless integration with major cloud platforms such as AWS and GCP, and Perplexity's specialised file analysis capabilities for PDFs and CSVs with clear source attribution.\n",
    "\n",
    "----"
   ]
  },
  {
   "cell_type": "markdown",
   "metadata": {},
   "source": [
    "## Environment Setup\n",
    "\n",
    "Set up the environment. You may refer to [Environment Setup](https://wikidocs.net/257836) for more details.\n",
    "\n",
    "**[Note]**\n",
    "- `langchain-opentutorial` is a package that provides a set of easy-to-use environment setup, useful functions and utilities for tutorials. \n",
    "- You can checkout the [`langchain-opentutorial`](https://github.com/LangChain-OpenTutorial/langchain-opentutorial-pypi) for more details."
   ]
  },
  {
   "cell_type": "code",
   "execution_count": 1,
   "metadata": {},
   "outputs": [],
   "source": [
    "%%capture --no-stderr\n",
    "%pip install langchain-opentutorial"
   ]
  },
  {
   "cell_type": "markdown",
   "metadata": {},
   "source": [
    "# Install required packages\n",
    "from langchain_opentutorial import package\n",
    "\n",
    "package.install(\n",
    "    [\n",
    "        \"langsmith\",\n",
    "        \"langchain\",\n",
    "        \"langchain_core\",\n",
    "        \"langchain-anthropic\",\n",
    "        \"langchain_community\",\n",
    "        \"langchain_text_splitters\",\n",
    "        \"langchain_openai\",\n",
    "    ],\n",
    "    verbose=False,\n",
    "    upgrade=False,\n",
    ")"
   ]
  },
  {
   "cell_type": "code",
   "execution_count": 1,
   "metadata": {},
   "outputs": [
    {
     "name": "stdout",
     "output_type": "stream",
     "text": [
      "Environment variables have been set successfully.\n"
     ]
    }
   ],
   "source": [
    "# Set environment variables\n",
    "from langchain_opentutorial import set_env\n",
    "\n",
    "set_env(\n",
    "    {\n",
    "        \"OPENAI_API_KEY\": \"\",\n",
    "        \"ANTHROPIC_API_KEY\" : \"\" ,\n",
    "        \"PPLX_API_KEY\" : \"\",\n",
    "        \"TOGETHER_API_KEY\" : \"\",\n",
    "        \"CO_API_KEY\" : \"\",\n",
    "        \"LANGCHAIN_API_KEY\": \"\",\n",
    "        \"LANGCHAIN_TRACING_V2\": \"true\",\n",
    "        \"LANGCHAIN_ENDPOINT\": \"https://api.smith.langchain.com\",\n",
    "        \"LANGCHAIN_PROJECT\": \"Chat-Models\"\n",
    "    }\n",
    ")"
   ]
  },
  {
   "cell_type": "markdown",
   "metadata": {},
   "source": [
    "You can alternatively set `OPENAI_API_KEY` in `.env` file and load it. \n",
    "\n",
    "[Note] This is not necessary if you've already set `OPENAI_API_KEY` in previous steps."
   ]
  },
  {
   "cell_type": "code",
   "execution_count": 3,
   "metadata": {},
   "outputs": [
    {
     "data": {
      "text/plain": [
       "True"
      ]
     },
     "execution_count": 3,
     "metadata": {},
     "output_type": "execute_result"
    }
   ],
   "source": [
    "## Configuration file for managing API KEY as an environment variable\n",
    "from dotenv import load_dotenv\n",
    "\n",
    "# Load API Key Information\n",
    "load_dotenv()"
   ]
  },
  {
   "cell_type": "markdown",
   "metadata": {},
   "source": [
    "## OpenAI\n",
    "\n",
    "### Overview\n",
    "OpenAI provides chat-specific Large Language Models (LLM). Various options can be specified when creating these models, which affect how the models behave.\n",
    "\n",
    "\n",
    "### Detailed Options\n",
    "\n",
    "`temperature`\n",
    "\n",
    "Sampling temperature is a parameter that can be set between 0 and 2. Higher values (such as 0.8) result in more random and diverse outputs, while lower values (such as 0.2) produce more focused and deterministic results. When fine-tuning the randomness of outputs, it's generally recommended to adjust either the temperature or top_p parameter, but not both simultaneously.(https://platform.openai.com/docs/api-reference/chat/create)\n",
    "\n",
    "`max_tokens`\n",
    "\n",
    "Specifies the maximum number of tokens to generate in chat completion. This option controls the length of text the model can generate at once.\n",
    "\n",
    "`model`\n",
    "\n",
    "ID of the model to use. More detailed information can be found in the [OpenAI models documentation](https://platform.openai.com/docs/models#models-overview).\n",
    "\n",
    "\n",
    "모델 스펙\n",
    "\n",
    "| Model | Description | Context Window | Max Output Tokens | Training Data |\n",
    "|-------|-------------|----------------|-------------------|---------------|\n",
    "| gpt-4o | Most recent GPT-4 model, more reliable and faster than Turbo | 128,000 tokens | 16,384 tokens | Until Oct 2023 |\n",
    "| gpt-4-turbo | Latest GPT-4 Turbo model. Supports vision, JSON mode, and function calling | 128,000 tokens | 4,096 tokens | Until Dec 2023 |\n",
    "| gpt-4o-mini | Model with lower performance but better quality than GPT-3.5 Turbo | 128,000 tokens | 16,384 tokens | Until Oct 2023 |\n",
    "| o1 | Reasoning model designed to solve hard problems across domains | 200,000 tokens | 100,000 tokens | Until Oct 2023 |\n",
    "| o1-mini | Fast and affordable reasoning model for specialized tasks | 128,000 tokens | 65,536 tokens | Until Oct 2023 |\n",
    "| gpt-4o-realtime | Real-time audio and text input processing model (beta) | 128,000 tokens | 4,096 tokens | Until Oct 2023 |\n",
    "| gpt-4o-audio-preview | Preview release of GPT-4o Audio models for audio inputs and outputs (beta) | 128,000 tokens | 16,384 tokens | Until Oct 2023 |"
   ]
  },
  {
   "cell_type": "code",
   "execution_count": 3,
   "metadata": {},
   "outputs": [
    {
     "name": "stdout",
     "output_type": "stream",
     "text": [
      "Love is a complex and multifaceted emotion that can be difficult to define because it encompasses a wide range of feelings, behaviors, and experiences. It often involves deep affection, care, and attachment towards someone or something. Love can manifest in various forms, such as:\n",
      "\n",
      "1. **Romantic Love**: This is often characterized by passion, intimacy, and commitment between partners. It involves a deep emotional connection and often a desire for a long-term relationship.\n",
      "\n",
      "2. **Familial Love**: This type of love is the bond that exists between family members, such as the love between parents and children or among siblings. It is often unconditional and based on a sense of duty and care.\n",
      "\n",
      "3. **Platonic Love**: This is a non-romantic love that can occur between friends. It is based on mutual respect, shared interests, and emotional support.\n",
      "\n",
      "4. **Self-Love**: This involves having a healthy regard for one's own well-being and happiness. It is about recognizing one's own worth and taking care of oneself.\n",
      "\n",
      "5. **Unconditional Love**: This is a selfless love that is given without expecting anything in return. It is often associated with parental love or spiritual love.\n",
      "\n",
      "Love can inspire joy and fulfillment, but it can also lead to challenges and heartache. It is a central theme in human life and culture, influencing art, literature, and personal relationships.\n"
     ]
    }
   ],
   "source": [
    "from langchain_openai import ChatOpenAI\n",
    "\n",
    "# Create a ChatOpenAI object\n",
    "gpt = ChatOpenAI(\n",
    "    temperature=0,\n",
    "    model=\"gpt-4o\",  # Model name\n",
    ")\n",
    "\n",
    "answer = gpt.invoke(\"What is love?\")\n",
    "\n",
    "# Print the content of the answer\n",
    "print(answer.content)"
   ]
  },
  {
   "cell_type": "markdown",
   "metadata": {},
   "source": [
    "## Anthropic\n",
    "\n",
    "Anthropic is an American startup company focused on AI safety and research. Here's key information:\n",
    "\n",
    "- Founded: 2021\n",
    "- Location: San Francisco, USA\n",
    "- Founders: Former OpenAI employees (including Daniela Amodei and Dario Amodei)\n",
    "- Company Type: Registered as a Public Benefit Corporation\n",
    "\n",
    "### Claude\n",
    "\n",
    "Claude is Anthropic's flagship Large Language Model (LLM) product line.\n",
    "\n",
    "- API Key Generation: https://console.anthropic.com/settings/keys\n",
    "- Model List: https://docs.anthropic.com/en/docs/about-claude/models\n",
    "\n",
    "모델 스펙\n",
    "\n",
    "| Model Name | API Model Name | Description | Multilingual | Vision | Message Batches API | Context Window | Max Output   | Cost (Input / Output per MTok) | Training Data Cut-Off |\n",
    "|---------------------|---------------------------|-------------------------------|--------------|--------|----------------------|----------------|--------------|---------------------------|-----------------------|\n",
    "| Claude 3.5 Sonnet  | claude-3-5-sonnet-20241022 | Anthropic's most advanced model offering the highest level of intelligence and capabilities. | Y            | Y      | Y                    | 200K           | 8,192 tokens  | $3.00 / $15.00                 | Apr 2024              |\n",
    "| Claude 3.5 Haiku   | claude-3-5-haiku-20241022  | Anthropic's fastest model delivering intelligence at blazing speeds.         | Y            | N      | Y                    | 200K           | 8,192 tokens  | $0.80 / $4.00                   | July 2024             |\n",
    "| Claude 3 Opus      | claude-3-opus-20240229     | Anthropic's powerful model optimized for complex tasks, delivering top-tier intelligence, fluency, and understanding. | Y            | Y      | Y                    | 200K           | 4,096 tokens  | $15.00 / $75.00                 | Aug 2023              |\n",
    "| Claude 3 Sonnet    | claude-3-sonnet-20240229   | Anthropic's balanced model combining intelligence and speed, offering robust performance optimized for scaled deployments. | Y            | Y      | N                    | 200K           | 4,096 tokens  | $3.00 / $15.00                  | Aug 2023              |\n",
    "| Claude 3 Haiku     | claude-3-haiku-20240307    | Anthropic's most compact model delivering near-instant responsiveness with quick and accurate performance. | Y            | Y      | Y                    | 200K           | 4,096 tokens  | $0.25 / $1.25                   | Aug 2023              |"
   ]
  },
  {
   "cell_type": "code",
   "execution_count": 4,
   "metadata": {},
   "outputs": [
    {
     "name": "stdout",
     "output_type": "stream",
     "text": [
      "Love is a complex and multifaceted emotion or feeling that can be difficult to define precisely. It can include:\n",
      "\n",
      "1. Deep affection and care for others\n",
      "2. Strong feelings of attachment\n",
      "3. Desire for connection and intimacy\n",
      "4. Concern for another's wellbeing\n",
      "5. Willingness to sacrifice for others\n",
      "\n",
      "Love can take many forms:\n",
      "\n",
      "- Romantic love (between partners)\n",
      "- Familial love (between family members)\n",
      "- Platonic love (between friends)\n",
      "- Self-love\n",
      "- Universal love (compassion for humanity/all beings)\n",
      "\n",
      "From a scientific perspective, love involves biochemical reactions in the brain, including the release of hormones and neurotransmitters like dopamine, oxytocin, and serotonin.\n",
      "\n",
      "Philosophically and culturally, love has been interpreted in many ways throughout history, from ancient Greek concepts like \"eros,\" \"philia,\" and \"agape\" to modern psychological and social theories.\n",
      "\n",
      "Ultimately, love is a fundamental human experience that can bring meaning, joy, and connection to our lives, though its exact nature remains a subject of ongoing discussion and interpretation.\n"
     ]
    }
   ],
   "source": [
    "from langchain_anthropic import ChatAnthropic\n",
    "\n",
    "# Create a ChatAnthropic object\n",
    "anthropic = ChatAnthropic(model=\"claude-3-5-sonnet-20241022\")\n",
    "\n",
    "answer = anthropic.invoke(\"What is love?\")\n",
    "\n",
    "# Print the content of the answer\n",
    "print(answer.content)"
   ]
  },
  {
   "cell_type": "markdown",
   "metadata": {},
   "source": [
    "## Perplexity\n",
    "\n",
    "link : https://www.perplexity.ai/\n",
    "\n",
    "- Founded: 2022\n",
    "- Key Investors: Jeff Bezos, Nvidia, Databricks, Bessemer Venture Partners, IVP, Wayra, and others\n",
    "- Recent Funding: $500 million (October 2024)\n",
    "- Company Valuation: Approximately $9 billion (as of November 2024)\n",
    "\n",
    "### Perplexity Pro\n",
    "\n",
    "- Unlimited quick searches\n",
    "- Over 300 expert searches per day\n",
    "- You can select your preferred AI model. GPT-4o, Claude-3, Sona Large (LLAMA 3.1), etc\n",
    "- Unlimited file uploads and analysis\n",
    "- Visualize answers using Playground AI, DALL-E, SDXL, and more\n",
    "- $5/month in API credits\n",
    "\n",
    "\n",
    "### Perplexity API\n",
    "\n",
    "Supported Models\n",
    "\n",
    "| Model | Parameter Count | Context Length | Model Type | Request Rate Limit | Price per 1000 requests | Price per 1M tokens |\n",
    "|--------|-----------------|----------------|------------|------------|------------|------------|\n",
    "| llama-3.1-sonar-small-128k-online | 8B | 127,072 | Chat Completion | 50/min | $5 | $0.2 |\n",
    "| llama-3.1-sonar-large-128k-online | 70B | 127,072 | Chat Completion | 50/min | $5 | $1 |\n",
    "| llama-3.1-sonar-huge-128k-online | 405B | 127,072 | Chat Completion | 50/min | $5 | $5 |\n",
    "\n",
    "\n",
    "### ChatPerplexity Parameters\n",
    "\n",
    "`model` \n",
    "Specify the language model to use (e.g., \"llama-3.1-sonar-small-128k-online\") - determines base performance and capabilities.\n",
    "\n",
    "\n",
    "`temperature` \n",
    "Controls randomness in responses (0.0-1.0), 0 is deterministic, 1 generates most random responses.\n",
    "\n",
    "\n",
    "`top_p` \n",
    "Sets probability threshold for token sampling (0.0-1.0), higher values allow more diverse outputs.\n",
    "\n",
    "\n",
    "`search_domain_filter` \n",
    "Restricts search results to specified domains, provided as a list (e.g., [\"perplexity.ai\"]).\n",
    "\n",
    "\n",
    "`return_images` \n",
    "Boolean flag determining whether to include images in responses.\n",
    "\n",
    "\n",
    "`return_related_questions` \n",
    "Boolean flag to enable/disable related question suggestions.\n",
    "\n",
    "\n",
    "`top_k` \n",
    "Limits the number of search results to use (0 means no limit).\n",
    "\n",
    "\n",
    "`streaming` \n",
    "Boolean flag determining whether to receive responses in streaming or completed form.\n",
    "\n",
    "\n",
    "`presence_penalty` \n",
    "Penalty for token repetition (-2.0 to 2.0), higher values discourage reuse.\n",
    "\n",
    "\n",
    "`frequency_penalty` \n",
    "Adjusts common/rare token preference (-2.0 to 2.0), higher values favor rare tokens.\n"
   ]
  },
  {
   "cell_type": "code",
   "execution_count": 5,
   "metadata": {},
   "outputs": [
    {
     "name": "stdout",
     "output_type": "stream",
     "text": [
      "Love is a complex and multifaceted concept that encompasses a range of strong and positive emotional and mental states. It can be described in various ways, depending on the context and perspective. Here are some key aspects of love:\n",
      "\n",
      "1. **Emotional and Mental States**:\n",
      "   - Love is an emotion that motivates us and is an expression of affection. It can be an intense feeling of attraction and emotional attachment, as well as a deep interpersonal affection[2][3].\n",
      "\n",
      "2. **Components of Love**:\n",
      "   - The triangular theory of love, proposed by psychologist Robert Sternberg, identifies three components: intimacy, passion, and commitment. Different combinations of these components define various forms of love, such as romantic love, companionate love, and consummate love[2][3].\n",
      "\n",
      "3. **Psychological Basis**:\n",
      "   - Psychologist Zick Rubin identified three factors that constitute love: attachment, caring, and intimacy. Attachment involves the need for physical contact and approval, caring involves valuing the other person's happiness and needs, and intimacy involves sharing private thoughts and feelings[3].\n",
      "\n",
      "4. **Philosophical Perspectives**:\n",
      "   - Ancient Greek philosophers identified six forms of love, including familial love, platonic love (philia), and self-emptying or divine love (agape)[2].\n",
      "   - Thomas Aquinas defined love as \"to will the good of another,\" emphasizing that love involves both desiring the best for the other person and rejoicing in their good[4].\n",
      "\n",
      "5. **Cultural and Personal Perspectives**:\n",
      "   - Love can be described as a mindset that involves choosing to love others, even when it is not easy. It involves sacrifice, commitment, and trust, and can be seen in various forms of relationships, including romantic love, familial love, and friendships[3][5].\n",
      "\n",
      "6. **Religious and Spiritual Meanings**:\n",
      "   - In religious contexts, love is often seen as a divine attribute and a fundamental aspect of human relationships. For example, in Christianity, love is considered a fundamental commandment and a reflection of God's nature[4].\n",
      "\n",
      "In summary, love is a multifaceted concept that encompasses emotional, mental, and relational aspects, and can be understood through various philosophical, psychological, and cultural perspectives.\n"
     ]
    }
   ],
   "source": [
    "from langchain_community.chat_models import ChatPerplexity\n",
    "\n",
    "# Create a ChatPerplexity object\n",
    "perplexity = ChatPerplexity(temperature=0, model=\"llama-3.1-sonar-small-128k-online\")\n",
    "\n",
    "answer = perplexity.invoke(\"What is love?\")\n",
    "\n",
    "# Print the content of the answer\n",
    "print(answer.content)"
   ]
  },
  {
   "cell_type": "markdown",
   "metadata": {},
   "source": [
    "ChatPerplexity stores the source of knowledge information in the citations properties."
   ]
  },
  {
   "cell_type": "code",
   "execution_count": 6,
   "metadata": {},
   "outputs": [
    {
     "name": "stdout",
     "output_type": "stream",
     "text": [
      "\n",
      "1 https://www.youtube.com/watch?v=HEXWRTEbj1I\n",
      "2 https://en.wikipedia.org/wiki/Lovable\n",
      "3 https://goalsforyourlife.com/what-is-love/\n",
      "4 https://firebrandmag.com/articles/what-is-love\n",
      "5 https://www.joinonelove.org/learn/10-people-explain-what-love-means-to-them/\n"
     ]
    }
   ],
   "source": [
    "response = perplexity.invoke(\"What is love?\")\n",
    "\n",
    "print()\n",
    "for i, citation in enumerate(response.additional_kwargs['citations']):\n",
    "    print(f\"{i+1} {citation}\")"
   ]
  },
  {
   "cell_type": "markdown",
   "metadata": {},
   "source": [
    "## Together AI\n",
    "\n",
    "link : https://www.together.ai/\n",
    "\n",
    "API Key : https://api.together.ai/\n",
    "\n",
    "\n",
    "\n",
    "Together AI is a generative AI cloud platform company founded in 2022 in San Francisco (raised over $120 million in funding from investors including NVIDIA, Kleiner Perkins, Lux, NEA).\n",
    "\n",
    "\n",
    "### Key Products and Features\n",
    "\n",
    "**Together Inference**\n",
    "- Provides the industry's fastest inference stack, up to 4x faster than vLLM\n",
    "- 11x lower cost compared to GPT-4 when using Llama-3 70B\n",
    "- Automatic scaling functionality that adjusts capacity according to API request volume\n",
    "\n",
    "**Together Custom Models**\n",
    "- Supports custom AI model training and fine-tuning\n",
    "- Applies latest optimization techniques like FlashAttention-3\n",
    "- Guarantees complete ownership of trained models\n",
    "\n",
    "### Technical Features\n",
    "\n",
    "**Performance Optimization**\n",
    "- Inference engine incorporating FlashAttention-3 kernels and proprietary kernels\n",
    "- Application of speculative decoding algorithms like Medusa and SpecExec\n",
    "- Use of proprietary quantization technology for best accuracy and performance\n",
    "\n",
    "**Supported Models**\n",
    "- Supports over 200 open-source models including Google Gemma, Meta's Llama 3.3, Qwen2.5, Mistral AI's Mistral/Mixtral\n",
    "- Supports multimodal AI models for processing various types of data\n",
    "\n",
    "**Security and Privacy**\n",
    "- Data is not used for training new models unless explicitly consented by users\n",
    "- Provides complete control over data storage to users"
   ]
  },
  {
   "cell_type": "code",
   "execution_count": 7,
   "metadata": {},
   "outputs": [
    {
     "name": "stdout",
     "output_type": "stream",
     "text": [
      "Love is a complex and multifaceted concept that has been debated and explored by philosophers, psychologists, scientists, and many others for centuries. While there's no single, definitive answer, here's a comprehensive overview:\n",
      "\n",
      "**Types of Love:**\n",
      "\n",
      "1. **Romantic Love**: The intense, passionate, and often all-consuming feeling we experience when we're attracted to someone. This type of love is often characterized by strong emotions, attachment, and a desire for physical and emotional intimacy.\n",
      "2. **Unconditional Love**: A selfless, unwavering, and accepting love that doesn't depend on external circumstances or expectations. This type of love is often associated with familial bonds, friendships, and spiritual connections.\n",
      "3. **Platonic Love**: A deep and meaningful connection with someone that doesn't involve romantic or physical attraction. This type of love is often found in friendships, familial relationships, and community bonds.\n",
      "4. **Self-Love**: The practice of accepting, appreciating, and caring for oneself. This type of love is essential for personal growth, well-being, and happiness.\n",
      "\n",
      "**Theories of Love:**\n",
      "\n",
      "1. **Attachment Theory**: Proposed by John Bowlby and Mary Ainsworth, this theory suggests that our early relationships with caregivers shape our attachment styles and influence our ability to form healthy, loving relationships throughout our lives.\n",
      "2. **Triangular Theory of Love**: Developed by Robert Sternberg, this theory proposes that love consists of three components: intimacy, passion, and commitment. Different combinations of these components can result in various types of love.\n",
      "3. **Biological Perspective**: Research suggests that love is associated with the release of neurotransmitters like oxytocin, dopamine, and serotonin, which can stimulate feelings of pleasure, attachment, and bonding.\n",
      "\n",
      "**Characteristics of Love:**\n",
      "\n",
      "1. **Emotional Connection**: A deep sense of understanding, empathy, and emotional resonance with another person.\n",
      "2. **Acceptance**: Unconditional acceptance and appreciation of the other person, including their strengths, weaknesses, and quirks.\n",
      "3. **Commitment**: A willingness to invest time, energy, and resources in the relationship and work through challenges together.\n",
      "4. **Intimacy**: A sense of closeness, vulnerability, and trust that allows for open communication and emotional sharing.\n",
      "5. **Care and Compassion**: A genuine concern for the other person's well-being, happiness, and growth.\n",
      "\n",
      "**In Conclusion:**\n",
      "\n",
      "Love is a rich, complex, and multifaceted experience that can take many forms and manifest in various ways. While it's difficult to define love precisely, it's clear that it involves a deep emotional connection, acceptance, commitment, intimacy, and care for another person. Ultimately, love is a unique and subjective experience that can bring immense joy, fulfillment, and meaning to our lives.\n"
     ]
    }
   ],
   "source": [
    "from langchain_together import ChatTogether\n",
    "\n",
    "together = ChatTogether(model=\"meta-llama/Llama-3.3-70B-Instruct-Turbo\", temperature=0)\n",
    "answer = together.invoke(\"What is love?\")\n",
    "print(answer.content)"
   ]
  },
  {
   "cell_type": "markdown",
   "metadata": {},
   "source": [
    "Support for function calls"
   ]
  },
  {
   "cell_type": "code",
   "execution_count": 8,
   "metadata": {},
   "outputs": [
    {
     "name": "stdout",
     "output_type": "stream",
     "text": [
      "numbers=[12, 45, 7, 23, 56, 89]\n"
     ]
    }
   ],
   "source": [
    "from pydantic import BaseModel\n",
    "from typing import List\n",
    "\n",
    "\n",
    "class Numbers(BaseModel):\n",
    "    numbers: List[int]\n",
    "\n",
    "\n",
    "together_structured = together.with_structured_output(Numbers)\n",
    "\n",
    "answer = together_structured.invoke(\"Generate 6 random numbers\")\n",
    "print(answer)"
   ]
  },
  {
   "cell_type": "markdown",
   "metadata": {},
   "source": [
    "## Cohere\n",
    "\n",
    "Cohere is a leading AI company providing enterprise AI solutions, developing large language models (LLM) to help businesses easily adopt and utilize AI technology.\n",
    "\n",
    "\n",
    "### Cohere Overview\n",
    "\n",
    "- Founded: 2020\n",
    "- Major Investors: Inovia Capital, NVIDIA, Oracle, Salesforce Ventures\n",
    "- Series C Funding: Raised $270 million\n",
    "- Company Mission: Provide enterprise AI platform\n",
    "\n",
    "### Key Products\n",
    "**Command R+**\n",
    "\n",
    "Command R+ is Cohere's latest LLM optimized for enterprise use.\n",
    "\n",
    "Key Features\n",
    "- Long Context Window: Supports 128k tokens\n",
    "- Advanced RAG Features: Provides retrieval-augmented generation capabilities\n",
    "- Multilingual Support: Supports 10 major business languages\n",
    "- Automation Tool Usage: Automates complex business processes\n",
    "\n",
    "**Aya**\n",
    "\n",
    "Aya is an open-source multilingual LLM developed by Cohere for AI, Cohere's non-profit research lab.\n",
    "\n",
    "Key Features\n",
    "- Language Support: Supports 101 languages (more than double that of existing open-source models)\n",
    "- Training Dataset: Released large-scale multilingual training dataset containing 513 million data points"
   ]
  },
  {
   "cell_type": "code",
   "execution_count": 11,
   "metadata": {},
   "outputs": [
    {
     "name": "stdout",
     "output_type": "stream",
     "text": [
      "Love is a complex and multifaceted concept that has been a subject of fascination and exploration in various fields, including philosophy, psychology, biology, and literature. It is an emotion that encompasses a range of feelings and behaviors, and it is considered one of the most profound and meaningful aspects of human experience. Here are some perspectives on what love is:\n",
      "\n",
      "**Philosophical and Psychological Perspectives:**\n",
      "- Ancient Greek Philosophy: In classical philosophy, love was often divided into different forms. The ancient Greeks used multiple words for love, such as 'eros,' which refers to romantic and passionate love, 'philia,' denoting friendship and affection, and 'agape,' representing selfless, unconditional love. Plato's concept of love, particularly in \"Symposium,\" explores love as a force that elevates the soul and brings individuals closer to beauty, truth, and the divine.\n",
      "- Emotional Bond and Attachment: In psychology, love is often viewed as an emotional bond and attachment between individuals. Psychologist Robert Sternberg proposed the triangular theory of love, which suggests that love is composed of three elements: intimacy (emotional closeness), passion (physical desire and attraction), and commitment (the decision to stay together).\n",
      "- Cognitive and Neurobiological Aspects: Modern cognitive and evolutionary psychology also explore love as a combination of cognitive and neurobiological processes. Researchers suggest that love involves the release of certain neurotransmitters and hormones, such as oxytocin and dopamine, which create feelings of attachment, pleasure, and bonding.\n",
      "\n",
      "**Social and Cultural Perspectives:**\n",
      "- Interpersonal Relationship: In a social context, love is often associated with interpersonal relationships, including romantic love between partners, familial love between family members, and platonic love between friends. It involves care, affection, trust, and mutual support.\n",
      "- Cultural and Social Constructs: Love is also shaped by cultural and social norms, which vary across different societies and historical periods. Cultural expectations, traditions, and beliefs influence how love is expressed, perceived, and experienced.\n",
      "\n",
      "**Spiritual and Transcendental Perspectives:**\n",
      "- Unconditional Love: In many spiritual and religious traditions, love is seen as a divine attribute or a force that transcends individual existence. Unconditional love is a concept that emphasizes selflessness, compassion, and acceptance without conditions or expectations.\n",
      "- Love as a Universal Force: Some philosophical and spiritual traditions view love as a fundamental force that connects all beings and promotes harmony and unity. This perspective sees love as a path to personal growth, spiritual enlightenment, and a deeper understanding of the world.\n",
      "\n",
      "Love is a multifaceted emotion that can be understood and experienced in various ways. It involves a combination of biological, psychological, social, and cultural factors, and it plays a significant role in shaping human relationships and experiences. The nature of love continues to be a subject of exploration and contemplation in various disciplines, reflecting its complexity and importance in the human condition.\n"
     ]
    }
   ],
   "source": [
    "from langchain_cohere import ChatCohere\n",
    "\n",
    "# Create a ChatCohere object\n",
    "cohere = ChatCohere(temperature=0)\n",
    "\n",
    "answer = cohere.invoke(\"What is love?\")\n",
    "\n",
    "print(answer.content)"
   ]
  }
 ],
 "metadata": {
  "kernelspec": {
   "display_name": "langchain-opentutorial-CdwWMDtj-py3.11",
   "language": "python",
   "name": "python3"
  },
  "language_info": {
   "codemirror_mode": {
    "name": "ipython",
    "version": 3
   },
   "file_extension": ".py",
   "mimetype": "text/x-python",
   "name": "python",
   "nbconvert_exporter": "python",
   "pygments_lexer": "ipython3",
   "version": "3.11.8"
  }
 },
 "nbformat": 4,
 "nbformat_minor": 2
}
