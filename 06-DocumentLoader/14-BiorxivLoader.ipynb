{
  "cells": [
    {
      "cell_type": "markdown",
      "id": "635d8ebb",
      "metadata": {},
      "source": [
        "# Biorxiv Loader\n",
        "\n",
        "- Author: [frimer](https://github.com/brian604)\n",
        "- Design:\n",
        "- Peer Review: \n",
        "- This is a part of [LangChain Open Tutorial](https://github.com/LangChain-OpenTutorial/LangChain-OpenTutorial)\n",
        "\n",
        "[![Open in Colab](https://colab.research.google.com/assets/colab-badge.svg)](https://colab.research.google.com/github/LangChain-OpenTutorial/LangChain-OpenTutorial/blob/main/06-DocumentLoader/14-medrxivLoader.ipynb) [![Open in GitHub](https://img.shields.io/badge/Open%20in%20GitHub-181717?style=flat-square&logo=github&logoColor=white)](https://github.com/LangChain-OpenTutorial/LangChain-OpenTutorial/blob/main/06-DocumentLoader/14-medrxivLoader.ipynb)\n",
        "\n",
        "## Overview\n",
        "\n",
        "This tutorial will introduce you to another archives of health-related and biological-related contents: **medRxiv** and **bioRxiv**, both of which\n",
        "are operated by the Cold Spring Harbor Laboratory\n",
        "\n",
        "### Table of Contents\n",
        "\n",
        "- [Overview](#overview)\n",
        "- [Environment Setup](#environment-setup)\n",
        "- [Example Queries](#example-queries)\n",
        "\n",
        "### References\n",
        "\n",
        "- [medrxivr](https://github.com/ropensci/medrxivr)\n",
        "    - Access and search medRxiv and bioRxiv\n",
        "- [Arxiv Langchain](https://python.langchain.com/docs/integrations/providers/arxiv/)\n",
        "- [medrxiv-langchain](https://github.com/brian604/medrxiv-langchain)\n",
        "----"
      ]
    },
    {
      "cell_type": "markdown",
      "id": "c6c7aba4",
      "metadata": {},
      "source": [
        "## Environment Setup\n",
        "\n",
        "Set up the environment. You may refer to [Environment Setup](https://wikidocs.net/257836) for more details.\n",
        "\n",
        "**[Note]**\n",
        "- `langchain-opentutorial` is a package that provides a set of easy-to-use environment setup, useful functions and utilities for tutorials. \n",
        "- You can checkout the [`langchain-opentutorial`](https://github.com/LangChain-OpenTutorial/langchain-opentutorial-pypi) for more details."
      ]
    },
    {
      "cell_type": "code",
      "execution_count": 1,
      "id": "21943adb",
      "metadata": {},
      "outputs": [],
      "source": [
        "%%capture --no-stderr\n",
        "%pip install  --upgrade langchain-opentutorial"
      ]
    },
    {
      "cell_type": "code",
      "execution_count": 2,
      "id": "f25ec196",
      "metadata": {},
      "outputs": [
        {
          "name": "stderr",
          "output_type": "stream",
          "text": [
            "\n",
            "\u001b[1m[\u001b[0m\u001b[34;49mnotice\u001b[0m\u001b[1;39;49m]\u001b[0m\u001b[39;49m A new release of pip is available: \u001b[0m\u001b[31;49m24.3.1\u001b[0m\u001b[39;49m -> \u001b[0m\u001b[32;49m25.0.1\u001b[0m\n",
            "\u001b[1m[\u001b[0m\u001b[34;49mnotice\u001b[0m\u001b[1;39;49m]\u001b[0m\u001b[39;49m To update, run: \u001b[0m\u001b[32;49mpip install --upgrade pip\u001b[0m\n"
          ]
        }
      ],
      "source": [
        "# Install required packages\n",
        "from langchain_opentutorial import package\n",
        "\n",
        "package.install(\n",
        "    [\n",
        "        \"langsmith\",\n",
        "        \"langchain\",\n",
        "        \"langchain_core\",\n",
        "        \"langchain-anthropic\",\n",
        "        \"langchain_community\",\n",
        "        \"langchain_text_splitters\",\n",
        "        \"langchain_openai\",\n",
        "    ],\n",
        "    verbose=False,\n",
        "    upgrade=False,\n",
        ")"
      ]
    },
    {
      "cell_type": "code",
      "execution_count": 3,
      "id": "7f9065ea",
      "metadata": {},
      "outputs": [
        {
          "name": "stdout",
          "output_type": "stream",
          "text": [
            "Environment variables have been set successfully.\n"
          ]
        }
      ],
      "source": [
        "# Set environment variables\n",
        "from langchain_opentutorial import set_env\n",
        "\n",
        "set_env(\n",
        "    {\n",
        "        \"OPENAI_API_KEY\": \"\",\n",
        "        \"LANGCHAIN_API_KEY\": \"\",\n",
        "        \"LANGCHAIN_TRACING_V2\": \"true\",\n",
        "        \"LANGCHAIN_ENDPOINT\": \"https://api.smith.langchain.com\",\n",
        "        \"LANGCHAIN_PROJECT\": \"BiorxivLoader\",  # Please set it the same as title\n",
        "    }\n",
        ")"
      ]
    },
    {
      "cell_type": "markdown",
      "id": "690a9ae0",
      "metadata": {},
      "source": [
        "You can alternatively set API keys such as `OPENAI_API_KEY` in a `.env` file and load them.\n",
        "\n",
        "**[Note]** This is not necessary if you've already set the required API keys in previous steps."
      ]
    },
    {
      "cell_type": "code",
      "execution_count": 4,
      "id": "4f99b5b6",
      "metadata": {},
      "outputs": [
        {
          "data": {
            "text/plain": [
              "True"
            ]
          },
          "execution_count": 4,
          "metadata": {},
          "output_type": "execute_result"
        }
      ],
      "source": [
        "# Load API keys from .env file\n",
        "from dotenv import load_dotenv\n",
        "\n",
        "load_dotenv(override=True)"
      ]
    },
    {
      "cell_type": "markdown",
      "id": "2b2fc536",
      "metadata": {},
      "source": [
        "## Example Queries\n",
        "\n",
        "In this step, we will test out few examples to see if the biorxiv loader works as expected so it has a potential to contribute to `langchain_community`\n",
        "- We will test the date range from server \"biorxiv\" for the period from 2024-01-01 to 2024-02-17"
      ]
    },
    {
      "cell_type": "code",
      "execution_count": 5,
      "id": "66804bd5",
      "metadata": {},
      "outputs": [
        {
          "name": "stdout",
          "output_type": "stream",
          "text": [
            "Testing date range query...\n",
            "\n",
            "Found 5 documents\n",
            "\n",
            "Title: Convergent mutations and single nucleotide variants in mitochondrial genomes of modern humans and Neanderthals\n",
            "Date: 2024-02-07\n",
            "Category: genomics\n",
            "--------------------------------------------------------------------------------\n",
            "\n",
            "Title: IDENTIFICATION OF AN EARLY SUBSET OF CEREBELLAR NUCLEI NEURONS IN MICE\n",
            "Date: 2024-01-25\n",
            "Category: developmental biology\n",
            "--------------------------------------------------------------------------------\n",
            "\n",
            "Title: Coherent olfactory bulb gamma oscillations arise from coupling independent columnar oscillators\n",
            "Date: 2024-01-13\n",
            "Category: neuroscience\n",
            "--------------------------------------------------------------------------------\n"
          ]
        }
      ],
      "source": [
        "from medrxiv_langchain import QueryBuilder, BioRxivLoader\n",
        "from datetime import datetime, timedelta\n",
        "\n",
        "# Test date range query\n",
        "print(\"Testing date range query...\")\n",
        "query_builder = (QueryBuilder()\n",
        "                .date_range(\"2024-01-01\", \"2024-02-17\")\n",
        "                .from_servers([\"biorxiv\"]))\n",
        "\n",
        "loader = BioRxivLoader(query_builder=query_builder, max_results=5)\n",
        "docs = loader.load()\n",
        "\n",
        "print(f\"\\nFound {len(docs)} documents\")\n",
        "for doc in docs[:3]:  # Show first 3 papers\n",
        "    print(f\"\\nTitle: {doc.metadata['title']}\")\n",
        "    print(f\"Date: {doc.metadata['date']}\")\n",
        "    print(f\"Category: {doc.metadata['category']}\")\n",
        "    print(\"-\" * 80)"
      ]
    },
    {
      "cell_type": "code",
      "execution_count": 6,
      "id": "c3f13ddb",
      "metadata": {},
      "outputs": [
        {
          "name": "stdout",
          "output_type": "stream",
          "text": [
            "\n",
            "Testing simple keyword search...\n",
            "\n",
            "Testing keyword search with date range...\n",
            "\n",
            "Testing exact phrase search...\n",
            "\n",
            "Summary Statistics\n",
            "-----------------\n",
            "Total unique papers: 10\n",
            "\n",
            "Papers by Category:\n",
            "neuroscience: 1\n",
            "plant biology: 1\n",
            "biochemistry: 1\n",
            "bioinformatics: 1\n",
            "cancer biology: 1\n",
            "health informatics: 1\n",
            "epidemiology: 1\n",
            "genomics: 1\n",
            "health economics: 1\n",
            "physiology: 1\n",
            "\n",
            "Papers by Server:\n",
            "biorxiv: 7\n",
            "medrxiv: 3\n"
          ]
        }
      ],
      "source": [
        "# 1. Simple keyword search\n",
        "print(\"\\nTesting simple keyword search...\")\n",
        "query_builder1 = (QueryBuilder()\n",
        "                 .from_servers([\"biorxiv\"])\n",
        "                 .build())\n",
        "loader1 = BioRxivLoader(\n",
        "    query_builder=query_builder1,\n",
        "    query=\"machine learning AND genomics\",\n",
        "    max_results=5\n",
        ")\n",
        "docs1 = loader1.load()\n",
        "\n",
        "# 2. Keyword search with date range\n",
        "print(\"\\nTesting keyword search with date range...\")\n",
        "query_builder2 = (QueryBuilder()\n",
        "                 .date_range(\"2024-01-01\", \"2024-02-17\")\n",
        "                 .from_servers([\"biorxiv\", \"medrxiv\"])\n",
        "                 .build())\n",
        "loader2 = BioRxivLoader(\n",
        "    query_builder=query_builder2,\n",
        "    query=\"CRISPR AND cancer NOT screening\",\n",
        "    max_results=5\n",
        ")\n",
        "docs2 = loader2.load()\n",
        "\n",
        "# 3. Exact phrase search\n",
        "print(\"\\nTesting exact phrase search...\")\n",
        "query_builder3 = (QueryBuilder()\n",
        "                 .last_days(30)\n",
        "                 .from_servers([\"medrxiv\"])\n",
        "                 .build())\n",
        "loader3 = BioRxivLoader(\n",
        "    query_builder=query_builder3,\n",
        "    query='\"single cell sequencing\"',\n",
        "    max_results=5\n",
        ")\n",
        "docs3 = loader3.load()\n",
        "\n",
        "# Print summary statistics\n",
        "all_docs = docs1 + docs2 + docs3\n",
        "categories = {}\n",
        "servers = {\"biorxiv\": 0, \"medrxiv\": 0}\n",
        "\n",
        "for doc in all_docs:\n",
        "    # Count by category\n",
        "    cat = doc.metadata['category']\n",
        "    categories[cat] = categories.get(cat, 0) + 1\n",
        "    \n",
        "    # Count by server\n",
        "    server = doc.metadata['server']\n",
        "    servers[server] += 1\n",
        "\n",
        "print(\"\\nSummary Statistics\")\n",
        "print(\"-----------------\")\n",
        "print(f\"Total unique papers: {len(all_docs)}\")\n",
        "print(\"\\nPapers by Category:\")\n",
        "for cat, count in sorted(categories.items(), key=lambda x: x[1], reverse=True):\n",
        "    print(f\"{cat}: {count}\")\n",
        "\n",
        "print(\"\\nPapers by Server:\")\n",
        "for server, count in servers.items():\n",
        "    print(f\"{server}: {count}\")"
      ]
    }
  ],
  "metadata": {
    "kernelspec": {
      "display_name": "langchain-opentutorial-O2Q3XwPg-py3.11",
      "language": "python",
      "name": "python3"
    },
    "language_info": {
      "codemirror_mode": {
        "name": "ipython",
        "version": 3
      },
      "file_extension": ".py",
      "mimetype": "text/x-python",
      "name": "python",
      "nbconvert_exporter": "python",
      "pygments_lexer": "ipython3",
      "version": "3.11.11"
    }
  },
  "nbformat": 4,
  "nbformat_minor": 5
}
