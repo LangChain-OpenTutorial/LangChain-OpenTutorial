{
  "cells": [
    {
      "cell_type": "markdown",
      "id": "635d8ebb",
      "metadata": {},
      "source": [
        "# Vector Stores\n",
        "\n",
        "- Author: [Youngin Kim](https://github.com/Normalist-K)\n",
        "- Design: \n",
        "- Peer Review: \n",
        "- This is a part of [LangChain Open Tutorial](https://github.com/LangChain-OpenTutorial/LangChain-OpenTutorial)\n",
        "\n",
        "[![Open in Colab](https://colab.research.google.com/assets/colab-badge.svg)](https://colab.research.google.com/github/LangChain-OpenTutorial/LangChain-OpenTutorial/blob/main/99-TEMPLATE/00-BASE-TEMPLATE-EXAMPLE.ipynb) [![Open in GitHub](https://img.shields.io/badge/Open%20in%20GitHub-181717?style=flat-square&logo=github&logoColor=white)](https://github.com/LangChain-OpenTutorial/LangChain-OpenTutorial/blob/main/99-TEMPLATE/00-BASE-TEMPLATE-EXAMPLE.ipynb)\n",
        "\n",
        "## Overview\n",
        "\n",
        "- 벡터스토어의 기본 개념\n",
        "    - 아래 두가지 레퍼런스 참고해서 작성 예정\n",
        "        - wikidocs에 있는 벡터스토어 기본개념\n",
        "        - Conceptual guide: langchain_core.vectorstores 설명\n",
        "- 이번 튜토리얼에서 다루는 벡터스토어 간단 정리 \n",
        "    - langchain integration guide 참고 예정\n",
        "    - 로컬 기반 vs 클라우드 기반\n",
        "    - 키워드 기반 검색 및 hybrid 서치에 대한 내용\n",
        "    - + 2024 top 10 vector store\n",
        "- 필요하다면, 이번 튜토리얼에서 공통으로 사용할 데이터에 대한 설명\n",
        "\n",
        "### Table of Contents\n",
        "\n",
        "- [Overview](#overview)\n",
        "- [Conceptual Guide of Vectore Store](#conceptual-guide-of-vector-store)\n",
        "- [Integration](#integration)\n",
        "- [Supplement. Data to Use in this Chapter](#supplement-data-to-use-in-this-chapter)\n",
        "\n",
        "### References\n",
        "\n",
        "- [LangChain How-to guides: Vector store](https://python.langchain.com/docs/how_to/#vector-stores)\n",
        "- [Concept of Vector stores from LangChain](https://python.langchain.com/docs/concepts/vectorstores/)\n",
        "- [Vector store supported integrations of LangChain](https://python.langchain.com/docs/integrations/vectorstores/)\n",
        "- [Top 10 Vector Stores](https://blog.langchain.dev/langchain-state-of-ai-2024/)\n",
        "----"
      ]
    },
    {
      "cell_type": "markdown",
      "id": "aa00c3f4",
      "metadata": {},
      "source": [
        "## Conceptual Guide of Vector Store\n",
        "\n",
        "*Prerequisite: `07-TextSplitter` `08-Embedding`*\n",
        "\n",
        "\n",
        "**Vector stores** are specialized databases designed to **index** and **retrieve** information using vector representations (embeddings).\n",
        "\n",
        "They are commonly utilized to search through unstructured data, such as text, images, and audio, by identifying semantically similar content rather than relying on exact keyword matches.\n"
      ]
    },
    {
      "cell_type": "markdown",
      "id": "66cf5c4f",
      "metadata": {},
      "source": [
        "\n",
        "### Why Vector Store Is Essential\n",
        "\n",
        "1. Fast and Efficient Search\n",
        "\n",
        "By properly storing and indexing embedding vectors, vector stores allow for the rapid retrieval of relevant information, even when dealing with massive datasets.\n",
        "\n",
        "2. Scalability for Growing Data\n",
        "\n",
        "As data continues to expand, vector stores must scale efficiently. A well-structured vector store ensures the system can handle large-scale data without performance issues, supporting seamless growth.\n",
        "\n",
        "3. Facilitating Semantic Search\n",
        "\n",
        "Unlike traditional keyword-based search, semantic search retrieves content based on meaning. Vector stores enable this by finding paragraphs or sections that closely align with a user’s query in context. This is a key advantage over databases that store raw text, which are limited to exact keyword matches."
      ]
    },
    {
      "cell_type": "markdown",
      "id": "bb2dbc24",
      "metadata": {},
      "source": [
        "### Interface\n",
        "\n",
        "LangChain offers a unified interface for interacting with vector stores, enabling users to seamlessly switch between various vector store implementations.\n",
        "\n",
        "This interface includes core methods for **writing** , **deleting** and **searching** documents within the vector store.\n",
        "\n",
        "The main methods are as follows:\n",
        "- `add_documents`: Adds a list of texts to the vector store.\n",
        "- `delete_documents`: delete a list of documents from the vector store.\n",
        "- `similarity_search`: Search documents similar to a given query.\n",
        "\n",
        "\n",
        "### Search\n",
        "\n",
        "\n",
        "\n",
        "### Advanced search and retrieval techniques\n"
      ]
    },
    {
      "cell_type": "markdown",
      "id": "69cb77da",
      "metadata": {},
      "source": [
        "## Integration\n",
        "\n",
        "- 이번 튜토리얼에 다루는 것만 정리\n",
        "    - Chroma (1)\n",
        "    - FAISS (2)\n",
        "    - Pinecone (3)\n",
        "    - Qdrant (5)\n",
        "    - Elasticsearch (8)\n",
        "    - MongoDB (9)\n",
        "    - pgvector(PostgreSQL) (4)\n",
        "    - Neo4j (10)\n",
        "    - Weaviate\n",
        "    - Milvus (6)\n",
        "    - Couchbase\n",
        "- (+) top 10 vector stores in 2024"
      ]
    },
    {
      "cell_type": "markdown",
      "id": "edf04514",
      "metadata": {},
      "source": [
        "## (Supplement) Data to Use in this Chapter\n",
        "\n",
        "- 필요시 추가할 내용\n",
        "- 추후 결정되는 데이터에 대한 간단 설명"
      ]
    }
  ],
  "metadata": {
    "kernelspec": {
      "display_name": "langchain-kr-lwwSZlnu-py3.11",
      "language": "python",
      "name": "python3"
    },
    "language_info": {
      "codemirror_mode": {
        "name": "ipython",
        "version": 3
      },
      "file_extension": ".py",
      "mimetype": "text/x-python",
      "name": "python",
      "nbconvert_exporter": "python",
      "pygments_lexer": "ipython3",
      "version": "3.11.11"
    }
  },
  "nbformat": 4,
  "nbformat_minor": 5
}
