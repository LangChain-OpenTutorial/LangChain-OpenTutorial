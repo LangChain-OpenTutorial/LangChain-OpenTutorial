{
 "cells": [
  {
   "cell_type": "markdown",
   "metadata": {},
   "source": [
    "# Qdrant\n",
    "\n",
    "- Author: [HyeonJong Moon](https://github.com/hj0302)\n",
    "- Design: \n",
    "- Peer Review: \n",
    "- This is a part of [LangChain Open Tutorial](https://github.com/LangChain-OpenTutorial/LangChain-OpenTutorial)\n",
    "\n",
    "[![Open in Colab](https://colab.research.google.com/assets/colab-badge.svg)](https://colab.research.google.com/github/langchain-ai/langchain-academy/blob/main/module-4/sub-graph.ipynb) [![Open in LangChain Academy](https://cdn.prod.website-files.com/65b8cd72835ceeacd4449a53/66e9eba12c7b7688aa3dbb5e_LCA-badge-green.svg)](https://academy.langchain.com/courses/take/intro-to-langgraph/lessons/58239937-lesson-2-sub-graphs)\n",
    "\n",
    "\n",
    "## Overview\n",
    "\n",
    "This notebook demonstrates how to utilize the features related to the `Qdrant` vector database.\n",
    "\n",
    "[`Qdrant`](https://python.langchain.com/docs/integrations/vectorstores/qdrant/) is an open-source vector similarity search engine designed to store, search, and manage high-dimensional vectors with additional payloads. It offers a production-ready service with a user-friendly API, suitable for applications such as semantic search, recommendation systems, and more.\n",
    "\n",
    "**Qdrant's architecture** is optimized for efficient vector similarity searches, employing advanced indexing techniques like **Hierarchical Navigable Small World (HNSW)** graphs to enable fast and scalable retrieval of relevant data.\n",
    "\n",
    "\n",
    "### Table of Contents\n",
    "\n",
    "- [Overview](#overview)\n",
    "- [Environment Setup](#environment-setup)\n",
    "- [Credentials](#credentials)\n",
    "- [Installation](#installation)\n",
    "- [Initialization](#initialization)\n",
    "- [Manage Vector Store](#manage-vector-store)\n",
    "  - [Create a Collection](#create-a-collection)\n",
    "  - [List Collections](#list-collections)\n",
    "  - [Delete a Collection](#delete-a-collection)\n",
    "  - [Add Items to the Vector Store](#add-items-to-the-vector-store)\n",
    "  - [Delete Items from the Vector Store](#delete-items-from-the-vector-store)\n",
    "  - [Upsert Items to Vector Store (Parallel)](#upsert-items-to-vector-store-parallel)\n",
    "- [Query Vector Store](#query-vector-store)\n",
    "  - [Query Directly](#query-directly)\n",
    "  - [Similarity Search with Score](#similarity-search-with-score)\n",
    "  - [Query by Turning into Retriever](#query-by-turning-into-retriever)\n",
    "  - [Search with Filtering](#search-with-filtering)\n",
    "  - [Delete with Filtering](#delete-with-filtering)\n",
    "  - [Filtering and Updating Records](#filtering-and-updating-records)\n",
    "\n",
    "### References\n",
    "\n",
    "- [LangChain Qdrant Reference](https://python.langchain.com/docs/integrations/vectorstores/qdrant/)\n",
    "- [Qdrant Official Reference](https://qdrant.tech/documentation/frameworks/langchain/)\n",
    "- [Qdrant Install Reference](https://qdrant.tech/documentation/guides/installation/)\n",
    "- [Qdrant Cloud Reference](https://cloud.qdrant.io)\n",
    "- [Qdrant Cloud Quickstart Reference](https://qdrant.tech/documentation/quickstart-cloud/)\n",
    "----"
   ]
  },
  {
   "cell_type": "markdown",
   "metadata": {},
   "source": [
    "## Environment Setup\n",
    "\n",
    "Set up the environment. You may refer to Environment Setup for more details.\n",
    "\n",
    "[Note]\n",
    "- `langchain-opentutorial` is a package that provides a set of easy-to-use environment setup, useful functions and utilities for tutorials.\n",
    "- You can checkout the [`langchain-opentutorial`](https://github.com/LangChain-OpenTutorial/langchain-opentutorial-pypi) for more details."
   ]
  },
  {
   "cell_type": "code",
   "execution_count": 1,
   "metadata": {},
   "outputs": [],
   "source": [
    "%%capture --no-stderr\n",
    "%pip install langchain-opentutorial"
   ]
  },
  {
   "cell_type": "code",
   "execution_count": 2,
   "metadata": {},
   "outputs": [
    {
     "name": "stderr",
     "output_type": "stream",
     "text": [
      "\n",
      "\u001b[1m[\u001b[0m\u001b[34;49mnotice\u001b[0m\u001b[1;39;49m]\u001b[0m\u001b[39;49m A new release of pip is available: \u001b[0m\u001b[31;49m24.3.1\u001b[0m\u001b[39;49m -> \u001b[0m\u001b[32;49m25.0.1\u001b[0m\n",
      "\u001b[1m[\u001b[0m\u001b[34;49mnotice\u001b[0m\u001b[1;39;49m]\u001b[0m\u001b[39;49m To update, run: \u001b[0m\u001b[32;49mpip install --upgrade pip\u001b[0m\n"
     ]
    }
   ],
   "source": [
    "# Install required packages\n",
    "from langchain_opentutorial import package\n",
    "\n",
    "package.install(\n",
    "    [\n",
    "        \"langsmith\",\n",
    "        \"langchain_openai\",\n",
    "        \"langchain_qdrant\",\n",
    "        \"qdrant_client\",\n",
    "        \"langchain_core\",\n",
    "        \"fastembed\",\n",
    "    ],\n",
    "    verbose=False,\n",
    "    upgrade=False,\n",
    ")"
   ]
  },
  {
   "cell_type": "code",
   "execution_count": 3,
   "metadata": {},
   "outputs": [
    {
     "name": "stdout",
     "output_type": "stream",
     "text": [
      "Environment variables have been set successfully.\n"
     ]
    }
   ],
   "source": [
    "# Set environment variables\n",
    "from langchain_opentutorial import set_env\n",
    "\n",
    "set_env(\n",
    "    {\n",
    "        \"OPEN_API_KEY\": \"\",\n",
    "        \"QDRANT_API_KEY\": \"\",\n",
    "        \"QDRANT_URL\": \"\",\n",
    "        \"LANGCHAIN_API_KEY\": \"\",\n",
    "        \"LANGCHAIN_TRACING_V2\": \"true\",\n",
    "        \"LANGCHAIN_ENDPOINT\": \"https://api.smith.langchain.com\",\n",
    "        \"LANGCHAIN_PROJECT\": \"Qdrant\",\n",
    "    }\n",
    ")"
   ]
  },
  {
   "cell_type": "markdown",
   "metadata": {},
   "source": [
    "You can alternatively set API keys such as `OPENAI_API_KEY` in a `.env` file and load them.\n",
    "\n",
    "**[Note]** If you are using a `.env` file, proceed as follows."
   ]
  },
  {
   "cell_type": "code",
   "execution_count": 4,
   "metadata": {},
   "outputs": [
    {
     "data": {
      "text/plain": [
       "True"
      ]
     },
     "execution_count": 4,
     "metadata": {},
     "output_type": "execute_result"
    }
   ],
   "source": [
    "from dotenv import load_dotenv\n",
    "\n",
    "load_dotenv(override=True)"
   ]
  },
  {
   "cell_type": "markdown",
   "metadata": {},
   "source": [
    "## **Credentials**\n",
    "\n",
    "Create a new account or sign in to your existing one, and generate an API key for use in this notebook.\n",
    "\n",
    "1. **Log in to Qdrant Cloud** : Go to the [Qdrant Cloud](https://cloud.qdrant.io) website and log in using your email, Google account, or GitHub account.\n",
    "\n",
    "2. **Create a Cluster** : After logging in, navigate to the **\"Clusters\"** section and click the **\"Create\"** button. Choose your desired configurations and region, then click **\"Create\"** to start building your cluster. Once the cluster is created, an API key will be generated for you.\n",
    "\n",
    "3. **Retrieve and Store Your API Key** : When your cluster is created, you will receive an API key. Ensure you save this key in a secure location, as you will need it later. If you lose it, you will have to generate a new one.\n",
    "\n",
    "4. **Manage API Keys** : To create additional API keys or manage existing ones, go to the **\"Access Management\"** section in the Qdrant Cloud dashboard and select *\"Qdrant Cloud API Keys\"* Here, you can create new keys or delete existing ones.\n",
    "\n",
    "```\n",
    "QDRANT_API_KEY=\"YOUR_QDRANT_API_KEY\"\n",
    "```"
   ]
  },
  {
   "cell_type": "markdown",
   "metadata": {},
   "source": [
    "## **Installation**\n",
    "\n",
    "There are several main options for initializing and using the **Qdrant** vector store:\n",
    "\n",
    "- **Local Mode** : This mode doesn't require a separate server.\n",
    "    - **In-memory storage** (data is not persisted)\n",
    "    - **On-disk storage** (data is saved to your local machine)\n",
    "- **Docker Deployments** : You can run **Qdrant** using **Docker**.\n",
    "- **Qdrant Cloud** : Use **Qdrant** as a managed cloud service.\n",
    "\n",
    "For detailed instructions, see the [installation instructions](https://qdrant.tech/documentation/guides/installation/)."
   ]
  },
  {
   "cell_type": "markdown",
   "metadata": {},
   "source": [
    "### In-Memory\n",
    "\n",
    "For simple tests or quick experiments, you might choose to store data directly in memory. This means the data is automatically removed when your client terminates, typically at the end of your script or notebook session."
   ]
  },
  {
   "cell_type": "code",
   "execution_count": 5,
   "metadata": {},
   "outputs": [
    {
     "name": "stdout",
     "output_type": "stream",
     "text": [
      "Collection 'demo_collection' does not exist or force recreate is enabled. Creating new collection...\n",
      "Collection 'demo_collection' created successfully with configuration: {'vectors_config': VectorParams(size=3072, distance=<Distance.COSINE: 'Cosine'>, hnsw_config=None, quantization_config=None, on_disk=None, datatype=None, multivector_config=None)}\n"
     ]
    }
   ],
   "source": [
    "from utils.qdrant import QdrantDocumentManager\n",
    "from langchain_openai import OpenAIEmbeddings\n",
    "\n",
    "# Define the collection name for storing documents\n",
    "collection_name = \"demo_collection\"\n",
    "\n",
    "# Initialize the embedding model with a specific OpenAI model\n",
    "embedding = OpenAIEmbeddings(model=\"text-embedding-3-large\")\n",
    "\n",
    "# Create an instance of QdrantDocumentManager with in-memory storage\n",
    "db = QdrantDocumentManager(\n",
    "    location=\":memory:\",  # Use in-memory database for temporary storage\n",
    "    collection_name=collection_name,\n",
    "    embedding=embedding,\n",
    ")"
   ]
  },
  {
   "cell_type": "markdown",
   "metadata": {},
   "source": [
    "### On-Disk Storage\n",
    "\n",
    "With **on-disk storage**, you can store your vectors directly on your hard drive without requiring a **Qdrant server**. This ensures that your data persists even when you restart the program."
   ]
  },
  {
   "cell_type": "code",
   "execution_count": 6,
   "metadata": {},
   "outputs": [
    {
     "name": "stdout",
     "output_type": "stream",
     "text": [
      "Collection 'demo_collection' does not exist or force recreate is enabled. Creating new collection...\n",
      "Collection 'demo_collection' created successfully with configuration: {'vectors_config': VectorParams(size=3072, distance=<Distance.COSINE: 'Cosine'>, hnsw_config=None, quantization_config=None, on_disk=None, datatype=None, multivector_config=None)}\n"
     ]
    }
   ],
   "source": [
    "from utils.qdrant import QdrantDocumentManager\n",
    "from langchain_openai import OpenAIEmbeddings\n",
    "\n",
    "# Define the path for Qdrant storage\n",
    "qdrant_path = \"./qdrant_memory\"\n",
    "\n",
    "# Define the collection name for storing documents\n",
    "collection_name = \"demo_collection\"\n",
    "\n",
    "# Initialize the embedding model with a specific OpenAI model\n",
    "embedding = OpenAIEmbeddings(model=\"text-embedding-3-large\")\n",
    "\n",
    "# Create an instance of QdrantDocumentManager with specified storage path\n",
    "db = QdrantDocumentManager(\n",
    "    path=qdrant_path,  # Specify the path for Qdrant storage\n",
    "    collection_name=collection_name,\n",
    "    embedding=embedding,\n",
    ")"
   ]
  },
  {
   "cell_type": "markdown",
   "metadata": {},
   "source": [
    "### Docker Deployments\n",
    "\n",
    "You can deploy `Qdrant` in a **production environment** using [`Docker`](https://qdrant.tech/documentation/guides/installation/#docker) and [`Docker Compose`](https://qdrant.tech/documentation/guides/installation/#docker-compose). Refer to the `Docker` and `Docker Compose` setup instructions in the development section for detailed information."
   ]
  },
  {
   "cell_type": "code",
   "execution_count": 7,
   "metadata": {},
   "outputs": [],
   "source": [
    "from utils.qdrant import QdrantDocumentManager\n",
    "from langchain_openai import OpenAIEmbeddings\n",
    "\n",
    "# Define the URL for Qdrant server\n",
    "url = \"http://localhost:6333\"\n",
    "\n",
    "# Define the collection name for storing documents\n",
    "collection_name = \"demo_collection\"\n",
    "\n",
    "# Initialize the embedding model with a specific OpenAI model\n",
    "embedding = OpenAIEmbeddings(model=\"text-embedding-3-large\")\n",
    "\n",
    "# Create an instance of QdrantDocumentManager with specified storage path\n",
    "db = QdrantDocumentManager(\n",
    "    url=url,  # Specify the path for Qdrant storage\n",
    "    collection_name=collection_name,\n",
    "    embedding=embedding,\n",
    ")"
   ]
  },
  {
   "cell_type": "markdown",
   "metadata": {},
   "source": [
    "### Qdrant Cloud\n",
    "\n",
    "For a **production environment**, you can use [**Qdrant Cloud**](https://cloud.qdrant.io/). It offers fully managed `Qdrant` databases with features such as **horizontal and vertical scaling**, **one-click setup and upgrades**, **monitoring**, **logging**, **backups**, and **disaster recovery**. For more information, refer to the [**Qdrant Cloud documentation**](https://qdrant.tech/documentation/cloud/).\n"
   ]
  },
  {
   "cell_type": "code",
   "execution_count": 8,
   "metadata": {},
   "outputs": [],
   "source": [
    "import getpass\n",
    "import os\n",
    "\n",
    "# Fetch the Qdrant server URL from environment variables or prompt for input\n",
    "if not os.getenv(\"QDRANT_URL\"):\n",
    "    os.environ[\"QDRANT_URL\"] = getpass.getpass(\"Enter your Qdrant Cloud URL key: \")\n",
    "QDRANT_URL = os.environ.get(\"QDRANT_URL\")\n",
    "\n",
    "# Fetch the Qdrant API key from environment variables or prompt for input\n",
    "if not os.getenv(\"QDRANT_API_KEY\"):\n",
    "    os.environ[\"QDRANT_API_KEY\"] = getpass.getpass(\"Enter your Qdrant API key: \")\n",
    "QDRANT_API_KEY = os.environ.get(\"QDRANT_API_KEY\")"
   ]
  },
  {
   "cell_type": "code",
   "execution_count": 9,
   "metadata": {},
   "outputs": [
    {
     "name": "stdout",
     "output_type": "stream",
     "text": [
      "Collection 'demo_collection' does not exist or force recreate is enabled. Creating new collection...\n",
      "Collection 'demo_collection' created successfully with configuration: {'vectors_config': VectorParams(size=3072, distance=<Distance.COSINE: 'Cosine'>, hnsw_config=None, quantization_config=None, on_disk=None, datatype=None, multivector_config=None)}\n"
     ]
    }
   ],
   "source": [
    "from utils.qdrant import QdrantDocumentManager\n",
    "from langchain_openai import OpenAIEmbeddings\n",
    "\n",
    "# Define the collection name for storing documents\n",
    "collection_name = \"demo_collection\"\n",
    "\n",
    "# Initialize the embedding model with a specific OpenAI model\n",
    "embedding = OpenAIEmbeddings(model=\"text-embedding-3-large\")\n",
    "\n",
    "# Create an instance of QdrantDocumentManager with specified storage path\n",
    "db = QdrantDocumentManager(\n",
    "    url=QDRANT_URL,\n",
    "    api_key=QDRANT_API_KEY,\n",
    "    collection_name=collection_name,\n",
    "    embedding=embedding,\n",
    ")"
   ]
  },
  {
   "cell_type": "markdown",
   "metadata": {},
   "source": [
    "## Initialization\n",
    "\n",
    "Once you've established your **vector store**, you'll likely need to manage the **collections** within it. Here are some common operations you can perform:\n",
    "\n",
    "- **Create a collection**\n",
    "- **List collections**\n",
    "- **Delete a collection**"
   ]
  },
  {
   "cell_type": "markdown",
   "metadata": {},
   "source": [
    "### Create a Collection\n",
    "\n",
    "The `QdrantDocumentManager` class allows you to create a new **collection** in `Qdrant`. It can automatically create a collection if it doesn't exist or if you want to **recreate** it. You can specify configurations for **dense** and **sparse vectors** to meet different search needs. Use the `_ensure_collection_exists` method for **automatic creation** or call `create_collection` directly when needed."
   ]
  },
  {
   "cell_type": "code",
   "execution_count": 10,
   "metadata": {},
   "outputs": [
    {
     "name": "stdout",
     "output_type": "stream",
     "text": [
      "Collection 'test_collection' does not exist or force recreate is enabled. Creating new collection...\n",
      "Collection 'test_collection' created successfully with configuration: {'vectors_config': VectorParams(size=3072, distance=<Distance.COSINE: 'Cosine'>, hnsw_config=None, quantization_config=None, on_disk=None, datatype=None, multivector_config=None)}\n"
     ]
    }
   ],
   "source": [
    "from utils.qdrant import QdrantDocumentManager\n",
    "from langchain_openai import OpenAIEmbeddings\n",
    "from qdrant_client.http.models import Distance\n",
    "\n",
    "# Define the collection name for storing documents\n",
    "collection_name = \"test_collection\"\n",
    "\n",
    "# Initialize the embedding model with a specific OpenAI model\n",
    "embedding = OpenAIEmbeddings(model=\"text-embedding-3-large\")\n",
    "\n",
    "# Create an instance of QdrantDocumentManager with specified storage path\n",
    "db = QdrantDocumentManager(\n",
    "    url=QDRANT_URL,\n",
    "    api_key=QDRANT_API_KEY,\n",
    "    collection_name=collection_name,\n",
    "    embedding=embedding,\n",
    "    metric=Distance.COSINE,\n",
    ")"
   ]
  },
  {
   "cell_type": "markdown",
   "metadata": {},
   "source": [
    "### List Collections\n",
    "\n",
    "The `QdrantDocumentManager` class lets you list all **collections** in your `Qdrant` instance using the `get_collections` method. This retrieves and displays the **names** of all existing collections.\n"
   ]
  },
  {
   "cell_type": "code",
   "execution_count": 11,
   "metadata": {},
   "outputs": [
    {
     "name": "stdout",
     "output_type": "stream",
     "text": [
      "Collection Name: test_collection\n",
      "Collection Name: demo_collection\n"
     ]
    }
   ],
   "source": [
    "# Retrieve the list of collections from the Qdrant client\n",
    "collections = db.client.get_collections()\n",
    "\n",
    "# Iterate over each collection and print its details\n",
    "for collection in collections.collections:\n",
    "    print(f\"Collection Name: {collection.name}\")"
   ]
  },
  {
   "cell_type": "markdown",
   "metadata": {},
   "source": [
    "### Delete a Collection\n",
    "\n",
    "The `QdrantDocumentManager` class allows you to delete a **collection** using the `delete_collection` method. This method removes the specified collection from your `Qdrant` instance."
   ]
  },
  {
   "cell_type": "code",
   "execution_count": 12,
   "metadata": {},
   "outputs": [
    {
     "name": "stdout",
     "output_type": "stream",
     "text": [
      "Collection 'test_collection' has been deleted.\n"
     ]
    }
   ],
   "source": [
    "# Define collection name\n",
    "collection_name = \"test_collection\"\n",
    "\n",
    "# Delete the collection\n",
    "if db.client.delete_collection(collection_name=collection_name):\n",
    "    print(f\"Collection '{collection_name}' has been deleted.\")"
   ]
  },
  {
   "cell_type": "markdown",
   "metadata": {},
   "source": [
    "## Manage VectorStore\n",
    "\n",
    "After you've created your **vector store**, you can interact with it by **adding** or **deleting** items. Here are some common operations:"
   ]
  },
  {
   "cell_type": "markdown",
   "metadata": {},
   "source": [
    "### Add Items to the Vector Store\n",
    "\n",
    "The `QdrantDocumentManager` class lets you add items to your **vector store** using the `upsert` method. This method **updates** existing documents with new data if their IDs already exist."
   ]
  },
  {
   "cell_type": "code",
   "execution_count": 13,
   "metadata": {},
   "outputs": [],
   "source": [
    "from langchain.text_splitter import RecursiveCharacterTextSplitter\n",
    "from langchain.document_loaders import TextLoader\n",
    "from uuid import uuid4\n",
    "\n",
    "# Load the text file\n",
    "loader = TextLoader(\"./data/the_little_prince.txt\")\n",
    "documents = loader.load()\n",
    "\n",
    "# Initialize the text splitter\n",
    "text_splitter = RecursiveCharacterTextSplitter(\n",
    "    chunk_size=600, chunk_overlap=100, length_function=len\n",
    ")\n",
    "\n",
    "split_docs = text_splitter.split_documents(documents)\n",
    "\n",
    "# Generate unique IDs for documents\n",
    "uuids = [str(uuid4()) for _ in split_docs[:30]]\n",
    "page_contents = [doc.page_content for doc in split_docs[:30]]\n",
    "metadatas = [doc.metadata for doc in split_docs[:30]]"
   ]
  },
  {
   "cell_type": "code",
   "execution_count": 14,
   "metadata": {},
   "outputs": [
    {
     "data": {
      "text/plain": [
       "['25210710-b810-4ed9-a539-092612691e5d',\n",
       " '601f52cf-907f-4968-b3f2-3ddd63edfa47',\n",
       " '2e3bef8f-630b-4bac-bfe9-9305016a3670',\n",
       " 'dd1553e8-5eb7-4933-b0ee-57f85e240fe6',\n",
       " '07c9d27a-13a1-4485-82ec-f14c351e6317',\n",
       " '7c715419-841b-4bfa-ac65-39f9d242d8f8',\n",
       " 'e4f6ed39-07cf-413f-92bd-f60a195d6796',\n",
       " '3c907652-da5e-4cb4-9358-61a0cca703a2',\n",
       " 'fba98dba-8016-4b86-b8e1-22ed5f238887',\n",
       " '01621ab2-9a9a-4802-8ab4-ef5b0e09d8e0',\n",
       " 'bd0e8c8c-0fae-47d0-a3c1-ca14b220f1ca',\n",
       " '397843d0-e727-47a6-b501-678245a7a7f3',\n",
       " 'e7a7a225-6757-482b-99d7-dfbabb101927',\n",
       " '056c702b-72e6-40d7-8bdf-1e3224f86de3',\n",
       " '04c9096d-8f41-40ac-ad09-d8d93c183e69',\n",
       " '07b71ecd-d3a4-41ee-8497-0173859bb185',\n",
       " '75a77714-7101-4f1e-858a-74e172fbea84',\n",
       " 'e8d4878d-724e-48ab-a238-0aa87ebb4142',\n",
       " '498c1850-36ca-4821-8483-db7ed25588b0',\n",
       " 'e8190369-6814-4568-bdb5-dbf68f1a44f4',\n",
       " '83954225-b0ce-4821-8ea6-b8f89bf9e792',\n",
       " '4ad0bdbf-1e93-4ca5-8c2e-53c4689edb4d',\n",
       " 'c56b3a59-50cb-4c55-9d45-e3391e732696',\n",
       " 'ad045d18-4f54-4593-9c61-c5f6f0c986b5',\n",
       " 'f6dc0fed-8a35-4f61-932d-89d302fb63f7',\n",
       " 'e82494d2-8714-43a3-a40e-aaa1871dd95d',\n",
       " '1affaa48-2332-48c7-ac52-9bec8a879a28',\n",
       " 'f848542b-5cef-4f26-8ac3-5dc990f4bd16',\n",
       " '444d91dc-821e-4c5f-8b84-3d8c9534dc30',\n",
       " '4de41ff3-c10c-42da-92da-fd461f41e086']"
      ]
     },
     "execution_count": 14,
     "metadata": {},
     "output_type": "execute_result"
    }
   ],
   "source": [
    "from utils.qdrant import QdrantDocumentManager\n",
    "from langchain_openai import OpenAIEmbeddings\n",
    "\n",
    "# Define the collection name for storing documents\n",
    "collection_name = \"demo_collection\"\n",
    "\n",
    "# Initialize the embedding model with a specific OpenAI model\n",
    "embedding = OpenAIEmbeddings(model=\"text-embedding-3-large\")\n",
    "\n",
    "# Create an instance of QdrantDocumentManager with specified storage path\n",
    "db = QdrantDocumentManager(\n",
    "    url=QDRANT_URL,\n",
    "    api_key=QDRANT_API_KEY,\n",
    "    collection_name=collection_name,\n",
    "    embedding=embedding,\n",
    ")\n",
    "\n",
    "db.upsert(texts=page_contents, metadatas=metadatas, ids=uuids)"
   ]
  },
  {
   "cell_type": "markdown",
   "metadata": {},
   "source": [
    "### Delete Items from the Vector Store\n",
    "\n",
    "The `QdrantDocumentManager` class allows you to delete items from your **vector store** using the `delete` method. You can specify items to delete by providing **IDs** or **filters**.\n"
   ]
  },
  {
   "cell_type": "code",
   "execution_count": 15,
   "metadata": {},
   "outputs": [],
   "source": [
    "delete_ids = [uuids[0]]\n",
    "\n",
    "db.delete(ids=delete_ids)"
   ]
  },
  {
   "cell_type": "markdown",
   "metadata": {},
   "source": [
    "### Upsert Items to Vector Store (Parallel)\n",
    "\n",
    "The `QdrantDocumentManager` class supports **parallel upserts** using the `upsert_parallel` method. This efficiently **adds** or **updates** multiple items with unique **IDs**, **data**, and **metadata**."
   ]
  },
  {
   "cell_type": "code",
   "execution_count": 16,
   "metadata": {},
   "outputs": [
    {
     "data": {
      "text/plain": [
       "['d8b31778-69fe-4d91-98dc-d39e32681dc0',\n",
       " '941eb409-d92d-4863-82ef-e4c5bee1b49a',\n",
       " 'c68ea294-39f5-4c10-9cf0-b8a05084c176',\n",
       " '801bb22d-576c-44aa-bfa4-9f49720fcd08',\n",
       " '5fb85e3f-0109-4a6e-8f32-84a333ca81b0',\n",
       " '482da4ac-0bf6-4acb-adfe-a4a26fb295ee',\n",
       " 'acef5e82-c671-4dcb-a11c-37389f38836b',\n",
       " 'f5cb10b7-c76f-4cb6-abdb-84e5c3813f8d',\n",
       " '465bfc46-6107-4ddc-82a1-3f823c5bc2f0',\n",
       " 'f5962162-5b27-4628-bac8-1be1d559e0b6',\n",
       " '31bbc0ef-ab28-43df-bb8d-8123c5b6e07a',\n",
       " '975a0fc2-0ce2-4edc-afb6-b529e909f2d0',\n",
       " '479a6ff4-5bec-4a9f-ba3f-9797e45f9c5d',\n",
       " '8d75e8e6-a42e-4ab9-b467-422daca464c9',\n",
       " '2626e819-4dce-4711-b57d-e1facbbf15aa',\n",
       " '1cdf89cf-ba3d-4909-8169-4d02e9c79f1c',\n",
       " 'ef64fb6a-d78c-4cd3-9ee8-cb1d52258378',\n",
       " 'feb9773a-a96e-4b29-b037-c96a63ff1ec6',\n",
       " 'e23f5882-8824-4659-aa5e-d97c8210e496',\n",
       " '50d0b276-dddd-4c45-8826-72a2a544223a',\n",
       " '420dff01-ab42-4ee1-b76a-3adfb47fda5b',\n",
       " '4e93d4fc-8900-44a0-91ed-e8fac70f6784',\n",
       " '572a16fb-f45a-4b23-af42-4afed429f269',\n",
       " '3f4015da-01a9-4d73-bdae-70b3b293c408',\n",
       " '432708cf-60d9-4276-993d-448d15074bad',\n",
       " '2d3d4955-c3cc-4a2a-b251-1855cb88281b',\n",
       " '2b5270cd-e9f0-475d-a574-eaa65e7494a6',\n",
       " '06285d37-bbea-4e64-abdd-62344e4bbd9b',\n",
       " '50dc3e05-f1d9-43f9-93e0-9e9edc783e3d',\n",
       " '9be29303-a957-4d5e-96e6-0ed6d46a209b']"
      ]
     },
     "execution_count": 16,
     "metadata": {},
     "output_type": "execute_result"
    }
   ],
   "source": [
    "# Generate unique IDs for documents\n",
    "uuids = [str(uuid4()) for _ in split_docs[30:60]]\n",
    "page_contents = [doc.page_content for doc in split_docs[30:60]]\n",
    "metadatas = [doc.metadata for doc in split_docs[30:60]]\n",
    "\n",
    "db.upsert_parallel(\n",
    "    texts=page_contents,\n",
    "    metadatas=metadatas,\n",
    "    ids=uuids,\n",
    "    batch_size=32,\n",
    "    workers=10,\n",
    ")"
   ]
  },
  {
   "cell_type": "markdown",
   "metadata": {},
   "source": [
    "## Query VectorStore\n",
    "\n",
    "Once your **vector store** has been created and the relevant **documents** have been added, you will most likely wish to **query** it during the running of your `chain` or `agent`."
   ]
  },
  {
   "cell_type": "markdown",
   "metadata": {},
   "source": [
    "### Query Directly\n",
    "\n",
    "The `QdrantDocumentManager` class allows direct **querying** using the `search` method. It performs **similarity searches** by converting queries into **vector embeddings** to find similar **documents**.\n"
   ]
  },
  {
   "cell_type": "code",
   "execution_count": 17,
   "metadata": {},
   "outputs": [
    {
     "name": "stdout",
     "output_type": "stream",
     "text": [
      "* for decades. In the book, a pilot is stranded in the midst of the Sahara where he meets a tiny prince from another world traveling the universe in order to understand life. In the book, the little pri\n",
      " [{'source': './data/the_little_prince.txt'}]\n",
      "\n",
      "\n",
      "* Indeed, as I learned, there were on the planet where the little prince lived-- as on all planets-- good plants and bad plants. In consequence, there were good seeds from good plants, and bad seeds fro\n",
      " [{'source': './data/the_little_prince.txt'}]\n",
      "\n",
      "\n",
      "* [ Chapter 7 ]\n",
      "- the narrator learns about the secret of the little prince‘s life \n",
      "On the fifth day-- again, as always, it was thanks to the sheep-- the secret of the little prince‘s life was revealed \n",
      " [{'source': './data/the_little_prince.txt'}]\n",
      "\n",
      "\n"
     ]
    }
   ],
   "source": [
    "query = \"What is the significance of the rose in The Little Prince?\"\n",
    "\n",
    "response = db.search(\n",
    "    query=query,\n",
    "    k=3,\n",
    ")\n",
    "\n",
    "for res in response:\n",
    "    payload = res[\"payload\"]\n",
    "    print(f\"* {payload['page_content'][:200]}\\n [{payload['metadata']}]\\n\\n\")"
   ]
  },
  {
   "cell_type": "markdown",
   "metadata": {},
   "source": [
    "### Similarity Search with Score\n",
    "\n",
    "The `QdrantDocumentManager` class enables **similarity searches** with **scores** using the `search` method. This provides a **relevance score** for each **document** found.\n"
   ]
  },
  {
   "cell_type": "code",
   "execution_count": 18,
   "metadata": {},
   "outputs": [
    {
     "name": "stdout",
     "output_type": "stream",
     "text": [
      "* [SIM=0.527] for decades. In the book, a pilot is stranded in the midst of the Sahara where he meets a tiny prince from another world traveling the universe in order to understand life. In the book, the little pri\n",
      " [{'source': './data/the_little_prince.txt'}]\n",
      "\n",
      "\n",
      "* [SIM=0.500] Indeed, as I learned, there were on the planet where the little prince lived-- as on all planets-- good plants and bad plants. In consequence, there were good seeds from good plants, and bad seeds fro\n",
      " [{'source': './data/the_little_prince.txt'}]\n",
      "\n",
      "\n",
      "* [SIM=0.478] [ Chapter 7 ]\n",
      "- the narrator learns about the secret of the little prince‘s life \n",
      "On the fifth day-- again, as always, it was thanks to the sheep-- the secret of the little prince‘s life was revealed \n",
      " [{'source': './data/the_little_prince.txt'}]\n",
      "\n",
      "\n"
     ]
    }
   ],
   "source": [
    "# Define the query to search in the database\n",
    "query = \"What is the significance of the rose in The Little Prince?\"\n",
    "\n",
    "# Perform the search with the specified query and number of results\n",
    "response = db.search(query=query, k=3)\n",
    "\n",
    "for res in response:\n",
    "    payload = res[\"payload\"]\n",
    "    score = res[\"score\"]\n",
    "    print(\n",
    "        f\"* [SIM={score:.3f}] {payload['page_content'][:200]}\\n [{payload['metadata']}]\\n\\n\"\n",
    "    )"
   ]
  },
  {
   "cell_type": "markdown",
   "metadata": {},
   "source": [
    "### Query by Turning into Retriever\n",
    "\n",
    "The `QdrantDocumentManager` class can transform the **vector store** into a `retriever`. This allows for easier **integration** into **workflows** or **chains**.\n"
   ]
  },
  {
   "cell_type": "code",
   "execution_count": 19,
   "metadata": {},
   "outputs": [
    {
     "name": "stdout",
     "output_type": "stream",
     "text": [
      "* for decades. In the book, a pilot is stranded in the midst of the Sahara where he meets a tiny prince from another world traveling the universe in order to understand life. In the book, the little pri\n",
      " [{'source': './data/the_little_prince.txt', '_id': '7c715419-841b-4bfa-ac65-39f9d242d8f8', '_collection_name': 'demo_collection'}]\n",
      "\n",
      "\n",
      "* Indeed, as I learned, there were on the planet where the little prince lived-- as on all planets-- good plants and bad plants. In consequence, there were good seeds from good plants, and bad seeds fro\n",
      " [{'source': './data/the_little_prince.txt', '_id': '1cdf89cf-ba3d-4909-8169-4d02e9c79f1c', '_collection_name': 'demo_collection'}]\n",
      "\n",
      "\n",
      "* [ Chapter 7 ]\n",
      "- the narrator learns about the secret of the little prince‘s life \n",
      "On the fifth day-- again, as always, it was thanks to the sheep-- the secret of the little prince‘s life was revealed \n",
      " [{'source': './data/the_little_prince.txt', '_id': '2b5270cd-e9f0-475d-a574-eaa65e7494a6', '_collection_name': 'demo_collection'}]\n",
      "\n",
      "\n"
     ]
    }
   ],
   "source": [
    "from langchain_qdrant import QdrantVectorStore\n",
    "\n",
    "# Initialize QdrantVectorStore with the client, collection name, and embedding\n",
    "vector_store = QdrantVectorStore(\n",
    "    client=db.client, collection_name=db.collection_name, embedding=db.embedding\n",
    ")\n",
    "\n",
    "query = \"What is the significance of the rose in The Little Prince?\"\n",
    "\n",
    "# Transform the vector store into a retriever with specific search parameters\n",
    "retriever = vector_store.as_retriever(\n",
    "    search_type=\"similarity_score_threshold\",\n",
    "    search_kwargs={\"k\": 3, \"score_threshold\": 0.3},\n",
    ")\n",
    "\n",
    "results = retriever.invoke(query)\n",
    "\n",
    "for res in results:\n",
    "    print(f\"* {res.page_content[:200]}\\n [{res.metadata}]\\n\\n\")"
   ]
  },
  {
   "cell_type": "markdown",
   "metadata": {},
   "source": [
    "### Search with Filtering\n",
    "\n",
    "The `QdrantDocumentManager` class allows **searching with filters** to retrieve records based on specific **metadata values**. This is done using the `scroll` method with a defined **filter query**."
   ]
  },
  {
   "cell_type": "code",
   "execution_count": 20,
   "metadata": {},
   "outputs": [
    {
     "data": {
      "text/plain": [
       "[Record(id='01621ab2-9a9a-4802-8ab4-ef5b0e09d8e0', payload={'page_content': '[ Chapter 1 ]\\n- we are introduced to the narrator, a pilot, and his ideas about grown-ups\\nOnce when I was six years old I saw a magnificent picture in a book, called True Stories from Nature, about the primeval forest. It was a picture of a boa constrictor in the act of swallowing an animal. Here is a copy of the drawing. \\n(picture)\\nIn the book it said: \"Boa constrictors swallow their prey whole, without chewing it. After that they are not able to move, and they sleep through the six months that they need for digestion.\"', 'metadata': {'source': './data/the_little_prince.txt'}}, vector=None, shard_key=None, order_value=None),\n",
       " Record(id='07b71ecd-d3a4-41ee-8497-0173859bb185', payload={'page_content': '[ Chapter 2 ]\\n- the narrator crashes in the desert and makes the acquaintance of the little prince\\nSo I lived my life alone, without anyone that I could really talk to, until I had an accident with my plane in the Desert of Sahara, six years ago. Something was broken in my engine. And as I had with me neither a mechanic nor any passengers, I set myself to attempt the difficult repairs all alone. It was a question of life or death for me: I had scarcely enough drinking water to last a week.', 'metadata': {'source': './data/the_little_prince.txt'}}, vector=None, shard_key=None, order_value=None),\n",
       " Record(id='2b5270cd-e9f0-475d-a574-eaa65e7494a6', payload={'page_content': '[ Chapter 7 ]\\n- the narrator learns about the secret of the little prince‘s life \\nOn the fifth day-- again, as always, it was thanks to the sheep-- the secret of the little prince‘s life was revealed to me. Abruptly, without anything to lead up to it, and as if the question had been born of long and silent meditation on his problem, he demanded: \\n\"A sheep-- if it eats little bushes, does it eat flowers, too?\"\\n\"A sheep,\" I answered, \"eats anything it finds in its reach.\"\\n\"Even flowers that have thorns?\"\\n\"Yes, even flowers that have thorns.\" \\n\"Then the thorns-- what use are they?\"', 'metadata': {'source': './data/the_little_prince.txt'}}, vector=None, shard_key=None, order_value=None),\n",
       " Record(id='479a6ff4-5bec-4a9f-ba3f-9797e45f9c5d', payload={'page_content': '[ Chapter 5 ]\\n- we are warned as to the dangers of the baobabs\\nAs each day passed I would learn, in our talk, something about the little prince‘s planet, his departure from it, his journey. The information would come very slowly, as it might chance to fall from his thoughts. It was in this way that I heard, on the third day, about the catastrophe of the baobabs.\\nThis time, once more, I had the sheep to thank for it. For the little prince asked me abruptly-- as if seized by a grave doubt-- \"It is true, isn‘t it, that sheep eat little bushes?\" \\n\"Yes, that is true.\" \\n\"Ah! I am glad!\"', 'metadata': {'source': './data/the_little_prince.txt'}}, vector=None, shard_key=None, order_value=None),\n",
       " Record(id='572a16fb-f45a-4b23-af42-4afed429f269', payload={'page_content': '[ Chapter 6 ]\\n- the little prince and the narrator talk about sunsets\\nOh, little prince! Bit by bit I came to understand the secrets of your sad little life... For a long time you had found your only entertainment in the quiet pleasure of looking at the sunset. I learned that new detail on the morning of the fourth day, when you said to me: \\n\"I am very fond of sunsets. Come, let us go look at a sunset now.\" \\n\"But we must wait,\" I said. \\n\"Wait? For what?\" \\n\"For the sunset. We must wait until it is time.\"', 'metadata': {'source': './data/the_little_prince.txt'}}, vector=None, shard_key=None, order_value=None),\n",
       " Record(id='d8b31778-69fe-4d91-98dc-d39e32681dc0', payload={'page_content': '[ Chapter 4 ]\\n- the narrator speculates as to which asteroid from which the little prince came\\u3000\\u3000\\nI had thus learned a second fact of great importance: this was that the planet the little prince came from was scarcely any larger than a house!', 'metadata': {'source': './data/the_little_prince.txt'}}, vector=None, shard_key=None, order_value=None),\n",
       " Record(id='e82494d2-8714-43a3-a40e-aaa1871dd95d', payload={'page_content': '[ Chapter 3 ]\\n- the narrator learns more about from where the little prince came\\nIt took me a long time to learn where he came from. The little prince, who asked me so many questions, never seemed to hear the ones I asked him. It was from words dropped by chance that, little by little, everything was revealed to me. \\nThe first time he saw my airplane, for instance (I shall not draw my airplane; that would be much too complicated for me), he asked me: \\n\"What is that object?\"\\n\"That is not an object. It flies. It is an airplane. It is my airplane.\"', 'metadata': {'source': './data/the_little_prince.txt'}}, vector=None, shard_key=None, order_value=None)]"
      ]
     },
     "execution_count": 20,
     "metadata": {},
     "output_type": "execute_result"
    }
   ],
   "source": [
    "from qdrant_client import models\n",
    "\n",
    "# Define a filter query to match documents containing the text \"Chapter\" in the page content\n",
    "filter_query = models.Filter(\n",
    "    must=[\n",
    "        models.FieldCondition(\n",
    "            key=\"page_content\",\n",
    "            match=models.MatchText(text=\"Chapter\"),\n",
    "        ),\n",
    "    ]\n",
    ")\n",
    "\n",
    "# Retrieve records from the collection that match the filter query\n",
    "db.scroll(\n",
    "    scroll_filter=filter_query,\n",
    "    k=10,\n",
    ")"
   ]
  },
  {
   "cell_type": "markdown",
   "metadata": {},
   "source": [
    "### Delete with Filtering\n",
    "\n",
    "The `QdrantDocumentManager` class allows you to **delete records** using **filters** based on specific **metadata values**. This is achieved with the `delete` method and a **filter query**."
   ]
  },
  {
   "cell_type": "code",
   "execution_count": 21,
   "metadata": {},
   "outputs": [
    {
     "data": {
      "text/plain": [
       "UpdateResult(operation_id=3, status=<UpdateStatus.COMPLETED: 'completed'>)"
      ]
     },
     "execution_count": 21,
     "metadata": {},
     "output_type": "execute_result"
    }
   ],
   "source": [
    "from qdrant_client.http.models import Filter, FieldCondition, MatchText\n",
    "\n",
    "# Define a filter query to match documents containing the text \"Chapter\" in the page content\n",
    "filter_query = models.Filter(\n",
    "    must=[\n",
    "        models.FieldCondition(\n",
    "            key=\"page_content\",\n",
    "            match=models.MatchText(text=\"Chapter\"),\n",
    "        ),\n",
    "    ]\n",
    ")\n",
    "\n",
    "# Delete records from the collection that match the filter query\n",
    "db.client.delete(collection_name=db.collection_name, points_selector=filter_query)"
   ]
  },
  {
   "cell_type": "markdown",
   "metadata": {},
   "source": [
    "### Filtering and Updating Records\n",
    "\n",
    "The `QdrantDocumentManager` class supports **filtering and updating records** based on specific **metadata values**. This is done by **retrieving records** with **filters** and **updating** them as needed.\n"
   ]
  },
  {
   "cell_type": "code",
   "execution_count": 22,
   "metadata": {},
   "outputs": [],
   "source": [
    "from qdrant_client import models\n",
    "\n",
    "# Define a filter query to match documents with a specific metadata source\n",
    "filter_query = models.Filter(\n",
    "    must=[\n",
    "        models.FieldCondition(\n",
    "            key=\"metadata.source\",\n",
    "            match=models.MatchValue(value=\"./data/the_little_prince.txt\"),\n",
    "        ),\n",
    "    ]\n",
    ")\n",
    "\n",
    "# Retrieve records matching the filter query, including their vectors\n",
    "response = db.scroll(scroll_filter=filter_query, k=10, with_vectors=True)\n",
    "new_source = \"the_little_prince.txt\"\n",
    "\n",
    "# Update the point IDs and set new metadata for the records\n",
    "for point in response:  # response[0] returns a list of points\n",
    "    payload = point.payload\n",
    "\n",
    "    # Check if metadata exists in the payload\n",
    "    if \"metadata\" in payload:\n",
    "        payload[\"metadata\"][\"source\"] = new_source\n",
    "    else:\n",
    "        payload[\"metadata\"] = {\n",
    "            \"source\": new_source\n",
    "        }  # Add new metadata if it doesn't exist\n",
    "\n",
    "    # Update the point with new metadata\n",
    "    db.client.upsert(\n",
    "        collection_name=db.collection_name,\n",
    "        points=[\n",
    "            models.PointStruct(\n",
    "                id=point.id,\n",
    "                payload=payload,\n",
    "                vector=point.vector,\n",
    "            )\n",
    "        ],\n",
    "    )"
   ]
  },
  {
   "cell_type": "markdown",
   "metadata": {},
   "source": [
    "### Similarity Search Options\n",
    "\n",
    "When using `QdrantVectorStore`, you have three options for performing **similarity searches**. You can select the desired search mode using the `retrieval_mode` parameter when you set up the class. The available modes are:\n",
    "\n",
    "- **Dense Vector Search** (Default)\n",
    "- **Sparse Vector Search**\n",
    "- **Hybrid Search**"
   ]
  },
  {
   "cell_type": "markdown",
   "metadata": {},
   "source": [
    "### Dense Vector Search\n",
    "\n",
    "To perform a search using only **dense vectors**:\n",
    "\n",
    "- The `retrieval_mode` parameter must be set to `RetrievalMode.DENSE`. This is also the **default setting**.\n",
    "- You need to provide a [dense embeddings](https://python.langchain.com/docs/integrations/text_embedding/) value through the `embedding` parameter.\n"
   ]
  },
  {
   "cell_type": "code",
   "execution_count": 23,
   "metadata": {},
   "outputs": [
    {
     "name": "stdout",
     "output_type": "stream",
     "text": [
      "* for decades. In the book, a pilot is stranded in the midst of the Sahara where he meets a tiny prince from another world traveling the universe in order to understand life. In the book, the little pri\n",
      " [{'source': './data/the_little_prince.txt', '_id': 'd5176f5d-808b-4704-ad8e-83f1793a9e3f', '_collection_name': 'dense_collection'}]\n",
      "\n",
      "\n",
      "* Indeed, as I learned, there were on the planet where the little prince lived-- as on all planets-- good plants and bad plants. In consequence, there were good seeds from good plants, and bad seeds fro\n",
      " [{'source': './data/the_little_prince.txt', '_id': 'fcedce21-1406-4902-afdc-0b17944a9a98', '_collection_name': 'dense_collection'}]\n",
      "\n",
      "\n",
      "* \"It is a question of discipline,\" the little prince said to me later on. \"When you‘ve finished your own toilet in the morning, then it is time to attend to the toilet of your planet, just so, with the\n",
      " [{'source': './data/the_little_prince.txt', '_id': '77baf9d9-36d4-4ef0-8298-97045d9e1390', '_collection_name': 'dense_collection'}]\n",
      "\n",
      "\n"
     ]
    }
   ],
   "source": [
    "from langchain_qdrant import RetrievalMode\n",
    "from langchain_openai import OpenAIEmbeddings\n",
    "\n",
    "query = \"What is the significance of the rose in The Little Prince?\"\n",
    "\n",
    "# Initialize the embedding model with a specific OpenAI model\n",
    "embedding = OpenAIEmbeddings(model=\"text-embedding-3-large\")\n",
    "\n",
    "# Initialize QdrantVectorStore with documents, embeddings, and configuration\n",
    "vector_store = QdrantVectorStore.from_documents(\n",
    "    documents=split_docs[:50],\n",
    "    embedding=embedding,\n",
    "    url=QDRANT_URL,\n",
    "    api_key=QDRANT_API_KEY,\n",
    "    collection_name=\"dense_collection\",\n",
    "    retrieval_mode=RetrievalMode.DENSE,\n",
    "    batch_size=10,\n",
    ")\n",
    "\n",
    "# Perform similarity search in the vector store\n",
    "results = vector_store.similarity_search(\n",
    "    query=query,\n",
    "    k=3,\n",
    ")\n",
    "\n",
    "for res in results:\n",
    "    print(f\"* {res.page_content[:200]}\\n [{res.metadata}]\\n\\n\")"
   ]
  },
  {
   "cell_type": "markdown",
   "metadata": {},
   "source": [
    "### Sparse Vector Search\n",
    "\n",
    "To search with only **sparse vectors**:\n",
    "\n",
    "- The `retrieval_mode` parameter should be set to `RetrievalMode.SPARSE`.\n",
    "- An implementation of the [SparseEmbeddings](https://github.com/langchain-ai/langchain/blob/master/libs/partners/qdrant/langchain_qdrant/sparse_embeddings.py) interface using any **sparse embeddings provider** has to be provided as a value to the `sparse_embedding` parameter.\n",
    "- The `langchain-qdrant` package provides a **FastEmbed** based implementation out of the box.\n",
    "\n",
    "To use it, install the [FastEmbed](https://github.com/qdrant/fastembed) package:\n",
    "\n",
    "```bash\n",
    "pip install fastembed\n",
    "```"
   ]
  },
  {
   "cell_type": "code",
   "execution_count": 24,
   "metadata": {},
   "outputs": [
    {
     "data": {
      "application/vnd.jupyter.widget-view+json": {
       "model_id": "d6a7227950504021a1561bf983c6f745",
       "version_major": 2,
       "version_minor": 0
      },
      "text/plain": [
       "Fetching 30 files:   0%|          | 0/30 [00:00<?, ?it/s]"
      ]
     },
     "metadata": {},
     "output_type": "display_data"
    },
    {
     "data": {
      "application/vnd.jupyter.widget-view+json": {
       "model_id": "2f699220a4be44778f931b4e7235293c",
       "version_major": 2,
       "version_minor": 0
      },
      "text/plain": [
       "azerbaijani.txt:   0%|          | 0.00/967 [00:00<?, ?B/s]"
      ]
     },
     "metadata": {},
     "output_type": "display_data"
    },
    {
     "data": {
      "application/vnd.jupyter.widget-view+json": {
       "model_id": "df750328831e4fedae5c1dc32cf0a6a3",
       "version_major": 2,
       "version_minor": 0
      },
      "text/plain": [
       "basque.txt:   0%|          | 0.00/2.20k [00:00<?, ?B/s]"
      ]
     },
     "metadata": {},
     "output_type": "display_data"
    },
    {
     "data": {
      "application/vnd.jupyter.widget-view+json": {
       "model_id": "0fdd8de945b54c3b80694b9b6a156d07",
       "version_major": 2,
       "version_minor": 0
      },
      "text/plain": [
       "catalan.txt:   0%|          | 0.00/1.56k [00:00<?, ?B/s]"
      ]
     },
     "metadata": {},
     "output_type": "display_data"
    },
    {
     "data": {
      "application/vnd.jupyter.widget-view+json": {
       "model_id": "2fbb7ef50f51427ba584cb0f356cfba9",
       "version_major": 2,
       "version_minor": 0
      },
      "text/plain": [
       "chinese.txt:   0%|          | 0.00/5.56k [00:00<?, ?B/s]"
      ]
     },
     "metadata": {},
     "output_type": "display_data"
    },
    {
     "data": {
      "application/vnd.jupyter.widget-view+json": {
       "model_id": "f7995c94f1a94d8aadd5a3c98483259b",
       "version_major": 2,
       "version_minor": 0
      },
      "text/plain": [
       "danish.txt:   0%|          | 0.00/424 [00:00<?, ?B/s]"
      ]
     },
     "metadata": {},
     "output_type": "display_data"
    },
    {
     "data": {
      "application/vnd.jupyter.widget-view+json": {
       "model_id": "8f01c427d88145b98ef58526a487f201",
       "version_major": 2,
       "version_minor": 0
      },
      "text/plain": [
       "config.json:   0%|          | 0.00/2.00 [00:00<?, ?B/s]"
      ]
     },
     "metadata": {},
     "output_type": "display_data"
    },
    {
     "data": {
      "application/vnd.jupyter.widget-view+json": {
       "model_id": "e8472b4744c94be1b7d1341eb17bc13f",
       "version_major": 2,
       "version_minor": 0
      },
      "text/plain": [
       "bengali.txt:   0%|          | 0.00/5.44k [00:00<?, ?B/s]"
      ]
     },
     "metadata": {},
     "output_type": "display_data"
    },
    {
     "data": {
      "application/vnd.jupyter.widget-view+json": {
       "model_id": "f393643a94f8481890f2bbd67a852d22",
       "version_major": 2,
       "version_minor": 0
      },
      "text/plain": [
       "arabic.txt:   0%|          | 0.00/6.35k [00:00<?, ?B/s]"
      ]
     },
     "metadata": {},
     "output_type": "display_data"
    },
    {
     "data": {
      "application/vnd.jupyter.widget-view+json": {
       "model_id": "83d9bdce779347c7a74d97c69ed1fa9f",
       "version_major": 2,
       "version_minor": 0
      },
      "text/plain": [
       "finnish.txt:   0%|          | 0.00/1.58k [00:00<?, ?B/s]"
      ]
     },
     "metadata": {},
     "output_type": "display_data"
    },
    {
     "data": {
      "application/vnd.jupyter.widget-view+json": {
       "model_id": "4615aaef7ffe4d4c9fb8ae72c8449a9c",
       "version_major": 2,
       "version_minor": 0
      },
      "text/plain": [
       "hebrew.txt:   0%|          | 0.00/1.84k [00:00<?, ?B/s]"
      ]
     },
     "metadata": {},
     "output_type": "display_data"
    },
    {
     "data": {
      "application/vnd.jupyter.widget-view+json": {
       "model_id": "a582f93940854dbd8518c3129d9445ad",
       "version_major": 2,
       "version_minor": 0
      },
      "text/plain": [
       "french.txt:   0%|          | 0.00/813 [00:00<?, ?B/s]"
      ]
     },
     "metadata": {},
     "output_type": "display_data"
    },
    {
     "data": {
      "application/vnd.jupyter.widget-view+json": {
       "model_id": "3977406df8c24b8cb6e033eab2aaea2e",
       "version_major": 2,
       "version_minor": 0
      },
      "text/plain": [
       "greek.txt:   0%|          | 0.00/2.17k [00:00<?, ?B/s]"
      ]
     },
     "metadata": {},
     "output_type": "display_data"
    },
    {
     "data": {
      "application/vnd.jupyter.widget-view+json": {
       "model_id": "af8e35b6009a4ed0bae9d84a805b687a",
       "version_major": 2,
       "version_minor": 0
      },
      "text/plain": [
       "hinglish.txt:   0%|          | 0.00/5.96k [00:00<?, ?B/s]"
      ]
     },
     "metadata": {},
     "output_type": "display_data"
    },
    {
     "data": {
      "application/vnd.jupyter.widget-view+json": {
       "model_id": "0be3b1c5310641b79757f18fc1af9eef",
       "version_major": 2,
       "version_minor": 0
      },
      "text/plain": [
       "english.txt:   0%|          | 0.00/936 [00:00<?, ?B/s]"
      ]
     },
     "metadata": {},
     "output_type": "display_data"
    },
    {
     "data": {
      "application/vnd.jupyter.widget-view+json": {
       "model_id": "43adcd811644415fa19cf4808039f775",
       "version_major": 2,
       "version_minor": 0
      },
      "text/plain": [
       "dutch.txt:   0%|          | 0.00/453 [00:00<?, ?B/s]"
      ]
     },
     "metadata": {},
     "output_type": "display_data"
    },
    {
     "data": {
      "application/vnd.jupyter.widget-view+json": {
       "model_id": "28d0124f8ee34623a2b215a524099299",
       "version_major": 2,
       "version_minor": 0
      },
      "text/plain": [
       "german.txt:   0%|          | 0.00/1.36k [00:00<?, ?B/s]"
      ]
     },
     "metadata": {},
     "output_type": "display_data"
    },
    {
     "data": {
      "application/vnd.jupyter.widget-view+json": {
       "model_id": "1cd4d5286fa54e8292b3f88f5d0f6705",
       "version_major": 2,
       "version_minor": 0
      },
      "text/plain": [
       "indonesian.txt:   0%|          | 0.00/6.45k [00:00<?, ?B/s]"
      ]
     },
     "metadata": {},
     "output_type": "display_data"
    },
    {
     "data": {
      "application/vnd.jupyter.widget-view+json": {
       "model_id": "50a1482c2f9240f0ac8c76914621694e",
       "version_major": 2,
       "version_minor": 0
      },
      "text/plain": [
       "hungarian.txt:   0%|          | 0.00/1.23k [00:00<?, ?B/s]"
      ]
     },
     "metadata": {},
     "output_type": "display_data"
    },
    {
     "data": {
      "application/vnd.jupyter.widget-view+json": {
       "model_id": "30211703d7684b9ea0442a7965054bf4",
       "version_major": 2,
       "version_minor": 0
      },
      "text/plain": [
       "italian.txt:   0%|          | 0.00/1.65k [00:00<?, ?B/s]"
      ]
     },
     "metadata": {},
     "output_type": "display_data"
    },
    {
     "data": {
      "application/vnd.jupyter.widget-view+json": {
       "model_id": "168992ff3df448c1a34428e5f237c929",
       "version_major": 2,
       "version_minor": 0
      },
      "text/plain": [
       "kazakh.txt:   0%|          | 0.00/3.88k [00:00<?, ?B/s]"
      ]
     },
     "metadata": {},
     "output_type": "display_data"
    },
    {
     "data": {
      "application/vnd.jupyter.widget-view+json": {
       "model_id": "19627f4f8b9f4a6ea81d8af5bf0638cd",
       "version_major": 2,
       "version_minor": 0
      },
      "text/plain": [
       "norwegian.txt:   0%|          | 0.00/851 [00:00<?, ?B/s]"
      ]
     },
     "metadata": {},
     "output_type": "display_data"
    },
    {
     "data": {
      "application/vnd.jupyter.widget-view+json": {
       "model_id": "4284e766c8894889934964042029b2e9",
       "version_major": 2,
       "version_minor": 0
      },
      "text/plain": [
       "portuguese.txt:   0%|          | 0.00/1.29k [00:00<?, ?B/s]"
      ]
     },
     "metadata": {},
     "output_type": "display_data"
    },
    {
     "data": {
      "application/vnd.jupyter.widget-view+json": {
       "model_id": "f4800f435a4e4b9c878d2be46d753a16",
       "version_major": 2,
       "version_minor": 0
      },
      "text/plain": [
       "nepali.txt:   0%|          | 0.00/3.61k [00:00<?, ?B/s]"
      ]
     },
     "metadata": {},
     "output_type": "display_data"
    },
    {
     "data": {
      "application/vnd.jupyter.widget-view+json": {
       "model_id": "89233302426c4033954923d49e8ec5ad",
       "version_major": 2,
       "version_minor": 0
      },
      "text/plain": [
       "romanian.txt:   0%|          | 0.00/1.91k [00:00<?, ?B/s]"
      ]
     },
     "metadata": {},
     "output_type": "display_data"
    },
    {
     "data": {
      "application/vnd.jupyter.widget-view+json": {
       "model_id": "0913591f89694d4583998f7420e219d2",
       "version_major": 2,
       "version_minor": 0
      },
      "text/plain": [
       "russian.txt:   0%|          | 0.00/1.24k [00:00<?, ?B/s]"
      ]
     },
     "metadata": {},
     "output_type": "display_data"
    },
    {
     "data": {
      "application/vnd.jupyter.widget-view+json": {
       "model_id": "d68816a8bcb541d0b8689a98229703b9",
       "version_major": 2,
       "version_minor": 0
      },
      "text/plain": [
       "slovene.txt:   0%|          | 0.00/16.0k [00:00<?, ?B/s]"
      ]
     },
     "metadata": {},
     "output_type": "display_data"
    },
    {
     "data": {
      "application/vnd.jupyter.widget-view+json": {
       "model_id": "4e90a1b4890f478aa34eb34c1fece780",
       "version_major": 2,
       "version_minor": 0
      },
      "text/plain": [
       "spanish.txt:   0%|          | 0.00/2.18k [00:00<?, ?B/s]"
      ]
     },
     "metadata": {},
     "output_type": "display_data"
    },
    {
     "data": {
      "application/vnd.jupyter.widget-view+json": {
       "model_id": "364d2ec812d84fb3b8c28f526ef32f25",
       "version_major": 2,
       "version_minor": 0
      },
      "text/plain": [
       "tajik.txt:   0%|          | 0.00/1.82k [00:00<?, ?B/s]"
      ]
     },
     "metadata": {},
     "output_type": "display_data"
    },
    {
     "data": {
      "application/vnd.jupyter.widget-view+json": {
       "model_id": "d26c8a2036dc4dc5a321d4c1643e1cc8",
       "version_major": 2,
       "version_minor": 0
      },
      "text/plain": [
       "turkish.txt:   0%|          | 0.00/260 [00:00<?, ?B/s]"
      ]
     },
     "metadata": {},
     "output_type": "display_data"
    },
    {
     "data": {
      "application/vnd.jupyter.widget-view+json": {
       "model_id": "346801f007b041c49f5cc34152be9cd6",
       "version_major": 2,
       "version_minor": 0
      },
      "text/plain": [
       "swedish.txt:   0%|          | 0.00/559 [00:00<?, ?B/s]"
      ]
     },
     "metadata": {},
     "output_type": "display_data"
    },
    {
     "name": "stdout",
     "output_type": "stream",
     "text": [
      "* [ Chapter 20 ]\n",
      "- the little prince discovers a garden of roses\n",
      "But it happened that after walking for a long time through sand, and rocks, and snow, the little prince at last came upon a road. And all\n",
      " [{'source': './data/the_little_prince.txt', '_id': '19560ca6-a601-4e44-b762-92b1a25574e0', '_collection_name': 'sparse_collection'}]\n",
      "\n",
      "\n",
      "* And he went back to meet the fox. \n",
      "\"Goodbye,\" he said. \n",
      "\"Goodbye,\" said the fox. \"And now here is my secret, a very simple secret: It is only with the heart that one can see rightly; what is essential\n",
      " [{'source': './data/the_little_prince.txt', '_id': 'c433d060-394c-4160-bf4b-23e1416e3583', '_collection_name': 'sparse_collection'}]\n",
      "\n",
      "\n",
      "* \"The men where you live,\" said the little prince, \"raise five thousand roses in the same garden-- and they do not find in it what they are looking for.\" \n",
      "\"They do not find it,\" I replied. \n",
      "\"And yet wh\n",
      " [{'source': './data/the_little_prince.txt', '_id': '34c5c6d3-5124-42c4-bc27-c272ba47972f', '_collection_name': 'sparse_collection'}]\n",
      "\n",
      "\n"
     ]
    }
   ],
   "source": [
    "from langchain_qdrant import FastEmbedSparse, RetrievalMode\n",
    "from langchain_qdrant import RetrievalMode\n",
    "from langchain_openai import OpenAIEmbeddings\n",
    "\n",
    "query = \"What is the significance of the rose in The Little Prince?\"\n",
    "\n",
    "# Initialize the embedding model with a specific OpenAI model\n",
    "embedding = OpenAIEmbeddings(model=\"text-embedding-3-large\")\n",
    "# Initialize sparse embeddings using FastEmbedSparse\n",
    "sparse_embeddings = FastEmbedSparse(model_name=\"Qdrant/bm25\")\n",
    "\n",
    "# Initialize QdrantVectorStore with documents, embeddings, and configuration\n",
    "vector_store = QdrantVectorStore.from_documents(\n",
    "    documents=split_docs,\n",
    "    embedding=embedding,\n",
    "    sparse_embedding=sparse_embeddings,\n",
    "    url=QDRANT_URL,\n",
    "    api_key=QDRANT_API_KEY,\n",
    "    collection_name=\"sparse_collection\",\n",
    "    retrieval_mode=RetrievalMode.SPARSE,\n",
    "    batch_size=10,\n",
    ")\n",
    "\n",
    "# Perform similarity search in the vector store\n",
    "results = vector_store.similarity_search(\n",
    "    query=query,\n",
    "    k=3,\n",
    ")\n",
    "\n",
    "for res in results:\n",
    "    print(f\"* {res.page_content[:200]}\\n [{res.metadata}]\\n\\n\")"
   ]
  },
  {
   "cell_type": "markdown",
   "metadata": {},
   "source": [
    "### Hybrid Vector Search\n",
    "\n",
    "To perform a **hybrid search** using **dense** and **sparse vectors** with **score fusion**:\n",
    "\n",
    "- The `retrieval_mode` parameter should be set to `RetrievalMode.HYBRID`.\n",
    "- A [`dense embeddings`](https://python.langchain.com/docs/integrations/text_embedding/) value should be provided to the `embedding` parameter.\n",
    "- An implementation of the [`SparseEmbeddings`](https://github.com/langchain-ai/langchain/blob/master/libs/partners/qdrant/langchain_qdrant/sparse_embeddings.py) interface using any **sparse embeddings provider** has to be provided as a value to the `sparse_embedding` parameter.\n",
    "\n",
    "**Note**: If you've added documents with the `HYBRID` mode, you can switch to any **retrieval mode** when searching, since both the **dense** and **sparse vectors** are available in the **collection**."
   ]
  },
  {
   "cell_type": "code",
   "execution_count": 25,
   "metadata": {},
   "outputs": [
    {
     "name": "stdout",
     "output_type": "stream",
     "text": [
      "* \"Go and look again at the roses. You will understand now that yours is unique in all the world. Then come back to say goodbye to me, and I will make you a present of a secret.\" \n",
      "The little prince went\n",
      " [{'source': './data/the_little_prince.txt', '_id': '8cd6824d-9e0c-4d45-9556-d4b8c36b5516', '_collection_name': 'hybrid_collection'}]\n",
      "\n",
      "\n",
      "* [ Chapter 20 ]\n",
      "- the little prince discovers a garden of roses\n",
      "But it happened that after walking for a long time through sand, and rocks, and snow, the little prince at last came upon a road. And all\n",
      " [{'source': './data/the_little_prince.txt', '_id': '8225734e-12e8-4328-a81d-fbd4e41ed28c', '_collection_name': 'hybrid_collection'}]\n",
      "\n",
      "\n",
      "* [ Chapter 8 ]\n",
      "- the rose arrives at the little prince‘s planet\n",
      " [{'source': './data/the_little_prince.txt', '_id': 'bf5b7e68-7788-429e-aaf8-190ac0e7ed09', '_collection_name': 'hybrid_collection'}]\n",
      "\n",
      "\n"
     ]
    }
   ],
   "source": [
    "from langchain_qdrant import FastEmbedSparse, RetrievalMode\n",
    "from langchain_qdrant import RetrievalMode\n",
    "from langchain_openai import OpenAIEmbeddings\n",
    "\n",
    "query = \"What is the significance of the rose in The Little Prince?\"\n",
    "\n",
    "# Initialize the embedding model with a specific OpenAI model\n",
    "embedding = OpenAIEmbeddings(model=\"text-embedding-3-large\")\n",
    "# Initialize sparse embeddings using FastEmbedSparse\n",
    "sparse_embeddings = FastEmbedSparse(model_name=\"Qdrant/bm25\")\n",
    "\n",
    "# Initialize QdrantVectorStore with documents, embeddings, and configuration\n",
    "vector_store = QdrantVectorStore.from_documents(\n",
    "    documents=split_docs,\n",
    "    embedding=embedding,\n",
    "    sparse_embedding=sparse_embeddings,\n",
    "    url=QDRANT_URL,\n",
    "    api_key=QDRANT_API_KEY,\n",
    "    collection_name=\"hybrid_collection\",\n",
    "    retrieval_mode=RetrievalMode.HYBRID,\n",
    "    batch_size=10,\n",
    ")\n",
    "\n",
    "# Perform similarity search in the vector store\n",
    "results = vector_store.similarity_search(\n",
    "    query=query,\n",
    "    k=3,\n",
    ")\n",
    "\n",
    "for res in results:\n",
    "    print(f\"* {res.page_content[:200]}\\n [{res.metadata}]\\n\\n\")"
   ]
  }
 ],
 "metadata": {
  "kernelspec": {
   "display_name": "langchain-opentutorial-6aJyhYW2-py3.11",
   "language": "python",
   "name": "python3"
  },
  "language_info": {
   "codemirror_mode": {
    "name": "ipython",
    "version": 3
   },
   "file_extension": ".py",
   "mimetype": "text/x-python",
   "name": "python",
   "nbconvert_exporter": "python",
   "pygments_lexer": "ipython3",
   "version": "3.11.11"
  }
 },
 "nbformat": 4,
 "nbformat_minor": 2
}
