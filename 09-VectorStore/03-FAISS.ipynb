{
  "cells": [
    {
      "cell_type": "markdown",
      "metadata": {},
      "source": [
        "# FAISS\n",
        "\n",
        "\n",
        "- Author: [Jeongeun Lim](https://www.linkedin.com/in/jeongeun-lim-808978188/)\n",
        "- Design: []()\n",
        "- Peer Review : \n",
        "- This is a part of [LangChain Open Tutorial](https://github.com/LangChain-OpenTutorial/LangChain-OpenTutorial)\n",
        "\n",
        "\n",
        "[![Open in Colab](https://colab.research.google.com/assets/colab-badge.svg)](https://colab.research.google.com/github/LangChain-OpenTutorial/LangChain-OpenTutorial/blob/main/03-OutputParser/08-OutputFixingParser.ipynb) [![Open in GitHub](https://img.shields.io/badge/Open%20in%20GitHub-181717?style=flat-square&logo=github&logoColor=white)](https://github.com/LangChain-OpenTutorial/LangChain-OpenTutorial/blob/main/03-OutputParser/08-OutputFixingParser.ipynb)\n",
        "\n",
        "\n",
        "## Overview\n",
        "\n",
        "\n",
        "`FAISS` is a library designed for the efficient similarity search and clustering of dense vectors. It provides robust algorithms for searching vector sets of any size, including those that may not fit entirely in `RAM`.\n",
        "\n",
        "\n",
        "In addition to the core search functionality, `FAISS` includes support code for evaluation and parameter tuning, making it a versatile tool for various applications in machine learning and artificial intelligence.\n",
        "\n",
        "\n",
        "----\n",
        "Key Benefits:\n",
        "\n",
        "\n",
        "- Efficient Large-Scale Search:\n",
        "`FAISS` ensures fast and accurate vector searches, even with millions of high-dimensional vectors.\n",
        "\n",
        "\n",
        "- Memory Optimization:\n",
        "Offers advanced quantization techniques to reduce memory usage without sacrificing performance.\n",
        "\n",
        "\n",
        "- Customizable Search Accuracy:\n",
        "Users can fine-tune parameters to balance between search accuracy and speed according to specific requirements.\n",
        "\n",
        "\n",
        "- Versatile Applications:\n",
        "From machine learning to AI-powered recommendation systems, Faiss supports a wide range of use cases.\n",
        "\n",
        "\n",
        "---- \n",
        "Implementation Steps:\n",
        "\n",
        "\n",
        "To effectively integrate `FAISS` into your workflow, follow these steps:\n",
        "\n",
        "\n",
        "1. Data Preparation:\n",
        "Prepare and normalize your data, ensuring vectors are in a dense representation format.\n",
        "\n",
        "\n",
        "2. Index Creation:\n",
        "Select and build a Faiss index based on your dataset size and performance requirements. Common options include IndexFlat for brute-force search or IVF for scalable inverted file-based search.\n",
        "\n",
        "\n",
        "3. Index Training (if needed):\n",
        "For certain indices, such as `IVF` or `PQ`, train the index with representative data samples to optimize performance.\n",
        "\n",
        "\n",
        "4. Search Execution:\n",
        "Use the index to search for nearest neighbors, leveraging optional GPU acceleration for faster performance.\n",
        "\n",
        "\n",
        "5. Evaluation and Tuning:\n",
        "Test and evaluate the performance of your index, adjusting parameters like quantization levels or clustering size for improved results.\n",
        "\n",
        "\n",
        "### Table of Contents\n",
        "\n",
        "\n",
        "- [Overview](#overview)\n",
        "- [Environment Setup](#environment-setup)\n",
        "- [Load a Sample Dataset](#load-a-sample-dataset)\n",
        "- [Create a VectorStore](#create-a-vectorstore)\n",
        "    - [Create a FAISS VectorStore(from_documents)](#create-a-faiss-vectorstorefrom_documents)\n",
        "    - [Create a FAISS VectorStore(from_texts)](#create-a-faiss-vectorstorefrom_texts)\n",
        "- [Similarity Search](#similarity-search)\n",
        "- [Data Addition Methods](#data-addition-methods)\n",
        "- [Delete Documents](#delete-documents)\n",
        "- [Local Persistence](#local-persistence)\n",
        "- [FAISS Object Merge (Merge From)](#faiss-object-merge-merge-from)\n",
        "- [Convert to Searcher (as_retriever)](#convert-to-searcher-as_retriever)\n",
        "\n",
        "\n",
        "### References\n",
        "\n",
        "\n",
        "- [LangChain : Faiss](https://python.langchain.com/docs/integrations/vectorstores/faiss)\n",
        "- [Faiss Docs](https://faiss.ai/)\n",
        "\n",
        "\n",
        "----"
      ]
    },
    {
      "cell_type": "markdown",
      "metadata": {},
      "source": [
        "## Environment Setup\n",
        "\n",
        "Set up the environment. You may refer to [Environment Setup](https://wikidocs.net/257836) for more details.\n",
        "\n",
        "**[Note]**\n",
        "- `langchain-opentutorial` is a package that provides a set of easy-to-use environment setup, useful functions and utilities for tutorials. \n",
        "- You can checkout the [`langchain-opentutorial`](https://github.com/LangChain-OpenTutorial/langchain-opentutorial-pypi) for more details."
      ]
    },
    {
      "cell_type": "code",
      "execution_count": 42,
      "metadata": {},
      "outputs": [],
      "source": [
        "%%capture --no-stderr\n",
        "%pip install langchain-opentutorial"
      ]
    },
    {
      "cell_type": "code",
      "execution_count": 43,
      "metadata": {},
      "outputs": [],
      "source": [
        "# Install required packages\n",
        "from langchain_opentutorial import package\n",
        "\n",
        "package.install(\n",
        "    [\n",
        "        \"langsmith\",\n",
        "        \"langchain\",\n",
        "        \"langchain_openai\",\n",
        "        \"langchain_community\",\n",
        "    ],\n",
        "    verbose=False,\n",
        "    upgrade=False,\n",
        ")"
      ]
    },
    {
      "cell_type": "code",
      "execution_count": 45,
      "metadata": {},
      "outputs": [
        {
          "name": "stdout",
          "output_type": "stream",
          "text": [
            "Environment variables have been set successfully.\n"
          ]
        }
      ],
      "source": [
        "# Set environment variables\n",
        "from langchain_opentutorial import set_env\n",
        "\n",
        "set_env(\n",
        "    {\n",
        "        \"OPENAI_API_KEY\": \"\",\n",
        "        \"LANGCHAIN_API_KEY\": \"\",\n",
        "        \"LANGCHAIN_TRACING_V2\": \"true\",\n",
        "        \"LANGCHAIN_ENDPOINT\": \"https://api.smith.langchain.com\",\n",
        "        \"LANGCHAIN_PROJECT\": \"FAISS\",\n",
        "    }\n",
        ")"
      ]
    },
    {
      "cell_type": "markdown",
      "metadata": {},
      "source": [
        "You can alternatively set `OPENAI_API_KEY` in `.env` file and load it. \n",
        "\n",
        "[Note] This is not necessary if you've already set `OPENAI_API_KEY` in previous steps."
      ]
    },
    {
      "cell_type": "code",
      "execution_count": 46,
      "metadata": {},
      "outputs": [
        {
          "data": {
            "text/plain": [
              "True"
            ]
          },
          "execution_count": 46,
          "metadata": {},
          "output_type": "execute_result"
        }
      ],
      "source": [
        "from dotenv import load_dotenv\n",
        "\n",
        "load_dotenv(override=True)"
      ]
    },
    {
      "cell_type": "markdown",
      "metadata": {},
      "source": [
        "## Load a Sample Dataset\n",
        "Demonstrates how to load text files using LangChain’s `TextLoader` and split them into smaller chunks with `RecursiveCharacterTextSplitter`. \n",
        "The resulting documents are prepared for further embedding and storage in a FAISS vector store."
      ]
    },
    {
      "cell_type": "code",
      "execution_count": null,
      "metadata": {},
      "outputs": [],
      "source": [
        "\"\"\"\n",
        "Will be reflected in a fixed sample dataset in the future\n",
        "\"\"\"\n",
        "\n",
        "# from langchain_community.document_loaders import TextLoader\n",
        "# from langchain.text_splitter import RecursiveCharacterTextSplitter\n",
        "\n",
        "# # 텍스트 분할\n",
        "# text_splitter = RecursiveCharacterTextSplitter(chunk_size=600, chunk_overlap=0)\n",
        "\n",
        "# # 텍스트 파일을 load -> List[Document] 형태로 변환\n",
        "# loader1 = TextLoader(\"data/nlp-keywords.txt\")\n",
        "# loader2 = TextLoader(\"data/finance-keywords.txt\")\n",
        "\n",
        "# # 문서 분할\n",
        "# split_doc1 = loader1.load_and_split(text_splitter)\n",
        "# split_doc2 = loader2.load_and_split(text_splitter)\n",
        "\n",
        "# # 문서 개수 확인\n",
        "# len(split_doc1), len(split_doc2)"
      ]
    },
    {
      "cell_type": "code",
      "execution_count": 47,
      "metadata": {},
      "outputs": [
        {
          "name": "stdout",
          "output_type": "stream",
          "text": [
            "Number of split documents: 18\n"
          ]
        }
      ],
      "source": [
        "\"\"\"\n",
        "Will be reflected in a fixed sample dataset in the future\n",
        "\"\"\"\n",
        "\n",
        "from uuid import uuid4\n",
        "from langchain.text_splitter import RecursiveCharacterTextSplitter\n",
        "from langchain_core.documents import Document\n",
        "\n",
        "# Define the dataset\n",
        "document_1 = Document(\n",
        "    page_content=\"I had chocolate chip pancakes and scrambled eggs for breakfast this morning.\",\n",
        "    metadata={\"source\": \"tweet\"},\n",
        ")\n",
        "document_2 = Document(\n",
        "    page_content=\"The weather forecast for tomorrow is cloudy and overcast, with a high of 62 degrees.\",\n",
        "    metadata={\"source\": \"news\"},\n",
        ")\n",
        "document_3 = Document(\n",
        "    page_content=\"Building an exciting new project with LangChain - come check it out!\",\n",
        "    metadata={\"source\": \"tweet\"},\n",
        ")\n",
        "document_4 = Document(\n",
        "    page_content=\"Robbers broke into the city bank and stole $1 million in cash.\",\n",
        "    metadata={\"source\": \"news\"},\n",
        ")\n",
        "document_5 = Document(\n",
        "    page_content=\"Wow! That was an amazing movie. I can't wait to see it again.\",\n",
        "    metadata={\"source\": \"tweet\"},\n",
        ")\n",
        "document_6 = Document(\n",
        "    page_content=\"Is the new iPhone worth the price? Read this review to find out.\",\n",
        "    metadata={\"source\": \"website\"},\n",
        ")\n",
        "document_7 = Document(\n",
        "    page_content=\"The top 10 soccer players in the world right now.\",\n",
        "    metadata={\"source\": \"website\"},\n",
        ")\n",
        "document_8 = Document(\n",
        "    page_content=\"LangGraph is the best framework for building stateful, agentic applications!\",\n",
        "    metadata={\"source\": \"tweet\"},\n",
        ")\n",
        "document_9 = Document(\n",
        "    page_content=\"The stock market is down 500 points today due to fears of a recession.\",\n",
        "    metadata={\"source\": \"news\"},\n",
        ")\n",
        "document_10 = Document(\n",
        "    page_content=\"I have a bad feeling I am going to get deleted :(\",\n",
        "    metadata={\"source\": \"tweet\"},\n",
        ")\n",
        "\n",
        "documents = [\n",
        "    document_1,\n",
        "    document_2,\n",
        "    document_3,\n",
        "    document_4,\n",
        "    document_5,\n",
        "    document_6,\n",
        "    document_7,\n",
        "    document_8,\n",
        "    document_9,\n",
        "    document_10,\n",
        "]\n",
        "\n",
        "# Define the text splitter\n",
        "text_splitter = RecursiveCharacterTextSplitter(chunk_size=50, chunk_overlap=10)\n",
        "\n",
        "# Split documents into smaller chunks and create a new list\n",
        "split_documents = []\n",
        "for doc in documents:\n",
        "    split_content = text_splitter.split_text(doc.page_content)\n",
        "    for chunk in split_content:\n",
        "        split_documents.append(Document(page_content=chunk, metadata=doc.metadata))\n",
        "\n",
        "# Generate a unique UUID for each split document\n",
        "uuids = [str(uuid4()) for _ in range(len(split_documents))]\n",
        "\n",
        "# Add the split documents to the VectorStore\n",
        "# db.add_documents(documents=split_documents, ids=uuids)\n",
        "\n",
        "# Verify the result (Print the number of split documents)\n",
        "print(f\"Number of split documents: {len(split_documents)}\")"
      ]
    },
    {
      "cell_type": "markdown",
      "metadata": {},
      "source": [
        "## Create a VectorStore\n",
        "\n",
        "Key Initialization Parameters:\n",
        "\n",
        "- Indexing Parameters\n",
        "    - `embedding_function` (Embeddings): The embedding function to be used.\n",
        "- Client Parameters\n",
        "    - `index` (Any): The FAISS index to be used.\n",
        "    - `docstore` (Docstore): The document store to be utilized.\n",
        "    - `index_to_docstore_id` (Dict[int, str]): A mapping from the index to document store IDs.\n",
        "\n",
        "**[Note]** \n",
        "\n",
        "- `FAISS` is a high-performance library for vector search and clustering.\n",
        "- This class integrates `FAISS` with LangChain's VectorStore interface.\n",
        "- By combining the `embedding function`, `FAISS index`, and `document store`, you can build an efficient vector search system."
      ]
    },
    {
      "cell_type": "code",
      "execution_count": 48,
      "metadata": {},
      "outputs": [
        {
          "name": "stdout",
          "output_type": "stream",
          "text": [
            "1536\n"
          ]
        }
      ],
      "source": [
        "import faiss\n",
        "from langchain_community.vectorstores import FAISS\n",
        "from langchain_community.docstore.in_memory import InMemoryDocstore\n",
        "from langchain_openai import OpenAIEmbeddings\n",
        "\n",
        "# Embedding\n",
        "embeddings = OpenAIEmbeddings()\n",
        "\n",
        "# Calculate the size of the embedding dimension\n",
        "dimension_size = len(embeddings.embed_query(\"hello world\"))\n",
        "print(dimension_size)"
      ]
    },
    {
      "cell_type": "code",
      "execution_count": 49,
      "metadata": {},
      "outputs": [],
      "source": [
        "# Create a FAISS vector store\n",
        "db = FAISS(\n",
        "    embedding_function=OpenAIEmbeddings(),\n",
        "    index=faiss.IndexFlatL2(dimension_size),\n",
        "    docstore=InMemoryDocstore(),\n",
        "    index_to_docstore_id={},\n",
        ")"
      ]
    },
    {
      "cell_type": "markdown",
      "metadata": {},
      "source": [
        "## Create a FAISS VectorStore(from_documents)\n",
        "\n",
        "The `from_documents` class method creates a FAISS vector store using a list of documents and an embedding function.\n",
        "\n",
        "- Parameters:\n",
        "    - `documents` (List[Document]): A list of documents to be added to the vector store.\n",
        "    - `embedding` (Embeddings): The embedding function to be used.\n",
        "    - `**kwargs`: Additional keyword arguments.\n",
        "\n",
        "- How It Works:\n",
        "1. Extracts the text content (`page_content`) and metadata from the list of documents.\n",
        "2. Calls the `from_texts` method using the extracted text and metadata.\n",
        "\n",
        "- Return Value:\n",
        "    - `VectorStore`: An instance of the vector store initialized with the provided documents and embeddings.\n",
        "\n",
        "**[Note]** \n",
        "- This method internally calls the `from_texts` method to create the vector store.\n",
        "- The `page_content` of each document is used as text, while `metadata` is used as the document's metadata.\n",
        "- Additional configurations can be passed through `kwargs`."
      ]
    },
    {
      "cell_type": "code",
      "execution_count": 50,
      "metadata": {},
      "outputs": [],
      "source": [
        "# Create a FAISS vector store from the documents\n",
        "db = FAISS.from_documents(documents=split_documents, embedding=OpenAIEmbeddings())"
      ]
    },
    {
      "cell_type": "code",
      "execution_count": 51,
      "metadata": {},
      "outputs": [
        {
          "data": {
            "text/plain": [
              "{0: '88f07a51-a2da-4345-8478-ce39e276c5de',\n",
              " 1: '70145c30-190d-44de-a9d0-354549d69386',\n",
              " 2: '4b5d8389-4a01-4c25-8ab9-181827fcffa1',\n",
              " 3: '94775c8a-4b88-4deb-9661-474cfd0fe19c',\n",
              " 4: 'c521fdb2-7b75-471c-9da2-1bce76afa8b3',\n",
              " 5: '57472aac-c777-473e-a7d9-2647a56db3b9',\n",
              " 6: 'bc5e6488-37cd-4169-89c8-278ae3f63cfe',\n",
              " 7: 'a59680ba-b1f3-4ad1-8b17-f32df5342f72',\n",
              " 8: 'bbf078f5-b950-45ae-8d32-f5e46a18f94a',\n",
              " 9: '35f26024-fc93-46db-9b3d-ed07b0bdff71',\n",
              " 10: '64f280c1-52f7-4124-8354-2c4f2281dfba',\n",
              " 11: '81507d5e-9971-4b72-abbf-33128ca1cf45',\n",
              " 12: '52c505bd-764c-4e5e-9813-398bfb2086e8',\n",
              " 13: 'bcbdd5bd-b712-4ae5-a879-3e62a72bd8a2',\n",
              " 14: '0e29e133-f30c-4287-8748-c827a614f451',\n",
              " 15: '96ff8f08-e798-45c6-a07c-c69187bad32f',\n",
              " 16: '6bee68b7-c630-4614-b8fa-9710133da6cb',\n",
              " 17: '21255310-bb50-42a7-ba22-e53b24cc1534'}"
            ]
          },
          "execution_count": 51,
          "metadata": {},
          "output_type": "execute_result"
        }
      ],
      "source": [
        "# Check the document store IDs\n",
        "db.index_to_docstore_id"
      ]
    },
    {
      "cell_type": "code",
      "execution_count": 52,
      "metadata": {},
      "outputs": [
        {
          "data": {
            "text/plain": [
              "{'88f07a51-a2da-4345-8478-ce39e276c5de': Document(id='88f07a51-a2da-4345-8478-ce39e276c5de', metadata={'source': 'tweet'}, page_content='I had chocolate chip pancakes and scrambled eggs'),\n",
              " '70145c30-190d-44de-a9d0-354549d69386': Document(id='70145c30-190d-44de-a9d0-354549d69386', metadata={'source': 'tweet'}, page_content='eggs for breakfast this morning.'),\n",
              " '4b5d8389-4a01-4c25-8ab9-181827fcffa1': Document(id='4b5d8389-4a01-4c25-8ab9-181827fcffa1', metadata={'source': 'news'}, page_content='The weather forecast for tomorrow is cloudy and'),\n",
              " '94775c8a-4b88-4deb-9661-474cfd0fe19c': Document(id='94775c8a-4b88-4deb-9661-474cfd0fe19c', metadata={'source': 'news'}, page_content='and overcast, with a high of 62 degrees.'),\n",
              " 'c521fdb2-7b75-471c-9da2-1bce76afa8b3': Document(id='c521fdb2-7b75-471c-9da2-1bce76afa8b3', metadata={'source': 'tweet'}, page_content='Building an exciting new project with LangChain -'),\n",
              " '57472aac-c777-473e-a7d9-2647a56db3b9': Document(id='57472aac-c777-473e-a7d9-2647a56db3b9', metadata={'source': 'tweet'}, page_content='- come check it out!'),\n",
              " 'bc5e6488-37cd-4169-89c8-278ae3f63cfe': Document(id='bc5e6488-37cd-4169-89c8-278ae3f63cfe', metadata={'source': 'news'}, page_content='Robbers broke into the city bank and stole $1'),\n",
              " 'a59680ba-b1f3-4ad1-8b17-f32df5342f72': Document(id='a59680ba-b1f3-4ad1-8b17-f32df5342f72', metadata={'source': 'news'}, page_content='stole $1 million in cash.'),\n",
              " 'bbf078f5-b950-45ae-8d32-f5e46a18f94a': Document(id='bbf078f5-b950-45ae-8d32-f5e46a18f94a', metadata={'source': 'tweet'}, page_content=\"Wow! That was an amazing movie. I can't wait to\"),\n",
              " '35f26024-fc93-46db-9b3d-ed07b0bdff71': Document(id='35f26024-fc93-46db-9b3d-ed07b0bdff71', metadata={'source': 'tweet'}, page_content='wait to see it again.'),\n",
              " '64f280c1-52f7-4124-8354-2c4f2281dfba': Document(id='64f280c1-52f7-4124-8354-2c4f2281dfba', metadata={'source': 'website'}, page_content='Is the new iPhone worth the price? Read this'),\n",
              " '81507d5e-9971-4b72-abbf-33128ca1cf45': Document(id='81507d5e-9971-4b72-abbf-33128ca1cf45', metadata={'source': 'website'}, page_content='Read this review to find out.'),\n",
              " '52c505bd-764c-4e5e-9813-398bfb2086e8': Document(id='52c505bd-764c-4e5e-9813-398bfb2086e8', metadata={'source': 'website'}, page_content='The top 10 soccer players in the world right now.'),\n",
              " 'bcbdd5bd-b712-4ae5-a879-3e62a72bd8a2': Document(id='bcbdd5bd-b712-4ae5-a879-3e62a72bd8a2', metadata={'source': 'tweet'}, page_content='LangGraph is the best framework for building'),\n",
              " '0e29e133-f30c-4287-8748-c827a614f451': Document(id='0e29e133-f30c-4287-8748-c827a614f451', metadata={'source': 'tweet'}, page_content='building stateful, agentic applications!'),\n",
              " '96ff8f08-e798-45c6-a07c-c69187bad32f': Document(id='96ff8f08-e798-45c6-a07c-c69187bad32f', metadata={'source': 'news'}, page_content='The stock market is down 500 points today due to'),\n",
              " '6bee68b7-c630-4614-b8fa-9710133da6cb': Document(id='6bee68b7-c630-4614-b8fa-9710133da6cb', metadata={'source': 'news'}, page_content='due to fears of a recession.'),\n",
              " '21255310-bb50-42a7-ba22-e53b24cc1534': Document(id='21255310-bb50-42a7-ba22-e53b24cc1534', metadata={'source': 'tweet'}, page_content='I have a bad feeling I am going to get deleted :(')}"
            ]
          },
          "execution_count": 52,
          "metadata": {},
          "output_type": "execute_result"
        }
      ],
      "source": [
        "# Check the ID of the stored document: Document\n",
        "db.docstore._dict"
      ]
    },
    {
      "cell_type": "markdown",
      "metadata": {},
      "source": [
        "## Create a FAISS VectorStore(from_texts)\n",
        "\n",
        "The `from_texts` class method creates a FAISS vector store using a list of texts and an embedding function.\n",
        "\n",
        "- Parameters:\n",
        "    - `texts` (List[str]): A list of texts to be added to the vector store.\n",
        "    - `embedding` (Embeddings): The embedding function to use.\n",
        "    - `metadatas` (Optional[List[dict]]): A list of metadata. Default is None.\n",
        "    - `ids` (Optional[List[str]]): A list of document IDs. Default is None.\n",
        "    - `**kwargs`: Additional keyword arguments.\n",
        "\n",
        "- How It Works:\n",
        "    1. Texts are embedded using the provided embedding function.\n",
        "    2. The `__from` method is called with the embedded vectors to create a `FAISS` instance.\n",
        "\n",
        "- Return Value:\n",
        "    - `FAISS`: The created FAISS vector store instance.\n",
        "\n",
        "**[Note]**\n",
        "- This method provides a user-friendly interface, handling document embedding, in-memory document storage, and `FAISS` database initialization in a single step.\n",
        "- It’s a convenient way to get started quickly.\n",
        "\n",
        "**[Caution]**\n",
        "- Be mindful of memory usage when processing a large number of texts.\n",
        "- When using metadata or IDs, ensure they are provided as lists with the same length as the text list."
      ]
    },
    {
      "cell_type": "code",
      "execution_count": 53,
      "metadata": {},
      "outputs": [
        {
          "data": {
            "text/plain": [
              "{'doc1': Document(id='doc1', metadata={'source': 'text document'}, page_content=\"Hello, it's nice to meet you.\"),\n",
              " 'doc2': Document(id='doc2', metadata={'source': 'text document'}, page_content='My name is Teddy.')}"
            ]
          },
          "execution_count": 53,
          "metadata": {},
          "output_type": "execute_result"
        }
      ],
      "source": [
        "# Create using a list of strings\n",
        "db2 = FAISS.from_texts(\n",
        "    [\"Hello, it's nice to meet you.\", \"My name is Teddy.\"],\n",
        "    embedding=OpenAIEmbeddings(),\n",
        "    metadatas=[{\"source\": \"text document\"}, {\"source\": \"text document\"}],\n",
        "    ids=[\"doc1\", \"doc2\"],\n",
        ")\n",
        "\n",
        "# Stored content\n",
        "db2.docstore._dict"
      ]
    },
    {
      "cell_type": "markdown",
      "metadata": {},
      "source": [
        "## Similarity Search\n",
        "\n",
        "The `similarity_search` method allows you to search for documents most similar to a given query.\n",
        "\n",
        "- Parameters:\n",
        "    - `query` (str): The search query text for finding similar documents.\n",
        "    - `k` (int): The number of documents to return. Default is 4.\n",
        "    - `filter` (Optional[Union[Callable, Dict[str, Any]]]): A metadata filtering function or dictionary. Default is None.\n",
        "    - `fetch_k` (int): The number of documents to retrieve before applying filtering. Default is 20.\n",
        "    - `**kwargs`: Additional keyword arguments.\n",
        "\n",
        "- Returns:\n",
        "    - `List[Document]`: A list of documents most similar to the query.\n",
        "\n",
        "- How It Works:\n",
        "    1. Internally calls the `similarity_search_with_score` method to search for documents along with their similarity scores.\n",
        "    2. Extracts and returns only the documents from the results, excluding the scores.\n",
        "\n",
        "- Key Features:\n",
        "    - The `filter` parameter enables metadata-based filtering.\n",
        "    - The `fetch_k` parameter allows control over the number of documents retrieved before filtering, ensuring enough documents remain after filtering.\n",
        "\n",
        "- Considerations:\n",
        "    - Search performance heavily depends on the quality of the embedding model used.\n",
        "    - In large datasets, it is important to adjust the values of `k` and `fetch_k` to balance search speed and accuracy.\n",
        "    - For complex filtering needs, pass a custom function to the `filter` parameter for fine-grained control.\n",
        "\n",
        "- Optimization Tips:\n",
        "    - Cache the results for frequently used queries to improve the speed of repeated searches.\n",
        "    - Avoid setting `fetch_k` too high, as it may slow down search performance. Experiment to find an appropriate value."
      ]
    },
    {
      "cell_type": "code",
      "execution_count": 54,
      "metadata": {},
      "outputs": [
        {
          "data": {
            "text/plain": [
              "[Document(id='c521fdb2-7b75-471c-9da2-1bce76afa8b3', metadata={'source': 'tweet'}, page_content='Building an exciting new project with LangChain -'),\n",
              " Document(id='bcbdd5bd-b712-4ae5-a879-3e62a72bd8a2', metadata={'source': 'tweet'}, page_content='LangGraph is the best framework for building'),\n",
              " Document(id='81507d5e-9971-4b72-abbf-33128ca1cf45', metadata={'source': 'website'}, page_content='Read this review to find out.'),\n",
              " Document(id='0e29e133-f30c-4287-8748-c827a614f451', metadata={'source': 'tweet'}, page_content='building stateful, agentic applications!')]"
            ]
          },
          "execution_count": 54,
          "metadata": {},
          "output_type": "execute_result"
        }
      ],
      "source": [
        "# Similarity Search\n",
        "db.similarity_search(\"Tell me about the LangChain project.\")"
      ]
    },
    {
      "cell_type": "code",
      "execution_count": 55,
      "metadata": {},
      "outputs": [
        {
          "data": {
            "text/plain": [
              "[Document(id='c521fdb2-7b75-471c-9da2-1bce76afa8b3', metadata={'source': 'tweet'}, page_content='Building an exciting new project with LangChain -'),\n",
              " Document(id='bcbdd5bd-b712-4ae5-a879-3e62a72bd8a2', metadata={'source': 'tweet'}, page_content='LangGraph is the best framework for building')]"
            ]
          },
          "execution_count": 55,
          "metadata": {},
          "output_type": "execute_result"
        }
      ],
      "source": [
        "# Specify the value of k (number of documents to return)\n",
        "db.similarity_search(\"Tell me about the LangChain project.\", k=2)"
      ]
    },
    {
      "cell_type": "code",
      "execution_count": 56,
      "metadata": {},
      "outputs": [
        {
          "data": {
            "text/plain": [
              "[Document(id='c521fdb2-7b75-471c-9da2-1bce76afa8b3', metadata={'source': 'tweet'}, page_content='Building an exciting new project with LangChain -'),\n",
              " Document(id='bcbdd5bd-b712-4ae5-a879-3e62a72bd8a2', metadata={'source': 'tweet'}, page_content='LangGraph is the best framework for building')]"
            ]
          },
          "execution_count": 56,
          "metadata": {},
          "output_type": "execute_result"
        }
      ],
      "source": [
        "# Use a filter to narrow results based on metadata\n",
        "db.similarity_search(\n",
        "    \"Tell me about the LangChain project.\", filter={\"source\": \"tweet\"}, k=2\n",
        ")"
      ]
    },
    {
      "cell_type": "markdown",
      "metadata": {},
      "source": [
        "## Data Addition Methods\n",
        "The Data Addition Methods describes how to add data to a `FAISS` vector store using either documents or texts. These methods provide flexibility for different input types and allow the user to efficiently populate the vector store.\n",
        "\n",
        "### Add from Document (add_documents)\n",
        "The `add_documents` method allows you to add or update documents in the vector store.\n",
        "\n",
        "- Parameters:\n",
        "    - `documents` (List[Document]): A list of Document objects to be added to the vector store.\n",
        "    - `**kwargs`: Additional keyword arguments.\n",
        "\n",
        "- Return Value:\n",
        "    - `List[str]`: A list of IDs for the added texts.\n",
        "\n",
        "- Functionality:\n",
        "    1. Extracts text content and metadata from the documents.\n",
        "    2. Calls the `add_texts` method to perform the actual addition process.\n",
        "\n",
        "- Key Features:\n",
        "    - Convenient for handling Document objects directly.\n",
        "    - Includes ID handling logic to ensure the uniqueness of the documents.\n",
        "    - Operates based on the `add_texts` method, promoting code reusability."
      ]
    },
    {
      "cell_type": "code",
      "execution_count": 57,
      "metadata": {},
      "outputs": [
        {
          "data": {
            "text/plain": [
              "['new_doc1']"
            ]
          },
          "execution_count": 57,
          "metadata": {},
          "output_type": "execute_result"
        }
      ],
      "source": [
        "from langchain_core.documents import Document\n",
        "\n",
        "# Specify page_content and metadata\n",
        "db.add_documents(\n",
        "    [\n",
        "        Document(\n",
        "            page_content=\"Hello! This time, I will add a new document.\",\n",
        "            # Metadata specifying the source of the document\n",
        "            metadata={\"source\": \"mydata.txt\"},\n",
        "        )\n",
        "    ],\n",
        "    # Unique ID for the new document\n",
        "    ids=[\"new_doc1\"],\n",
        ")"
      ]
    },
    {
      "cell_type": "code",
      "execution_count": 58,
      "metadata": {},
      "outputs": [
        {
          "data": {
            "text/plain": [
              "[Document(id='new_doc1', metadata={'source': 'mydata.txt'}, page_content='Hello! This time, I will add a new document.')]"
            ]
          },
          "execution_count": 58,
          "metadata": {},
          "output_type": "execute_result"
        }
      ],
      "source": [
        "# Verify the added data by performing a similarity search\n",
        "db.similarity_search(\"hello\", k=1)"
      ]
    },
    {
      "cell_type": "markdown",
      "metadata": {},
      "source": [
        "### Add from text (add_texts)\n",
        "\n",
        "\n",
        "The `add_texts` method provides the functionality to embed texts and add them to the vector store.\n",
        "\n",
        "\n",
        "- Parameters:\n",
        "    - `texts` (Iterable[str]): An iterable of texts to be added to the vector store.\n",
        "    - `metadatas` (Optional[List[dict]]): A list of metadata associated with the texts (optional).\n",
        "    - `ids` (Optional[List[str]]): A list of unique identifiers for the texts (optional).\n",
        "    - `**kwargs`: Additional keyword arguments.\n",
        "\n",
        "\n",
        "- Return Value:\n",
        "    - `List[str]`: A list of IDs of the texts added to the vector store.\n",
        "\n",
        "\n",
        "- How it works:\n",
        "    1. The input texts iterable is converted into a list.\n",
        "    2. The `_embed_documents` method is used to embed the texts.\n",
        "    3. The `__add` method is called to add the embedded texts to the vector store."
      ]
    },
    {
      "cell_type": "code",
      "execution_count": 59,
      "metadata": {},
      "outputs": [
        {
          "data": {
            "text/plain": [
              "['new_doc2', 'new_doc3']"
            ]
          },
          "execution_count": 59,
          "metadata": {},
          "output_type": "execute_result"
        }
      ],
      "source": [
        "# Add new text data\n",
        "db.add_texts(\n",
        "    [\n",
        "        \"This time, we're adding text data.\",\n",
        "        \"This is the second text data being added.\",\n",
        "    ],\n",
        "    metadatas=[{\"source\": \"mydata.txt\"}, {\"source\": \"mydata.txt\"}],\n",
        "    ids=[\"new_doc2\", \"new_doc3\"],\n",
        ")"
      ]
    },
    {
      "cell_type": "code",
      "execution_count": 60,
      "metadata": {},
      "outputs": [
        {
          "data": {
            "text/plain": [
              "{0: '88f07a51-a2da-4345-8478-ce39e276c5de',\n",
              " 1: '70145c30-190d-44de-a9d0-354549d69386',\n",
              " 2: '4b5d8389-4a01-4c25-8ab9-181827fcffa1',\n",
              " 3: '94775c8a-4b88-4deb-9661-474cfd0fe19c',\n",
              " 4: 'c521fdb2-7b75-471c-9da2-1bce76afa8b3',\n",
              " 5: '57472aac-c777-473e-a7d9-2647a56db3b9',\n",
              " 6: 'bc5e6488-37cd-4169-89c8-278ae3f63cfe',\n",
              " 7: 'a59680ba-b1f3-4ad1-8b17-f32df5342f72',\n",
              " 8: 'bbf078f5-b950-45ae-8d32-f5e46a18f94a',\n",
              " 9: '35f26024-fc93-46db-9b3d-ed07b0bdff71',\n",
              " 10: '64f280c1-52f7-4124-8354-2c4f2281dfba',\n",
              " 11: '81507d5e-9971-4b72-abbf-33128ca1cf45',\n",
              " 12: '52c505bd-764c-4e5e-9813-398bfb2086e8',\n",
              " 13: 'bcbdd5bd-b712-4ae5-a879-3e62a72bd8a2',\n",
              " 14: '0e29e133-f30c-4287-8748-c827a614f451',\n",
              " 15: '96ff8f08-e798-45c6-a07c-c69187bad32f',\n",
              " 16: '6bee68b7-c630-4614-b8fa-9710133da6cb',\n",
              " 17: '21255310-bb50-42a7-ba22-e53b24cc1534',\n",
              " 18: 'new_doc1',\n",
              " 19: 'new_doc2',\n",
              " 20: 'new_doc3'}"
            ]
          },
          "execution_count": 60,
          "metadata": {},
          "output_type": "execute_result"
        }
      ],
      "source": [
        "# Check the added data\n",
        "db.index_to_docstore_id"
      ]
    },
    {
      "cell_type": "markdown",
      "metadata": {},
      "source": [
        "## Delete Documents\n",
        "\n",
        "\n",
        "The `delete` method is used to remove documents from the vector store based on their specified IDs.\n",
        "\n",
        "\n",
        "- Parameters:\n",
        "    - `ids` (Optional[List[str]]): A list of document IDs to delete.\n",
        "    - `**kwargs`: Additional keyword arguments (not utilized in this method).\n",
        "\n",
        "\n",
        "- Return Value:\n",
        "    - `Optional[bool]`: Returns True if the deletion is successful, False if it fails, or None if the functionality is not implemented.\n",
        "\n",
        "\n",
        "- How It Works:\n",
        "    1. Validates the provided IDs.\n",
        "    2, Finds the indices corresponding to the IDs to be deleted.\n",
        "    3. Removes the entries with the given IDs from the `FAISS` index.\n",
        "    4. Deletes the documents associated with the IDs from the document store.\n",
        "    5. Updates the index-to-ID mapping.\n",
        "\n",
        "\n",
        "- Key Features:\n",
        "    - Ensures precise document management using ID-based deletion.\n",
        "    - Performs deletion on both the `FAISS` index and the document store for consistency.\n",
        "    - Maintains data integrity by reordering the index after deletion.\n",
        "\n",
        "\n",
        "**[Caution]**\n",
        "- Deletion is irreversible, so it should be done with care.\n",
        "- The method lacks concurrency control, which requires caution in multi-threaded environments."
      ]
    },
    {
      "cell_type": "code",
      "execution_count": 61,
      "metadata": {},
      "outputs": [
        {
          "name": "stdout",
          "output_type": "stream",
          "text": [
            "['delete_doc1', 'delete_doc2']\n"
          ]
        }
      ],
      "source": [
        "# Add data for deletion\n",
        "ids = db.add_texts(\n",
        "    [\"Adding data for deletion.\", \"This is the second data entry for deletion.\"],\n",
        "    metadatas=[{\"source\": \"mydata.txt\"}, {\"source\": \"mydata.txt\"}],\n",
        "    ids=[\"delete_doc1\", \"delete_doc2\"],\n",
        ")\n",
        "\n",
        "# Verify the IDs of the added data\n",
        "print(ids)"
      ]
    },
    {
      "cell_type": "markdown",
      "metadata": {},
      "source": [
        "The `delete` method can remove documents by providing their IDs."
      ]
    },
    {
      "cell_type": "code",
      "execution_count": 62,
      "metadata": {},
      "outputs": [
        {
          "data": {
            "text/plain": [
              "True"
            ]
          },
          "execution_count": 62,
          "metadata": {},
          "output_type": "execute_result"
        }
      ],
      "source": [
        "# Delete by IDs\n",
        "db.delete(ids)"
      ]
    },
    {
      "cell_type": "code",
      "execution_count": 63,
      "metadata": {},
      "outputs": [
        {
          "data": {
            "text/plain": [
              "{0: '88f07a51-a2da-4345-8478-ce39e276c5de',\n",
              " 1: '70145c30-190d-44de-a9d0-354549d69386',\n",
              " 2: '4b5d8389-4a01-4c25-8ab9-181827fcffa1',\n",
              " 3: '94775c8a-4b88-4deb-9661-474cfd0fe19c',\n",
              " 4: 'c521fdb2-7b75-471c-9da2-1bce76afa8b3',\n",
              " 5: '57472aac-c777-473e-a7d9-2647a56db3b9',\n",
              " 6: 'bc5e6488-37cd-4169-89c8-278ae3f63cfe',\n",
              " 7: 'a59680ba-b1f3-4ad1-8b17-f32df5342f72',\n",
              " 8: 'bbf078f5-b950-45ae-8d32-f5e46a18f94a',\n",
              " 9: '35f26024-fc93-46db-9b3d-ed07b0bdff71',\n",
              " 10: '64f280c1-52f7-4124-8354-2c4f2281dfba',\n",
              " 11: '81507d5e-9971-4b72-abbf-33128ca1cf45',\n",
              " 12: '52c505bd-764c-4e5e-9813-398bfb2086e8',\n",
              " 13: 'bcbdd5bd-b712-4ae5-a879-3e62a72bd8a2',\n",
              " 14: '0e29e133-f30c-4287-8748-c827a614f451',\n",
              " 15: '96ff8f08-e798-45c6-a07c-c69187bad32f',\n",
              " 16: '6bee68b7-c630-4614-b8fa-9710133da6cb',\n",
              " 17: '21255310-bb50-42a7-ba22-e53b24cc1534',\n",
              " 18: 'new_doc1',\n",
              " 19: 'new_doc2',\n",
              " 20: 'new_doc3'}"
            ]
          },
          "execution_count": 63,
          "metadata": {},
          "output_type": "execute_result"
        }
      ],
      "source": [
        "# Output the result after deletion\n",
        "db.index_to_docstore_id"
      ]
    },
    {
      "cell_type": "markdown",
      "metadata": {},
      "source": [
        "## Local Persistence\n",
        "\n",
        "\n",
        "### Save Local\n",
        "\n",
        "\n",
        "The `save_local` method enables saving the `FAISS` index, document store, and index-to-document ID mapping to the local disk.\n",
        "\n",
        "\n",
        "- Parameters:\n",
        "    - `folder_path` (str): The folder path where the data will be saved.\n",
        "    - `index_name` (str): The name of the index file to be saved (default: \"index\").\n",
        "\n",
        "\n",
        "- How It Works:\n",
        "    1. Creates the specified folder path (ignored if it already exists).\n",
        "    2. Saves the `FAISS` index as a separate file.\n",
        "    3. Stores the document store and index-to-document ID mapping in pickle format.\n",
        "\n",
        "\n",
        "- Usage Considerations:\n",
        "    - Write permissions are required for the specified save path.\n",
        "    - For large datasets, significant storage space and time may be required.\n",
        "    - Be mindful of potential security risks associated with using pickle."
      ]
    },
    {
      "cell_type": "code",
      "execution_count": 64,
      "metadata": {},
      "outputs": [],
      "source": [
        "# Save to local disk\n",
        "db.save_local(folder_path=\"faiss_db\", index_name=\"faiss_index\")"
      ]
    },
    {
      "cell_type": "markdown",
      "metadata": {},
      "source": [
        "### Load Local\n",
        "\n",
        "\n",
        "The `load_local` class method allows loading a `FAISS` index, document store, and index-to-document ID mapping saved on the local disk.\n",
        "\n",
        "\n",
        "- Parameters:\n",
        "    - `folder_path` (str): The folder path where the saved files are located.\n",
        "    - `embeddings` (Embeddings): The embedding object used for generating queries.\n",
        "    - `index_name` (str): The name of the index file to load (default: \"index\").\n",
        "    - `allow_dangerous_deserialization` (bool): Whether to allow deserialization of pickle files (default: False).\n",
        "\n",
        "\n",
        "- Returns:\n",
        "    - `FAISS`: The loaded `FAISS` object.\n",
        "\n",
        "\n",
        "- How It Works:\n",
        "    1. Ensures deserialization risks are considered and requires explicit user permission.\n",
        "    2. Loads the `FAISS` index separately.\n",
        "    3. Uses pickle to deserialize the document store and index-to-document ID mapping.\n",
        "    4. Creates and returns a `FAISS` object using the loaded data."
      ]
    },
    {
      "cell_type": "code",
      "execution_count": 65,
      "metadata": {},
      "outputs": [
        {
          "data": {
            "text/plain": [
              "{0: '88f07a51-a2da-4345-8478-ce39e276c5de',\n",
              " 1: '70145c30-190d-44de-a9d0-354549d69386',\n",
              " 2: '4b5d8389-4a01-4c25-8ab9-181827fcffa1',\n",
              " 3: '94775c8a-4b88-4deb-9661-474cfd0fe19c',\n",
              " 4: 'c521fdb2-7b75-471c-9da2-1bce76afa8b3',\n",
              " 5: '57472aac-c777-473e-a7d9-2647a56db3b9',\n",
              " 6: 'bc5e6488-37cd-4169-89c8-278ae3f63cfe',\n",
              " 7: 'a59680ba-b1f3-4ad1-8b17-f32df5342f72',\n",
              " 8: 'bbf078f5-b950-45ae-8d32-f5e46a18f94a',\n",
              " 9: '35f26024-fc93-46db-9b3d-ed07b0bdff71',\n",
              " 10: '64f280c1-52f7-4124-8354-2c4f2281dfba',\n",
              " 11: '81507d5e-9971-4b72-abbf-33128ca1cf45',\n",
              " 12: '52c505bd-764c-4e5e-9813-398bfb2086e8',\n",
              " 13: 'bcbdd5bd-b712-4ae5-a879-3e62a72bd8a2',\n",
              " 14: '0e29e133-f30c-4287-8748-c827a614f451',\n",
              " 15: '96ff8f08-e798-45c6-a07c-c69187bad32f',\n",
              " 16: '6bee68b7-c630-4614-b8fa-9710133da6cb',\n",
              " 17: '21255310-bb50-42a7-ba22-e53b24cc1534',\n",
              " 18: 'new_doc1',\n",
              " 19: 'new_doc2',\n",
              " 20: 'new_doc3'}"
            ]
          },
          "execution_count": 65,
          "metadata": {},
          "output_type": "execute_result"
        }
      ],
      "source": [
        "# Load the saved data\n",
        "loaded_db = FAISS.load_local(\n",
        "    folder_path=\"faiss_db\",\n",
        "    index_name=\"faiss_index\",\n",
        "    embeddings=embeddings,\n",
        "    allow_dangerous_deserialization=True,\n",
        ")\n",
        "\n",
        "# Verify the loaded data\n",
        "loaded_db.index_to_docstore_id"
      ]
    },
    {
      "cell_type": "markdown",
      "metadata": {},
      "source": [
        "## FAISS Object Merge (Merge From)\n",
        "\n",
        "\n",
        "The `merge_from` method allows merging another `FAISS` object into the current `FAISS` object.\n",
        "\n",
        "\n",
        "- Parameters:\n",
        "    - `target` (`FAISS`): The target `FAISS` object to be merged into the current object.\n",
        "\n",
        "\n",
        "- How It Works:\n",
        "    1. Checks if the document stores are compatible for merging.\n",
        "    2. Assigns new indices to the incoming documents based on the length of the existing index.\n",
        "    3. Merges the `FAISS` index.\n",
        "    4. Extracts documents and ID information from the target `FAISS` object.\n",
        "    5. Adds the extracted information to the current document store and index-to-document ID mapping.\n",
        "\n",
        "\n",
        "- Key Features:\n",
        "    - Merges the indices, document stores, and index-to-document ID mappings of two `FAISS` objects.\n",
        "    - Maintains continuity of index numbering during the merge.\n",
        "    - Ensures compatibility of document stores before proceeding with the merge.\n",
        "\n",
        "\n",
        "**[Cautions]**\n",
        "- The structure of the target `FAISS` object must be compatible with the current object.\n",
        "- Be cautious of duplicate IDs, as the current implementation does not check for duplicates.\n",
        "- If an exception occurs during the merge process, it may leave the system in a partially merged state."
      ]
    },
    {
      "cell_type": "code",
      "execution_count": 66,
      "metadata": {},
      "outputs": [
        {
          "data": {
            "text/plain": [
              "{0: '88f07a51-a2da-4345-8478-ce39e276c5de',\n",
              " 1: '70145c30-190d-44de-a9d0-354549d69386',\n",
              " 2: '4b5d8389-4a01-4c25-8ab9-181827fcffa1',\n",
              " 3: '94775c8a-4b88-4deb-9661-474cfd0fe19c',\n",
              " 4: 'c521fdb2-7b75-471c-9da2-1bce76afa8b3',\n",
              " 5: '57472aac-c777-473e-a7d9-2647a56db3b9',\n",
              " 6: 'bc5e6488-37cd-4169-89c8-278ae3f63cfe',\n",
              " 7: 'a59680ba-b1f3-4ad1-8b17-f32df5342f72',\n",
              " 8: 'bbf078f5-b950-45ae-8d32-f5e46a18f94a',\n",
              " 9: '35f26024-fc93-46db-9b3d-ed07b0bdff71',\n",
              " 10: '64f280c1-52f7-4124-8354-2c4f2281dfba',\n",
              " 11: '81507d5e-9971-4b72-abbf-33128ca1cf45',\n",
              " 12: '52c505bd-764c-4e5e-9813-398bfb2086e8',\n",
              " 13: 'bcbdd5bd-b712-4ae5-a879-3e62a72bd8a2',\n",
              " 14: '0e29e133-f30c-4287-8748-c827a614f451',\n",
              " 15: '96ff8f08-e798-45c6-a07c-c69187bad32f',\n",
              " 16: '6bee68b7-c630-4614-b8fa-9710133da6cb',\n",
              " 17: '21255310-bb50-42a7-ba22-e53b24cc1534',\n",
              " 18: 'new_doc1',\n",
              " 19: 'new_doc2',\n",
              " 20: 'new_doc3'}"
            ]
          },
          "execution_count": 66,
          "metadata": {},
          "output_type": "execute_result"
        }
      ],
      "source": [
        "# Load the saved data\n",
        "db = FAISS.load_local(\n",
        "    folder_path=\"faiss_db\",\n",
        "    index_name=\"faiss_index\",\n",
        "    embeddings=embeddings,\n",
        "    allow_dangerous_deserialization=True,\n",
        ")\n",
        "\n",
        "# Create a new FAISS vector store\n",
        "db2 = FAISS.from_documents(documents=split_documents, embedding=OpenAIEmbeddings())\n",
        "\n",
        "# Check the data in db\n",
        "db.index_to_docstore_id"
      ]
    },
    {
      "cell_type": "code",
      "execution_count": 67,
      "metadata": {},
      "outputs": [
        {
          "data": {
            "text/plain": [
              "{0: 'b20a706b-1516-4843-98c3-2a9d5b43c24f',\n",
              " 1: 'bce6b405-56c8-4620-9465-1bc485da03a8',\n",
              " 2: '459e3cfb-fb95-4868-bd58-ccce132cc1bb',\n",
              " 3: '1c7a79c6-4235-4fee-9ccd-a3103f3d66c2',\n",
              " 4: '677061bb-beb8-46cb-bca5-79767317e591',\n",
              " 5: '94007bf9-3148-42ae-974f-8ed18d5d58ec',\n",
              " 6: '463478d1-e259-46b3-9bc4-18587aac0455',\n",
              " 7: '42ee5049-fb43-47c3-9eaf-fde280aa2aa0',\n",
              " 8: '8cabbb6b-a575-44e9-bdcd-8130bcedbfc5',\n",
              " 9: '98175aac-d9a8-433a-ba27-fbb3a0193057',\n",
              " 10: 'bc5b3aa9-2045-4b02-b923-d5e2036d9a5a',\n",
              " 11: '75085a0c-779e-4627-bd03-6a772e0d0f35',\n",
              " 12: '5e27115a-523c-482b-a89d-cf6b09cbab5c',\n",
              " 13: '0f3096e3-31e4-4f68-8062-62358b97d0c5',\n",
              " 14: '90908437-000d-4c89-a621-2520c3620fac',\n",
              " 15: '47728add-6b7f-4a04-b85b-81f1b3c6472f',\n",
              " 16: '8b0ea7bf-3611-49ac-9d17-24208738217d',\n",
              " 17: '37a33d6a-2ded-4efd-bab1-a9e61a05e04d'}"
            ]
          },
          "execution_count": 67,
          "metadata": {},
          "output_type": "execute_result"
        }
      ],
      "source": [
        "# Check the data in db2\n",
        "db2.index_to_docstore_id"
      ]
    },
    {
      "cell_type": "markdown",
      "metadata": {},
      "source": [
        "Use `merge_from` to combine the two databases"
      ]
    },
    {
      "cell_type": "code",
      "execution_count": 68,
      "metadata": {},
      "outputs": [
        {
          "data": {
            "text/plain": [
              "{0: '88f07a51-a2da-4345-8478-ce39e276c5de',\n",
              " 1: '70145c30-190d-44de-a9d0-354549d69386',\n",
              " 2: '4b5d8389-4a01-4c25-8ab9-181827fcffa1',\n",
              " 3: '94775c8a-4b88-4deb-9661-474cfd0fe19c',\n",
              " 4: 'c521fdb2-7b75-471c-9da2-1bce76afa8b3',\n",
              " 5: '57472aac-c777-473e-a7d9-2647a56db3b9',\n",
              " 6: 'bc5e6488-37cd-4169-89c8-278ae3f63cfe',\n",
              " 7: 'a59680ba-b1f3-4ad1-8b17-f32df5342f72',\n",
              " 8: 'bbf078f5-b950-45ae-8d32-f5e46a18f94a',\n",
              " 9: '35f26024-fc93-46db-9b3d-ed07b0bdff71',\n",
              " 10: '64f280c1-52f7-4124-8354-2c4f2281dfba',\n",
              " 11: '81507d5e-9971-4b72-abbf-33128ca1cf45',\n",
              " 12: '52c505bd-764c-4e5e-9813-398bfb2086e8',\n",
              " 13: 'bcbdd5bd-b712-4ae5-a879-3e62a72bd8a2',\n",
              " 14: '0e29e133-f30c-4287-8748-c827a614f451',\n",
              " 15: '96ff8f08-e798-45c6-a07c-c69187bad32f',\n",
              " 16: '6bee68b7-c630-4614-b8fa-9710133da6cb',\n",
              " 17: '21255310-bb50-42a7-ba22-e53b24cc1534',\n",
              " 18: 'new_doc1',\n",
              " 19: 'new_doc2',\n",
              " 20: 'new_doc3',\n",
              " 21: 'b20a706b-1516-4843-98c3-2a9d5b43c24f',\n",
              " 22: 'bce6b405-56c8-4620-9465-1bc485da03a8',\n",
              " 23: '459e3cfb-fb95-4868-bd58-ccce132cc1bb',\n",
              " 24: '1c7a79c6-4235-4fee-9ccd-a3103f3d66c2',\n",
              " 25: '677061bb-beb8-46cb-bca5-79767317e591',\n",
              " 26: '94007bf9-3148-42ae-974f-8ed18d5d58ec',\n",
              " 27: '463478d1-e259-46b3-9bc4-18587aac0455',\n",
              " 28: '42ee5049-fb43-47c3-9eaf-fde280aa2aa0',\n",
              " 29: '8cabbb6b-a575-44e9-bdcd-8130bcedbfc5',\n",
              " 30: '98175aac-d9a8-433a-ba27-fbb3a0193057',\n",
              " 31: 'bc5b3aa9-2045-4b02-b923-d5e2036d9a5a',\n",
              " 32: '75085a0c-779e-4627-bd03-6a772e0d0f35',\n",
              " 33: '5e27115a-523c-482b-a89d-cf6b09cbab5c',\n",
              " 34: '0f3096e3-31e4-4f68-8062-62358b97d0c5',\n",
              " 35: '90908437-000d-4c89-a621-2520c3620fac',\n",
              " 36: '47728add-6b7f-4a04-b85b-81f1b3c6472f',\n",
              " 37: '8b0ea7bf-3611-49ac-9d17-24208738217d',\n",
              " 38: '37a33d6a-2ded-4efd-bab1-a9e61a05e04d'}"
            ]
          },
          "execution_count": 68,
          "metadata": {},
          "output_type": "execute_result"
        }
      ],
      "source": [
        "# Merge db + db2\n",
        "db.merge_from(db2)\n",
        "\n",
        "# Check the merged data\n",
        "db.index_to_docstore_id"
      ]
    },
    {
      "cell_type": "markdown",
      "metadata": {},
      "source": [
        "## Convert to Searcher (as_retriever)\n",
        "\n",
        "\n",
        "The `as_retriever` method creates a `VectorStoreRetriever` object based on the current vector store.\n",
        "\n",
        "\n",
        "- Parameters:\n",
        "    - `**kwargs`: Keyword arguments passed to the search function.\n",
        "    - `search_type` (Optional[str]): Type of search to perform (`\"similarity\"`, `\"mmr\"`, or `\"similarity_score_threshold\"`).\n",
        "    - `search_kwargs` (Optional[Dict]): Additional keyword arguments for the search function.\n",
        "\n",
        "\n",
        "- Return Value:\n",
        "    - `VectorStoreRetriever`: A retriever object based on the vector store.\n",
        "\n",
        "\n",
        "- Key Features:\n",
        "    - Supports Multiple Search Types\n",
        "        - `\"similarity\"`: Default similarity-based search.\n",
        "        - `\"mmr\"`: Maximal Marginal Relevance search.\n",
        "        - `\"similarity_score_threshold\"`: Similarity threshold-based search.\n",
        "    - Customizable Search Parameters\n",
        "        - `k`: Number of documents to return.\n",
        "        - `score_threshold`: Similarity score threshold.\n",
        "        - `fetch_k`: Number of documents fetched for the MMR algorithm.\n",
        "        - `lambda_mult`: Parameter to adjust diversity in `MMR`.\n",
        "        - `filter`: Filter documents based on metadata.\n",
        "\n",
        "\n",
        "- Usage Considerations:\n",
        "    - Choose appropriate search types and parameters to balance the quality and diversity of search results.\n",
        "    - Adjust `fetch_k` and `k` values for large datasets to balance performance and accuracy.\n",
        "    - Use the filter option to search only documents that match specific conditions.\n",
        "\n",
        "\n",
        "- Optimization Tips:\n",
        "    - For `MMR` searches, increase `fetch_k` and adjust `lambda_mult` to balance diversity and relevance.\n",
        "    - Use threshold-based search to return only highly relevant documents.\n",
        "\n",
        "\n",
        "**[Cautions]**\n",
        "- Improper parameter settings may impact search performance or result quality.\n",
        "- High `k` values on large datasets can significantly increase search time. By default, similarity search retrieves 4 documents to ensure manageable results."
      ]
    },
    {
      "cell_type": "code",
      "execution_count": 69,
      "metadata": {},
      "outputs": [],
      "source": [
        "\"\"\"\n",
        "Will be Update\n",
        "\"\"\"\n",
        "\n",
        "# Create a new FAISS vector store\n",
        "db = FAISS.from_documents(\n",
        "    # Will be Update\n",
        "    documents=split_documents + split_documents,\n",
        "    embedding=OpenAIEmbeddings(),\n",
        ")"
      ]
    },
    {
      "cell_type": "markdown",
      "metadata": {},
      "source": [
        "The default retriever returns 4 documents."
      ]
    },
    {
      "cell_type": "code",
      "execution_count": 70,
      "metadata": {},
      "outputs": [
        {
          "data": {
            "text/plain": [
              "[Document(id='f02d2a70-66a9-45ca-9709-dc1ac8efcbbc', metadata={'source': 'website'}, page_content='Is the new iPhone worth the price? Read this'),\n",
              " Document(id='eb49941e-fb77-4491-b34a-ad9a263f524b', metadata={'source': 'website'}, page_content='Is the new iPhone worth the price? Read this'),\n",
              " Document(id='84e172ea-5f7f-46c8-a55e-eea3975bd167', metadata={'source': 'website'}, page_content='Read this review to find out.'),\n",
              " Document(id='68b727eb-e6c8-43a4-9857-58e32185f7eb', metadata={'source': 'website'}, page_content='Read this review to find out.')]"
            ]
          },
          "execution_count": 70,
          "metadata": {},
          "output_type": "execute_result"
        }
      ],
      "source": [
        "# Convert to retriever\n",
        "retriever = db.as_retriever()\n",
        "\n",
        "# Perform search\n",
        "retriever.invoke(\"What can you tell me about iPhones?\")"
      ]
    },
    {
      "cell_type": "markdown",
      "metadata": {},
      "source": [
        "Higher diversity with more document retrieval\n",
        "\n",
        "\n",
        "- `k`: The number of documents to return (default: 4)\n",
        "- `fetch_k`: The number of documents to pass to the `MMR` algorithm (default: 20)\n",
        "- `lambda_mult`: Adjusts the diversity of `MMR` results (range: 0 to 1, default: 0.5)"
      ]
    },
    {
      "cell_type": "code",
      "execution_count": 71,
      "metadata": {},
      "outputs": [
        {
          "data": {
            "text/plain": [
              "[Document(id='f02d2a70-66a9-45ca-9709-dc1ac8efcbbc', metadata={'source': 'website'}, page_content='Is the new iPhone worth the price? Read this'),\n",
              " Document(id='4601e7ea-5eaa-4431-b970-7617a1a34a6b', metadata={'source': 'tweet'}, page_content='building stateful, agentic applications!'),\n",
              " Document(id='7821822a-5da2-4295-b75a-bc01b40f5516', metadata={'source': 'website'}, page_content='The top 10 soccer players in the world right now.'),\n",
              " Document(id='dd9f62c1-702d-4bff-b65b-21f27c8ead27', metadata={'source': 'tweet'}, page_content='- come check it out!'),\n",
              " Document(id='84e172ea-5f7f-46c8-a55e-eea3975bd167', metadata={'source': 'website'}, page_content='Read this review to find out.'),\n",
              " Document(id='eb49941e-fb77-4491-b34a-ad9a263f524b', metadata={'source': 'website'}, page_content='Is the new iPhone worth the price? Read this')]"
            ]
          },
          "execution_count": 71,
          "metadata": {},
          "output_type": "execute_result"
        }
      ],
      "source": [
        "# Perform MMR search\n",
        "retriever = db.as_retriever(\n",
        "    search_type=\"mmr\", search_kwargs={\"k\": 6, \"lambda_mult\": 0.25, \"fetch_k\": 10}\n",
        ")\n",
        "# Invoke search with a query\n",
        "retriever.invoke(\"What can you tell me about iPhones?\")"
      ]
    },
    {
      "cell_type": "markdown",
      "metadata": {},
      "source": [
        "Fetch more documents for the `MMR` algorithm, but return only the top 2"
      ]
    },
    {
      "cell_type": "code",
      "execution_count": 72,
      "metadata": {},
      "outputs": [
        {
          "data": {
            "text/plain": [
              "[Document(id='f02d2a70-66a9-45ca-9709-dc1ac8efcbbc', metadata={'source': 'website'}, page_content='Is the new iPhone worth the price? Read this'),\n",
              " Document(id='4601e7ea-5eaa-4431-b970-7617a1a34a6b', metadata={'source': 'tweet'}, page_content='building stateful, agentic applications!')]"
            ]
          },
          "execution_count": 72,
          "metadata": {},
          "output_type": "execute_result"
        }
      ],
      "source": [
        "# Perform MMR search, return only the top 2 documents\n",
        "retriever = db.as_retriever(search_type=\"mmr\", search_kwargs={\"k\": 2, \"fetch_k\": 10})\n",
        "retriever.invoke(\"What can you tell me about iPhones?\")"
      ]
    },
    {
      "cell_type": "markdown",
      "metadata": {},
      "source": [
        "Perform search for documents with a similarity score above a certain threshold"
      ]
    },
    {
      "cell_type": "code",
      "execution_count": 73,
      "metadata": {},
      "outputs": [
        {
          "data": {
            "text/plain": [
              "[Document(id='f02d2a70-66a9-45ca-9709-dc1ac8efcbbc', metadata={'source': 'website'}, page_content='Is the new iPhone worth the price? Read this'),\n",
              " Document(id='eb49941e-fb77-4491-b34a-ad9a263f524b', metadata={'source': 'website'}, page_content='Is the new iPhone worth the price? Read this')]"
            ]
          },
          "execution_count": 73,
          "metadata": {},
          "output_type": "execute_result"
        }
      ],
      "source": [
        "# Perform threshold-based similarity search\n",
        "retriever = db.as_retriever(\n",
        "    search_type=\"similarity_score_threshold\", search_kwargs={\"score_threshold\": 0.8}\n",
        ")\n",
        "\n",
        "retriever.invoke(\"What can you tell me about iPhones?\")"
      ]
    },
    {
      "cell_type": "markdown",
      "metadata": {},
      "source": [
        "Retrieve only the most similar document"
      ]
    },
    {
      "cell_type": "code",
      "execution_count": 74,
      "metadata": {},
      "outputs": [
        {
          "data": {
            "text/plain": [
              "[Document(id='f02d2a70-66a9-45ca-9709-dc1ac8efcbbc', metadata={'source': 'website'}, page_content='Is the new iPhone worth the price? Read this')]"
            ]
          },
          "execution_count": 74,
          "metadata": {},
          "output_type": "execute_result"
        }
      ],
      "source": [
        "# Perform search to retrieve the most similar single document with k=1\n",
        "retriever = db.as_retriever(search_kwargs={\"k\": 1})\n",
        "\n",
        "retriever.invoke(\"What can you tell me about iPhones?\")"
      ]
    },
    {
      "cell_type": "markdown",
      "metadata": {},
      "source": [
        "Apply specific metadata filters"
      ]
    },
    {
      "cell_type": "code",
      "execution_count": 75,
      "metadata": {},
      "outputs": [
        {
          "data": {
            "text/plain": [
              "[Document(id='ccd0715d-a6d4-47b2-a2e7-e1a29e891888', metadata={'source': 'news'}, page_content='The weather forecast for tomorrow is cloudy and'),\n",
              " Document(id='2a301abb-6afc-480a-a8d2-bb0d2939cbdc', metadata={'source': 'news'}, page_content='The weather forecast for tomorrow is cloudy and')]"
            ]
          },
          "execution_count": 75,
          "metadata": {},
          "output_type": "execute_result"
        }
      ],
      "source": [
        "# Apply filter based on metadata and retrieve top 2 documents\n",
        "retriever = db.as_retriever(search_kwargs={\"filter\": {\"source\": \"news\"}, \"k\": 2})\n",
        "retriever.invoke(\"What is the weather forecast for tomorrow?\")"
      ]
    }
  ],
  "metadata": {
    "kernelspec": {
      "display_name": "langchain-opentutorial-fOxWcZdD-py3.11",
      "language": "python",
      "name": "python3"
    },
    "language_info": {
      "codemirror_mode": {
        "name": "ipython",
        "version": 3
      },
      "file_extension": ".py",
      "mimetype": "text/x-python",
      "name": "python",
      "nbconvert_exporter": "python",
      "pygments_lexer": "ipython3",
      "version": "3.11.11"
    }
  },
  "nbformat": 4,
  "nbformat_minor": 2
}
