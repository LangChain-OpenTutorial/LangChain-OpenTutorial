{
 "cells": [
  {
   "cell_type": "markdown",
   "metadata": {},
   "source": [
    "# Milvus\n",
    "\n",
    "- Author: [hellohotkey](https://github.com/hellohotkey)\n",
    "- Design: \n",
    "- Peer Review: \n",
    "- This is a part of [LangChain Open Tutorial](https://github.com/LangChain-OpenTutorial/LangChain-OpenTutorial)\n",
    "\n",
    "[![Open in Colab](https://colab.research.google.com/assets/colab-badge.svg)](https://colab.research.google.com/github/langchain-ai/langchain-academy/blob/main/module-4/sub-graph.ipynb) [![Open in LangChain Academy](https://cdn.prod.website-files.com/65b8cd72835ceeacd4449a53/66e9eba12c7b7688aa3dbb5e_LCA-badge-green.svg)](https://academy.langchain.com/courses/take/intro-to-langgraph/lessons/58239937-lesson-2-sub-graphs)\n",
    "\n",
    "## Overview\n",
    "\n",
    "This tutorial is a guide to the `Milvus Vector Store`.\n",
    "\n",
    "`Milvus` is a high-performance, open-source vector database designed for managing and searching massive-scale vector data. It supports various distance metrics like Euclidean distance, cosine similarity, and inner product, enabling precise similarity searches. With its distributed architecture and cloud-native design, `Milvus` ensures scalability, reliability, and seamless integration with popular AI frameworks, making it an essential tool for AI-driven applications.\n",
    "\n",
    "### Table of Contents \n",
    "\n",
    "- [Overview](#overview)\n",
    "- [Setup]\n",
    "- [Initialization]\n",
    "- [Manage vector store]\n",
    "- [Query vector store]\n",
    "- [FAQ]\n",
    "\n",
    "### References\n",
    "\n",
    "----"
   ]
  }
 ],
 "metadata": {
  "language_info": {
   "name": "python"
  }
 },
 "nbformat": 4,
 "nbformat_minor": 2
}
