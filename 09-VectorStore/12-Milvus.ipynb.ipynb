{
 "cells": [
  {
   "cell_type": "markdown",
   "metadata": {},
   "source": [
    "# Milvus\n",
    "\n",
    "- Author: [hellohotkey](https://github.com/hellohotkey)\n",
    "- Design: \n",
    "- Peer Review: \n",
    "- This is a part of [LangChain Open Tutorial](https://github.com/LangChain-OpenTutorial/LangChain-OpenTutorial)\n",
    "\n",
    "[![Open in Colab](https://colab.research.google.com/assets/colab-badge.svg)](https://colab.research.google.com/github/langchain-ai/langchain-academy/blob/main/module-4/sub-graph.ipynb) [![Open in LangChain Academy](https://cdn.prod.website-files.com/65b8cd72835ceeacd4449a53/66e9eba12c7b7688aa3dbb5e_LCA-badge-green.svg)](https://academy.langchain.com/courses/take/intro-to-langgraph/lessons/58239937-lesson-2-sub-graphs)\n",
    "\n",
    "## Overview\n",
    "\n",
    "`Milvus` is an open-source vector database designed for managing large-scale, unstructured data such as embedding vectors. Its core features include similarity search using distance metrics like Euclidean distance, cosine similarity, and inner product.\n",
    "\n",
    "This tutorial will guide you through setting up a Milvus environment, creating a collection, and performing basic operations such as inserting and querying vector data. We'll use Python and Jupyter Notebook for our implementation.\n",
    "\n",
    "**Prerequisites**\n",
    "\n",
    "- Basic understanding of Python\n",
    "- Familiarity with machine learning concepts\n",
    "- Python 3.8 or higher installed\n",
    "- Basic knowledge of embeddings and vector representations\n",
    "\n",
    "### Table of Contents\n",
    "- [Overview](#overview)\n",
    "- [Environment Setup](#environment-setup)\n",
    "- [Initialization](#initialization)\n",
    "- [Creating a Collection](#creating-a-collection)\n",
    "- [Setting Up the Index](#setting-up-the-index)\n",
    "- [Data Insertion](#data-insertion)\n",
    "- [Querying Data](#querying-data)\n",
    "\n",
    "### References\n",
    "\n",
    "- [Milvus vector database documentation](https://milvus.io/docs/ko)\n",
    "- [Langchain Milvus](https://python.langchain.com/docs/integrations/vectorstores/milvus/)\n",
    "\n",
    "----"
   ]
  },
  {
   "cell_type": "markdown",
   "metadata": {},
   "source": [
    "## Environment Setup\n",
    "\n",
    "Set up the environment. You may refer to [Environment Setup](https://wikidocs.net/257836) for more details.\n",
    "\n",
    "**[Note]**\n",
    "- `langchain-opentutorial` is a package that provides a set of easy-to-use environment setup, useful functions and utilities for tutorials. \n",
    "- You can checkout the [`langchain-opentutorial`](https://github.com/LangChain-OpenTutorial/langchain-opentutorial-pypi) for more details."
   ]
  },
  {
   "cell_type": "code",
   "execution_count": 1,
   "metadata": {},
   "outputs": [],
   "source": [
    "%%capture --no-stderr\n",
    "!pip install langchain-opentutorial"
   ]
  },
  {
   "cell_type": "code",
   "execution_count": 2,
   "metadata": {},
   "outputs": [],
   "source": [
    "# Install required packages\n",
    "from langchain_opentutorial import package\n",
    "\n",
    "package.install(\n",
    "    [\n",
    "        \"langsmith\",\n",
    "        \"langchain\",\n",
    "        \"langchain_core\",\n",
    "        \"langchain-anthropic\",\n",
    "        \"langchain_community\",\n",
    "        \"langchain_text_splitters\",\n",
    "        \"langchain_openai\",\n",
    "    ],\n",
    "    verbose=False,\n",
    "    upgrade=False,\n",
    ")"
   ]
  },
  {
   "cell_type": "code",
   "execution_count": null,
   "metadata": {},
   "outputs": [],
   "source": [
    "# Set environment variables\n",
    "from langchain_opentutorial import set_env\n",
    "\n",
    "set_env(\n",
    "    {\n",
    "        \"OPENAI_API_KEY\": \"\",\n",
    "        \"LANGCHAIN_API_KEY\": \"\",\n",
    "        \"LANGCHAIN_TRACING_V2\": \"true\",\n",
    "        \"LANGCHAIN_ENDPOINT\": \"https://api.smith.langchain.com\",\n",
    "        \"LANGCHAIN_PROJECT\": \"Adaptive-RAG\",  # title 과 동일하게 설정해 주세요\n",
    "    }\n",
    ")"
   ]
  },
  {
   "cell_type": "markdown",
   "metadata": {},
   "source": [
    "You can alternatively set API keys such as `OPENAI_API_KEY` in a `.env` file and load them.\n",
    "\n",
    "[Note] This is not necessary if you've already set the required API keys in previous steps."
   ]
  },
  {
   "cell_type": "code",
   "execution_count": null,
   "metadata": {},
   "outputs": [],
   "source": [
    "# Load API keys from .env file\n",
    "from dotenv import load_dotenv\n",
    "load_dotenv(override=True)"
   ]
  },
  {
   "cell_type": "markdown",
   "metadata": {},
   "source": [
    "## Initialization\n",
    "\n",
    "First, install the necessary packages. This includes `milvus`, `pymilvus`, and `sentence-transformers`."
   ]
  },
  {
   "cell_type": "code",
   "execution_count": 2,
   "metadata": {},
   "outputs": [
    {
     "name": "stdout",
     "output_type": "stream",
     "text": [
      "Requirement already satisfied: milvus in c:\\users\\dkhan\\appdata\\local\\pypoetry\\cache\\virtualenvs\\langchain-opentutorial-bbextkjt-py3.11\\lib\\site-packages (2.2.16)\n",
      "Requirement already satisfied: pymilvus in c:\\users\\dkhan\\appdata\\local\\pypoetry\\cache\\virtualenvs\\langchain-opentutorial-bbextkjt-py3.11\\lib\\site-packages (2.5.3)\n",
      "Requirement already satisfied: sentence-transformers in c:\\users\\dkhan\\appdata\\local\\pypoetry\\cache\\virtualenvs\\langchain-opentutorial-bbextkjt-py3.11\\lib\\site-packages (3.3.1)\n",
      "Requirement already satisfied: setuptools>69 in c:\\users\\dkhan\\appdata\\local\\pypoetry\\cache\\virtualenvs\\langchain-opentutorial-bbextkjt-py3.11\\lib\\site-packages (from pymilvus) (75.6.0)\n",
      "Requirement already satisfied: grpcio<=1.67.1,>=1.49.1 in c:\\users\\dkhan\\appdata\\local\\pypoetry\\cache\\virtualenvs\\langchain-opentutorial-bbextkjt-py3.11\\lib\\site-packages (from pymilvus) (1.67.1)\n",
      "Requirement already satisfied: protobuf>=3.20.0 in c:\\users\\dkhan\\appdata\\local\\pypoetry\\cache\\virtualenvs\\langchain-opentutorial-bbextkjt-py3.11\\lib\\site-packages (from pymilvus) (5.29.2)\n",
      "Requirement already satisfied: python-dotenv<2.0.0,>=1.0.1 in c:\\users\\dkhan\\appdata\\local\\pypoetry\\cache\\virtualenvs\\langchain-opentutorial-bbextkjt-py3.11\\lib\\site-packages (from pymilvus) (1.0.1)\n",
      "Requirement already satisfied: ujson>=2.0.0 in c:\\users\\dkhan\\appdata\\local\\pypoetry\\cache\\virtualenvs\\langchain-opentutorial-bbextkjt-py3.11\\lib\\site-packages (from pymilvus) (5.10.0)\n",
      "Requirement already satisfied: pandas>=1.2.4 in c:\\users\\dkhan\\appdata\\local\\pypoetry\\cache\\virtualenvs\\langchain-opentutorial-bbextkjt-py3.11\\lib\\site-packages (from pymilvus) (2.2.3)\n",
      "Requirement already satisfied: transformers<5.0.0,>=4.41.0 in c:\\users\\dkhan\\appdata\\local\\pypoetry\\cache\\virtualenvs\\langchain-opentutorial-bbextkjt-py3.11\\lib\\site-packages (from sentence-transformers) (4.44.2)\n",
      "Requirement already satisfied: tqdm in c:\\users\\dkhan\\appdata\\local\\pypoetry\\cache\\virtualenvs\\langchain-opentutorial-bbextkjt-py3.11\\lib\\site-packages (from sentence-transformers) (4.67.1)\n",
      "Requirement already satisfied: torch>=1.11.0 in c:\\users\\dkhan\\appdata\\local\\pypoetry\\cache\\virtualenvs\\langchain-opentutorial-bbextkjt-py3.11\\lib\\site-packages (from sentence-transformers) (2.5.1)\n",
      "Requirement already satisfied: scikit-learn in c:\\users\\dkhan\\appdata\\local\\pypoetry\\cache\\virtualenvs\\langchain-opentutorial-bbextkjt-py3.11\\lib\\site-packages (from sentence-transformers) (1.6.0)\n",
      "Requirement already satisfied: scipy in c:\\users\\dkhan\\appdata\\local\\pypoetry\\cache\\virtualenvs\\langchain-opentutorial-bbextkjt-py3.11\\lib\\site-packages (from sentence-transformers) (1.15.0)\n",
      "Requirement already satisfied: huggingface-hub>=0.20.0 in c:\\users\\dkhan\\appdata\\local\\pypoetry\\cache\\virtualenvs\\langchain-opentutorial-bbextkjt-py3.11\\lib\\site-packages (from sentence-transformers) (0.27.0)\n",
      "Requirement already satisfied: Pillow in c:\\users\\dkhan\\appdata\\local\\pypoetry\\cache\\virtualenvs\\langchain-opentutorial-bbextkjt-py3.11\\lib\\site-packages (from sentence-transformers) (11.1.0)\n",
      "Requirement already satisfied: filelock in c:\\users\\dkhan\\appdata\\local\\pypoetry\\cache\\virtualenvs\\langchain-opentutorial-bbextkjt-py3.11\\lib\\site-packages (from huggingface-hub>=0.20.0->sentence-transformers) (3.16.1)\n",
      "Requirement already satisfied: fsspec>=2023.5.0 in c:\\users\\dkhan\\appdata\\local\\pypoetry\\cache\\virtualenvs\\langchain-opentutorial-bbextkjt-py3.11\\lib\\site-packages (from huggingface-hub>=0.20.0->sentence-transformers) (2024.9.0)\n",
      "Requirement already satisfied: packaging>=20.9 in c:\\users\\dkhan\\appdata\\local\\pypoetry\\cache\\virtualenvs\\langchain-opentutorial-bbextkjt-py3.11\\lib\\site-packages (from huggingface-hub>=0.20.0->sentence-transformers) (24.2)\n",
      "Requirement already satisfied: pyyaml>=5.1 in c:\\users\\dkhan\\appdata\\local\\pypoetry\\cache\\virtualenvs\\langchain-opentutorial-bbextkjt-py3.11\\lib\\site-packages (from huggingface-hub>=0.20.0->sentence-transformers) (6.0.2)\n",
      "Requirement already satisfied: requests in c:\\users\\dkhan\\appdata\\local\\pypoetry\\cache\\virtualenvs\\langchain-opentutorial-bbextkjt-py3.11\\lib\\site-packages (from huggingface-hub>=0.20.0->sentence-transformers) (2.32.3)\n",
      "Requirement already satisfied: typing-extensions>=3.7.4.3 in c:\\users\\dkhan\\appdata\\local\\pypoetry\\cache\\virtualenvs\\langchain-opentutorial-bbextkjt-py3.11\\lib\\site-packages (from huggingface-hub>=0.20.0->sentence-transformers) (4.12.2)\n",
      "Requirement already satisfied: numpy>=1.23.2 in c:\\users\\dkhan\\appdata\\local\\pypoetry\\cache\\virtualenvs\\langchain-opentutorial-bbextkjt-py3.11\\lib\\site-packages (from pandas>=1.2.4->pymilvus) (1.26.4)\n",
      "Requirement already satisfied: python-dateutil>=2.8.2 in c:\\users\\dkhan\\appdata\\local\\pypoetry\\cache\\virtualenvs\\langchain-opentutorial-bbextkjt-py3.11\\lib\\site-packages (from pandas>=1.2.4->pymilvus) (2.9.0.post0)\n",
      "Requirement already satisfied: pytz>=2020.1 in c:\\users\\dkhan\\appdata\\local\\pypoetry\\cache\\virtualenvs\\langchain-opentutorial-bbextkjt-py3.11\\lib\\site-packages (from pandas>=1.2.4->pymilvus) (2024.2)\n",
      "Requirement already satisfied: tzdata>=2022.7 in c:\\users\\dkhan\\appdata\\local\\pypoetry\\cache\\virtualenvs\\langchain-opentutorial-bbextkjt-py3.11\\lib\\site-packages (from pandas>=1.2.4->pymilvus) (2024.2)\n",
      "Requirement already satisfied: networkx in c:\\users\\dkhan\\appdata\\local\\pypoetry\\cache\\virtualenvs\\langchain-opentutorial-bbextkjt-py3.11\\lib\\site-packages (from torch>=1.11.0->sentence-transformers) (3.4.2)\n",
      "Requirement already satisfied: jinja2 in c:\\users\\dkhan\\appdata\\local\\pypoetry\\cache\\virtualenvs\\langchain-opentutorial-bbextkjt-py3.11\\lib\\site-packages (from torch>=1.11.0->sentence-transformers) (3.1.5)\n",
      "Requirement already satisfied: sympy==1.13.1 in c:\\users\\dkhan\\appdata\\local\\pypoetry\\cache\\virtualenvs\\langchain-opentutorial-bbextkjt-py3.11\\lib\\site-packages (from torch>=1.11.0->sentence-transformers) (1.13.1)\n",
      "Requirement already satisfied: mpmath<1.4,>=1.1.0 in c:\\users\\dkhan\\appdata\\local\\pypoetry\\cache\\virtualenvs\\langchain-opentutorial-bbextkjt-py3.11\\lib\\site-packages (from sympy==1.13.1->torch>=1.11.0->sentence-transformers) (1.3.0)\n",
      "Requirement already satisfied: colorama in c:\\users\\dkhan\\appdata\\local\\pypoetry\\cache\\virtualenvs\\langchain-opentutorial-bbextkjt-py3.11\\lib\\site-packages (from tqdm->sentence-transformers) (0.4.6)\n",
      "Requirement already satisfied: regex!=2019.12.17 in c:\\users\\dkhan\\appdata\\local\\pypoetry\\cache\\virtualenvs\\langchain-opentutorial-bbextkjt-py3.11\\lib\\site-packages (from transformers<5.0.0,>=4.41.0->sentence-transformers) (2024.11.6)\n",
      "Requirement already satisfied: safetensors>=0.4.1 in c:\\users\\dkhan\\appdata\\local\\pypoetry\\cache\\virtualenvs\\langchain-opentutorial-bbextkjt-py3.11\\lib\\site-packages (from transformers<5.0.0,>=4.41.0->sentence-transformers) (0.5.0)\n",
      "Requirement already satisfied: tokenizers<0.20,>=0.19 in c:\\users\\dkhan\\appdata\\local\\pypoetry\\cache\\virtualenvs\\langchain-opentutorial-bbextkjt-py3.11\\lib\\site-packages (from transformers<5.0.0,>=4.41.0->sentence-transformers) (0.19.1)\n",
      "Requirement already satisfied: joblib>=1.2.0 in c:\\users\\dkhan\\appdata\\local\\pypoetry\\cache\\virtualenvs\\langchain-opentutorial-bbextkjt-py3.11\\lib\\site-packages (from scikit-learn->sentence-transformers) (1.4.2)\n",
      "Requirement already satisfied: threadpoolctl>=3.1.0 in c:\\users\\dkhan\\appdata\\local\\pypoetry\\cache\\virtualenvs\\langchain-opentutorial-bbextkjt-py3.11\\lib\\site-packages (from scikit-learn->sentence-transformers) (3.5.0)\n",
      "Requirement already satisfied: six>=1.5 in c:\\users\\dkhan\\appdata\\local\\pypoetry\\cache\\virtualenvs\\langchain-opentutorial-bbextkjt-py3.11\\lib\\site-packages (from python-dateutil>=2.8.2->pandas>=1.2.4->pymilvus) (1.17.0)\n",
      "Requirement already satisfied: MarkupSafe>=2.0 in c:\\users\\dkhan\\appdata\\local\\pypoetry\\cache\\virtualenvs\\langchain-opentutorial-bbextkjt-py3.11\\lib\\site-packages (from jinja2->torch>=1.11.0->sentence-transformers) (3.0.2)\n",
      "Requirement already satisfied: charset-normalizer<4,>=2 in c:\\users\\dkhan\\appdata\\local\\pypoetry\\cache\\virtualenvs\\langchain-opentutorial-bbextkjt-py3.11\\lib\\site-packages (from requests->huggingface-hub>=0.20.0->sentence-transformers) (3.4.1)\n",
      "Requirement already satisfied: idna<4,>=2.5 in c:\\users\\dkhan\\appdata\\local\\pypoetry\\cache\\virtualenvs\\langchain-opentutorial-bbextkjt-py3.11\\lib\\site-packages (from requests->huggingface-hub>=0.20.0->sentence-transformers) (3.10)\n",
      "Requirement already satisfied: urllib3<3,>=1.21.1 in c:\\users\\dkhan\\appdata\\local\\pypoetry\\cache\\virtualenvs\\langchain-opentutorial-bbextkjt-py3.11\\lib\\site-packages (from requests->huggingface-hub>=0.20.0->sentence-transformers) (2.3.0)\n",
      "Requirement already satisfied: certifi>=2017.4.17 in c:\\users\\dkhan\\appdata\\local\\pypoetry\\cache\\virtualenvs\\langchain-opentutorial-bbextkjt-py3.11\\lib\\site-packages (from requests->huggingface-hub>=0.20.0->sentence-transformers) (2024.12.14)\n"
     ]
    }
   ],
   "source": [
    "# Install required packages\n",
    "!pip install milvus pymilvus sentence-transformers"
   ]
  },
  {
   "cell_type": "markdown",
   "metadata": {},
   "source": [
    "We'll use Milvus Lite for this tutorial, which is perfect for development and testing purposes."
   ]
  },
  {
   "cell_type": "code",
   "execution_count": 4,
   "metadata": {},
   "outputs": [],
   "source": [
    "# Start Milvus server\n",
    "from milvus import default_server\n",
    "default_server.start()\n",
    "\n",
    "# Establish connection\n",
    "from pymilvus import connections\n",
    "connections.connect(\n",
    "    host=\"127.0.0.1\",\n",
    "    port=default_server.listen_port\n",
    ")"
   ]
  },
  {
   "cell_type": "markdown",
   "metadata": {},
   "source": [
    "### Creating a Collection\n",
    "In Milvus, a collection is similar to a table in traditional databases. We'll create a collection to store our vector data."
   ]
  },
  {
   "cell_type": "code",
   "execution_count": 5,
   "metadata": {},
   "outputs": [],
   "source": [
    "from pymilvus import FieldSchema, CollectionSchema, DataType, Collection\n",
    "\n",
    "# Define the dimension of our embedding vectors\n",
    "# Using 384 as it matches the output dimension of the 'all-MiniLM-L12-v2' model\n",
    "DIMENSION = 384\n",
    "\n",
    "# Define the schema for our collection\n",
    "fields = [\n",
    "    FieldSchema(name=\"id\", dtype=DataType.INT64, is_primary=True, auto_id=True), # Auto-incrementing ID field\n",
    "    FieldSchema(name=\"embedding\", dtype=DataType.FLOAT_VECTOR, dim=DIMENSION), # Vector field to store embeddings\n",
    "    FieldSchema(name=\"sentence\", dtype=DataType.VARCHAR, max_length=65535)\n",
    "]\n",
    "\n",
    "# Create schema with dynamic field support\n",
    "schema = CollectionSchema(fields=fields, enable_dynamic_field=True)\n",
    "\n",
    "# Initialize collection\n",
    "collection = Collection(name=\"example_name\", schema=schema)"
   ]
  },
  {
   "cell_type": "markdown",
   "metadata": {},
   "source": [
    "### Setting Up the Index\n",
    "Indexing is crucial for efficient similarity search in vector databases."
   ]
  },
  {
   "cell_type": "code",
   "execution_count": 7,
   "metadata": {},
   "outputs": [],
   "source": [
    "# Define index parameters\n",
    "index_params = {\n",
    "    \"index_type\": \"IVF_FLAT\",  # Index type for approximate nearest neighbor search\n",
    "    \"metric_type\": \"L2\",       # L2 distance metric\n",
    "    \"params\": {\"nlist\": 128},  # Number of cluster units\n",
    "}\n",
    "\n",
    "# Create index on the embedding field\n",
    "collection.create_index(\n",
    "    field_name=\"embedding\",\n",
    "    index_params=index_params\n",
    ")\n",
    "\n",
    "# Load collection into memory for faster access\n",
    "collection.load()"
   ]
  },
  {
   "cell_type": "markdown",
   "metadata": {},
   "source": [
    "### Data Insertion\n",
    "Now we'll prepare and insert data into our collection."
   ]
  },
  {
   "cell_type": "code",
   "execution_count": 8,
   "metadata": {},
   "outputs": [],
   "source": [
    "from sentence_transformers import SentenceTransformer\n",
    "\n",
    "# Initialize the sentence transformer model\n",
    "transformer = SentenceTransformer('all-MiniLM-L12-v2')"
   ]
  },
  {
   "cell_type": "code",
   "execution_count": 9,
   "metadata": {},
   "outputs": [],
   "source": [
    "# Read and process sample text\n",
    "with open(\"data/the_little_prince.txt\", \"r\", encoding=\"utf-8\") as f:\n",
    "    text = f.read()"
   ]
  },
  {
   "cell_type": "code",
   "execution_count": 10,
   "metadata": {},
   "outputs": [],
   "source": [
    "# Split text into sentences\n",
    "sentences = text.split(\".\")"
   ]
  },
  {
   "cell_type": "code",
   "execution_count": 11,
   "metadata": {},
   "outputs": [],
   "source": [
    "# Prepare data for insertion\n",
    "milvus_input = []\n",
    "for sentence in sentences:\n",
    "    if sentence.strip():  # Skip empty sentences\n",
    "        entry = {\n",
    "            \"embedding\": transformer.encode(sentence),\n",
    "            \"sentence\": sentence.strip()\n",
    "        }\n",
    "        milvus_input.append(entry)"
   ]
  },
  {
   "cell_type": "code",
   "execution_count": 12,
   "metadata": {},
   "outputs": [],
   "source": [
    "# Insert data into collection\n",
    "collection.insert(milvus_input)\n",
    "collection.flush()  # Ensure data is persisted"
   ]
  },
  {
   "cell_type": "markdown",
   "metadata": {},
   "source": [
    "### Querying Data\n",
    "Now let's try a simple similarity search using our vector database. We'll search for sentences that are similar to our query."
   ]
  },
  {
   "cell_type": "code",
   "execution_count": 13,
   "metadata": {},
   "outputs": [],
   "source": [
    "# Prepare query\n",
    "query = \"Can you tell me about the Little Prince's travels?\"\n",
    "query_embedding = transformer.encode(query)"
   ]
  },
  {
   "cell_type": "code",
   "execution_count": 14,
   "metadata": {},
   "outputs": [],
   "source": [
    "# Search for similar sentences\n",
    "results = collection.search(\n",
    "    data=[query_embedding],      # Our query embedding\n",
    "    anns_field=\"embedding\",      # Field to search\n",
    "    param={\"metric_type\": \"L2\", \"params\": {\"nprobe\": 10}},  # Simple search parameters\n",
    "    limit=3,                     # Return top 3 results\n",
    "    output_fields=[\"sentence\"]   # Return the sentence field\n",
    ")"
   ]
  },
  {
   "cell_type": "code",
   "execution_count": 15,
   "metadata": {},
   "outputs": [
    {
     "name": "stdout",
     "output_type": "stream",
     "text": [
      "Search query: Can you tell me about the Little Prince's travels?\n",
      "\n",
      "Similar sentences found:\n",
      "1. It is here that the little prince appeared on Earth, and disappeared\n",
      "2. \" \n",
      "\n",
      "[ Chapter 20 ]\n",
      "- the little prince discovers a garden of roses\n",
      "But it happened that after walking for a long time through sand, and rocks, and snow, the little prince at last came upon a road\n",
      "3. \"Are they pursuing the first travelers?\" demanded the little prince\n"
     ]
    }
   ],
   "source": [
    "# Print results in a simple format\n",
    "print(f\"Search query: {query}\\n\")\n",
    "for hits in results:\n",
    "    print(\"Similar sentences found:\")\n",
    "    for i, hit in enumerate(hits, 1):\n",
    "        print(f\"{i}. {hit.entity.get('sentence')}\")"
   ]
  }
 ],
 "metadata": {
  "kernelspec": {
   "display_name": "langchain-opentutorial-BBeXTkJT-py3.11",
   "language": "python",
   "name": "python3"
  },
  "language_info": {
   "codemirror_mode": {
    "name": "ipython",
    "version": 3
   },
   "file_extension": ".py",
   "mimetype": "text/x-python",
   "name": "python",
   "nbconvert_exporter": "python",
   "pygments_lexer": "ipython3",
   "version": "3.11.9"
  }
 },
 "nbformat": 4,
 "nbformat_minor": 2
}
