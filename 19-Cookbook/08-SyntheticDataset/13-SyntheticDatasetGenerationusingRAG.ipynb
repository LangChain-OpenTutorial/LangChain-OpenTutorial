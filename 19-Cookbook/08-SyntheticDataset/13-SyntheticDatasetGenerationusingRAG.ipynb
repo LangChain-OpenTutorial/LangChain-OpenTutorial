{
 "cells": [
  {
   "cell_type": "markdown",
   "id": "635d8ebb",
   "metadata": {},
   "source": [
    "# Synthetic Dataset Generation using RAG\n",
    "\n",
    "- Author: [Jaehun Choi](https://github.com/ash-hun)\n",
    "- Design: \n",
    "- Peer Review: [syshin0116](https://github.com/syshin0116), [Kane](https://github.com/HarryKane11)\n",
    "- This is a part of [LangChain Open Tutorial](https://github.com/LangChain-OpenTutorial/LangChain-OpenTutorial)\n",
    "\n",
    "[![Open in Colab](https://colab.research.google.com/assets/colab-badge.svg)](https://colab.research.google.com/github/LangChain-OpenTutorial/LangChain-OpenTutorial/blob/main/99-TEMPLATE/00-BASE-TEMPLATE-EXAMPLE.ipynb) [![Open in GitHub](https://img.shields.io/badge/Open%20in%20GitHub-181717?style=flat-square&logo=github&logoColor=white)](https://github.com/LangChain-OpenTutorial/LangChain-OpenTutorial/blob/main/99-TEMPLATE/00-BASE-TEMPLATE-EXAMPLE.ipynb)\n",
    "\n",
    "## Overview\n",
    "\n",
    "This tutorial covers an example of generating a synthetic dataset using RAG. Typically, it is used to create evaluation datasets for Domain Specific RAG pipelines or to generate synthetic data for model training. This tutorial will focus on the following two features. While the structure is the same, their intended use and purpose differ.\n",
    "\n",
    "**Features**\n",
    "\n",
    "- Domain Specific RAG Evaluation Dataset : Generates a domain specific synthetic dataset (Context, Question, Answer) for evaluating the RAG pipeline.\n",
    "\n",
    "### Table of Contents\n",
    "\n",
    "- [Overview](#overview)\n",
    "- [Environment Setup](#environment-setup)\n",
    "- [Domain Specific RAG Evaluation Dataset](#domain-specific-rag-evaluation-dataset)\n",
    "\n",
    "\n",
    "### References\n",
    "\n",
    "- [autoRAG github](https://github.com/Marker-Inc-Korea/AutoRAG?tab=readme-ov-file#3-qa-creation)\n",
    "- [ragas github : singlehop question](https://github.com/explodinggradients/ragas/blob/main/src/ragas/testset/synthesizers/single_hop/prompts.py)\n",
    "- [huggingface : RAG Evaluation Dataset Prompt](https://huggingface.co/datasets/Ash-Hun/Create_RAG_Evalauation_Data)\n",
    "----"
   ]
  },
  {
   "cell_type": "markdown",
   "id": "c6c7aba4",
   "metadata": {},
   "source": [
    "## Environment Setup\n",
    "\n",
    "Set up the environment. You may refer to [Environment Setup](https://wikidocs.net/257836) for more details.\n",
    "\n",
    "**[Note]**\n",
    "- `langchain-opentutorial` is a package that provides a set of easy-to-use environment setup, useful functions and utilities for tutorials. \n",
    "- You can checkout the [`langchain-opentutorial`](https://github.com/LangChain-OpenTutorial/langchain-opentutorial-pypi) for more details."
   ]
  },
  {
   "cell_type": "code",
   "execution_count": 1,
   "id": "21943adb",
   "metadata": {},
   "outputs": [],
   "source": [
    "%%capture --no-stderr\n",
    "%pip install langchain-opentutorial"
   ]
  },
  {
   "cell_type": "code",
   "execution_count": 2,
   "id": "f25ec196",
   "metadata": {},
   "outputs": [
    {
     "name": "stderr",
     "output_type": "stream",
     "text": [
      "\u001b[33mWARNING: Running pip as the 'root' user can result in broken permissions and conflicting behaviour with the system package manager, possibly rendering your system unusable. It is recommended to use a virtual environment instead: https://pip.pypa.io/warnings/venv. Use the --root-user-action option if you know what you are doing and want to suppress this warning.\u001b[0m\u001b[33m\n",
      "\u001b[0m"
     ]
    }
   ],
   "source": [
    "# Install required packages\n",
    "from langchain_opentutorial import package\n",
    "\n",
    "package.install(\n",
    "    [\n",
    "        \"langsmith\",\n",
    "        \"langchain\",\n",
    "        \"langchain_core\",\n",
    "        \"langchain_openai\",\n",
    "    ],\n",
    "    verbose=False,\n",
    "    upgrade=False,\n",
    ")"
   ]
  },
  {
   "cell_type": "code",
   "execution_count": 3,
   "id": "7f9065ea",
   "metadata": {},
   "outputs": [
    {
     "name": "stdout",
     "output_type": "stream",
     "text": [
      "Environment variables have been set successfully.\n"
     ]
    }
   ],
   "source": [
    "# Set environment variables\n",
    "from langchain_opentutorial import set_env\n",
    "\n",
    "set_env(\n",
    "    {\n",
    "        \"OPENAI_API_KEY\": \"\",\n",
    "        \"LANGCHAIN_API_KEY\": \"\",\n",
    "        \"LANGCHAIN_TRACING_V2\": \"true\",\n",
    "        \"LANGCHAIN_ENDPOINT\": \"https://api.smith.langchain.com\",\n",
    "        \"LANGCHAIN_PROJECT\": \"Synthetic Dataset Generation using RAG\",\n",
    "    }\n",
    ")"
   ]
  },
  {
   "cell_type": "markdown",
   "id": "690a9ae0",
   "metadata": {},
   "source": [
    "You can alternatively set API keys such as `OPENAI_API_KEY` in a `.env` file and load them.\n",
    "\n",
    "[Note] This is not necessary if you've already set the required API keys in previous steps."
   ]
  },
  {
   "cell_type": "code",
   "execution_count": 5,
   "id": "4f99b5b6",
   "metadata": {},
   "outputs": [
    {
     "data": {
      "text/plain": [
       "True"
      ]
     },
     "execution_count": 5,
     "metadata": {},
     "output_type": "execute_result"
    }
   ],
   "source": [
    "# Load API keys from .env file\n",
    "from dotenv import load_dotenv\n",
    "\n",
    "load_dotenv(override=True)"
   ]
  },
  {
   "cell_type": "markdown",
   "id": "aa00c3f4",
   "metadata": {},
   "source": [
    "## Domain Specific RAG Evaluation Dataset\n",
    "\n",
    "Generates a synthetic dataset (Context, Question, Answer) for evaluating the Domain Specific RAG pipeline.\n",
    "\n",
    "- Context: A context randomly selected from documents in a specific domain is used as the ground truth.\n",
    "- Question: A question that can be answered using the context.\n",
    "- Answer: An answer generated based on the context and the question."
   ]
  },
  {
   "cell_type": "code",
   "execution_count": 6,
   "id": "a40ca72d",
   "metadata": {},
   "outputs": [],
   "source": [
    "# Import Library\n",
    "from langchain_openai import ChatOpenAI\n",
    "from langchain_core.prompts import ChatPromptTemplate"
   ]
  },
  {
   "cell_type": "markdown",
   "id": "1cb003d4",
   "metadata": {},
   "source": [
    "### Question Generating Prompt\n",
    "\n",
    "A prompt for generating questions from a given context using the RAG (Retriever Augmented Generation) technique is structured as follows.  \n",
    "It consists of four main sections—Instruction, Requirements, Style, and Example—along with an Indicator section where actual variable values are mapped. Each section is explained below: \n",
    "- Instruction: Provides overall guidance for the prompt, including the purpose of the task and an explanation of the structured prompt sections.\n",
    "- Requirements: Lists essential conditions that must be met when performing the task.\n",
    "- Style: Specifies the stylistic guidelines for the generated output.\n",
    "- Example: Includes actual execution examples."
   ]
  },
  {
   "cell_type": "code",
   "execution_count": 7,
   "id": "98c72bf3",
   "metadata": {},
   "outputs": [],
   "source": [
    "Q_GEN = \"\"\"\n",
    "[ Instruction ] : \n",
    "- Your mission is to generate detailed ONE QUESTION that can yield correct answers from the GIVEN CONTEXT.\n",
    "- When creating a QUESTION, you should carefully consider the following items:\n",
    "  - Requirements : Essential requirements that must be included\n",
    "  - Style : The form and style of the generated question\n",
    "  - Think : Elements and procedures you need to self-examine for the created question\n",
    "\n",
    "<Requirements>\n",
    "- The questions you generate must always maintain high quality.\n",
    "- Please do not print and generate any other unnecessary words.\n",
    "- The Questions are created from the given context, but it must be created with an appropriate balance between general content and domain-specific content.\n",
    "- If the given context related figure, you must generate the question related figure data.\n",
    "- Finally, verify that the generated question contains only ONE QUESTION itself without any unnecessary description or content.\n",
    "</Requirements> \n",
    "\n",
    "<Style>\n",
    "- The expressions you use should either be inferred from the given context or be directly used expressions.\n",
    "- Any expressions involving formulas must always be enclosed within $ symbols.\n",
    "- Text that is conceptually represented with subscripts or superscripts should be expressed as mathematical formulas.\n",
    "- You should compose questions that are as natural as possible within the context.\n",
    "</Style>\n",
    "\n",
    "\n",
    "Now, It's your turn. You must generate long and detailed high-quality questions from the given context while following the mentioned <Requirements> and <Style>.\n",
    "The examples below consist of positive samples and negative samples. Please refer to the given examples to generate your answer.\n",
    "When you generated QUESTION, you should take a deep breath and think step-by-step and generate the most natural Korean question.\n",
    "\n",
    "<Example>\n",
    " - chunk : \n",
    "1) 공정(설비) 정의 및 특징\n",
    "\n",
    "● 사출성형 정의\n",
    "- 사출성형이란 플라스틱 성형법 중의 한 방법으로서, 열가소성 수지를 가열해서 유동 상태로 되었을 때 금형의 공동부(Cavity, 이하 ‘캐비티‘)에 가압 주입하여 금형 내에서 냉각시킴으로써, 금형의 공동부에 상당하는 성형품을 만드는 방법이다.\n",
    "\n",
    "● 사출성형 특징\n",
    "① 성형 사이클이 짧고, 성형 능률이 좋다. (대량 생산 가능) \n",
    "② 광범위한 수지의 성형 (열가소성 수지, 열경화성 수지) \n",
    "③ 자동제어화가 가능하다. \n",
    "④ 현재 대형 성형품의 성형 가능하다. \n",
    "⑤ 정밀도가 높아 복잡한 모양 가능하다.\n",
    "\n",
    "- positive sample : \n",
    "    - 사출성형의 과정은 자동제어화가 가능한가?\n",
    "    - 사출성형의 정의란 무엇인가?\n",
    "    - 사출성형의 특징이 무엇인가?\n",
    "    - 사출성형 과정에서 대량생산이 가능한 경우엔 어떠한 특징을 지니는가?\n",
    "\n",
    "- negative sample :\n",
    "    - 사출성형의 정의와 특징을 고려할 때, 사출성형의 성형 사이클과 성형 능률의 특징은 무엇이며, 이 특징으로 인해 어떤 생산이 가능해지는가?\n",
    "    - 사출성형 정의와 특징을 설명하고, 사출성형의 성형 사이클이 짧고 성형 능률이 좋은 이유를 설명해 주세요. \n",
    "    - 사출성형의 자동제어화 가능성과 정밀도에 대해 설명해 주세요.\n",
    "    - 사출성형의 정의와 특징을 바탕으로, 사출성형의 공정(설비)에서 자동제어화와 정밀도가 중요한 이유를 설명해 주세요.\n",
    "</Example>\n",
    "\n",
    "- Given context : {context}\n",
    "\"\"\""
   ]
  },
  {
   "cell_type": "code",
   "execution_count": 8,
   "id": "90e79f75",
   "metadata": {},
   "outputs": [],
   "source": [
    "# Step 01. Generation Question from Domain Specific Context\n",
    "\n",
    "def question_generate(context:list, q_gen_prompt:str=Q_GEN) -> str:\n",
    "    # Create an OpenAI object\n",
    "    model = ChatOpenAI(temperature=0, model_name=\"gpt-4o\")\n",
    "    \n",
    "    # Set up the prompt template\n",
    "    prompt = ChatPromptTemplate.from_messages(\n",
    "        [\n",
    "            (\"system\", \"You are a helpful AI assistant\"),\n",
    "            (\"user\", q_gen_prompt),\n",
    "        ]\n",
    "    )\n",
    "    \n",
    "    # Combine the prompt, model, and JsonOutputParser into a chain\n",
    "    chain = prompt | model\n",
    "    \n",
    "    # Prepare inputs for batch processing\n",
    "    inputs = [{\"context\": ctx} for ctx in context]\n",
    "\n",
    "    results = chain.batch(inputs)\n",
    "    return [result.content for result in results]"
   ]
  },
  {
   "cell_type": "code",
   "execution_count": 9,
   "id": "26e39ba5",
   "metadata": {},
   "outputs": [
    {
     "data": {
      "text/plain": [
       "['무계목 강관과 접합 강관의 제조 방법을 비교할 때, 무계목 강관의 제조 과정에서 사용되는 경사압연방식과 프레스방식의 차이점은 무엇인가?',\n",
       " 'Joining 과정에서 사용되는 다양한 기법 중, 용접과 브레이징의 차이점은 무엇이며, 이 두 기법이 각각 어떤 상황에서 적합한지 설명할 수 있는가?']"
      ]
     },
     "execution_count": 9,
     "metadata": {},
     "output_type": "execute_result"
    }
   ],
   "source": [
    "sample_context = [\n",
    "    \"강관을 제조방법별로 분류하면 접합부의 유무에 따라 무계목강관과 접합강관으로 크게 나누어집니다. 무계목 강관 빌릿 등의 소재를 가열해 천공기로 중심에 구멍을 뚫고 중공소재로 만든 후 압연하거나 인발기 등로 인발해 소정이 외경과 두께로 만든 강관을 말하며소재에 구멍을 뚫은 다음 연신하는 경사압연방식과 이미 천공된 소재를 프레스로 압출하는 프레스방식등로 만듭니다. 예 심레스강관 접합 강관 - 단접강관용접강관용접법과 제조공정에 따라 세분화한다. 단접강관 소정의 폭으로 절단한 스켈프강관의 재로가 되는 반제품를 약 1400 ºC 정도로 가열한 후 연속식 단접기에서 관형태로 성형 동시에 양단을 롤로 압착시켜 제조합니다. 대부분이 소경관이며 대량 생산방식이므로 다품종 소량생산에는 어려움이 있습니다. 용접강관 대강 또는 스켈프를 상온에서 연속 롤 성형 통해 관형태로 성형 후 접합부를 용접해 제조하는 방법으로서 용접법에 따라 전기저항용접강관ERW강관가스용접관아크용접강관SAW강관으로 분류하며 SAW강관은 성형 따라 UOE 프레스강관스파이럴 강관롤벤딩 강관연속성형 구분합니다. UOE강관은 강력한 U형 프레스로 상온에서 전체길이를 U자형으로 구부리고O형 프레스로 성형 확관합니다. 장척 대경의 용접관 제조에 적합하고 성형 단순하며 용접길이가 짧아 능률이 높다는 특징이 있습니다. 스파이럴 조관법은 광폭 대강을 나선형으로 감아 원통형으로 성형 뒤 맞닿은 부분을 용접해 제조합니다. 동일폭의 강대를 사용해 나선 각도성형 각도를 변경함으로써 구경이 다른 강관을 제조할 수 있고 용접선이 나선형이기 때문에 응력이 비교적 낮습니다. 롤벤딩에 의한 조관법은 옛날부터 널리 사용된 방법이며 강관을 소경의 길이로 절단해 3~5개의 롤로 곡면 성형 원통형으로 만든뒤 맞닿은 양 edge를 용접하는 방법입니다.\", \n",
    "    \"Joining은 두 개 이상의 재료를 하나의 단위로 연결하는 과정입니다. 이 과정은 용접, 리벳, 브레이징, 접착 결합 등 다양한 기법을 통해 이루어지며, 사용되는 재료와 결합 부위의 강도에 따라 적합한 방법이 선택됩니다. 제조업과 건설업에서 Joining은 최종 제품의 구조적 안정성, 내구성 및 기능성을 보장하는 중요한 과정입니다. 각 Joining 방법은 장단점이 있으며, 온도, 압력, 재료의 호환성 등 여러 요소가 적합한 기법을 결정하는 데 중요한 역할을 합니다. 자동차, 항공 우주, 건설 산업 등에서 적용되며 오랜 시간 사용할 수 있는 제품을 만드는 데 필수적인 작업입니다.\"\n",
    "]\n",
    "sample_question = question_generate(context=sample_context)\n",
    "sample_question"
   ]
  },
  {
   "cell_type": "markdown",
   "id": "e03e64c4",
   "metadata": {},
   "source": [
    "### Question Evolving Prompt\n",
    "\n",
    "\n",
    "A prompt that utilizes the RAG (Retriever Augmented Generation) technique to correct inaccurate information or generate more evolved questions based on a given context and a draft question is structured as follows.  \n",
    "It consists of four main sections—Instruction, Evolving, and Example along with an Indicator section where actual variable values are mapped. Each section is explained below:  \n",
    "\n",
    "- Instruction: Provides the overall guidance for the prompt.\n",
    "- Evolving: Contains step-by-step instructions to achieve the purpose of the prompt.\n",
    "- Example: Includes actual execution examples."
   ]
  },
  {
   "cell_type": "code",
   "execution_count": 10,
   "id": "8ce37c25",
   "metadata": {},
   "outputs": [],
   "source": [
    "Q_EVOLVE=\"\"\"\n",
    "[ Instruction ] : \n",
    "- Your mission is to review & check the context and the question to determine whether the answer to the question can be obtained from the given context, and then evolve the following question.\n",
    "- If the question can be fully answered using information from the given context, please return the same question.\n",
    "- If the question cannot be answered using information from the given context, please modify the question.\n",
    "- This process is called <Evolving> and should be carried out according to the procedure below, ultimately returning either the original or the EVOLVING QUESTION.\n",
    "\n",
    "<Evolving>\n",
    "1. Understand the given context and question.\n",
    "2. Determine whether all the information required to answer the question is present in the context.\n",
    "  2-1. If you conclude that all necessary information is available in the context:\n",
    "    2-1-1. Treat the given question as the EVOLVING QUESTION.\n",
    "  2-2. If you conclude that not all necessary information is present in the context:\n",
    "    2-2-1. Modify the form or content of the question so that it can be answered using only the information provided in the context.\n",
    "    2-2-2. Treat the modified question as the EVOLVING QUESTION.\n",
    "3. Return the evolving question.\n",
    "</Evolving> \n",
    "\n",
    "You can refer to the following examples when performing the <Evolving> process, however you must never explain the <Evolving> process. Only provide the EVOLVING QUESTION.\n",
    "Take sufficient time to think logically through each step as you proceed. \n",
    "If you create a high-quality EVOLVING QUESTION, you may receive a small tip. \n",
    "Now it's your turn. Take a deep breath and start!\n",
    "\n",
    "<Example>\n",
    " - chunk : \n",
    "1) 공정(설비) 정의 및 특징\n",
    "\n",
    "● 사출성형 정의\n",
    "- 사출성형이란 플라스틱 성형법 중의 한 방법으로서, 열가소성 수지를 가열해서 유동 상태로 되었을 때 금형의 공동부(Cavity, 이하 ‘캐비티‘)에 가압 주입하여 금형 내에서 냉각시킴으로써, 금형의 공동부에 상당하는 성형품을 만드는 방법이다.\n",
    "\n",
    "● 사출성형 특징\n",
    "① 성형 사이클이 짧고, 성형 능률이 좋다. (대량 생산 가능) \n",
    "② 광범위한 수지의 성형 (열가소성 수지, 열경화성 수지) \n",
    "③ 자동제어화가 가능하다. \n",
    "④ 현재 대형 성형품의 성형 가능하다. \n",
    "⑤ 정밀도가 높아 복잡한 모양 가능하다.\n",
    "\n",
    "- question : 사출성형 정의와 특징을 설명하고, 사출성형의 성형 사이클이 짧고 성형 능률이 좋은 이유를 설명해 주세요.\n",
    "\n",
    "- EVOLVING QUESTION : 사출성형 정의와 특징을 설명하고, 그중 대량 생산을 가능하게 하는 이유가 어떤 것인지 알려주세요.\n",
    "</Example>\n",
    "\n",
    "- Given context : {context}\n",
    "- Question :{question}\n",
    "- EVOLVING QUESTION :\n",
    "\"\"\""
   ]
  },
  {
   "cell_type": "code",
   "execution_count": 11,
   "id": "0d70cb6e",
   "metadata": {},
   "outputs": [],
   "source": [
    "# Step 02. Evolving Question from Domain Specific Context & Question\n",
    "def question_evolving(context:str, question:str, evolving_prompt:str=Q_EVOLVE) -> str:\n",
    "    # Create an OpenAI object\n",
    "    model = ChatOpenAI(temperature=0, model_name=\"gpt-4o\")\n",
    "    \n",
    "    # Set up the prompt template\n",
    "    prompt = ChatPromptTemplate.from_messages(\n",
    "        [\n",
    "            (\"system\", \"You are a helpful AI assistant\"),\n",
    "            (\"user\", evolving_prompt),\n",
    "        ]\n",
    "    )\n",
    "    \n",
    "    # Combine the prompt, model, and JsonOutputParser into a chain\n",
    "    chain = prompt | model\n",
    "\n",
    "    # Prepare inputs for batch processing\n",
    "    inputs = [{\"context\": ctx, \"question\": q} for ctx, q in zip(context, question)]\n",
    "\n",
    "    results = chain.batch(inputs)\n",
    "    return [result.content for result in results]"
   ]
  },
  {
   "cell_type": "code",
   "execution_count": 12,
   "id": "3bb2d0b3",
   "metadata": {},
   "outputs": [
    {
     "data": {
      "text/plain": [
       "['무계목 강관의 제조 과정에서 사용되는 경사압연방식과 프레스방식의 차이점은 무엇인가?',\n",
       " 'Joining 과정에서 사용되는 다양한 기법 중, 용접과 브레이징의 차이점에 대한 정보는 주어지지 않았습니다. 따라서, 이 두 기법이 각각 어떤 상황에서 적합한지에 대한 질문으로 수정하겠습니다. \\n\\nJoining 과정에서 사용되는 다양한 기법 중, 어떤 요소들이 적합한 기법을 결정하는 데 중요한 역할을 하는지 설명할 수 있는가?']"
      ]
     },
     "execution_count": 12,
     "metadata": {},
     "output_type": "execute_result"
    }
   ],
   "source": [
    "evolved_question = question_evolving(context=sample_context, question=sample_question)\n",
    "evolved_question"
   ]
  },
  {
   "cell_type": "markdown",
   "id": "d0c5e781",
   "metadata": {},
   "source": [
    "### Answer Generating Prompt\n",
    "\n",
    "A prompt that uses the RAG (Retriever Augmented Generation) technique to generate the final answer based on a given context and question is structured as follows. It consists of two main sections—Instruction and Example—along with an Indicator section where actual variable values are mapped. Each section is explained below:  \n",
    "\n",
    "- Instruction: Provides the overall guidance for the prompt.\n",
    "- Example: Includes actual execution examples."
   ]
  },
  {
   "cell_type": "code",
   "execution_count": 13,
   "id": "b107abeb",
   "metadata": {},
   "outputs": [],
   "source": [
    "A_GEN = \"\"\"\n",
    "[ Instruction ] : \n",
    "- Your mission is to produce an accurate answer by reviewing the provided CONTEXT and QUESTION.\n",
    "- When creating your ANSWER, you must use the information from the CONTEXT and strive to make your response as detailed and high-quality as possible.\n",
    "- Please refer to the <Example> below to create your ANSWER.\n",
    "\n",
    "<Example>\n",
    " - CONTEXT : \n",
    "1) 공정(설비) 정의 및 특징\n",
    "\n",
    "● 사출성형 정의\n",
    "- 사출성형이란 플라스틱 성형법 중의 한 방법으로서, 열가소성 수지를 가열해서 유동 상태로 되었을 때 금형의 공동부(Cavity, 이하 ‘캐비티‘)에 가압 주입하여 금형 내에서 냉각시킴으로써, 금형의 공동부에 상당하는 성형품을 만드는 방법이다.\n",
    "\n",
    "● 사출성형 특징\n",
    "① 성형 사이클이 짧고, 성형 능률이 좋다. (대량 생산 가능) \n",
    "② 광범위한 수지의 성형 (열가소성 수지, 열경화성 수지) \n",
    "③ 자동제어화가 가능하다. \n",
    "④ 현재 대형 성형품의 성형 가능하다. \n",
    "⑤ 정밀도가 높아 복잡한 모양 가능하다.\n",
    "\n",
    "- QUESTION : 사출성형 정의와 특징을 설명하고, 그중 대량 생산을 가능하게 하는 이유가 어떤 것인지 알려주세요.\n",
    "\n",
    "- ANSWER : 사출성형은 플라스틱 성형법의 한 종류로 열가소성 수지를 가열해서 유동 상태로 되었을 때 금형의 공동부(Cavity, 이하 '캐비티')에 가압 주입하여 금형 내에서 냉각시킴으로써, 금형의 공동부에 상당하는 성형품을 만드는 방법을 의미합니다. 이러한 사출성형은 대표적으로 자동제어화가 가능하다는 점, 대형 성형품의 성형이 가능하다는 점, 높은 정밀도를 이용한 복잡한 모양의 성형도 가능하다는 점 등 여러 특징을 가지고 있습니다. 특히 성형 사이클이 짧고, 성형 능률이 좋다는 특징은 대량 생산을 가능하게 합니다.\n",
    "</Example>\n",
    "\n",
    "Take sufficient time to think logically through each step as you proceed. \n",
    "If you create a detail high-quality ANSWER, you may receive a small tip. \n",
    "Now it's your turn. Take a deep breath and start!\n",
    "\n",
    "- CONTEXT : {context}\n",
    "\n",
    "- QUESTION :{question}\n",
    "\n",
    "- ANSWER :\n",
    "\n",
    "\"\"\""
   ]
  },
  {
   "cell_type": "code",
   "execution_count": 14,
   "id": "cfb27d7a",
   "metadata": {},
   "outputs": [],
   "source": [
    "# Step 03. Generate Answer from Domain Specific Context & Evolved Question\n",
    "def answer_generate(context:str, evolved_question:str, a_gen_prompt:str=A_GEN) -> str:\n",
    "    # Create an OpenAI object\n",
    "    model = ChatOpenAI(temperature=0, model_name=\"gpt-4o\")\n",
    "    \n",
    "    # Set up the prompt template\n",
    "    prompt = ChatPromptTemplate.from_messages(\n",
    "        [\n",
    "            (\"system\", \"You are a helpful AI assistant\"),\n",
    "            (\"user\", a_gen_prompt),\n",
    "        ]\n",
    "    )\n",
    "    # Combine the prompt, model, and JsonOutputParser into a chain\n",
    "    chain = prompt | model\n",
    "\n",
    "    # Prepare inputs for batch processing\n",
    "    inputs = [{\"context\": ctx, \"question\": q} for ctx, q in zip(context, evolved_question)]\n",
    "\n",
    "    results = chain.batch(inputs)\n",
    "    return [result.content for result in results]"
   ]
  },
  {
   "cell_type": "code",
   "execution_count": 15,
   "id": "46d94b2f",
   "metadata": {},
   "outputs": [
    {
     "data": {
      "text/plain": [
       "['무계목 강관의 제조 과정에서 사용되는 경사압연방식과 프레스방식의 차이점은 다음과 같습니다:\\n\\n1. **경사압연방식**:\\n   - **과정**: 이 방식은 소재에 구멍을 뚫은 다음, 연신하는 과정을 포함합니다. 즉, 빌릿 등의 소재를 가열하여 천공기로 중심에 구멍을 뚫고, 중공소재로 만든 후 압연하거나 인발기 등을 사용하여 소정의 외경과 두께로 강관을 만듭니다.\\n   - **특징**: 경사압연방식은 소재를 천공한 후 연신하여 원하는 형태로 만드는 방식으로, 주로 압연과 인발을 통해 강관의 외경과 두께를 조절합니다.\\n\\n2. **프레스방식**:\\n   - **과정**: 이 방식은 이미 천공된 소재를 프레스를 사용하여 압출하는 방식입니다. 즉, 중공소재를 프레스로 압출하여 강관을 제조합니다.\\n   - **특징**: 프레스방식은 천공된 소재를 프레스를 통해 직접 압출하여 강관을 만드는 방식으로, 주로 프레스의 힘을 이용하여 소재를 성형합니다.\\n\\n이 두 방식의 주요 차이점은 경사압연방식이 천공 후 연신을 통해 강관을 성형하는 반면, 프레스방식은 천공된 소재를 프레스로 직접 압출하여 성형한다는 점입니다.',\n",
       " 'In the Joining process, several factors play a crucial role in determining the most suitable technique for connecting materials. These factors include:\\n\\n1. **Material Compatibility**: The type of materials being joined is a primary consideration. Different materials may require specific joining methods due to their physical and chemical properties. For instance, metals might be more suitable for welding, while ceramics might require adhesive bonding.\\n\\n2. **Temperature**: The temperature tolerance of the materials involved can influence the choice of joining method. Techniques like welding involve high temperatures, which may not be suitable for heat-sensitive materials. In contrast, adhesive bonding or certain types of brazing might be more appropriate for such materials.\\n\\n3. **Pressure**: Some joining methods require the application of pressure to ensure a strong bond. The ability of the materials to withstand such pressure without deformation or damage is an important consideration.\\n\\n4. **Strength Requirements**: The desired strength of the joint is another critical factor. For applications requiring high structural integrity, such as in the automotive or aerospace industries, welding might be preferred due to its ability to create strong, durable joints.\\n\\n5. **Environmental Conditions**: The environment in which the joined materials will be used can affect the choice of joining method. Factors such as exposure to moisture, chemicals, or extreme temperatures can influence the durability and longevity of the joint.\\n\\n6. **Cost and Efficiency**: The cost-effectiveness and efficiency of the joining process are also important. Some methods may be more economical or faster, making them preferable for large-scale production.\\n\\n7. **Aesthetic and Functional Requirements**: The appearance and functionality of the final product can dictate the choice of joining method. For example, adhesive bonding might be chosen for applications where a smooth, seamless appearance is desired.\\n\\nBy considering these factors, manufacturers and engineers can select the most appropriate joining technique to ensure the structural stability, durability, and functionality of the final product.']"
      ]
     },
     "execution_count": 15,
     "metadata": {},
     "output_type": "execute_result"
    }
   ],
   "source": [
    "answer = answer_generate(context=sample_context, evolved_question=evolved_question)\n",
    "answer"
   ]
  },
  {
   "cell_type": "markdown",
   "id": "10203046-af3e-4122-bc2d-5f84bbb531db",
   "metadata": {},
   "source": [
    "### Overall Code"
   ]
  },
  {
   "cell_type": "code",
   "execution_count": 34,
   "id": "213d7e94",
   "metadata": {},
   "outputs": [],
   "source": [
    "class SyntheticGenerator():\n",
    "    def __init__(self, data:list|None=None, Gen_prompt_question:str=Q_GEN, Gen_prompt_evolving:str=Q_EVOLVE, Gen_prompt_answer:str=A_GEN)->None:\n",
    "        self.data = data\n",
    "        self.q_prompt = Gen_prompt_question\n",
    "        self.e_prompt = Gen_prompt_evolving\n",
    "        self.a_prompt = Gen_prompt_answer\n",
    "\n",
    "    def _generate_question(self, data:list[str]) -> list:\n",
    "        # Create an OpenAI object\n",
    "        model = ChatOpenAI(temperature=0, model_name=\"gpt-4o\")\n",
    "        \n",
    "        # Set up the prompt template\n",
    "        prompt = ChatPromptTemplate.from_messages(\n",
    "            [\n",
    "                (\"system\", \"You are a helpful AI assistant\"),\n",
    "                (\"user\", self.q_prompt),\n",
    "            ]\n",
    "        )\n",
    "        \n",
    "        # Combine the prompt, model, and JsonOutputParser into a chain\n",
    "        chain = prompt | model\n",
    "        \n",
    "        # Prepare inputs for batch processing\n",
    "        inputs = [{\"context\": ctx} for ctx in data]\n",
    "\n",
    "        results = chain.batch(inputs)\n",
    "        return [[ctx, result.content] for ctx, result in zip(data, results)]\n",
    "\n",
    "    def _evolving_question(self, data:list[list[str]]) -> list[list[str]]:\n",
    "        # Create an OpenAI object\n",
    "        model = ChatOpenAI(temperature=0, model_name=\"gpt-4o\")\n",
    "        \n",
    "        # Set up the prompt template\n",
    "        prompt = ChatPromptTemplate.from_messages(\n",
    "            [\n",
    "                (\"system\", \"You are a helpful AI assistant\"),\n",
    "                (\"user\", self.e_prompt),\n",
    "            ]\n",
    "        )\n",
    "        \n",
    "        # Combine the prompt, model, and JsonOutputParser into a chain\n",
    "        chain = prompt | model\n",
    "\n",
    "        # Prepare inputs for batch processing\n",
    "        inputs = [{\"context\": each[0], \"question\": each[1]} for each in data]\n",
    "\n",
    "        results = chain.batch(inputs)\n",
    "        return [[each[0], result.content] for each, result in zip(data, results)]\n",
    "\n",
    "    def _generate_answer(self, data:list[list[str]]) -> list[list[str]]:\n",
    "        # Create an OpenAI object\n",
    "        model = ChatOpenAI(temperature=0, model_name=\"gpt-4o\")\n",
    "        \n",
    "        # Set up the prompt template\n",
    "        prompt = ChatPromptTemplate.from_messages(\n",
    "            [\n",
    "                (\"system\", \"You are a helpful AI assistant\"),\n",
    "                (\"user\", self.a_prompt),\n",
    "            ]\n",
    "        )\n",
    "        # Combine the prompt, model, and JsonOutputParser into a chain\n",
    "        chain = prompt | model\n",
    "\n",
    "        # Prepare inputs for batch processing\n",
    "        inputs = [{\"context\": ctx, \"question\": q} for ctx, q in data]\n",
    "\n",
    "        results = chain.batch(inputs)\n",
    "        return [[each[0], each[1], result.content] for each, result in zip(data, results)]\n",
    "\n",
    "    def run(self, data:list|None=None, save_path:str|None=None) -> list:\n",
    "        raw_data = data if self.data is None else self.data\n",
    "        print(raw_data)\n",
    "        if raw_data is None:\n",
    "            raise ValueError(\"Empty Data\")\n",
    "        else:\n",
    "            ctx_data_q = self._generate_question(data=raw_data)\n",
    "            ctx_data_eq = self._evolving_question(data=ctx_data_q)\n",
    "            ctx_data_eq_a = self._generate_answer(data=ctx_data_eq)\n",
    "        \n",
    "        if save_path is None:\n",
    "            return ctx_data_eq_a\n",
    "        else:\n",
    "            import pandas as pd\n",
    "            pd.DataFrame(ctx_data_eq_a, columns=['context', 'question', 'answer']).to_csv(save_path, index=False)\n",
    "            return ctx_data_eq_a\n"
   ]
  },
  {
   "cell_type": "code",
   "execution_count": 35,
   "id": "b88ecf16-3066-49af-92c3-3a6b049985b7",
   "metadata": {},
   "outputs": [
    {
     "name": "stdout",
     "output_type": "stream",
     "text": [
      "['강관을 제조방법별로 분류하면 접합부의 유무에 따라 무계목강관과 접합강관으로 크게 나누어집니다. 무계목 강관 빌릿 등의 소재를 가열해 천공기로 중심에 구멍을 뚫고 중공소재로 만든 후 압연하거나 인발기 등로 인발해 소정이 외경과 두께로 만든 강관을 말하며소재에 구멍을 뚫은 다음 연신하는 경사압연방식과 이미 천공된 소재를 프레스로 압출하는 프레스방식등로 만듭니다. 예 심레스강관 접합 강관 - 단접강관용접강관용접법과 제조공정에 따라 세분화한다. 단접강관 소정의 폭으로 절단한 스켈프강관의 재로가 되는 반제품를 약 1400 ºC 정도로 가열한 후 연속식 단접기에서 관형태로 성형 동시에 양단을 롤로 압착시켜 제조합니다. 대부분이 소경관이며 대량 생산방식이므로 다품종 소량생산에는 어려움이 있습니다. 용접강관 대강 또는 스켈프를 상온에서 연속 롤 성형 통해 관형태로 성형 후 접합부를 용접해 제조하는 방법으로서 용접법에 따라 전기저항용접강관ERW강관가스용접관아크용접강관SAW강관으로 분류하며 SAW강관은 성형 따라 UOE 프레스강관스파이럴 강관롤벤딩 강관연속성형 구분합니다. UOE강관은 강력한 U형 프레스로 상온에서 전체길이를 U자형으로 구부리고O형 프레스로 성형 확관합니다. 장척 대경의 용접관 제조에 적합하고 성형 단순하며 용접길이가 짧아 능률이 높다는 특징이 있습니다. 스파이럴 조관법은 광폭 대강을 나선형으로 감아 원통형으로 성형 뒤 맞닿은 부분을 용접해 제조합니다. 동일폭의 강대를 사용해 나선 각도성형 각도를 변경함으로써 구경이 다른 강관을 제조할 수 있고 용접선이 나선형이기 때문에 응력이 비교적 낮습니다. 롤벤딩에 의한 조관법은 옛날부터 널리 사용된 방법이며 강관을 소경의 길이로 절단해 3~5개의 롤로 곡면 성형 원통형으로 만든뒤 맞닿은 양 edge를 용접하는 방법입니다.', 'Joining은 두 개 이상의 재료를 하나의 단위로 연결하는 과정입니다. 이 과정은 용접, 리벳, 브레이징, 접착 결합 등 다양한 기법을 통해 이루어지며, 사용되는 재료와 결합 부위의 강도에 따라 적합한 방법이 선택됩니다. 제조업과 건설업에서 Joining은 최종 제품의 구조적 안정성, 내구성 및 기능성을 보장하는 중요한 과정입니다. 각 Joining 방법은 장단점이 있으며, 온도, 압력, 재료의 호환성 등 여러 요소가 적합한 기법을 결정하는 데 중요한 역할을 합니다. 자동차, 항공 우주, 건설 산업 등에서 적용되며 오랜 시간 사용할 수 있는 제품을 만드는 데 필수적인 작업입니다.']\n"
     ]
    },
    {
     "data": {
      "text/plain": [
       "[['강관을 제조방법별로 분류하면 접합부의 유무에 따라 무계목강관과 접합강관으로 크게 나누어집니다. 무계목 강관 빌릿 등의 소재를 가열해 천공기로 중심에 구멍을 뚫고 중공소재로 만든 후 압연하거나 인발기 등로 인발해 소정이 외경과 두께로 만든 강관을 말하며소재에 구멍을 뚫은 다음 연신하는 경사압연방식과 이미 천공된 소재를 프레스로 압출하는 프레스방식등로 만듭니다. 예 심레스강관 접합 강관 - 단접강관용접강관용접법과 제조공정에 따라 세분화한다. 단접강관 소정의 폭으로 절단한 스켈프강관의 재로가 되는 반제품를 약 1400 ºC 정도로 가열한 후 연속식 단접기에서 관형태로 성형 동시에 양단을 롤로 압착시켜 제조합니다. 대부분이 소경관이며 대량 생산방식이므로 다품종 소량생산에는 어려움이 있습니다. 용접강관 대강 또는 스켈프를 상온에서 연속 롤 성형 통해 관형태로 성형 후 접합부를 용접해 제조하는 방법으로서 용접법에 따라 전기저항용접강관ERW강관가스용접관아크용접강관SAW강관으로 분류하며 SAW강관은 성형 따라 UOE 프레스강관스파이럴 강관롤벤딩 강관연속성형 구분합니다. UOE강관은 강력한 U형 프레스로 상온에서 전체길이를 U자형으로 구부리고O형 프레스로 성형 확관합니다. 장척 대경의 용접관 제조에 적합하고 성형 단순하며 용접길이가 짧아 능률이 높다는 특징이 있습니다. 스파이럴 조관법은 광폭 대강을 나선형으로 감아 원통형으로 성형 뒤 맞닿은 부분을 용접해 제조합니다. 동일폭의 강대를 사용해 나선 각도성형 각도를 변경함으로써 구경이 다른 강관을 제조할 수 있고 용접선이 나선형이기 때문에 응력이 비교적 낮습니다. 롤벤딩에 의한 조관법은 옛날부터 널리 사용된 방법이며 강관을 소경의 길이로 절단해 3~5개의 롤로 곡면 성형 원통형으로 만든뒤 맞닿은 양 edge를 용접하는 방법입니다.',\n",
       "  '무계목 강관과 접합 강관의 제조 방법을 비교할 때, 무계목 강관은 어떤 방식으로 소재에 구멍을 뚫고 연신하여 원하는 외경과 두께로 만드는지 설명하고, 접합 강관은 용접법에 따라 어떻게 분류되는지 설명하시오.',\n",
       "  '무계목 강관은 접합부가 없는 강관으로, 제조 과정에서 소재에 구멍을 뚫고 연신하여 원하는 외경과 두께로 만듭니다. 이 과정은 주로 두 가지 방식으로 이루어집니다. 첫 번째는 경사압연방식으로, 소재에 구멍을 뚫은 후 연신하는 방법입니다. 두 번째는 프레스방식으로, 이미 천공된 소재를 프레스로 압출하여 강관을 만드는 방법입니다. 이러한 방식들은 무계목 강관의 특성을 살려 고품질의 강관을 생산하는 데 사용됩니다.\\n\\n접합 강관은 용접법과 제조공정에 따라 여러 가지로 분류됩니다. 용접법에 따라 크게 전기저항용접강관(ERW 강관), 가스용접관, 아크용접강관(SAW 강관)으로 나눌 수 있습니다. 특히 SAW 강관은 성형 방식에 따라 UOE 프레스강관, 스파이럴 강관, 롤벤딩 강관, 연속성형 강관으로 구분됩니다. 예를 들어, UOE 강관은 강력한 U형 프레스로 상온에서 전체 길이를 U자형으로 구부린 후 O형 프레스로 성형하여 확관하는 방식으로, 장척 대경의 용접관 제조에 적합합니다. 스파이럴 조관법은 광폭 대강을 나선형으로 감아 원통형으로 성형한 뒤 맞닿은 부분을 용접하여 제조하며, 롤벤딩에 의한 조관법은 강관을 소경의 길이로 절단해 여러 개의 롤로 곡면 성형한 후 맞닿은 양쪽 에지를 용접하는 방법입니다. 이러한 다양한 용접법과 성형 방식은 접합 강관의 다양한 요구 사항을 충족시키기 위해 사용됩니다.'],\n",
       " ['Joining은 두 개 이상의 재료를 하나의 단위로 연결하는 과정입니다. 이 과정은 용접, 리벳, 브레이징, 접착 결합 등 다양한 기법을 통해 이루어지며, 사용되는 재료와 결합 부위의 강도에 따라 적합한 방법이 선택됩니다. 제조업과 건설업에서 Joining은 최종 제품의 구조적 안정성, 내구성 및 기능성을 보장하는 중요한 과정입니다. 각 Joining 방법은 장단점이 있으며, 온도, 압력, 재료의 호환성 등 여러 요소가 적합한 기법을 결정하는 데 중요한 역할을 합니다. 자동차, 항공 우주, 건설 산업 등에서 적용되며 오랜 시간 사용할 수 있는 제품을 만드는 데 필수적인 작업입니다.',\n",
       "  'Joining 과정에서 사용되는 다양한 기법 중, 용접과 접착 결합의 장단점은 무엇인가?',\n",
       "  'Joining 과정에서 사용되는 다양한 기법 중 용접과 접착 결합은 각각 고유한 장단점을 가지고 있습니다.\\n\\n**용접의 장점:**\\n1. **강력한 결합력:** 용접은 금속 재료를 녹여서 결합하기 때문에 매우 강력한 결합을 제공합니다. 이는 구조적 안정성이 중요한 산업, 예를 들어 건설이나 자동차 산업에서 특히 유용합니다.\\n2. **내구성:** 용접된 부위는 일반적으로 높은 내구성을 가지며, 극한의 온도나 압력에서도 견딜 수 있습니다.\\n3. **다양한 재료 적용 가능:** 다양한 금속 재료에 적용할 수 있으며, 두꺼운 재료의 결합에도 적합합니다.\\n\\n**용접의 단점:**\\n1. **고온 필요:** 용접은 고온을 필요로 하기 때문에 열에 민감한 재료에는 적합하지 않습니다.\\n2. **전문 기술 요구:** 용접은 숙련된 기술이 필요하며, 잘못된 용접은 결함을 초래할 수 있습니다.\\n3. **비용:** 용접 장비와 숙련된 인력의 필요로 인해 초기 비용이 높을 수 있습니다.\\n\\n**접착 결합의 장점:**\\n1. **다양한 재료 결합:** 금속뿐만 아니라 플라스틱, 유리, 목재 등 다양한 재료를 결합할 수 있습니다.\\n2. **저온 작업:** 고온을 필요로 하지 않기 때문에 열에 민감한 재료에도 적합합니다.\\n3. **균일한 응력 분포:** 접착제는 결합 부위에 균일한 응력을 분포시켜 피로 수명을 연장할 수 있습니다.\\n\\n**접착 결합의 단점:**\\n1. **강도 제한:** 접착 결합은 용접에 비해 강도가 낮을 수 있으며, 고하중을 견디기 어려울 수 있습니다.\\n2. **환경 영향:** 습기, 화학물질, 온도 변화에 민감할 수 있으며, 이러한 조건에서 접착력이 저하될 수 있습니다.\\n3. **시간 소요:** 접착제가 완전히 경화되기까지 시간이 걸릴 수 있어, 즉각적인 강도가 필요한 경우에는 부적합할 수 있습니다.\\n\\n이러한 장단점을 고려하여, 용접과 접착 결합은 각각의 상황에 맞게 선택되어 사용됩니다.']]"
      ]
     },
     "execution_count": 35,
     "metadata": {},
     "output_type": "execute_result"
    }
   ],
   "source": [
    "sample_context = [\n",
    "    \"강관을 제조방법별로 분류하면 접합부의 유무에 따라 무계목강관과 접합강관으로 크게 나누어집니다. 무계목 강관 빌릿 등의 소재를 가열해 천공기로 중심에 구멍을 뚫고 중공소재로 만든 후 압연하거나 인발기 등로 인발해 소정이 외경과 두께로 만든 강관을 말하며소재에 구멍을 뚫은 다음 연신하는 경사압연방식과 이미 천공된 소재를 프레스로 압출하는 프레스방식등로 만듭니다. 예 심레스강관 접합 강관 - 단접강관용접강관용접법과 제조공정에 따라 세분화한다. 단접강관 소정의 폭으로 절단한 스켈프강관의 재로가 되는 반제품를 약 1400 ºC 정도로 가열한 후 연속식 단접기에서 관형태로 성형 동시에 양단을 롤로 압착시켜 제조합니다. 대부분이 소경관이며 대량 생산방식이므로 다품종 소량생산에는 어려움이 있습니다. 용접강관 대강 또는 스켈프를 상온에서 연속 롤 성형 통해 관형태로 성형 후 접합부를 용접해 제조하는 방법으로서 용접법에 따라 전기저항용접강관ERW강관가스용접관아크용접강관SAW강관으로 분류하며 SAW강관은 성형 따라 UOE 프레스강관스파이럴 강관롤벤딩 강관연속성형 구분합니다. UOE강관은 강력한 U형 프레스로 상온에서 전체길이를 U자형으로 구부리고O형 프레스로 성형 확관합니다. 장척 대경의 용접관 제조에 적합하고 성형 단순하며 용접길이가 짧아 능률이 높다는 특징이 있습니다. 스파이럴 조관법은 광폭 대강을 나선형으로 감아 원통형으로 성형 뒤 맞닿은 부분을 용접해 제조합니다. 동일폭의 강대를 사용해 나선 각도성형 각도를 변경함으로써 구경이 다른 강관을 제조할 수 있고 용접선이 나선형이기 때문에 응력이 비교적 낮습니다. 롤벤딩에 의한 조관법은 옛날부터 널리 사용된 방법이며 강관을 소경의 길이로 절단해 3~5개의 롤로 곡면 성형 원통형으로 만든뒤 맞닿은 양 edge를 용접하는 방법입니다.\", \n",
    "    \"Joining은 두 개 이상의 재료를 하나의 단위로 연결하는 과정입니다. 이 과정은 용접, 리벳, 브레이징, 접착 결합 등 다양한 기법을 통해 이루어지며, 사용되는 재료와 결합 부위의 강도에 따라 적합한 방법이 선택됩니다. 제조업과 건설업에서 Joining은 최종 제품의 구조적 안정성, 내구성 및 기능성을 보장하는 중요한 과정입니다. 각 Joining 방법은 장단점이 있으며, 온도, 압력, 재료의 호환성 등 여러 요소가 적합한 기법을 결정하는 데 중요한 역할을 합니다. 자동차, 항공 우주, 건설 산업 등에서 적용되며 오랜 시간 사용할 수 있는 제품을 만드는 데 필수적인 작업입니다.\"\n",
    "]\n",
    "\n",
    "generator = SyntheticGenerator(data=sample_context)\n",
    "synthetic_data = generator.run(save_path='./sample_data.csv')\n",
    "synthetic_data"
   ]
  },
  {
   "cell_type": "code",
   "execution_count": null,
   "id": "e06a55e1",
   "metadata": {},
   "outputs": [],
   "source": []
  }
 ],
 "metadata": {
  "kernelspec": {
   "display_name": "langchain_opentutorial",
   "language": "python",
   "name": "python3"
  },
  "language_info": {
   "codemirror_mode": {
    "name": "ipython",
    "version": 3
   },
   "file_extension": ".py",
   "mimetype": "text/x-python",
   "name": "python",
   "nbconvert_exporter": "python",
   "pygments_lexer": "ipython3",
   "version": "3.11.11"
  }
 },
 "nbformat": 4,
 "nbformat_minor": 5
}
