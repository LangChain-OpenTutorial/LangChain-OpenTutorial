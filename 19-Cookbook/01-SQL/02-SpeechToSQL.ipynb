{
  "cells": [
    {
      "cell_type": "markdown",
      "metadata": {},
      "source": [
        "# SpeechToSQL \n",
        "- Author: [Dooil Kwak](https://github.com/back2zion)\n",
        "- Design: \n",
        "- Peer Review : [Ilgyun Jeong](https://github.com/johnny9210), [Jaehun Choi](https://github.com/ash-hun) \n",
        "- This is a part of [LangChain Open Tutorial](https://github.com/LangChain-OpenTutorial/LangChain-OpenTutorial)\n",
        "\n",
        "[![Open in Colab](https://colab.research.google.com/assets/colab-badge.svg)](https://colab.research.google.com/github/LangChain-OpenTutorial/LangChain-OpenTutorial/blob/main/19-Cookbook/01-SQL/02-SpeechToSQL.ipynb) [![Open in GitHub](https://img.shields.io/badge/Open%20in%20GitHub-181717?style=flat-square&logo=github&logoColor=white)](https://github.com/LangChain-OpenTutorial/LangChain-OpenTutorial/blob/main/19-Cookbook/01-SQL/02-SpeechToSQL.ipynb)\n"
      ]
    },
    {
      "cell_type": "markdown",
      "metadata": {},
      "source": [
        "## Overview\n",
        "\n",
        "The Speech to SQL system is a powerful tool that converts spoken language into SQL queries. It combines advanced speech recognition with natural language processing to enable hands-free database interactions.\n",
        "\n",
        "**Key Features**:\n",
        "\n",
        "- **Real-time Speech Processing**: \n",
        "  Captures and processes voice input in real-time, supporting various microphone configurations.\n",
        "\n",
        "- **Accurate Speech Recognition**: \n",
        "  Uses Whisper model for reliable speech-to-text conversion with support for clear English queries.\n",
        "\n",
        "- **SQL Query Generation**: \n",
        "  Transforms natural language questions into properly formatted SQL queries.\n",
        "\n",
        "**System Requirements**:\n",
        "- Python 3.8 or higher\n",
        "- Working microphone\n",
        "- Recommended: CUDA-capable GPU for faster processing"
      ]
    },
    {
      "cell_type": "markdown",
      "metadata": {},
      "source": [
        "### Table of Contents \n",
        "\n",
        "- [Overview](#overview)\n",
        "- [Installation and Setup](#installation-and-setup)\n",
        "- [Audio Device Configuration](#audio-device-configuration)\n",
        "- [Speech Recognition Setup](#speech-recognition-setup)\n",
        "- [Basic Usage](#basic-usage)\n",
        "- [Advanced Usage and Troubleshooting](#advanced-usage-and-troubleshooting)"
      ]
    },
    {
      "cell_type": "markdown",
      "metadata": {},
      "source": [
        "### References\n",
        "- [Faster Whisper Documentation > Python API Reference](https://github.com/guillaumekln/faster-whisper)\n",
        "- [SoundDevice Documentation > Python API Reference](https://python-sounddevice.readthedocs.io/en/0.4.6/)\n",
        "- [Wavio Documentation > Audio File Handling](https://github.com/WarrenWeckesser/wavio)\n",
        "- [NumPy Documentation > Audio Processing](https://numpy.org/doc/stable/reference/routines.html#audio-processing)"
      ]
    },
    {
      "cell_type": "markdown",
      "metadata": {},
      "source": [
        "## Installation and Setup\n",
        "\n",
        "Before we begin, let's set up our environment with all necessary packages and configurations.\n",
        "\n",
        "### Required Packages\n",
        "First, we'll install the required Python packages for speech processing and SQL conversion:\n",
        "- `sounddevice`: For audio capture\n",
        "- `numpy`: For audio data processing\n",
        "- `wavio`: For audio file handling\n",
        "- `faster-whisper`: For speech recognition\n",
        "- `requests`: For API communication"
      ]
    },
    {
      "cell_type": "markdown",
      "metadata": {},
      "source": [
        "Let's install the necessary packages for our speech-to-SQL system. We'll use standard Python packages that work both in Jupyter Notebook and Google Colab."
      ]
    },
    {
      "cell_type": "code",
      "execution_count": 1,
      "metadata": {},
      "outputs": [
        {
          "name": "stdout",
          "output_type": "stream",
          "text": [
            "Note: you may need to restart the kernel to use updated packages.\n",
            "✓ Packages installed successfully!\n"
          ]
        },
        {
          "name": "stderr",
          "output_type": "stream",
          "text": [
            "WARNING: Ignoring invalid distribution -rotobuf (c:\\users\\rhkre\\anaconda3\\envs\\torch\\lib\\site-packages)\n",
            "WARNING: Ignoring invalid distribution -rotobuf (c:\\users\\rhkre\\anaconda3\\envs\\torch\\lib\\site-packages)\n",
            "WARNING: Ignoring invalid distribution -rotobuf (c:\\users\\rhkre\\anaconda3\\envs\\torch\\lib\\site-packages)\n"
          ]
        }
      ],
      "source": [
        "# Install required packages\n",
        "%pip install --quiet langchain-community openai sqlalchemy python-dotenv sounddevice numpy wavio faster-whisper torch\n",
        "print(\"✓ Packages installed successfully!\")"
      ]
    },
    {
      "cell_type": "markdown",
      "metadata": {},
      "source": [
        "That's it! The `--quiet` flag keeps the output clean and simple. Now let's verify that everything is ready to use:"
      ]
    },
    {
      "cell_type": "code",
      "execution_count": 36,
      "metadata": {},
      "outputs": [
        {
          "name": "stdout",
          "output_type": "stream",
          "text": [
            "✓ All set! Let's move on to the next step.\n"
          ]
        }
      ],
      "source": [
        "try:\n",
        "    import sounddevice as sd\n",
        "    import numpy as np\n",
        "    import torch\n",
        "    from faster_whisper import WhisperModel\n",
        "    print(\"✓ All set! Let's move on to the next step.\")\n",
        "except ImportError as e:\n",
        "    print(f\"✗ Something's missing. Please try running the installation command again.\")"
      ]
    },
    {
      "cell_type": "code",
      "execution_count": 37,
      "metadata": {},
      "outputs": [
        {
          "data": {
            "text/plain": [
              "True"
            ]
          },
          "execution_count": 37,
          "metadata": {},
          "output_type": "execute_result"
        }
      ],
      "source": [
        "# Import necessary libraries\n",
        "import sounddevice as sd\n",
        "import numpy as np\n",
        "import wavio\n",
        "import os\n",
        "import time\n",
        "from faster_whisper import WhisperModel\n",
        "import torch\n",
        "from dotenv import load_dotenv\n",
        "\n",
        "# Load environment variables\n",
        "load_dotenv(override=True)"
      ]
    },
    {
      "cell_type": "markdown",
      "metadata": {},
      "source": [
        "## Audio Device Configuration\n",
        "\n",
        "A crucial first step is selecting the correct audio input device. Let's identify and configure your system's microphone.\n",
        "\n",
        "**Note**: You'll see a filtered list of input devices only, making it easier to choose the correct microphone."
      ]
    },
    {
      "cell_type": "code",
      "execution_count": 38,
      "metadata": {},
      "outputs": [
        {
          "name": "stdout",
          "output_type": "stream",
          "text": [
            "\n",
            "Available Audio Input Devices:\n",
            "==================================================\n",
            "Device 0: Microsoft 사운드 매퍼 - Input\n",
            "  Channels: 2\n",
            "  Sample Rate: 44100.0Hz\n",
            "--------------------------------------------------\n",
            "Device 1: 머리에 거는 수화기(2- Kwak’s AirPods)\n",
            "  Channels: 1\n",
            "  Sample Rate: 44100.0Hz\n",
            "--------------------------------------------------\n",
            "Device 6: 주 사운드 캡처 드라이버\n",
            "  Channels: 2\n",
            "  Sample Rate: 44100.0Hz\n",
            "--------------------------------------------------\n",
            "Device 18: 머리에 거는 수화기 (@System32\\drivers\\bthhfenum.sys\n",
            "  Channels: 1\n",
            "  Sample Rate: 8000.0Hz\n",
            "--------------------------------------------------\n",
            "Device 21: 헤드셋 마이크 (@System32\\drivers\\bthhfenum.sys\n",
            "  Channels: 1\n",
            "  Sample Rate: 8000.0Hz\n",
            "--------------------------------------------------\n"
          ]
        }
      ],
      "source": [
        "def list_audio_input_devices():\n",
        "    \"\"\"Display only audio input devices with clear formatting.\"\"\"\n",
        "    print(\"\\nAvailable Audio Input Devices:\")\n",
        "    print(\"=\" * 50)\n",
        "    \n",
        "    input_devices = []\n",
        "    for idx, device in enumerate(sd.query_devices()):\n",
        "        if device['max_input_channels'] > 0:  # Only show input devices\n",
        "            # Skip duplicate devices (different APIs)\n",
        "            device_name = device['name'].split(',')[0]  # Remove API information\n",
        "            if not any(d['name'].startswith(device_name) for d in input_devices):\n",
        "                input_devices.append({\n",
        "                    'index': idx,\n",
        "                    'name': device_name,\n",
        "                    'channels': device['max_input_channels'],\n",
        "                    'sample_rate': device['default_samplerate']\n",
        "                })\n",
        "                \n",
        "                print(f\"Device {idx}: {device_name}\")\n",
        "                print(f\"  Channels: {device['max_input_channels']}\")\n",
        "                print(f\"  Sample Rate: {device['default_samplerate']}Hz\")\n",
        "                print(\"-\" * 50)\n",
        "    \n",
        "    return input_devices\n",
        "\n",
        "# List available input devices\n",
        "input_devices = list_audio_input_devices()"
      ]
    },
    {
      "cell_type": "code",
      "execution_count": 39,
      "metadata": {},
      "outputs": [],
      "source": [
        "def test_audio_device(device_index, duration=1):\n",
        "    \"\"\"\n",
        "    Test if an audio device works properly.\n",
        "    Args:\n",
        "        device_index (int): The index of the device to test\n",
        "        duration (float): Test duration in seconds\n",
        "    Returns:\n",
        "        bool: True if device works, False otherwise\n",
        "    \"\"\"\n",
        "    try:\n",
        "        print(f\"Testing audio device {device_index}...\")\n",
        "        with sd.InputStream(device=device_index, channels=1, samplerate=16000):\n",
        "            print(\"✓ Device initialized successfully\")\n",
        "            return True\n",
        "    except Exception as e:\n",
        "        print(f\"✗ Device test failed: {str(e)}\")\n",
        "        return False"
      ]
    },
    {
      "cell_type": "markdown",
      "metadata": {},
      "source": [
        "### Audio Device Selection and Testing\n",
        "\n",
        "After viewing the available devices above, you'll need to select and test your microphone. Choose a device with input channels (marked as \"Channels: X\" where X > 0).\n",
        "\n",
        "**Important Tips**:\n",
        "- Choose a device with clear device name (avoid generic names like \"Default Input\")\n",
        "- Prefer devices with 1 or 2 input channels\n",
        "- If using a USB microphone, make sure it's properly connected\n",
        "- Test the device before proceeding to actual recording"
      ]
    },
    {
      "cell_type": "code",
      "execution_count": 40,
      "metadata": {},
      "outputs": [
        {
          "name": "stdout",
          "output_type": "stream",
          "text": [
            "\n",
            "Testing default device: Microsoft 사운드 매퍼 - Input\n",
            "Testing audio device 0...\n",
            "✓ Device initialized successfully\n",
            "\n",
            "Default device set to: Microsoft 사운드 매퍼 - Input\n",
            "Sample rate: 44100.0Hz\n"
          ]
        }
      ],
      "source": [
        "# Let's test the first available input device as default\n",
        "if input_devices:\n",
        "    default_device = input_devices[0]\n",
        "    print(f\"\\nTesting default device: {default_device['name']}\")\n",
        "    if test_audio_device(default_device['index']):\n",
        "        # Set as default device\n",
        "        os.environ['DEFAULT_DEVICE'] = str(default_device['index'])\n",
        "        os.environ['SAMPLE_RATE'] = str(int(default_device['sample_rate']))\n",
        "        print(f\"\\nDefault device set to: {default_device['name']}\")\n",
        "        print(f\"Sample rate: {default_device['sample_rate']}Hz\")\n",
        "    else:\n",
        "        print(\"\\nPlease select a different device and try again.\")\n",
        "else:\n",
        "    print(\"\\nNo input devices found. Please check your microphone connection.\")"
      ]
    },
    {
      "cell_type": "markdown",
      "metadata": {},
      "source": [
        "## Speech Recognition Setup\n",
        "\n",
        "Now let's set up the speech recognition component using the Whisper model. While GPU (CUDA) can make the process faster, our system works perfectly fine on CPU too.\n",
        "\n",
        "**Note**: The first time you run this, it will download the Whisper model. This might take a few minutes depending on your internet connection."
      ]
    },
    {
      "cell_type": "code",
      "execution_count": 41,
      "metadata": {},
      "outputs": [
        {
          "name": "stdout",
          "output_type": "stream",
          "text": [
            "✓ Whisper model initialized successfully\n"
          ]
        }
      ],
      "source": [
        "def initialize_whisper():\n",
        "    \"\"\"Initialize the Whisper model.\"\"\"\n",
        "    try:\n",
        "        # Always use CPU for better compatibility\n",
        "        model = WhisperModel(\n",
        "            model_size_or_path=\"base\",  # Using 'base' model for faster CPU processing\n",
        "            device=\"cpu\",\n",
        "            compute_type=\"int8\"  # Optimized for CPU\n",
        "        )\n",
        "        print(\"✓ Whisper model initialized successfully\")\n",
        "        return model\n",
        "    except Exception as e:\n",
        "        print(f\"✗ Error initializing Whisper model: {str(e)}\")\n",
        "        print(\"Please make sure all packages are installed correctly.\")\n",
        "        return None\n",
        "\n",
        "model = initialize_whisper()"
      ]
    },
    {
      "cell_type": "markdown",
      "metadata": {},
      "source": [
        "## Basic Usage\n",
        "\n",
        "Let's implement the core components for speech-to-SQL conversion. We'll create a robust system that can:\n",
        "1. Record audio from your microphone\n",
        "2. Convert speech to text\n",
        "3. Transform the text into SQL queries\n",
        "4. Create database in 'data' folder\n",
        "\n",
        "Now that we have our model initialized, let's create the core components for recording and processing speech. First, we'll create our `AudioRecorder` class:"
      ]
    },
    {
      "cell_type": "code",
      "execution_count": 48,
      "metadata": {},
      "outputs": [],
      "source": [
        "# 1. Record audio from your microphone\n",
        "import sounddevice as sd\n",
        "import numpy as np\n",
        "import wavio\n",
        "import tempfile\n",
        "\n",
        "class AudioRecorder:\n",
        "    def __init__(self):\n",
        "        self._samplerate = 16000\n",
        "        self.audio_data = []\n",
        "        self.recording = False\n",
        "        self.stream = None\n",
        "\n",
        "    def start_recording(self, device_id=0):\n",
        "        \"\"\"Start recording audio\"\"\"\n",
        "        try:\n",
        "            self.stream = sd.InputStream(\n",
        "                channels=1,\n",
        "                samplerate=self._samplerate,\n",
        "                callback=self._audio_callback,\n",
        "                device=device_id\n",
        "            )\n",
        "            self.audio_data = []\n",
        "            self.recording = True\n",
        "            self.stream.start()\n",
        "            return True\n",
        "        except Exception as e:\n",
        "            print(f\"Recording failed: {str(e)}\")\n",
        "            return False\n",
        "\n",
        "    def _audio_callback(self, indata, frames, time, status):\n",
        "        if self.recording:\n",
        "            self.audio_data.append(indata.copy())\n",
        "\n",
        "    def stop_and_process(self):\n",
        "        \"\"\"Stop recording and save audio data\"\"\"\n",
        "        if self.stream:\n",
        "            self.stream.stop()\n",
        "            self.stream.close()\n",
        "            self.recording = False\n",
        "            if len(self.audio_data) > 0:\n",
        "                audio = np.concatenate(self.audio_data)\n",
        "                with tempfile.NamedTemporaryFile(delete=False, suffix=\".wav\") as tmpfile:\n",
        "                    wavio.write(tmpfile.name, audio, self._samplerate, sampwidth=2)\n",
        "                return tmpfile.name\n",
        "        return None"
      ]
    },
    {
      "cell_type": "markdown",
      "metadata": {},
      "source": [
        "Now it's time to convert speech to text."
      ]
    },
    {
      "cell_type": "code",
      "execution_count": 49,
      "metadata": {},
      "outputs": [],
      "source": [
        "# 2. Convert speech to text\n",
        "\n",
        "from faster_whisper import WhisperModel\n",
        "\n",
        "def initialize_whisper():\n",
        "    \"\"\"Initialize the Whisper model\"\"\"\n",
        "    return WhisperModel(\"base\", device=\"cpu\", compute_type=\"int8\")\n",
        "\n",
        "class AudioProcessor:\n",
        "    def __init__(self, model):\n",
        "        self.model = model\n",
        "\n",
        "    def transcribe_audio(self, audio_file):\n",
        "        \"\"\"Transcribe audio to text using Whisper\"\"\"\n",
        "        try:\n",
        "            segments, _ = self.model.transcribe(audio_file)\n",
        "            return \" \".join([segment.text for segment in segments])\n",
        "        except Exception as e:\n",
        "            print(f\"Transcription failed: {str(e)}\")\n",
        "            return None"
      ]
    },
    {
      "cell_type": "markdown",
      "metadata": {},
      "source": [
        "Transform the text into SQL queries!"
      ]
    },
    {
      "cell_type": "code",
      "execution_count": 55,
      "metadata": {},
      "outputs": [],
      "source": [
        "# 3. Transform the text into SQL queries\n",
        "\n",
        "from langchain_openai import OpenAI\n",
        "from langchain.agents import create_sql_agent\n",
        "from langchain.agents.agent_types import AgentType\n",
        "from langchain.sql_database import SQLDatabase\n",
        "from sqlalchemy import create_engine\n",
        "\n",
        "class SQLQueryConverter:\n",
        "    \"\"\"Handle SQL query conversion using LangChain\"\"\"\n",
        "    def __init__(self, database_path):\n",
        "        engine = create_engine(f'sqlite:///{database_path}')\n",
        "        db = SQLDatabase(engine)\n",
        "        llm = OpenAI(temperature=0)\n",
        "        self.agent = create_sql_agent(\n",
        "            llm=llm,\n",
        "            db=db,\n",
        "            verbose=True,\n",
        "            agent_type=AgentType.ZERO_SHOT_REACT_DESCRIPTION\n",
        "        )\n",
        "\n",
        "    def convert_to_sql(self, query_text):\n",
        "        \"\"\"Convert natural language to SQL query\"\"\"\n",
        "        try:\n",
        "            result = self.agent.run(query_text)\n",
        "            if isinstance(result, list):  # Verify that the SQL result is returned as a list\n",
        "                return result  # Return SQL execution results\n",
        "            else:\n",
        "                return f\"SQL Query: {result}\"  # Return the query string itself\n",
        "\n",
        "        except Exception as e:\n",
        "            return f\"Error processing query: {str(e)}\""
      ]
    },
    {
      "cell_type": "markdown",
      "metadata": {},
      "source": [
        "Create database in 'data' folder."
      ]
    },
    {
      "cell_type": "code",
      "execution_count": 60,
      "metadata": {},
      "outputs": [],
      "source": [
        "# 4. Create database in 'data' folder\n",
        "\n",
        "import sqlite3\n",
        "\n",
        "def create_database():\n",
        "    os.makedirs('data', exist_ok=True)\n",
        "    db_path = os.path.join('data', 'sales_database.db')\n",
        "    conn = sqlite3.connect(db_path)\n",
        "    cursor = conn.cursor()\n",
        "\n",
        "    # Create tables\n",
        "    cursor.execute('''\n",
        "    CREATE TABLE IF NOT EXISTS customers (\n",
        "        customer_id INTEGER PRIMARY KEY,\n",
        "        name TEXT,\n",
        "        email TEXT\n",
        "    )\n",
        "    ''')\n",
        "\n",
        "    cursor.execute('''\n",
        "    CREATE TABLE IF NOT EXISTS sales (\n",
        "        sale_id INTEGER PRIMARY KEY,\n",
        "        customer_id INTEGER,\n",
        "        product_name TEXT,\n",
        "        sale_amount REAL,\n",
        "        sale_date DATE,\n",
        "        FOREIGN KEY(customer_id) REFERENCES customers(customer_id)\n",
        "    )\n",
        "    ''')\n",
        "\n",
        "    # Insert sample data\n",
        "    cursor.executemany('INSERT INTO customers VALUES (?, ?, ?)', [\n",
        "        (1, 'John Doe', 'john@example.com'),\n",
        "        (2, 'Jane Smith', 'jane@example.com')\n",
        "    ])\n",
        "\n",
        "    cursor.executemany('INSERT INTO sales VALUES (?, ?, ?, ?, ?)', [\n",
        "        (1, 1, 'Laptop', 1200.50, '2023-01-15'),\n",
        "        (2, 1, 'Monitor', 300.75, '2023-02-20'),\n",
        "        (3, 2, 'Smartphone', 800.00, '2023-03-10')\n",
        "    ])\n",
        "\n",
        "    conn.commit()\n",
        "    conn.close()\n",
        "    return db_path"
      ]
    },
    {
      "cell_type": "markdown",
      "metadata": {},
      "source": [
        "Putting it all together."
      ]
    },
    {
      "cell_type": "code",
      "execution_count": 61,
      "metadata": {},
      "outputs": [],
      "source": [
        "from langchain.sql_database import SQLDatabase\n",
        "\n",
        "def process_speech_to_sql():\n",
        "    print(\"\\n=== Starting Speech to SQL Process ===\")\n",
        "    print(\"Recording will start in:\")\n",
        "    for i in range(3, 0, -1):\n",
        "        print(f\"{i}...\")\n",
        "        time.sleep(1)\n",
        "\n",
        "    recorder = AudioRecorder()\n",
        "    if recorder.start_recording():\n",
        "        print(\"\\nSpeak your query now... (5 seconds)\")\n",
        "        time.sleep(5)\n",
        "        audio_file = recorder.stop_and_process()\n",
        "        print(f\"Saved audio file: {audio_file}\")\n",
        "\n",
        "        if audio_file:\n",
        "            model = initialize_whisper()\n",
        "            processor = AudioProcessor(model)\n",
        "            print(\"Processing audio...\")\n",
        "            text = processor.transcribe_audio(audio_file)\n",
        "            print(f\"Transcribed Text: {text}\")\n",
        "\n",
        "            db_path = create_database()\n",
        "            converter = SQLQueryConverter(db_path)\n",
        "            sql_query = converter.convert_to_sql(text)\n",
        "            print(f\"Generated SQL Query: {sql_query}\")\n",
        "            return sql_query"
      ]
    },
    {
      "cell_type": "markdown",
      "metadata": {},
      "source": [
        "Let's try it out! Run this command to start recording:"
      ]
    },
    {
      "cell_type": "code",
      "execution_count": null,
      "metadata": {},
      "outputs": [
        {
          "name": "stdout",
          "output_type": "stream",
          "text": [
            "\n",
            "=== Starting Speech to SQL Process ===\n",
            "Recording will start in:\n",
            "3...\n",
            "2...\n",
            "1...\n",
            "\n",
            "Speak your query now... (5 seconds)\n",
            "Saved audio file: C:\\Users\\Public\\Documents\\ESTsoft\\CreatorTemp\\tmpumwr2th_.wav\n",
            "Processing audio...\n",
            "Transcribed Text: \n"
          ]
        },
        {
          "name": "stderr",
          "output_type": "stream",
          "text": [
            "Error in StdOutCallbackHandler.on_chain_start callback: AttributeError(\"'NoneType' object has no attribute 'get'\")\n"
          ]
        },
        {
          "name": "stdout",
          "output_type": "stream",
          "text": [
            "\u001b[32;1m\u001b[1;3mAction: sql_db_list_tables\n",
            "Action Input: \u001b[0m\u001b[38;5;200m\u001b[1;3mcustomers, sales\u001b[0m\u001b[32;1m\u001b[1;3m I should query the schema of the customers table to see what columns I can use.\n",
            "Action: sql_db_schema\n",
            "Action Input: customers\u001b[0m\u001b[33;1m\u001b[1;3m\n",
            "CREATE TABLE customers (\n",
            "\tcustomer_id INTEGER, \n",
            "\tname TEXT, \n",
            "\temail TEXT, \n",
            "\tPRIMARY KEY (customer_id)\n",
            ")\n",
            "\n",
            "/*\n",
            "3 rows from customers table:\n",
            "customer_id\tname\temail\n",
            "1\tJohn Doe\tjohn@example.com\n",
            "2\tJane Smith\tjane@example.com\n",
            "*/\u001b[0m\u001b[32;1m\u001b[1;3m I should query the schema of the sales table to see what columns I can use.\n",
            "Action: sql_db_schema\n",
            "Action Input: sales\u001b[0m\u001b[33;1m\u001b[1;3m\n",
            "CREATE TABLE sales (\n",
            "\tsale_id INTEGER, \n",
            "\tcustomer_id INTEGER, \n",
            "\tproduct_name TEXT, \n",
            "\tsale_amount REAL, \n",
            "\tsale_date DATE, \n",
            "\tPRIMARY KEY (sale_id), \n",
            "\tFOREIGN KEY(customer_id) REFERENCES customers (customer_id)\n",
            ")\n",
            "\n",
            "/*\n",
            "3 rows from sales table:\n",
            "sale_id\tcustomer_id\tproduct_name\tsale_amount\tsale_date\n",
            "1\t1\tLaptop\t1200.5\t2023-01-15\n",
            "2\t1\tMonitor\t300.75\t2023-02-20\n",
            "3\t2\tSmartphone\t800.0\t2023-03-10\n",
            "*/\u001b[0m\u001b[32;1m\u001b[1;3m I should query the sales table to see the top 10 sales amounts.\n",
            "Action: sql_db_query\n",
            "Action Input: SELECT sale_amount FROM sales ORDER BY sale_amount DESC LIMIT 10\u001b[0m\u001b[36;1m\u001b[1;3m[(1200.5,), (800.0,), (300.75,)]\u001b[0m\u001b[32;1m\u001b[1;3m I now know the final answer\n",
            "Final Answer: The top 10 sales amounts are 1200.5, 800.0, and 300.75.\u001b[0m\n",
            "\n",
            "\u001b[1m> Finished chain.\u001b[0m\n",
            "Generated SQL Query: SQL Query: The top 10 sales amounts are 1200.5, 800.0, and 300.75.\n"
          ]
        },
        {
          "ename": "",
          "evalue": "",
          "output_type": "error",
          "traceback": [
            "\u001b[1;31mThe Kernel crashed while executing code in the current cell or a previous cell. \n",
            "\u001b[1;31mPlease review the code in the cell(s) to identify a possible cause of the failure. \n",
            "\u001b[1;31mClick <a href='https://aka.ms/vscodeJupyterKernelCrash'>here</a> for more info. \n",
            "\u001b[1;31mView Jupyter <a href='command:jupyter.viewOutput'>log</a> for further details."
          ]
        }
      ],
      "source": [
        "query_text = process_speech_to_sql()"
      ]
    },
    {
      "cell_type": "markdown",
      "metadata": {},
      "source": [
        "## Example Queries\n",
        "\n",
        "Here are some example queries you can try with the system:\n",
        "\n",
        "1. \"Show sales figures for the last quarter\"\n",
        "2. \"Find top 10 customers by revenue\"\n",
        "3. \"List all products with inventory below 100 units\"\n",
        "4. \"Calculate total sales by region\"\n",
        "5. \"Get employee performance metrics for 2023\"\n",
        "\n",
        "These queries demonstrate the range of SQL operations our system can handle."
      ]
    },
    {
      "cell_type": "markdown",
      "metadata": {},
      "source": [
        "## Advanced Usage and Troubleshooting\n",
        "\n",
        "### Common Issues and Solutions\n",
        "\n",
        "1. **No audio device found**\n",
        "   - Check if your microphone is properly connected\n",
        "   - Try unplugging and reconnecting your microphone\n",
        "   - Verify microphone permissions in your OS settings\n",
        "\n",
        "2. **Poor recognition accuracy**\n",
        "   - Speak clearly and at a moderate pace\n",
        "   - Minimize background noise\n",
        "   - Keep the microphone at an appropriate distance\n",
        "\n",
        "3. **Device initialization errors**\n",
        "   - Try selecting a different audio device\n",
        "   - Restart your Python kernel\n",
        "   - Check if another application is using the microphone"
      ]
    },
    {
      "cell_type": "markdown",
      "metadata": {},
      "source": [
        "----"
      ]
    }
  ],
  "metadata": {
    "kernelspec": {
      "display_name": "torch",
      "language": "python",
      "name": "python3"
    },
    "language_info": {
      "codemirror_mode": {
        "name": "ipython",
        "version": 3
      },
      "file_extension": ".py",
      "mimetype": "text/x-python",
      "name": "python",
      "nbconvert_exporter": "python",
      "pygments_lexer": "ipython3",
      "version": "3.8.18"
    }
  },
  "nbformat": 4,
  "nbformat_minor": 2
}
