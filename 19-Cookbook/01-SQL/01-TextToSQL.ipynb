{
  "cells": [
    {
      "cell_type": "markdown",
      "id": "635d8ebb",
      "metadata": {},
      "source": [
        "# TextToSQL\n",
        "\n",
        "- Author: [Jaehun Choi](https://github.com/ash-hun)\n",
        "- Design: \n",
        "- Peer Review: \n",
        "- This is a part of [LangChain Open Tutorial](https://github.com/LangChain-OpenTutorial/LangChain-OpenTutorial)\n",
        "\n",
        "[![Open in Colab](https://colab.research.google.com/assets/colab-badge.svg)](https://colab.research.google.com/github/LangChain-OpenTutorial/LangChain-OpenTutorial/blob/main/99-TEMPLATE/00-BASE-TEMPLATE-EXAMPLE.ipynb) [![Open in GitHub](https://img.shields.io/badge/Open%20in%20GitHub-181717?style=flat-square&logo=github&logoColor=white)](https://github.com/LangChain-OpenTutorial/LangChain-OpenTutorial/blob/main/99-TEMPLATE/00-BASE-TEMPLATE-EXAMPLE.ipynb)\n",
        "\n",
        "## Overview\n",
        "\n",
        "이 튜토리얼은 임의의 데이터베이스 정보를 받아와 SQL Query문을 생성하는 기능을 제공합니다. 해당 튜토리얼에서 데이터베이스 정보를 추출하는 부분은 다루지 않으나 특정 테이블의 칼럼정보 및 자세한 설명이 해당할 수 있으며, OpenAI의 GPT 모델(예: gpt-4o)과 프롬프트 템플릿을 사용하여 SQL 쿼리문을 생성하게 됩니다.\n",
        "\n",
        "특징\n",
        "- 데이터베이스 정보 : SQL 쿼리문 생성을 위한 데이터베이스 정보 형태에 대해 소개합니다.\n",
        "- TextToSQL : 데이터베이스의 정보를 바탕으로 맞춤 SQL 쿼리문을 생성합니다.\n",
        "\n",
        "### Table of Contents\n",
        "\n",
        "- [Overview](#overview)\n",
        "- [Environement Setup](#environment-setup)\n",
        "- [Database Information](#database-information)\n",
        "- [TextToSQL](#text-to-sql)\n",
        "\n",
        "\n",
        "### References\n",
        "\n",
        "- [JsonOutputParser](https://python.langchain.com/api_reference/core/output_parsers/langchain_core.output_parsers.json.JsonOutputParser.html)\n",
        "----"
      ]
    },
    {
      "cell_type": "markdown",
      "id": "c6c7aba4",
      "metadata": {},
      "source": [
        "## Environment Setup\n",
        "\n",
        "Set up the environment. You may refer to [Environment Setup](https://wikidocs.net/257836) for more details.\n",
        "\n",
        "**[Note]**\n",
        "- `langchain-opentutorial` is a package that provides a set of easy-to-use environment setup, useful functions and utilities for tutorials. \n",
        "- You can checkout the [`langchain-opentutorial`](https://github.com/LangChain-OpenTutorial/langchain-opentutorial-pypi) for more details."
      ]
    },
    {
      "cell_type": "code",
      "execution_count": 1,
      "id": "21943adb",
      "metadata": {},
      "outputs": [],
      "source": [
        "%%capture --no-stderr\n",
        "%pip install langchain-opentutorial"
      ]
    },
    {
      "cell_type": "code",
      "execution_count": 2,
      "id": "f25ec196",
      "metadata": {},
      "outputs": [],
      "source": [
        "# Install required packages\n",
        "from langchain_opentutorial import package\n",
        "\n",
        "package.install(\n",
        "    [\n",
        "        \"langsmith\",\n",
        "        \"langchain\",\n",
        "        \"langchain_core\",\n",
        "        \"langchain_openai\",\n",
        "    ],\n",
        "    verbose=False,\n",
        "    upgrade=False,\n",
        ")"
      ]
    },
    {
      "cell_type": "code",
      "execution_count": 3,
      "id": "7f9065ea",
      "metadata": {},
      "outputs": [
        {
          "name": "stdout",
          "output_type": "stream",
          "text": [
            "Environment variables have been set successfully.\n"
          ]
        }
      ],
      "source": [
        "# Set environment variables\n",
        "from langchain_opentutorial import set_env\n",
        "\n",
        "set_env(\n",
        "    {\n",
        "        \"OPENAI_API_KEY\": \"\",\n",
        "        \"LANGCHAIN_API_KEY\": \"\",\n",
        "        \"LANGCHAIN_TRACING_V2\": \"true\",\n",
        "        \"LANGCHAIN_ENDPOINT\": \"https://api.smith.langchain.com\",\n",
        "        \"LANGCHAIN_PROJECT\": \"01-TextToSQL\",  # title 과 동일하게 설정해 주세요\n",
        "    }\n",
        ")"
      ]
    },
    {
      "cell_type": "markdown",
      "id": "690a9ae0",
      "metadata": {},
      "source": [
        "You can alternatively set API keys such as `OPENAI_API_KEY` in a `.env` file and load them.\n",
        "\n",
        "[Note] This is not necessary if you've already set the required API keys in previous steps."
      ]
    },
    {
      "cell_type": "code",
      "execution_count": 4,
      "id": "4f99b5b6",
      "metadata": {},
      "outputs": [
        {
          "data": {
            "text/plain": [
              "True"
            ]
          },
          "execution_count": 4,
          "metadata": {},
          "output_type": "execute_result"
        }
      ],
      "source": [
        "# Load API keys from .env file\n",
        "from dotenv import load_dotenv\n",
        "\n",
        "load_dotenv(override=True)"
      ]
    },
    {
      "cell_type": "markdown",
      "id": "aa00c3f4",
      "metadata": {},
      "source": [
        "## Database Information\n",
        "\n",
        "데이터베이스 정보에 대한 설명은 크게 2가지 형태를 활용할 수 있습니다.  \n",
        "\n",
        "- 테이블 혹은 칼럼정보를 가공없이 주입하는 경우  \n",
        "- 테이블 혹은 칼럼정보를 description화하여 주입하는 경우  \n",
        "\n",
        "\n",
        "본 튜토리얼에서는 아래의 예제 테이블을 바탕으로 진행하고자 합니다.\n",
        "\n",
        "- 데이터베이스 이름: **CompanyDB**\n",
        "- employees (직원 정보) 테이블의 칼럼정보\n",
        "\n",
        "```\n",
        "    id (INT, PRIMARY KEY, AUTO_INCREMENT)\n",
        "    name (VARCHAR, 직원 이름)\n",
        "    position (VARCHAR, 직책)\n",
        "    department (VARCHAR, 부서명)\n",
        "    salary (DECIMAL, 연봉)\n",
        "    hire_date (DATE, 입사일)\n",
        "    departments (부서 정보)\n",
        "```\n"
      ]
    },
    {
      "cell_type": "code",
      "execution_count": 5,
      "id": "69cb77da",
      "metadata": {},
      "outputs": [],
      "source": [
        "# 테이블 혹은 칼럼정보를 가공없이 주입하는 경우\n",
        "\n",
        "db_info_directly = \"\"\"\n",
        "employees table\n",
        "- id (INT, PRIMARY KEY, AUTO_INCREMENT)\n",
        "- name (VARCHAR, 직원 이름)\n",
        "- position (VARCHAR, 직책)\n",
        "- department (VARCHAR, 부서명)\n",
        "- salary (DECIMAL, 연봉)\n",
        "- hire_date (DATE, 입사일)\n",
        "- departments (부서 정보)\n",
        "\"\"\""
      ]
    },
    {
      "cell_type": "code",
      "execution_count": 6,
      "id": "a40ca72d",
      "metadata": {},
      "outputs": [],
      "source": [
        "# 테이블 혹은 칼럼정보를 description화하여 주입하는 경우\n",
        "\n",
        "db_info_description = \"\"\"\n",
        "The employees table stores information about the employees in the organization. It includes the following fields:\n",
        "\n",
        "- id: An integer that serves as the primary key and is auto-incremented for each employee.\n",
        "- name: A string (VARCHAR) representing the name of the employee.\n",
        "- position: A string (VARCHAR) indicating the job title or position of the employee.\n",
        "- department: A string (VARCHAR) specifying the department to which the employee belongs.\n",
        "- salary: A decimal value representing the employee's salary.\n",
        "- hire_date: A date field indicating when the employee was hired.\n",
        "\n",
        "\"\"\""
      ]
    },
    {
      "cell_type": "markdown",
      "id": "2b2fc536",
      "metadata": {},
      "source": [
        "## Text to SQL\n",
        "\n",
        "데이터베이스의 정보를 바탕으로 맞춤 SQL 쿼리문을 생성합니다."
      ]
    },
    {
      "cell_type": "code",
      "execution_count": 7,
      "id": "1b78d33f",
      "metadata": {},
      "outputs": [],
      "source": [
        "from langchain_core.prompts import ChatPromptTemplate\n",
        "from langchain_core.output_parsers import JsonOutputParser\n",
        "from langchain_openai import ChatOpenAI\n",
        "from pydantic import BaseModel, Field\n",
        "\n",
        "class SqlSchema(BaseModel):\n",
        "    statement: str = Field(description=\"SQL Query Statement\")"
      ]
    },
    {
      "cell_type": "code",
      "execution_count": 8,
      "id": "3c4b03d4",
      "metadata": {},
      "outputs": [],
      "source": [
        "# Create an OpenAI object\n",
        "model = ChatOpenAI(temperature=0, model_name=\"gpt-4o\")"
      ]
    },
    {
      "cell_type": "code",
      "execution_count": 9,
      "id": "6f01fb28",
      "metadata": {},
      "outputs": [],
      "source": [
        "# Write your question\n",
        "question = \"Please show me the names and job titles of all employees in the Engineering department.\"\n",
        "\n",
        "# Set up the parser and inject the instructions into the prompt template.\n",
        "parser = JsonOutputParser(pydantic_object=SqlSchema)"
      ]
    },
    {
      "cell_type": "code",
      "execution_count": 10,
      "id": "87351682",
      "metadata": {},
      "outputs": [
        {
          "data": {
            "text/plain": [
              "{'statement': \"SELECT name, position FROM employees WHERE department = 'Engineering';\"}"
            ]
          },
          "execution_count": 10,
          "metadata": {},
          "output_type": "execute_result"
        }
      ],
      "source": [
        "# Set up the prompt template\n",
        "prompt = ChatPromptTemplate.from_messages(\n",
        "    [\n",
        "        (\"system\", \"You are a expert of SQL. Answer questions concisely.\"),\n",
        "        (\"user\", \"Please generate SQL Query statement from Schema_Info.\\n\\n#Format: {format_instructions}\\n\\n#Schema_Info: {schema_info}\\n\\n#Question: {question}\"),\n",
        "    ]\n",
        ")\n",
        "\n",
        "prompt = prompt.partial(format_instructions=parser.get_format_instructions())\n",
        "\n",
        "# Combine the prompt, model, and JsonOutputParser into a chain\n",
        "chain = prompt | model | parser\n",
        "\n",
        "# Run the chain with your question : raw style prompt\n",
        "answer = chain.invoke({\"schema_info\": db_info_directly, \"question\": question})\n",
        "answer"
      ]
    },
    {
      "cell_type": "code",
      "execution_count": 11,
      "id": "66e0985f",
      "metadata": {},
      "outputs": [
        {
          "data": {
            "text/plain": [
              "{'statement': \"SELECT name, position FROM employees WHERE department = 'Engineering';\"}"
            ]
          },
          "execution_count": 11,
          "metadata": {},
          "output_type": "execute_result"
        }
      ],
      "source": [
        "# Run the chain with your question : description style prompt\n",
        "answer = chain.invoke({\"schema_info\": db_info_description, \"question\": question})\n",
        "answer"
      ]
    }
  ],
  "metadata": {
    "kernelspec": {
      "display_name": "langchain-opentutorial-qKdKAbLU-py3.11",
      "language": "python",
      "name": "python3"
    },
    "language_info": {
      "codemirror_mode": {
        "name": "ipython",
        "version": 3
      },
      "file_extension": ".py",
      "mimetype": "text/x-python",
      "name": "python",
      "nbconvert_exporter": "python",
      "pygments_lexer": "ipython3",
      "version": "3.11.9"
    }
  },
  "nbformat": 4,
  "nbformat_minor": 5
}
