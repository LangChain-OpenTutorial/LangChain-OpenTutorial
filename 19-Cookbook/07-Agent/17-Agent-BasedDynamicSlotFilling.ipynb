{
  "cells": [
    {
      "cell_type": "markdown",
      "id": "635d8ebb",
      "metadata": {},
      "source": [
        "# Agent-Based Dynamic Slot Filling\n",
        "\n",
        "- Author: [Jongcheol Kim](https://github.com/greencode-99)\n",
        "- Design: \n",
        "- Peer Review: [kofsitho87](https://github.com/kofsitho87), [Heeah Kim](https://github.com/yellowGangneng) \n",
        "- This is a part of [LangChain Open Tutorial](https://github.com/LangChain-OpenTutorial/LangChain-OpenTutorial)\n",
        "\n",
        "[![Open in Colab](https://colab.research.google.com/assets/colab-badge.svg)](https://colab.research.google.com/github/LangChain-OpenTutorial/LangChain-OpenTutorial/blob/main/19-Cookbook/07-Agent/17-Agent-BasedDynamicSlotFilling.ipynb) [![Open in GitHub](https://img.shields.io/badge/Open%20in%20GitHub-181717?style=flat-square&logo=github&logoColor=white)](https://github.com/LangChain-OpenTutorial/LangChain-OpenTutorial/blob/main/19-Cookbook/07-Agent/17-Agent-BasedDynamicSlotFilling.ipynb)\n",
        "\n",
        "## Overview\n",
        "\n",
        "이 노트북은 LangGraph를 사용하여 레스토랑 예약을 위한 슬롯 필링 시스템을 구현합니다.\n",
        "\n",
        "### Table of Contents\n",
        "\n",
        "- [Overview](#overview)\n",
        "\n",
        "\n",
        "### References\n",
        "\n",
        "- [LangChain: Query Construction](https://blog.langchain.dev/query-construction/)\n",
        "- [LangGraph: Self-Reflective RAG](https://blog.langchain.dev/agentic-rag-with-langgraph/)\n",
        "----"
      ]
    },
    {
      "cell_type": "markdown",
      "id": "c6c7aba4",
      "metadata": {},
      "source": [
        "## Environment Setup\n",
        "\n",
        "Set up the environment. You may refer to [Environment Setup](https://wikidocs.net/257836) for more details.\n",
        "\n",
        "**[Note]**\n",
        "- `langchain-opentutorial` is a package that provides a set of easy-to-use environment setup, useful functions and utilities for tutorials. \n",
        "- You can checkout the [`langchain-opentutorial`](https://github.com/LangChain-OpenTutorial/langchain-opentutorial-pypi) for more details."
      ]
    },
    {
      "cell_type": "code",
      "execution_count": 1,
      "id": "21943adb",
      "metadata": {},
      "outputs": [],
      "source": [
        "%%capture --no-stderr\n",
        "!pip install langchain-opentutorial"
      ]
    },
    {
      "cell_type": "code",
      "execution_count": 2,
      "id": "f25ec196",
      "metadata": {},
      "outputs": [],
      "source": [
        "# Install required packages\n",
        "from langchain_opentutorial import package\n",
        "\n",
        "package.install(\n",
        "    [\n",
        "        \"langsmith\",\n",
        "        \"langchain\",\n",
        "        \"langchain_core\",\n",
        "        \"langchain_openai\",\n",
        "        \"langgraph\",\n",
        "    ],\n",
        "    verbose=False,\n",
        "    upgrade=False,\n",
        ")"
      ]
    },
    {
      "cell_type": "code",
      "execution_count": 3,
      "id": "7f9065ea",
      "metadata": {},
      "outputs": [
        {
          "name": "stdout",
          "output_type": "stream",
          "text": [
            "Environment variables have been set successfully.\n"
          ]
        }
      ],
      "source": [
        "# Set environment variables\n",
        "from langchain_opentutorial import set_env\n",
        "\n",
        "set_env(\n",
        "    {\n",
        "        \"OPENAI_API_KEY\": \"\",\n",
        "        \"LANGCHAIN_API_KEY\": \"\",\n",
        "        \"LANGCHAIN_TRACING_V2\": \"true\",\n",
        "        \"LANGCHAIN_ENDPOINT\": \"https://api.smith.langchain.com\",\n",
        "        \"LANGCHAIN_PROJECT\": \"Agent-Based-Dynamic-Slot-Filling\",  # title 과 동일하게 설정해 주세요\n",
        "    }\n",
        ")"
      ]
    },
    {
      "cell_type": "markdown",
      "id": "690a9ae0",
      "metadata": {},
      "source": [
        "You can alternatively set API keys such as `OPENAI_API_KEY` in a `.env` file and load them.\n",
        "\n",
        "[Note] This is not necessary if you've already set the required API keys in previous steps."
      ]
    },
    {
      "cell_type": "code",
      "execution_count": 4,
      "id": "4f99b5b6",
      "metadata": {},
      "outputs": [
        {
          "data": {
            "text/plain": [
              "True"
            ]
          },
          "execution_count": 4,
          "metadata": {},
          "output_type": "execute_result"
        }
      ],
      "source": [
        "# Load API keys from .env file\n",
        "from dotenv import load_dotenv\n",
        "\n",
        "load_dotenv(override=True)"
      ]
    },
    {
      "cell_type": "markdown",
      "id": "616661ad",
      "metadata": {},
      "source": [
        "## 참고 (이미지 파일명 관련)\n"
      ]
    },
    {
      "cell_type": "code",
      "execution_count": 5,
      "id": "17efec71",
      "metadata": {},
      "outputs": [],
      "source": [
        "# 필요한 라이브러리 임포트\n",
        "from typing import Dict, TypedDict, List, Tuple, Optional\n",
        "from datetime import datetime\n",
        "import json\n",
        "\n",
        "from langchain_openai import ChatOpenAI\n",
        "from langchain_core.prompts import ChatPromptTemplate\n",
        "from langgraph.graph import StateGraph, START, END\n",
        "from langgraph.prebuilt import ToolExecutor"
      ]
    },
    {
      "cell_type": "markdown",
      "id": "aa00c3f4",
      "metadata": {},
      "source": [
        "## State 정의\n",
        "TypedDict를 상속받아 대화 에이전트의 상태를 정의하는 클래스입니다."
      ]
    },
    {
      "cell_type": "code",
      "execution_count": 33,
      "id": "69cb77da",
      "metadata": {},
      "outputs": [],
      "source": [
        "# 상태 정의\n",
        "class State(TypedDict):\n",
        "    messages: List[str]\n",
        "    slots: Dict[str, str]\n",
        "    current_slot: Optional[str]\n",
        "    completed: bool"
      ]
    },
    {
      "cell_type": "markdown",
      "id": "de5c907d",
      "metadata": {},
      "source": [
        "## SLOT_EXTRACTION_TEMPLATE\n",
        "대화에서 레스토랑 예약 정보를 추출하기 위한 프롬프트 템플릿입니다."
      ]
    },
    {
      "cell_type": "code",
      "execution_count": 34,
      "id": "cab3d9e2",
      "metadata": {},
      "outputs": [],
      "source": [
        "# 슬롯 추출 프롬프트 템플릿\n",
        "SLOT_EXTRACTION_TEMPLATE = \"\"\"다음 대화에서 레스토랑 예약과 관련된 정보를 추출해주세요.\n",
        "필요한 정보:\n",
        "- restaurant_address: 레스토랑 주소/위치 (도시명만)\n",
        "- number_of_people: 인원 수 (숫자만)\n",
        "- reservation_datetime: 예약 일시 (YYYY/MM/DD HH:MM 형식)\n",
        "\n",
        "현재 슬롯 상태:\n",
        "{slots}\n",
        "\n",
        "대화:\n",
        "{messages}\n",
        "\n",
        "마지막 메시지:\n",
        "{last_message}\n",
        "\n",
        "JSON 형식으로 응답해주세요.\"\"\"\n",
        "\n",
        "slot_extraction_prompt = ChatPromptTemplate.from_template(SLOT_EXTRACTION_TEMPLATE)"
      ]
    },
    {
      "cell_type": "markdown",
      "id": "5200e582",
      "metadata": {},
      "source": [
        "## RESPONSE_TEMPLATE\n",
        "대화형 에이전트가 사용자와 자연스러운 대화를 통해 누락된 예약 정보를 수집하기 위한 프롬프트 템플릿입니다."
      ]
    },
    {
      "cell_type": "code",
      "execution_count": 35,
      "id": "7d95b783",
      "metadata": {},
      "outputs": [],
      "source": [
        "# 응답 생성 프롬프트 템플릿\n",
        "RESPONSE_TEMPLATE = \"\"\"친근한 톤으로 대화를 이어가며 누락된 정보를 수집하세요.\n",
        "\n",
        "현재 슬롯 상태:\n",
        "{slots}\n",
        "\n",
        "대화 기록:\n",
        "{messages}\n",
        "\n",
        "다음 규칙을 따르세요:\n",
        "1. restaurant_address가 null이면 위치를 물어보세요\n",
        "2. number_of_people이 null이면 인원 수를 물어보세요\n",
        "3. reservation_datetime이 null이면 예약 시간을 물어보세요\n",
        "4. 모든 정보가 수집되면 'Finish[yes]'를 출력하세요\n",
        "\n",
        "자연스러운 대화체로 응답하세요.\"\"\"\n",
        "\n",
        "response_prompt = ChatPromptTemplate.from_template(RESPONSE_TEMPLATE)"
      ]
    },
    {
      "cell_type": "markdown",
      "id": "7f12c03c",
      "metadata": {},
      "source": [
        "## 슬롯 추출 및 응답 생성 함수 정의\n",
        "- extract_slots \n",
        "    - 대화에서 예약 관련 정보를 추출하는 함수입니다.\n",
        "- generate_response \n",
        "    - 사용자와의 대화를 위한 응답을 생성하는 함수입니다."
      ]
    },
    {
      "cell_type": "code",
      "execution_count": 41,
      "id": "7588b8d0",
      "metadata": {},
      "outputs": [],
      "source": [
        "def extract_slots(state: State) -> State:\n",
        "    llm = ChatOpenAI(temperature=0)\n",
        "\n",
        "    last_message = state[\"messages\"][-1] if state[\"messages\"] else \"\"\n",
        "    chain = slot_extraction_prompt | llm\n",
        "\n",
        "    result = chain.invoke(\n",
        "        {\n",
        "            \"slots\": json.dumps(state[\"slots\"], ensure_ascii=False),\n",
        "            \"messages\": \"\\n\".join(state[\"messages\"]),\n",
        "            \"last_message\": last_message,\n",
        "        }\n",
        "    )\n",
        "\n",
        "    new_slots = json.loads(result.content)\n",
        "    state[\"slots\"].update(new_slots)\n",
        "\n",
        "    return state"
      ]
    },
    {
      "cell_type": "code",
      "execution_count": 42,
      "id": "8d6b9fbc",
      "metadata": {},
      "outputs": [],
      "source": [
        "def generate_response(state: State) -> State:\n",
        "    llm = ChatOpenAI(temperature=0.7)\n",
        "    chain = response_prompt | llm\n",
        "\n",
        "    result = chain.invoke(\n",
        "        {\n",
        "            \"slots\": json.dumps(state[\"slots\"], ensure_ascii=False),\n",
        "            \"messages\": \"\\n\".join(state[\"messages\"]),\n",
        "        }\n",
        "    )\n",
        "\n",
        "    response = result.content\n",
        "    state[\"messages\"].append(response)\n",
        "\n",
        "    # 모든 슬롯이 유효한 값으로 채워졌는지 확인\n",
        "    required_fields = {\n",
        "        \"restaurant_address\": state[\"slots\"][\"restaurant_address\"],\n",
        "        \"number_of_people\": state[\"slots\"][\"number_of_people\"],\n",
        "        \"reservation_datetime\": state[\"slots\"][\"reservation_datetime\"],\n",
        "    }\n",
        "\n",
        "    # 모든 필수 필드가 유효한 값을 가지고 있는지 확인\n",
        "    all_slots_filled = all(\n",
        "        value is not None\n",
        "        and value != \"null\"\n",
        "        and value.strip() != \"\"\n",
        "        and value != \"undefined\"\n",
        "        for value in required_fields.values()\n",
        "    )\n",
        "\n",
        "    # 모든 슬롯이 채워졌다면 완료 처리\n",
        "    if all_slots_filled:\n",
        "        state[\"completed\"] = True\n",
        "        response = (\n",
        "            f\"예약이 완료되었습니다!\\n\"\n",
        "            f\"위치: {state['slots']['restaurant_address']}\\n\"\n",
        "            f\"인원: {state['slots']['number_of_people']}명\\n\"\n",
        "            f\"일시: {state['slots']['reservation_datetime']}\"\n",
        "        )\n",
        "        state[\"messages\"].append(response)\n",
        "\n",
        "    return state"
      ]
    },
    {
      "cell_type": "markdown",
      "id": "9dc8a5d8",
      "metadata": {},
      "source": [
        "## Graph 생성\n",
        "그래프를 생성하고 노드와 엣지를 추가합니다."
      ]
    },
    {
      "cell_type": "code",
      "execution_count": 43,
      "id": "e1549b09",
      "metadata": {},
      "outputs": [],
      "source": [
        "# 그래프 생성\n",
        "workflow = StateGraph(State)\n",
        "\n",
        "# 노드 추가\n",
        "workflow.add_node(\"extract_slots\", extract_slots)\n",
        "workflow.add_node(\"generate_response\", generate_response)\n",
        "\n",
        "workflow.add_edge(START, \"extract_slots\")\n",
        "\n",
        "# 나머지 엣지 연결\n",
        "workflow.add_edge(\"extract_slots\", \"generate_response\")\n",
        "workflow.add_edge(\"generate_response\", END)\n",
        "\n",
        "# 그래프 컴파일\n",
        "app = workflow.compile()"
      ]
    },
    {
      "cell_type": "code",
      "execution_count": 38,
      "id": "f3ce7561",
      "metadata": {},
      "outputs": [
        {
          "data": {
            "image/png": "[encoded data removed]",
            "text/plain": [
              "<IPython.core.display.Image object>"
            ]
          },
          "metadata": {},
          "output_type": "display_data"
        }
      ],
      "source": [
        "from IPython.display import Image, display\n",
        "from langchain_core.runnables.graph import CurveStyle, MermaidDrawMethod, NodeStyles\n",
        "\n",
        "# Visualize the compiled StateGraph as a Mermaid diagram\n",
        "display(\n",
        "    Image(\n",
        "        app.get_graph().draw_mermaid_png(\n",
        "            draw_method=MermaidDrawMethod.API,\n",
        "        )\n",
        "    )\n",
        ")"
      ]
    },
    {
      "cell_type": "markdown",
      "id": "9c827511",
      "metadata": {},
      "source": [
        "## Example\n",
        "예약 시스템 실행"
      ]
    },
    {
      "cell_type": "code",
      "execution_count": 44,
      "id": "84d5150f",
      "metadata": {},
      "outputs": [
        {
          "name": "stdout",
          "output_type": "stream",
          "text": [
            "\n",
            "=== 레스토랑 예약 시스템 ===\n",
            "챗봇: 안녕하세요! 레스토랑 예약을 도와드리겠습니다.\n",
            "종료하시려면 'exit'를 입력해주세요.\n",
            "\n",
            "{'messages': ['내일 저녁 식사 예약해줘', '안녕하세요! 내일 저녁 식사 예약을 도와드릴게요. 먼저, 식사를 예약할 식당의 위치가 어디인지 알려주시겠어요?'], 'slots': {'restaurant_address': 'null', 'number_of_people': 'null', 'reservation_datetime': '2023/03/15 19:00'}, 'current_slot': None, 'completed': False}\n",
            "\n",
            "챗봇: 안녕하세요! 내일 저녁 식사 예약을 도와드릴게요. 먼저, 식사를 예약할 식당의 위치가 어디인지 알려주시겠어요?\n",
            "\n",
            "현재 수집된 정보:\n",
            "- restaurant_address: null\n",
            "- number_of_people: null\n",
            "- reservation_datetime: 2023/03/15 19:00\n",
            "{'messages': ['내일 저녁 식사 예약해줘', '안녕하세요! 내일 저녁 식사 예약을 도와드릴게요. 먼저, 식사를 예약할 식당의 위치가 어디인지 알려주시겠어요?', '경기도 성남', '식당 위치는 이미 알고 있네요. 그럼 예약하실 분들은 몇 명이신가요?'], 'slots': {'restaurant_address': '성남', 'number_of_people': 'null', 'reservation_datetime': '2023/03/15 19:00'}, 'current_slot': None, 'completed': False}\n",
            "\n",
            "챗봇: 식당 위치는 이미 알고 있네요. 그럼 예약하실 분들은 몇 명이신가요?\n",
            "\n",
            "현재 수집된 정보:\n",
            "- restaurant_address: 성남\n",
            "- number_of_people: null\n",
            "- reservation_datetime: 2023/03/15 19:00\n",
            "{'messages': ['내일 저녁 식사 예약해줘', '안녕하세요! 내일 저녁 식사 예약을 도와드릴게요. 먼저, 식사를 예약할 식당의 위치가 어디인지 알려주시겠어요?', '경기도 성남', '식당 위치는 이미 알고 있네요. 그럼 예약하실 분들은 몇 명이신가요?', '4명', '예약을 도와드리겠습니다! 예약하실 시간은 몇 시로 하시겠어요?'], 'slots': {'restaurant_address': '성남', 'number_of_people': '4', 'reservation_datetime': 'null'}, 'current_slot': None, 'completed': False}\n",
            "\n",
            "챗봇: 예약을 도와드리겠습니다! 예약하실 시간은 몇 시로 하시겠어요?\n",
            "\n",
            "현재 수집된 정보:\n",
            "- restaurant_address: 성남\n",
            "- number_of_people: 4\n",
            "- reservation_datetime: null\n",
            "{'messages': ['내일 저녁 식사 예약해줘', '안녕하세요! 내일 저녁 식사 예약을 도와드릴게요. 먼저, 식사를 예약할 식당의 위치가 어디인지 알려주시겠어요?', '경기도 성남', '식당 위치는 이미 알고 있네요. 그럼 예약하실 분들은 몇 명이신가요?', '4명', '예약을 도와드리겠습니다! 예약하실 시간은 몇 시로 하시겠어요?', '내일 17시', '식사 예약을 완료해드릴 수 있도록 모든 정보를 수집했어요. 예약하실 식당은 경기도 성남에 위치한 것으로 알고 있고, 함께 하실 분들은 총 4명이시네요. 예약하실 시간은 내일 17시로 잡아두겠습니다. 모든 정보가 정확한지 확인 부탁드려요. Finish[yes]', '예약이 완료되었습니다!\\n위치: 성남\\n인원: 4명\\n일시: 2023/03/01 17:00'], 'slots': {'restaurant_address': '성남', 'number_of_people': '4', 'reservation_datetime': '2023/03/01 17:00'}, 'current_slot': None, 'completed': True}\n",
            "\n",
            "챗봇: 예약이 완료되었습니다!\n",
            "위치: 성남\n",
            "인원: 4명\n",
            "일시: 2023/03/01 17:00\n",
            "\n",
            "현재 수집된 정보:\n",
            "- restaurant_address: 성남\n",
            "- number_of_people: 4\n",
            "- reservation_datetime: 2023/03/01 17:00\n",
            "\n",
            "모든 정보가 수집되었습니다. 예약이 완료되었습니다!\n"
          ]
        }
      ],
      "source": [
        "def chat():\n",
        "    # 초기 상태\n",
        "    initial_state = {\n",
        "        \"messages\": [],\n",
        "        \"slots\": {\n",
        "            \"restaurant_address\": \"null\",\n",
        "            \"number_of_people\": \"null\",\n",
        "            \"reservation_datetime\": \"null\",\n",
        "        },\n",
        "        \"current_slot\": None,\n",
        "        \"completed\": False,\n",
        "    }\n",
        "    state = initial_state.copy()\n",
        "\n",
        "    print(\"\\n=== 레스토랑 예약 시스템 ===\")\n",
        "    print(\"챗봇: 안녕하세요! 레스토랑 예약을 도와드리겠습니다.\")\n",
        "    print(\"종료하시려면 'exit'를 입력해주세요.\\n\")\n",
        "\n",
        "    while True:\n",
        "        user_input = input(\"\\n사용자: \")\n",
        "        if user_input.lower() == \"exit\":\n",
        "            print(\"\\n예약 시스템을 종료합니다.\")\n",
        "            break\n",
        "\n",
        "        state[\"messages\"].append(user_input)\n",
        "        new_state = app.invoke(state)\n",
        "        print(new_state)\n",
        "        print(f\"\\n챗봇: {new_state['messages'][-1]}\")\n",
        "        print(f\"\\n현재 수집된 정보:\")\n",
        "        for slot, value in new_state[\"slots\"].items():\n",
        "            print(f\"- {slot}: {value}\")\n",
        "\n",
        "        if new_state[\"completed\"]:\n",
        "            print(\"\\n모든 정보가 수집되었습니다. 예약이 완료되었습니다!\")\n",
        "            break\n",
        "\n",
        "        state = new_state\n",
        "\n",
        "\n",
        "chat()"
      ]
    }
  ],
  "metadata": {
    "kernelspec": {
      "display_name": "langchain-kr-lwwSZlnu-py3.11",
      "language": "python",
      "name": "python3"
    },
    "language_info": {
      "codemirror_mode": {
        "name": "ipython",
        "version": 3
      },
      "file_extension": ".py",
      "mimetype": "text/x-python",
      "name": "python",
      "nbconvert_exporter": "python",
      "pygments_lexer": "ipython3",
      "version": "3.11.11"
    }
  },
  "nbformat": 4,
  "nbformat_minor": 5
}
