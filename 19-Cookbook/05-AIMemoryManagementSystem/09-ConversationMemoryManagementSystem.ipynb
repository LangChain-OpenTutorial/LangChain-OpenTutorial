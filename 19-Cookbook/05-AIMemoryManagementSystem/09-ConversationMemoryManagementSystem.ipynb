{
 "cells": [
  {
   "cell_type": "markdown",
   "metadata": {},
   "source": [
    "# ConversationMemoryManagementSystem\n",
    "\n",
    "- Author: [syshin0116](https://github.com/syshin0116)\n",
    "- Design: \n",
    "- Peer Review:\n",
    "- This is a part of [LangChain Open Tutorial](https://github.com/LangChain-OpenTutorial/LangChain-OpenTutorial)\n",
    "\n",
    "[![Open in Colab](https://colab.research.google.com/assets/colab-badge.svg)](https://colab.research.google.com/github/LangChain-OpenTutorial/LangChain-OpenTutorial/blob/main/06-DocumentLoader/13-LlamaParse.ipynb) [![Open in GitHub](https://img.shields.io/badge/Open%20in%20GitHub-181717?style=flat-square&logo=github&logoColor=white)](https://github.com/LangChain-OpenTutorial/LangChain-OpenTutorial/blob/main/06-DocumentLoader/13-LlamaParse.ipynb)\n",
    "\n",
    "\n",
    "## Overview\n",
    "\n",
    "In modern AI systems, **memory management** plays a critical role in creating personalized and efficient user experiences. Imagine interacting with an AI that remembers nothing about your previous conversations—it would be frustrating to repeat the same information every time! To address this, memory management systems are designed to handle and organize information effectively.\n",
    "\n",
    "This guide focuses on managing **Short-term** and **Long-term Memory** for conversational AI, specifically for building personalized chatbots. We will explore two implementation paths:\n",
    "\n",
    "1. **Using LangGraph**: A structured and feature-rich framework for managing AI memory.\n",
    "2. **Without LangGraph**: A more manual, flexible approach for situations where LangGraph is unavailable.\n",
    "\n",
    "\n",
    "### What is Memory?\n",
    "\n",
    "Memory in AI refers to the ability to **store, retrieve, and use information** during interactions. In conversational systems, memory can enhance user experience by:\n",
    "\n",
    "- Adapting to user preferences\n",
    "- Handling repetitive queries automatically\n",
    "- Providing continuity across sessions\n",
    "\n",
    "### Short-term vs Long-term Memory\n",
    "\n",
    "|**Type**|**Scope**|**Purpose**|**Example**|\n",
    "|---|---|---|---|\n",
    "|**Short-term Memory**|Single conversational thread|Keeps track of recent interactions to provide immediate context|Remembering the last few messages in a chat|\n",
    "|**Long-term Memory**|Shared across multiple threads and sessions|Stores critical or summarized information to maintain continuity across conversations|Storing user preferences, important facts, or conversation summaries|\n",
    "\n",
    "- **Short-term Memory**: Ideal for maintaining the flow within a single conversation, like tracking the most recent messages.\n",
    "- **Long-term Memory**: Useful for creating personalized experiences by recalling past interactions, preferences, or key facts over time.\n",
    "\n",
    "## Table of Contents\n",
    "\n",
    "두가지 안 중에 고민중입니다. 편의성을 위해 초안엔 ##, ### 모두 포함했습니다.\n",
    "\n",
    "1안: LangGraph 사용법 더 자세히 설명\n",
    "\n",
    "2안: LangGraph 사용 + 미사용\n",
    "\n",
    "+ VectorDatabase 사용법도 추가하고 싶은 마음이 있습니다..시간되면..\n",
    "\n",
    "TODO: 1안, 2안 결정 + ### 제거\n",
    "\n",
    "### 1안, 2안 공통\n",
    "- [Overview](#overview)\n",
    "    - [What is Memory?](#what-is-memory)\n",
    "    - [Short-term vs Long-term Memory](#short-term-vs-long-term-memory)\n",
    "- [Environment Setup](#environment-setup)\n",
    "\n",
    "### 1안\n",
    "\n",
    "- [Construct Tool](#construct-tool)\n",
    "- [Set Nodes for Memory Storage](#set-nodes-for-memory-storage)\n",
    "- [Set Nodes for Agent](#set-nodes-for-agent)\n",
    "- [Conditional Edge Logic](#conditional-edge-logic)\n",
    "- [Load and Compile Graph](#load-and-compile-graph)\n",
    "- [Visualize Graph](#visualize-graph)\n",
    "- [Run Graph](#run-graph)\n",
    "\n",
    "### 2안\n",
    "- [Database Configuration](#database-configuration)\n",
    "- [Short Term Memory](#short-term-memory)\n",
    "    - [Checkpointer](#checkpointer)\n",
    "    - [Filtering Long Conversation History](#trimming-long-conversation-history)\n",
    "    - [Summarizing Conversations](#summarizing-conversations)\n",
    "- [Long Term Memory](#long-term-memory)\n",
    "    - [Storing Key Information](#storing-key-information)\n",
    "- [Memory types](#memory-types)\n",
    "    - [Semantic Memory](#semantic-memory)\n",
    "    - [Episodic Memory](#episodic-memory)\n",
    "    - [Procedural Memory](#proceduarl-memory)\n",
    "- [Usecase Examples](#usecase-examples)\n",
    "    - [Adapting to User Preferences](#adapting-to-user-preferences)\n",
    "    - [LangGraph Flow Example](#langgraph-flow-example)\n",
    "\n",
    "### References\n",
    "\n",
    "- [LangGraph: What-is-memory](https://langchain-ai.github.io/langgraph/concepts/memory/#what-is-memory)\n",
    "- [LangGraph: memory-template](https://github.com/langchain-ai/memory-template)\n",
    "- [LangChain-ai: memory-agent](https://github.com/langchain-ai/memory-agent)\n",
    "\n",
    "----"
   ]
  },
  {
   "cell_type": "markdown",
   "metadata": {},
   "source": [
    "## Environment Setup\n",
    "\n",
    "Set up the environment. You may refer to [Environment Setup](https://wikidocs.net/257836) for more details.\n",
    "\n",
    "**[Note]**\n",
    "- `langchain-opentutorial` is a package that provides a set of easy-to-use environment setup, useful functions and utilities for tutorials. \n",
    "- You can checkout the [`langchain-opentutorial`](https://github.com/LangChain-OpenTutorial/langchain-opentutorial-pypi) for more details."
   ]
  },
  {
   "cell_type": "code",
   "execution_count": 1,
   "metadata": {},
   "outputs": [],
   "source": [
    "%%capture --no-stderr\n",
    "%pip install langchain-opentutorial"
   ]
  },
  {
   "cell_type": "code",
   "execution_count": 2,
   "metadata": {},
   "outputs": [
    {
     "name": "stderr",
     "output_type": "stream",
     "text": [
      "\n",
      "\u001b[1m[\u001b[0m\u001b[34;49mnotice\u001b[0m\u001b[1;39;49m]\u001b[0m\u001b[39;49m A new release of pip is available: \u001b[0m\u001b[31;49m24.2\u001b[0m\u001b[39;49m -> \u001b[0m\u001b[32;49m24.3.1\u001b[0m\n",
      "\u001b[1m[\u001b[0m\u001b[34;49mnotice\u001b[0m\u001b[1;39;49m]\u001b[0m\u001b[39;49m To update, run: \u001b[0m\u001b[32;49mpip install --upgrade pip\u001b[0m\n"
     ]
    }
   ],
   "source": [
    "# Install required packages\n",
    "from langchain_opentutorial import package\n",
    "\n",
    "package.install(\n",
    "    [\n",
    "        \"langsmith\",\n",
    "        \"langchain\",\n",
    "        \"langchain_core\",\n",
    "        \"langchain_community\",\n",
    "        \"langchain_openai\",\n",
    "        \"langgraph\",\n",
    "        \"SQLAlchemy\",\n",
    "    ],\n",
    "    verbose=False,\n",
    "    upgrade=False,\n",
    ")"
   ]
  },
  {
   "cell_type": "code",
   "execution_count": 3,
   "metadata": {},
   "outputs": [
    {
     "name": "stdout",
     "output_type": "stream",
     "text": [
      "Environment variables have been set successfully.\n"
     ]
    }
   ],
   "source": [
    "# Set environment variables\n",
    "from langchain_opentutorial import set_env\n",
    "\n",
    "set_env(\n",
    "    {\n",
    "        \"OPENAI_API_KEY\": \"\",\n",
    "        \"LANGCHAIN_API_KEY\": \"\",\n",
    "        \"LANGCHAIN_TRACING_V2\": \"true\",\n",
    "        \"LANGCHAIN_ENDPOINT\": \"https://api.smith.langchain.com\",\n",
    "        \"LANGCHAIN_PROJECT\": \"09-ConversationMemoryManagementSystem\",\n",
    "    }\n",
    ")"
   ]
  },
  {
   "cell_type": "code",
   "execution_count": 4,
   "metadata": {},
   "outputs": [
    {
     "data": {
      "text/plain": [
       "True"
      ]
     },
     "execution_count": 4,
     "metadata": {},
     "output_type": "execute_result"
    }
   ],
   "source": [
    "# Load API keys from .env file\n",
    "from dotenv import load_dotenv\n",
    "\n",
    "load_dotenv(override=True)"
   ]
  },
  {
   "cell_type": "markdown",
   "metadata": {},
   "source": [
    "## Database Configuration\n",
    "\n",
    "In this section, we will set up an **SQLite database** to store Short-term and Long-term Memory information for our chatbot. SQLite is a lightweight, serverless database that is easy to set up and ideal for prototyping or small-scale applications.\n"
   ]
  },
  {
   "cell_type": "code",
   "execution_count": 5,
   "metadata": {},
   "outputs": [],
   "source": [
    "# SQLite Configuration"
   ]
  },
  {
   "cell_type": "code",
   "execution_count": 6,
   "metadata": {},
   "outputs": [],
   "source": [
    "# SQLite Table Configuration"
   ]
  },
  {
   "cell_type": "markdown",
   "metadata": {},
   "source": [
    "## Short Term Memory\n",
    "\n",
    "Short-term memory lets your application remember previous interactions within a single thread or conversation. A thread organizes multiple interactions in a session, similar to the way email groups messages in a single conversation.\n",
    "\n",
    "LangGraph manages short-term memory as part of the agent's state, persisted via thread-scoped checkpoints. This state can normally include the conversation history along with other stateful data, such as uploaded files, retrieved documents, or generated artifacts. By storing these in the graph's state, the bot can access the full context for a given conversation while maintaining separation between different threads.\n",
    "\n",
    "Since conversation history is the most common form of representing short-term memory, in the next section, we will cover techniques for managing conversation history when the list of messages becomes long. If you want to stick to the high-level concepts, continue on to the [Long Term Memory](#long-term-memory) section."
   ]
  },
  {
   "cell_type": "markdown",
   "metadata": {},
   "source": [
    "### Checkpointer"
   ]
  },
  {
   "cell_type": "code",
   "execution_count": 7,
   "metadata": {},
   "outputs": [],
   "source": [
    "from typing_extensions import TypedDict, Annotated\n",
    "from langchain_core.messages import AnyMessage\n",
    "from langgraph.graph.message import add_messages\n",
    "from typing import Union\n",
    "\n",
    "\n",
    "def manage_list(existing: list, updates: Union[list, dict]):\n",
    "    if isinstance(updates, list):\n",
    "        # Normal case, add to the history\n",
    "        return existing + updates\n",
    "    elif isinstance(updates, dict) and updates[\"type\"] == \"keep\":\n",
    "        # You get to decide what this looks like.\n",
    "        # For example, you could simplify and just accept a string \"DELETE\"\n",
    "        # and clear the entire list.\n",
    "        return existing[updates[\"from\"] : updates[\"to\"]]\n",
    "    # etc. We define how to interpret updates\n",
    "\n",
    "\n",
    "# Define State\n",
    "class FilterState(TypedDict):\n",
    "    messages: Annotated[list[AnyMessage], add_messages]  # short term memory\n",
    "    summary: list[dict]  # long term memory\n",
    "    my_list: Annotated[list, manage_list]"
   ]
  },
  {
   "cell_type": "code",
   "execution_count": 8,
   "metadata": {},
   "outputs": [],
   "source": [
    "# Load Checkpointer, In-emory storate\n",
    "from langgraph.store.memory import InMemoryStore\n",
    "\n",
    "in_memory_store = InMemoryStore()"
   ]
  },
  {
   "cell_type": "code",
   "execution_count": 9,
   "metadata": {},
   "outputs": [],
   "source": [
    "import uuid\n",
    "from langchain_openai import ChatOpenAI\n",
    "from langchain_core.runnables import RunnableConfig\n",
    "from langgraph.graph import StateGraph, MessagesState, START, END\n",
    "from langgraph.store.base import BaseStore\n",
    "from typing import Annotated, Optional"
   ]
  },
  {
   "cell_type": "markdown",
   "metadata": {},
   "source": [
    "## Construct Tool"
   ]
  },
  {
   "cell_type": "code",
   "execution_count": 10,
   "metadata": {},
   "outputs": [],
   "source": [
    "from langchain_core.tools import InjectedToolArg, tool\n",
    "\n",
    "\n",
    "@tool\n",
    "def upsert_memory(\n",
    "    content: str,\n",
    "    context: str,\n",
    "    memory_id: Optional[str] = None,\n",
    "    *,\n",
    "    config: Annotated[RunnableConfig, InjectedToolArg],\n",
    "    store: Annotated[BaseStore, InjectedToolArg],\n",
    "):\n",
    "    \"\"\"Upsert a memory in the database.\n",
    "\n",
    "    If a memory conflicts with an existing one, then just UPDATE the\n",
    "    existing one by passing in memory_id - don't create two memories\n",
    "    that are the same. If the user corrects a memory, UPDATE it.\n",
    "\n",
    "    Args:\n",
    "        content: The main content of the memory. For example:\n",
    "            \"User expressed interest in learning about French.\"\n",
    "        context: Additional context for the memory. For example:\n",
    "            \"This was mentioned while discussing career options in Europe.\"\n",
    "        memory_id: ONLY PROVIDE IF UPDATING AN EXISTING MEMORY.\n",
    "        The memory to overwrite.\n",
    "    \"\"\"\n",
    "    mem_id = memory_id or uuid.uuid4()\n",
    "    user_id = config[\"configurable\"][\"user_id\"]\n",
    "    store.put(\n",
    "        (\"memories\", user_id),\n",
    "        key=str(mem_id),\n",
    "        value={\"content\": content, \"context\": context},\n",
    "    )\n",
    "    return f\"Stored memory {content}\""
   ]
  },
  {
   "cell_type": "markdown",
   "metadata": {},
   "source": [
    "## Set Nodes for Memory Storage"
   ]
  },
  {
   "cell_type": "code",
   "execution_count": 11,
   "metadata": {},
   "outputs": [],
   "source": [
    "def store_memory(state: MessagesState, config: RunnableConfig, store: BaseStore):\n",
    "    # Extract tool calls from the last message\n",
    "    tool_calls = state[\"messages\"][-1].tool_calls\n",
    "    saved_memories = []\n",
    "    for tc in tool_calls:\n",
    "        content = tc[\"args\"][\"content\"]\n",
    "        context = tc[\"args\"][\"context\"]\n",
    "        saved_memories.append(\n",
    "            [\n",
    "                upsert_memory.invoke(\n",
    "                    {\n",
    "                        \"content\": content,\n",
    "                        \"context\": context,\n",
    "                        \"config\": config,\n",
    "                        \"store\": store,\n",
    "                    }\n",
    "                )\n",
    "            ]\n",
    "        )\n",
    "    print(\"saved_memories: \", saved_memories)\n",
    "\n",
    "    results = [\n",
    "        {\n",
    "            \"role\": \"tool\",\n",
    "            \"content\": mem[0],\n",
    "            \"tool_call_id\": tc[\"id\"],\n",
    "        }\n",
    "        for tc, mem in zip(tool_calls, saved_memories)\n",
    "    ]\n",
    "    print(results)\n",
    "    return {\"messages\": results[0]}"
   ]
  },
  {
   "cell_type": "markdown",
   "metadata": {},
   "source": [
    "## Set Nodes for Agent"
   ]
  },
  {
   "cell_type": "code",
   "execution_count": 12,
   "metadata": {},
   "outputs": [],
   "source": [
    "model = ChatOpenAI(model=\"gpt-4o\", temperature=0.7, streaming=True)"
   ]
  },
  {
   "cell_type": "code",
   "execution_count": 13,
   "metadata": {},
   "outputs": [],
   "source": [
    "def call_model(state: MessagesState, config: RunnableConfig, *, store: BaseStore):\n",
    "    user_id = config[\"configurable\"][\"user_id\"]\n",
    "    namespace = (\"memories\", user_id)\n",
    "    memories = store.search(namespace)\n",
    "    info = \"\\n\".join(f\"[{mem.key}]: {mem.value}\" for mem in memories)\n",
    "    if info:\n",
    "        info = f\"\"\"\n",
    "    <memories>\n",
    "    {info}\n",
    "    </memories>\"\"\"\n",
    "\n",
    "    system_msg = f\"\"\"You are a helpful assistant talking to the user. You must decide whether to store information as memory from list of messages and then answer the user query or directly answer the user query\n",
    "        User context info: {info}\"\"\"\n",
    "    print(\"system_msg:\", system_msg)\n",
    "    # Store new memories if the user asks the model to remember\n",
    "    last_message = state[\"messages\"][-1]\n",
    "    print([{\"type\": \"system\", \"content\": system_msg}] + state[\"messages\"])\n",
    "    response = model.bind_tools([upsert_memory]).invoke(\n",
    "        [{\"type\": \"system\", \"content\": system_msg}] + state[\"messages\"]\n",
    "    )\n",
    "    return {\"messages\": response}"
   ]
  },
  {
   "cell_type": "markdown",
   "metadata": {},
   "source": [
    "## Conditional Edge Logic"
   ]
  },
  {
   "cell_type": "code",
   "execution_count": 14,
   "metadata": {},
   "outputs": [],
   "source": [
    "def route_message(state: MessagesState):\n",
    "    \"\"\"Determine the next step based on the presence of tool calls.\"\"\"\n",
    "    msg = state[\"messages\"][-1]\n",
    "    if msg.tool_calls:\n",
    "        # If there are tool calls, we need to store memories\n",
    "        return \"store_memory\"\n",
    "    # Otherwise, finish; user can send the next message\n",
    "    return END"
   ]
  },
  {
   "cell_type": "markdown",
   "metadata": {},
   "source": [
    "## Load and Compile Graph"
   ]
  },
  {
   "cell_type": "code",
   "execution_count": 15,
   "metadata": {},
   "outputs": [],
   "source": [
    "builder = StateGraph(MessagesState)\n",
    "\n",
    "builder.add_node(\"call_model\", call_model)\n",
    "builder.add_node(store_memory)\n",
    "\n",
    "builder.add_edge(START, \"call_model\")\n",
    "builder.add_conditional_edges(\"call_model\", route_message, [\"store_memory\", END])\n",
    "builder.add_edge(\"store_memory\", \"call_model\")\n",
    "\n",
    "graph = builder.compile(store=in_memory_store)"
   ]
  },
  {
   "cell_type": "markdown",
   "metadata": {},
   "source": [
    "## Visualize Graph"
   ]
  },
  {
   "cell_type": "code",
   "execution_count": 16,
   "metadata": {},
   "outputs": [
    {
     "data": {
      "image/png": "[encoded data removed]",
      "text/plain": [
       "<IPython.core.display.Image object>"
      ]
     },
     "metadata": {},
     "output_type": "display_data"
    }
   ],
   "source": [
    "from IPython.display import Image, display\n",
    "from langchain_core.runnables.graph import CurveStyle, MermaidDrawMethod, NodeStyles\n",
    "\n",
    "display(\n",
    "    Image(\n",
    "        graph.get_graph().draw_mermaid_png(\n",
    "            draw_method=MermaidDrawMethod.API,\n",
    "        )\n",
    "    )\n",
    ")"
   ]
  },
  {
   "cell_type": "markdown",
   "metadata": {},
   "source": [
    "## Run graph"
   ]
  },
  {
   "cell_type": "code",
   "execution_count": 17,
   "metadata": {},
   "outputs": [
    {
     "name": "stdout",
     "output_type": "stream",
     "text": [
      "================================\u001b[1m Human Message \u001b[0m=================================\n",
      "\n",
      "Hi! My name is LangChain. I love keep updated on Latest Tech\n",
      "system_msg: You are a helpful assistant talking to the user. You must decide whether to store information as memory from list of messages and then answer the user query or directly answer the user query\n",
      "        User context info: \n",
      "[{'type': 'system', 'content': 'You are a helpful assistant talking to the user. You must decide whether to store information as memory from list of messages and then answer the user query or directly answer the user query\\n        User context info: '}, HumanMessage(content='Hi! My name is LangChain. I love keep updated on Latest Tech', additional_kwargs={}, response_metadata={}, id='2e3fa22d-fb38-496b-9fc1-355cbb716077')]\n",
      "==================================\u001b[1m Ai Message \u001b[0m==================================\n",
      "Tool Calls:\n",
      "  upsert_memory (call_HzLinSecG8ZvN2JY2Ul9GzE3)\n",
      " Call ID: call_HzLinSecG8ZvN2JY2Ul9GzE3\n",
      "  Args:\n",
      "    content: User loves staying updated on the latest tech.\n",
      "    context: User introduced themselves as LangChain and expressed their interest in technology.\n",
      "saved_memories:  [['Stored memory User loves staying updated on the latest tech.']]\n",
      "[{'role': 'tool', 'content': 'Stored memory User loves staying updated on the latest tech.', 'tool_call_id': 'call_HzLinSecG8ZvN2JY2Ul9GzE3'}]\n",
      "=================================\u001b[1m Tool Message \u001b[0m=================================\n",
      "\n",
      "Stored memory User loves staying updated on the latest tech.\n",
      "system_msg: You are a helpful assistant talking to the user. You must decide whether to store information as memory from list of messages and then answer the user query or directly answer the user query\n",
      "        User context info: \n",
      "    <memories>\n",
      "    [0056b832-4cfc-42f5-8da6-da0212ed38c1]: {'content': 'User loves staying updated on the latest tech.', 'context': 'User introduced themselves as LangChain and expressed their interest in technology.'}\n",
      "    </memories>\n",
      "[{'type': 'system', 'content': \"You are a helpful assistant talking to the user. You must decide whether to store information as memory from list of messages and then answer the user query or directly answer the user query\\n        User context info: \\n    <memories>\\n    [0056b832-4cfc-42f5-8da6-da0212ed38c1]: {'content': 'User loves staying updated on the latest tech.', 'context': 'User introduced themselves as LangChain and expressed their interest in technology.'}\\n    </memories>\"}, HumanMessage(content='Hi! My name is LangChain. I love keep updated on Latest Tech', additional_kwargs={}, response_metadata={}, id='2e3fa22d-fb38-496b-9fc1-355cbb716077'), AIMessage(content='', additional_kwargs={'tool_calls': [{'index': 0, 'id': 'call_HzLinSecG8ZvN2JY2Ul9GzE3', 'function': {'arguments': '{\"content\":\"User loves staying updated on the latest tech.\",\"context\":\"User introduced themselves as LangChain and expressed their interest in technology.\"}', 'name': 'upsert_memory'}, 'type': 'function'}]}, response_metadata={'finish_reason': 'tool_calls', 'model_name': 'gpt-4o-2024-08-06', 'system_fingerprint': 'fp_5f20662549'}, id='run-fc760f0e-afa9-48c0-b64a-48eefc62f4bf-0', tool_calls=[{'name': 'upsert_memory', 'args': {'content': 'User loves staying updated on the latest tech.', 'context': 'User introduced themselves as LangChain and expressed their interest in technology.'}, 'id': 'call_HzLinSecG8ZvN2JY2Ul9GzE3', 'type': 'tool_call'}]), ToolMessage(content='Stored memory User loves staying updated on the latest tech.', id='54ab0feb-5e6f-44db-9609-94ee4100322f', tool_call_id='call_HzLinSecG8ZvN2JY2Ul9GzE3')]\n",
      "==================================\u001b[1m Ai Message \u001b[0m==================================\n",
      "\n",
      "Hello LangChain! It's great to meet someone who's passionate about staying updated on the latest tech. How can I assist you today?\n"
     ]
    }
   ],
   "source": [
    "config = {\"configurable\": {\"thread_id\": \"1\", \"user_id\": \"1\"}}\n",
    "input_message = {\n",
    "    \"type\": \"user\",\n",
    "    \"content\": \"Hi! My name is LangChain. I love keep updated on Latest Tech\",\n",
    "}\n",
    "for chunk in graph.stream({\"messages\": [input_message]}, config, stream_mode=\"values\"):\n",
    "    chunk[\"messages\"][-1].pretty_print()"
   ]
  }
 ],
 "metadata": {
  "kernelspec": {
   "display_name": "langchain-opentutorial-F0L5SJfm-py3.11",
   "language": "python",
   "name": "python3"
  },
  "language_info": {
   "codemirror_mode": {
    "name": "ipython",
    "version": 3
   },
   "file_extension": ".py",
   "mimetype": "text/x-python",
   "name": "python",
   "nbconvert_exporter": "python",
   "pygments_lexer": "ipython3",
   "version": "3.11.5"
  }
 },
 "nbformat": 4,
 "nbformat_minor": 2
}
