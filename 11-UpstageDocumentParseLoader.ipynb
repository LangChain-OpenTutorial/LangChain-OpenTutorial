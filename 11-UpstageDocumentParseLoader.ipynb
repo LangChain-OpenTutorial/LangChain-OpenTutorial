{
  "cells": [
    {
      "cell_type": "markdown",
      "metadata": {},
      "source": [
        "# UpstageDocumentParseLoader \n",
        "- Author: [Taylor(Jihyun Kim)](https://github.com/Taylor0819)\n",
        "- Design: \n",
        "- Peer Review : [JoonHo Kim](https://github.com/jhboyo), [Jaemin Hong](https://github.com/geminii01), [leebeanbin](https://github.com/leebeanbin), [Dooil Kwak](https://github.com/back2zion)\n",
        "- This is a part of [LangChain Open Tutorial](https://github.com/LangChain-OpenTutorial/LangChain-OpenTutorial)\n",
        "\n",
        "[![Open in Colab](https://colab.research.google.com/assets/colab-badge.svg)](https://colab.research.google.com/github/LangChain-OpenTutorial/LangChain-OpenTutorial/blob/main/06-DocumentLoader/12-UpstageDocumentParseLoader.ipynb) [![Open in GitHub](https://img.shields.io/badge/Open%20in%20GitHub-181717?style=flat-square&logo=github&logoColor=white)](https://github.com/LangChain-OpenTutorial/LangChain-OpenTutorial/blob/main/06-DocumentLoader/12-UpstageDocumentParseLoader.ipynb)\n"
      ]
    },
    {
      "cell_type": "markdown",
      "metadata": {},
      "source": [
        "## Overview \n",
        "\n",
        "The `UpstageDocumentParseLoader` is a robust document analysis tool designed by Upstage that seamlessly integrates with the LangChain framework as a document loader. It specializes in transforming documents into structured HTML by analyzing their layout and content.\n",
        "\n",
        "**Key Features** :\n",
        "\n",
        "-\tComprehensive Layout Analysis : \n",
        "\tAnalyzes and identifies structural elements like headings, paragraphs, tables, and images across various document formats (e.g., PDFs, images).\n",
        "\n",
        "-\tAutomated Structural Recognition : \n",
        "\tAutomatically detects and serializes document elements based on reading order for accurate conversion to HTML.\n",
        "\n",
        "-\tOptional OCR Support : \n",
        "\tIncludes optical character recognition for handling scanned or image-based documents. The OCR mode supports:\n",
        "\t\n",
        "\t`force` : Extracts text from images using OCR.\n",
        "\t\n",
        "\t`auto` : Extracts text from PDFs (throws an error if the input is not in PDF format).\n",
        "\n",
        "By recognizing and preserving the relationships between document elements, the `UpstageDocumentParseLoader` enables precise and context-aware document analysis.\n",
        "\n",
        "**Migration from Layout Analysis** :\n",
        "Upstage has launched Document Parse to replace Layout Analysis! Document Parse now supports a wider range of document types, markdown output, chart detection, equation recognition, and additional features planned for upcoming releases. The last version of Layout Analysis, layout-analysis-0.4.0, will be officially discontinued by November 10, 2024."
      ]
    },
    {
      "cell_type": "markdown",
      "metadata": {},
      "source": [
        "### Table of Contents \n",
        "\n",
        "- [Overview](#overview)\n",
        "- [Key Changes from Layout Analysis](#key-changes-from-layout-analysis)\n",
        "- [Environment Setup](#environment-setup)\n",
        "- [UpstageDocumentParseLoader Key Parameters](#upstagedocumentparseloader-key-parameters)\n",
        "- [Usage Example](#usage-example)"
      ]
    },
    {
      "cell_type": "markdown",
      "metadata": {},
      "source": [
        "### Key Changes from Layout Analysis\n",
        "\n",
        "**Changes to Existing Options** :\n",
        "1. `use_ocr` → `ocr` \n",
        "   \n",
        "   `use_ocr` option has been replaced with `ocr` . Instead of `True/False` , it now accepts `force` or `auto` for more precise control.\n",
        "\n",
        "2. `output_type` → `output_format` \n",
        "   \n",
        "   `output_type` option has been renamed to `output_format` for specifying the format of the output.\n",
        "\n",
        "3. `exclude` → `base64_encoding`\n",
        "\n",
        "    The `exclude` option has been replaced with `base64_encoding` . While `exclude` was used to exclude specific elements from the output, `base64_encoding` specifies whether to encode elements of certain categories in Base64.\n",
        "   "
      ]
    },
    {
      "cell_type": "markdown",
      "metadata": {},
      "source": [
        "### References\n",
        "- [UpstageDocumentParseLoader](https://python.langchain.com/api_reference/upstage/document_parse/langchain_upstage.document_parse.UpstageDocumentParseLoader.html)\n",
        "- [UpstageLayoutAnalysisLoader](https://python.langchain.com/api_reference/upstage/layout_analysis/langchain_upstage.layout_analysis.UpstageLayoutAnalysisLoader.html)\n",
        "- [Upstage Migrate to Document Parse from Layout Analysis](https://console.upstage.ai/docs/capabilities/document-parse/migration-dp)"
      ]
    },
    {
      "cell_type": "markdown",
      "metadata": {},
      "source": [
        "----"
      ]
    },
    {
      "cell_type": "markdown",
      "metadata": {},
      "source": [
        "## Environment Setup\n",
        "Set up the environment. You may refer to [Environment Setup](https://wikidocs.net/257836) for more details.\n",
        "\n",
        "**[Note]** \n",
        "\n",
        "- `langchain-opentutorial` is a package that provides a set of easy-to-use environment setup, useful functions and utilities for tutorials.\n",
        "- You can checkout the [`langchain-opentutorial`](https://github.com/LangChain-OpenTutorial/langchain-opentutorial-pypi) for more details.\n",
        "\n",
        "\n",
        "### API Key Configuration\n",
        "To use `UpstageDocumentParseLoader` , you need to [obtain a Upstage API key](https://console.upstage.ai/api-keys).\n",
        "\n",
        "Once you have your API key, set it as the value for the variable `UPSTAGE_API_KEY` .\n"
      ]
    },
    {
      "cell_type": "code",
      "execution_count": 1,
      "metadata": {},
      "outputs": [],
      "source": [
        "%%capture --no-stderr\n",
        "%pip install langchain-opentutorial"
      ]
    },
    {
      "cell_type": "code",
      "execution_count": 2,
      "metadata": {},
      "outputs": [],
      "source": [
        "# Install required packages\n",
        "from langchain_opentutorial import package\n",
        "\n",
        "package.install(\n",
        "    [\n",
        "        \"langsmith\",\n",
        "        \"langchain_upstage\",\n",
        "    ],\n",
        "    verbose=False,\n",
        "    upgrade=False,\n",
        ")"
      ]
    },
    {
      "cell_type": "code",
      "execution_count": 4,
      "metadata": {},
      "outputs": [
        {
          "name": "stdout",
          "output_type": "stream",
          "text": [
            "Environment variables have been set successfully.\n"
          ]
        }
      ],
      "source": [
        "# Set environment variables\n",
        "from langchain_opentutorial import set_env\n",
        "\n",
        "set_env(\n",
        "    {\n",
        "        \"UPSTAGE_API_KEY\": \"\",\n",
        "        \"LANGCHAIN_API_KEY\": \"\",\n",
        "        \"LANGCHAIN_TRACING_V2\": \"true\",\n",
        "        \"LANGCHAIN_ENDPOINT\": \"https://api.smith.langchain.com\",\n",
        "        \"LANGCHAIN_PROJECT\": \"12-UpstageDocumentParseLoader\",\n",
        "    }\n",
        ")"
      ]
    },
    {
      "cell_type": "markdown",
      "metadata": {},
      "source": [
        "You can alternatively set `UPSTAGE_API_KEY` in .env file and load it.\n",
        "\n",
        "[Note] This is not necessary if you've already set `UPSTAGE_API_KEY` in previous steps."
      ]
    },
    {
      "cell_type": "code",
      "execution_count": 5,
      "metadata": {},
      "outputs": [
        {
          "ename": "ModuleNotFoundError",
          "evalue": "No module named 'dotenv'",
          "output_type": "error",
          "traceback": [
            "\u001b[1;31m---------------------------------------------------------------------------\u001b[0m",
            "\u001b[1;31mModuleNotFoundError\u001b[0m                       Traceback (most recent call last)",
            "Cell \u001b[1;32mIn[5], line 1\u001b[0m\n\u001b[1;32m----> 1\u001b[0m \u001b[38;5;28;01mfrom\u001b[39;00m \u001b[38;5;21;01mdotenv\u001b[39;00m \u001b[38;5;28;01mimport\u001b[39;00m load_dotenv\n\u001b[0;32m      3\u001b[0m load_dotenv(override\u001b[38;5;241m=\u001b[39m\u001b[38;5;28;01mTrue\u001b[39;00m)\n",
            "\u001b[1;31mModuleNotFoundError\u001b[0m: No module named 'dotenv'"
          ]
        }
      ],
      "source": [
        "from dotenv import load_dotenv\n",
        "\n",
        "load_dotenv(override=True)"
      ]
    },
    {
      "cell_type": "code",
      "execution_count": 6,
      "metadata": {},
      "outputs": [],
      "source": [
        "import os\n",
        "import nest_asyncio\n",
        "\n",
        "# Allow async\n",
        "nest_asyncio.apply()"
      ]
    },
    {
      "cell_type": "markdown",
      "metadata": {},
      "source": [
        "## UpstageDocumentParseLoader Key Parameters\n",
        "\n",
        "- `file_path` : Path(s) to the document(s) to be analyzed\n",
        "- `split` : Document splitting mode [default: 'none', 'element', 'page']\n",
        "- `model` : Model name for document parsing [default: 'document-parse']\n",
        "- `ocr` : OCR mode [\"force\" (always OCR), \"auto\" (PDF-only)]\n",
        "- `output_format` : Format of the analysis results [default: 'html', 'text', 'markdown']\n",
        "- `coordinates` : Include OCR coordinates in the output [default: True]\n",
        "- `base64_encoding` : List of element categories to be base64-encoded ['paragraph', 'table', 'figure', 'header', 'footer', 'list', 'chart', '...']"
      ]
    },
    {
      "cell_type": "markdown",
      "metadata": {},
      "source": [
        "## Usage Example\n",
        "Let's try running a code example here using `UpstageDocumentParseLoader` .\n",
        "\n",
        "### Data Preparation\n",
        "\n",
        "In this tutorial, we will use the following pdf file:\n",
        "\n",
        "- Download Link: [Modular-RAG: Transforming RAG Systems into LEGO-like Reconfigurable Frameworks](https://arxiv.org/abs/2407.21059)\n",
        "- File name: \"2407.21059.pdf\"\n",
        "- File path: \"./data/2407.21059.pdf\"\n",
        " \n",
        "After downloading the PDF file from the provided link, create a data folder in the current directory and save the PDF file into that folder.\n"
      ]
    },
    {
      "cell_type": "code",
      "execution_count": 7,
      "metadata": {},
      "outputs": [
        {
          "name": "stdout",
          "output_type": "stream",
          "text": [
            "PDF downloaded and saved to: ./data/2407.21059.pdf\n"
          ]
        }
      ],
      "source": [
        "# Download and save sample PDF file to ./data directory\n",
        "import requests\n",
        "\n",
        "def download_pdf(url, save_path):\n",
        "    \"\"\"\n",
        "    Downloads a PDF file from the given URL and saves it to the specified path.\n",
        "\n",
        "    Args:\n",
        "        url (str): The URL of the PDF file to download.\n",
        "        save_path (str): The full path (including file name) where the file will be saved.\n",
        "    \"\"\"\n",
        "    try:\n",
        "        # Ensure the directory exists\n",
        "        os.makedirs(os.path.dirname(save_path), exist_ok=True)\n",
        "\n",
        "        # Download the file\n",
        "        response = requests.get(url, stream=True)\n",
        "        response.raise_for_status()  # Raise an error for bad status codes\n",
        "\n",
        "        # Save the file to the specified path\n",
        "        with open(save_path, \"wb\") as file:\n",
        "            for chunk in response.iter_content(chunk_size=8192):\n",
        "                file.write(chunk)\n",
        "\n",
        "        print(f\"PDF downloaded and saved to: {save_path}\")\n",
        "    except Exception as e:\n",
        "        print(f\"An error occurred while downloading the file: {e}\")\n",
        "\n",
        "\n",
        "# Configuration for the PDF file\n",
        "pdf_url = \"https://arxiv.org/pdf/2407.21059\"\n",
        "file_path = \"./data/2407.21059.pdf\"\n",
        "\n",
        "# Download the PDF\n",
        "download_pdf(pdf_url, file_path)"
      ]
    },
    {
      "cell_type": "code",
      "execution_count": 8,
      "metadata": {},
      "outputs": [],
      "source": [
        "# Set file path\n",
        "FILE_PATH = \"data/2407.21059.pdf\"  # modify to your file path"
      ]
    },
    {
      "cell_type": "code",
      "execution_count": 9,
      "metadata": {},
      "outputs": [
        {
          "ename": "ValueError",
          "evalue": "HTTP error: {\"error\":{\"message\":\"API key is invalid, please check out our API reference page (https://console.upstage.ai/docs/getting-started/overview)\",\"type\":\"invalid_request_error\",\"param\":\"\",\"code\":\"invalid_api_key\"}}",
          "output_type": "error",
          "traceback": [
            "\u001b[1;31m---------------------------------------------------------------------------\u001b[0m",
            "\u001b[1;31mHTTPError\u001b[0m                                 Traceback (most recent call last)",
            "File \u001b[1;32mc:\\Users\\rhkre\\.conda\\envs\\py38tensorflow\\lib\\site-packages\\langchain_upstage\\document_parse_parsers.py:181\u001b[0m, in \u001b[0;36mUpstageDocumentParseParser._get_response\u001b[1;34m(self, files)\u001b[0m\n\u001b[0;32m    169\u001b[0m response \u001b[38;5;241m=\u001b[39m requests\u001b[38;5;241m.\u001b[39mpost(\n\u001b[0;32m    170\u001b[0m     \u001b[38;5;28mself\u001b[39m\u001b[38;5;241m.\u001b[39mbase_url,\n\u001b[0;32m    171\u001b[0m     headers\u001b[38;5;241m=\u001b[39mheaders,\n\u001b[1;32m   (...)\u001b[0m\n\u001b[0;32m    179\u001b[0m     },\n\u001b[0;32m    180\u001b[0m )\n\u001b[1;32m--> 181\u001b[0m \u001b[43mresponse\u001b[49m\u001b[38;5;241;43m.\u001b[39;49m\u001b[43mraise_for_status\u001b[49m\u001b[43m(\u001b[49m\u001b[43m)\u001b[49m\n\u001b[0;32m    182\u001b[0m result \u001b[38;5;241m=\u001b[39m response\u001b[38;5;241m.\u001b[39mjson()\u001b[38;5;241m.\u001b[39mget(\u001b[38;5;124m\"\u001b[39m\u001b[38;5;124melements\u001b[39m\u001b[38;5;124m\"\u001b[39m, [])\n",
            "File \u001b[1;32mc:\\Users\\rhkre\\.conda\\envs\\py38tensorflow\\lib\\site-packages\\requests\\models.py:1021\u001b[0m, in \u001b[0;36mResponse.raise_for_status\u001b[1;34m(self)\u001b[0m\n\u001b[0;32m   1020\u001b[0m \u001b[38;5;28;01mif\u001b[39;00m http_error_msg:\n\u001b[1;32m-> 1021\u001b[0m     \u001b[38;5;28;01mraise\u001b[39;00m HTTPError(http_error_msg, response\u001b[38;5;241m=\u001b[39m\u001b[38;5;28mself\u001b[39m)\n",
            "\u001b[1;31mHTTPError\u001b[0m: 401 Client Error: Unauthorized for url: https://api.upstage.ai/v1/document-ai/document-parse",
            "\nDuring handling of the above exception, another exception occurred:\n",
            "\u001b[1;31mValueError\u001b[0m                                Traceback (most recent call last)",
            "Cell \u001b[1;32mIn[9], line 14\u001b[0m\n\u001b[0;32m      4\u001b[0m loader \u001b[38;5;241m=\u001b[39m UpstageDocumentParseLoader(\n\u001b[0;32m      5\u001b[0m     FILE_PATH,\n\u001b[0;32m      6\u001b[0m     output_format\u001b[38;5;241m=\u001b[39m\u001b[38;5;124m\"\u001b[39m\u001b[38;5;124mhtml\u001b[39m\u001b[38;5;124m\"\u001b[39m,\n\u001b[1;32m   (...)\u001b[0m\n\u001b[0;32m     10\u001b[0m     base64_encoding\u001b[38;5;241m=\u001b[39m[\u001b[38;5;124m\"\u001b[39m\u001b[38;5;124mchart\u001b[39m\u001b[38;5;124m\"\u001b[39m],\n\u001b[0;32m     11\u001b[0m )\n\u001b[0;32m     13\u001b[0m \u001b[38;5;66;03m# Load the document\u001b[39;00m\n\u001b[1;32m---> 14\u001b[0m docs \u001b[38;5;241m=\u001b[39m \u001b[43mloader\u001b[49m\u001b[38;5;241;43m.\u001b[39;49m\u001b[43mload\u001b[49m\u001b[43m(\u001b[49m\u001b[43m)\u001b[49m\n\u001b[0;32m     16\u001b[0m \u001b[38;5;66;03m# Print the results\u001b[39;00m\n\u001b[0;32m     17\u001b[0m \u001b[38;5;28;01mfor\u001b[39;00m doc \u001b[38;5;129;01min\u001b[39;00m docs[:\u001b[38;5;241m2\u001b[39m]:\n",
            "File \u001b[1;32mc:\\Users\\rhkre\\.conda\\envs\\py38tensorflow\\lib\\site-packages\\langchain_upstage\\document_parse.py:168\u001b[0m, in \u001b[0;36mUpstageDocumentParseLoader.load\u001b[1;34m(self)\u001b[0m\n\u001b[0;32m    166\u001b[0m \u001b[38;5;28;01melse\u001b[39;00m:\n\u001b[0;32m    167\u001b[0m     blob \u001b[38;5;241m=\u001b[39m Blob\u001b[38;5;241m.\u001b[39mfrom_path(\u001b[38;5;28mself\u001b[39m\u001b[38;5;241m.\u001b[39mfile_path)\n\u001b[1;32m--> 168\u001b[0m     \u001b[38;5;28;01mreturn\u001b[39;00m \u001b[38;5;28;43mlist\u001b[39;49m\u001b[43m(\u001b[49m\u001b[38;5;28;43mself\u001b[39;49m\u001b[38;5;241;43m.\u001b[39;49m\u001b[43mparser\u001b[49m\u001b[38;5;241;43m.\u001b[39;49m\u001b[43mlazy_parse\u001b[49m\u001b[43m(\u001b[49m\u001b[43mblob\u001b[49m\u001b[43m,\u001b[49m\u001b[43m \u001b[49m\u001b[43mis_batch\u001b[49m\u001b[38;5;241;43m=\u001b[39;49m\u001b[38;5;28;43;01mTrue\u001b[39;49;00m\u001b[43m)\u001b[49m\u001b[43m)\u001b[49m\n",
            "File \u001b[1;32mc:\\Users\\rhkre\\.conda\\envs\\py38tensorflow\\lib\\site-packages\\langchain_upstage\\document_parse_parsers.py:434\u001b[0m, in \u001b[0;36mUpstageDocumentParseParser.lazy_parse\u001b[1;34m(self, blob, is_batch)\u001b[0m\n\u001b[0;32m    431\u001b[0m \u001b[38;5;28;01mif\u001b[39;00m start_page \u001b[38;5;241m>\u001b[39m\u001b[38;5;241m=\u001b[39m number_of_pages:\n\u001b[0;32m    432\u001b[0m     \u001b[38;5;28;01mbreak\u001b[39;00m\n\u001b[1;32m--> 434\u001b[0m elements \u001b[38;5;241m=\u001b[39m \u001b[38;5;28;43mself\u001b[39;49m\u001b[38;5;241;43m.\u001b[39;49m\u001b[43m_split_and_request\u001b[49m\u001b[43m(\u001b[49m\u001b[43mfull_docs\u001b[49m\u001b[43m,\u001b[49m\u001b[43m \u001b[49m\u001b[43mstart_page\u001b[49m\u001b[43m,\u001b[49m\u001b[43m \u001b[49m\u001b[43mnum_pages\u001b[49m\u001b[43m)\u001b[49m\n\u001b[0;32m    435\u001b[0m \u001b[38;5;28;01myield from\u001b[39;00m \u001b[38;5;28mself\u001b[39m\u001b[38;5;241m.\u001b[39m_page_document(elements, start_page)\n\u001b[0;32m    437\u001b[0m start_page \u001b[38;5;241m+\u001b[39m\u001b[38;5;241m=\u001b[39m num_pages\n",
            "File \u001b[1;32mc:\\Users\\rhkre\\.conda\\envs\\py38tensorflow\\lib\\site-packages\\langchain_upstage\\document_parse_parsers.py:225\u001b[0m, in \u001b[0;36mUpstageDocumentParseParser._split_and_request\u001b[1;34m(self, full_docs, start_page, num_pages)\u001b[0m\n\u001b[0;32m    223\u001b[0m     merger\u001b[38;5;241m.\u001b[39mwrite(buffer)\n\u001b[0;32m    224\u001b[0m     buffer\u001b[38;5;241m.\u001b[39mseek(\u001b[38;5;241m0\u001b[39m)\n\u001b[1;32m--> 225\u001b[0m     response \u001b[38;5;241m=\u001b[39m \u001b[38;5;28;43mself\u001b[39;49m\u001b[38;5;241;43m.\u001b[39;49m\u001b[43m_get_response\u001b[49m\u001b[43m(\u001b[49m\u001b[43m{\u001b[49m\u001b[38;5;124;43m\"\u001b[39;49m\u001b[38;5;124;43mdocument\u001b[39;49m\u001b[38;5;124;43m\"\u001b[39;49m\u001b[43m:\u001b[49m\u001b[43m \u001b[49m\u001b[43mbuffer\u001b[49m\u001b[43m}\u001b[49m\u001b[43m)\u001b[49m\n\u001b[0;32m    227\u001b[0m \u001b[38;5;28;01mreturn\u001b[39;00m response\n",
            "File \u001b[1;32mc:\\Users\\rhkre\\.conda\\envs\\py38tensorflow\\lib\\site-packages\\langchain_upstage\\document_parse_parsers.py:185\u001b[0m, in \u001b[0;36mUpstageDocumentParseParser._get_response\u001b[1;34m(self, files)\u001b[0m\n\u001b[0;32m    183\u001b[0m     \u001b[38;5;28;01mreturn\u001b[39;00m result\n\u001b[0;32m    184\u001b[0m \u001b[38;5;28;01mexcept\u001b[39;00m requests\u001b[38;5;241m.\u001b[39mHTTPError \u001b[38;5;28;01mas\u001b[39;00m e:\n\u001b[1;32m--> 185\u001b[0m     \u001b[38;5;28;01mraise\u001b[39;00m \u001b[38;5;167;01mValueError\u001b[39;00m(\u001b[38;5;124mf\u001b[39m\u001b[38;5;124m\"\u001b[39m\u001b[38;5;124mHTTP error: \u001b[39m\u001b[38;5;132;01m{\u001b[39;00me\u001b[38;5;241m.\u001b[39mresponse\u001b[38;5;241m.\u001b[39mtext\u001b[38;5;132;01m}\u001b[39;00m\u001b[38;5;124m\"\u001b[39m)\n\u001b[0;32m    186\u001b[0m \u001b[38;5;28;01mexcept\u001b[39;00m requests\u001b[38;5;241m.\u001b[39mRequestException \u001b[38;5;28;01mas\u001b[39;00m e:\n\u001b[0;32m    187\u001b[0m     \u001b[38;5;66;03m# Handle any request-related exceptions\u001b[39;00m\n\u001b[0;32m    188\u001b[0m     \u001b[38;5;28;01mraise\u001b[39;00m \u001b[38;5;167;01mValueError\u001b[39;00m(\u001b[38;5;124mf\u001b[39m\u001b[38;5;124m\"\u001b[39m\u001b[38;5;124mFailed to send request: \u001b[39m\u001b[38;5;132;01m{\u001b[39;00me\u001b[38;5;132;01m}\u001b[39;00m\u001b[38;5;124m\"\u001b[39m)\n",
            "\u001b[1;31mValueError\u001b[0m: HTTP error: {\"error\":{\"message\":\"API key is invalid, please check out our API reference page (https://console.upstage.ai/docs/getting-started/overview)\",\"type\":\"invalid_request_error\",\"param\":\"\",\"code\":\"invalid_api_key\"}}"
          ]
        }
      ],
      "source": [
        "from langchain_upstage import UpstageDocumentParseLoader\n",
        "\n",
        "# Configure the document loader\n",
        "loader = UpstageDocumentParseLoader(\n",
        "    FILE_PATH,\n",
        "    output_format=\"html\",\n",
        "    split=\"page\",\n",
        "    ocr=\"auto\",\n",
        "    coordinates=True,\n",
        "    base64_encoding=[\"chart\"],\n",
        ")\n",
        "\n",
        "# Load the document\n",
        "docs = loader.load()\n",
        "\n",
        "# Print the results\n",
        "for doc in docs[:2]:\n",
        "    print(doc)"
      ]
    }
  ],
  "metadata": {
    "kernelspec": {
      "display_name": "Python 3.8 (py38tensorflow)",
      "language": "python",
      "name": "py38tensorflow"
    },
    "language_info": {
      "codemirror_mode": {
        "name": "ipython",
        "version": 3
      },
      "file_extension": ".py",
      "mimetype": "text/x-python",
      "name": "python",
      "nbconvert_exporter": "python",
      "pygments_lexer": "ipython3",
      "version": "3.8.18"
    }
  },
  "nbformat": 4,
  "nbformat_minor": 2
}
