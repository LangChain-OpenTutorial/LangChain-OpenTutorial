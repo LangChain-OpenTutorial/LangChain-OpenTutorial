{
 "cells": [
  {
   "cell_type": "markdown",
   "id": "acf78056",
   "metadata": {},
   "source": [
    "# Long Context Reorder\n",
    "\n",
    "- Author: [Minji](https://github.com/r14minji)\n",
    "- Design: \n",
    "- Peer Review: \n",
    "- This is a part of [LangChain OpenTutorial](https://github.com/LangChain-OpenTutorial/LangChain-OpenTutorial)\n",
    "\n",
    "[![Open in Colab](https://colab.research.google.com/assets/colab-badge.svg)](https://colab.research.google.com/github/LangChain-OpenTutorial/LangChain-OpenTutorial/blob/main/02-Prompt/02-FewShotPromptTemplate.ipynb) [![Open in GitHub](https://img.shields.io/badge/Open%20in%20GitHub-181717?style=flat-square&logo=github&logoColor=white)](https://github.com/LangChain-OpenTutorial/LangChain-OpenTutorial/blob/main/02-Prompt/02-FewShotPromptTemplate.ipynb)\n",
    "\n",
    "\n",
    "## Overview\n",
    "\n",
    "Regardless of the model's architecture, performance significantly degrades when including more than 10 retrieved documents.\n",
    "\n",
    "Simply put, when the model needs to access relevant information in the middle of a long context, it tends to ignore the provided documents.\n",
    "\n",
    "For more details, please refer to the following paper:\n",
    "\n",
    "- https://arxiv.org/abs/2307.03172\n",
    "\n",
    "To avoid this issue, you can prevent performance degradation by reordering documents after retrieval.\n",
    "\n",
    "Create a retriever that can store and search text data using the Chroma vector store.\n",
    "Use the retriever's invoke method to search for highly relevant documents for a given query.\n",
    "\n",
    "\n",
    "### Table of Contents\n",
    "\n",
    "- [Overview](#overview)\n",
    "- [Environment Setup](#environment-setup)\n",
    "- [Create an instance of the LongContextReorder class named reordering](#create-an-instance-of-the-longcontextreorder-class-named-reordering)\n",
    "- [Creating Question-Answering Chain with Context Reordering](#creating-question-answering-chain-width-context-reordering)\n",
    "- [FewShotChatMessagePromptTemplate](#FewShotChatMessagePromptTemplate)\n",
    "\n",
    "\n",
    "---\n"
   ]
  },
  {
   "cell_type": "markdown",
   "id": "f97b9226",
   "metadata": {},
   "source": [
    "## Environment Setup"
   ]
  },
  {
   "cell_type": "code",
   "execution_count": 17,
   "id": "d28e6a9e",
   "metadata": {},
   "outputs": [
    {
     "data": {
      "text/plain": [
       "True"
      ]
     },
     "execution_count": 17,
     "metadata": {},
     "output_type": "execute_result"
    }
   ],
   "source": [
    "# Configuration file for managing API keys as environment variables\n",
    "from dotenv import load_dotenv\n",
    "\n",
    "# Load API key information\n",
    "load_dotenv(override=True)"
   ]
  },
  {
   "cell_type": "code",
   "execution_count": 18,
   "id": "889a6197",
   "metadata": {},
   "outputs": [],
   "source": [
    "\n",
    "from langchain_opentutorial import package\n",
    "\n",
    "package.install(\n",
    "    [\n",
    "       \"langsmith\",\n",
    "        \"langchain\",\n",
    "        \"langchain_openai\",\n",
    "        \"langchain_community\",\n",
    "        \"langchain-chroma\",\n",
    "    ],\n",
    "    verbose=False,\n",
    "    upgrade=False,\n",
    ")"
   ]
  },
  {
   "cell_type": "code",
   "execution_count": 19,
   "id": "bc1ebfea",
   "metadata": {},
   "outputs": [
    {
     "name": "stdout",
     "output_type": "stream",
     "text": [
      "Environment variables have been set successfully.\n"
     ]
    }
   ],
   "source": [
    "from langchain_opentutorial import set_env\n",
    "\n",
    "set_env(\n",
    "    {\n",
    "        \"OPENAI_API_KEY\": \"\",\n",
    "        \"LANGCHAIN_API_KEY\": \"\",\n",
    "        \"LANGCHAIN_TRACING_V2\": \"true\",\n",
    "        \"LANGCHAIN_ENDPOINT\": \"https://api.smith.langchain.com\",\n",
    "        \"LANGCHAIN_PROJECT\": \"04-LongContextReorder\",\n",
    "    }\n",
    ")"
   ]
  },
  {
   "cell_type": "markdown",
   "id": "c8271a18",
   "metadata": {},
   "source": [
    "## Create an instance of the LongContextReorder class named reordering."
   ]
  },
  {
   "cell_type": "markdown",
   "id": "3f461786",
   "metadata": {},
   "source": [
    "### Enter a query for the retriever to perform the search."
   ]
  },
  {
   "cell_type": "code",
   "execution_count": null,
   "id": "c5bb794e",
   "metadata": {},
   "outputs": [],
   "source": [
    "from langchain_core.prompts import PromptTemplate\n",
    "from langchain_community.document_transformers import LongContextReorder\n",
    "from langchain_community.vectorstores import Chroma\n",
    "from langchain_openai import OpenAIEmbeddings\n",
    "\n",
    "\n",
    "# Get embeddings\n",
    "embeddings = OpenAIEmbeddings(model=\"text-embedding-3-small\")\n",
    "\n",
    "texts = [\n",
    "    \"This is just a random text I wrote.\",\n",
    "    \"ChatGPT, an AI designed to converse with users, can answer various questions.\",\n",
    "    \"iPhone, iPad, MacBook are representative products released by Apple.\",\n",
    "    \"ChatGPT was developed by OpenAI and is continuously being improved.\",\n",
    "    \"ChatGPT has learned from vast amounts of data to understand user questions and generate appropriate answers.\",\n",
    "    \"Wearable devices like Apple Watch and AirPods are also part of Apple's popular product line.\",\n",
    "    \"ChatGPT can be used to solve complex problems or suggest creative ideas.\",\n",
    "    \"Bitcoin is also called digital gold and is gaining popularity as a store of value.\",\n",
    "    \"ChatGPT's capabilities are continuously evolving through ongoing learning and updates.\",\n",
    "    \"The FIFA World Cup is held every four years and is the biggest event in international football.\",\n",
    "]\n",
    "\n",
    "\n",
    "\n",
    "# Create a retriever (Set K to 10)\n",
    "retriever = Chroma.from_texts(texts, embedding=embeddings).as_retriever(\n",
    "    search_kwargs={\"k\": 10}\n",
    ")"
   ]
  },
  {
   "cell_type": "code",
   "execution_count": 21,
   "id": "a42887d5",
   "metadata": {},
   "outputs": [
    {
     "name": "stderr",
     "output_type": "stream",
     "text": [
      "/Users/minji/Library/Caches/pypoetry/virtualenvs/langchain-opentutorial-LLYV5Gls-py3.11/lib/python3.11/site-packages/langsmith/client.py:256: LangSmithMissingAPIKeyWarning: API key must be provided when using hosted LangSmith API\n",
      "  warnings.warn(\n"
     ]
    },
    {
     "data": {
      "text/plain": [
       "[Document(metadata={}, page_content='ChatGPT was developed by OpenAI and is continuously being improved.'),\n",
       " Document(metadata={}, page_content='ChatGPT was developed by OpenAI and is continuously being improved.'),\n",
       " Document(metadata={}, page_content='ChatGPT, an AI designed to converse with users, can answer various questions.'),\n",
       " Document(metadata={}, page_content='ChatGPT, an AI designed to converse with users, can answer various questions.'),\n",
       " Document(metadata={}, page_content='ChatGPT can be used to solve complex problems or suggest creative ideas.'),\n",
       " Document(metadata={}, page_content='ChatGPT can be used to solve complex problems or suggest creative ideas.'),\n",
       " Document(metadata={}, page_content='ChatGPT has learned from vast amounts of data to understand user questions and generate appropriate answers.'),\n",
       " Document(metadata={}, page_content='ChatGPT has learned from vast amounts of data to understand user questions and generate appropriate answers.'),\n",
       " Document(metadata={}, page_content=\"ChatGPT's capabilities are continuously evolving through ongoing learning and updates.\"),\n",
       " Document(metadata={}, page_content=\"ChatGPT's capabilities are continuously evolving through ongoing learning and updates.\")]"
      ]
     },
     "execution_count": 21,
     "metadata": {},
     "output_type": "execute_result"
    },
    {
     "name": "stderr",
     "output_type": "stream",
     "text": [
      "Failed to multipart ingest runs: langsmith.utils.LangSmithAuthError: Authentication failed for https://api.smith.langchain.com/runs/multipart. HTTPError('401 Client Error: Unauthorized for url: https://api.smith.langchain.com/runs/multipart', '{\"detail\":\"Invalid token\"}')trace=81208389-474c-4996-935f-25dc262e9181,id=81208389-474c-4996-935f-25dc262e9181\n",
      "Failed to multipart ingest runs: langsmith.utils.LangSmithAuthError: Authentication failed for https://api.smith.langchain.com/runs/multipart. HTTPError('401 Client Error: Unauthorized for url: https://api.smith.langchain.com/runs/multipart', '{\"detail\":\"Invalid token\"}')trace=81208389-474c-4996-935f-25dc262e9181,id=81208389-474c-4996-935f-25dc262e9181\n",
      "Failed to multipart ingest runs: langsmith.utils.LangSmithAuthError: Authentication failed for https://api.smith.langchain.com/runs/multipart. HTTPError('401 Client Error: Unauthorized for url: https://api.smith.langchain.com/runs/multipart', '{\"detail\":\"Invalid token\"}')trace=5dc61347-562f-41c1-b2d8-fc6e22405d78,id=5dc61347-562f-41c1-b2d8-fc6e22405d78; trace=5dc61347-562f-41c1-b2d8-fc6e22405d78,id=2f6ebb25-3bc8-44d2-88d2-615ebe9e34ba; trace=5dc61347-562f-41c1-b2d8-fc6e22405d78,id=ad73ef0f-0ef3-4505-b767-c02da237bc4d; trace=5dc61347-562f-41c1-b2d8-fc6e22405d78,id=948ca63c-fc79-425f-aa7e-01321f38c4d1; trace=5dc61347-562f-41c1-b2d8-fc6e22405d78,id=41447a6b-b306-47da-9595-88e9b518233e; trace=5dc61347-562f-41c1-b2d8-fc6e22405d78,id=d1a2b926-1514-463c-a762-43b3741c91da; trace=5dc61347-562f-41c1-b2d8-fc6e22405d78,id=3c78b232-5f34-46cc-a15e-73dc7e08fa4b\n",
      "Failed to multipart ingest runs: langsmith.utils.LangSmithAuthError: Authentication failed for https://api.smith.langchain.com/runs/multipart. HTTPError('401 Client Error: Unauthorized for url: https://api.smith.langchain.com/runs/multipart', '{\"detail\":\"Invalid token\"}')trace=5dc61347-562f-41c1-b2d8-fc6e22405d78,id=75abf0d2-5d4e-4e3d-b4ab-796ebc3574a2; trace=5dc61347-562f-41c1-b2d8-fc6e22405d78,id=f6a92297-bb9b-4412-93f8-65bb260c6777; trace=5dc61347-562f-41c1-b2d8-fc6e22405d78,id=ffd7162e-2433-4634-bf96-3212c35d183f; trace=5dc61347-562f-41c1-b2d8-fc6e22405d78,id=d1a2b926-1514-463c-a762-43b3741c91da; trace=5dc61347-562f-41c1-b2d8-fc6e22405d78,id=ad73ef0f-0ef3-4505-b767-c02da237bc4d; trace=5dc61347-562f-41c1-b2d8-fc6e22405d78,id=2f6ebb25-3bc8-44d2-88d2-615ebe9e34ba\n",
      "Failed to multipart ingest runs: langsmith.utils.LangSmithAuthError: Authentication failed for https://api.smith.langchain.com/runs/multipart. HTTPError('401 Client Error: Unauthorized for url: https://api.smith.langchain.com/runs/multipart', '{\"detail\":\"Invalid token\"}')trace=5dc61347-562f-41c1-b2d8-fc6e22405d78,id=44e93f75-cd2c-4c71-abe0-aef127b626fb; trace=5dc61347-562f-41c1-b2d8-fc6e22405d78,id=ffd7162e-2433-4634-bf96-3212c35d183f; trace=5dc61347-562f-41c1-b2d8-fc6e22405d78,id=5dc61347-562f-41c1-b2d8-fc6e22405d78\n"
     ]
    }
   ],
   "source": [
    "query = \"What can you tell me about ChatGPT?\"\n",
    "\n",
    "# Retrieves relevant documents sorted by relevance score.\n",
    "docs = retriever.invoke(query)\n",
    "docs"
   ]
  },
  {
   "cell_type": "markdown",
   "id": "041fe044",
   "metadata": {},
   "source": [
    "### Create an instance of LongContextReorder class.\n",
    "\n",
    "- Call reordering.transform_documents(docs) to reorder the document list.\n",
    "- Less relevant documents are positioned in the middle of the list, while more relevant documents are positioned at the beginning and end.\n"
   ]
  },
  {
   "cell_type": "code",
   "execution_count": 22,
   "id": "f1067a69",
   "metadata": {},
   "outputs": [
    {
     "data": {
      "text/plain": [
       "[Document(metadata={}, page_content='ChatGPT was developed by OpenAI and is continuously being improved.'),\n",
       " Document(metadata={}, page_content='ChatGPT, an AI designed to converse with users, can answer various questions.'),\n",
       " Document(metadata={}, page_content='ChatGPT can be used to solve complex problems or suggest creative ideas.'),\n",
       " Document(metadata={}, page_content='ChatGPT has learned from vast amounts of data to understand user questions and generate appropriate answers.'),\n",
       " Document(metadata={}, page_content=\"ChatGPT's capabilities are continuously evolving through ongoing learning and updates.\"),\n",
       " Document(metadata={}, page_content=\"ChatGPT's capabilities are continuously evolving through ongoing learning and updates.\"),\n",
       " Document(metadata={}, page_content='ChatGPT has learned from vast amounts of data to understand user questions and generate appropriate answers.'),\n",
       " Document(metadata={}, page_content='ChatGPT can be used to solve complex problems or suggest creative ideas.'),\n",
       " Document(metadata={}, page_content='ChatGPT, an AI designed to converse with users, can answer various questions.'),\n",
       " Document(metadata={}, page_content='ChatGPT was developed by OpenAI and is continuously being improved.')]"
      ]
     },
     "execution_count": 22,
     "metadata": {},
     "output_type": "execute_result"
    }
   ],
   "source": [
    "# Reorder the documents\n",
    "# Less relevant documents are positioned in the middle, more relevant elements at start/end\n",
    "reordering = LongContextReorder()\n",
    "reordered_docs = reordering.transform_documents(docs)\n",
    "\n",
    "# Verify that 4 relevant documents are positioned at start and end\n",
    "reordered_docs"
   ]
  },
  {
   "cell_type": "markdown",
   "id": "7d84086f",
   "metadata": {},
   "source": [
    "## Creating Question-Answering Chain with Context Reordering"
   ]
  },
  {
   "cell_type": "code",
   "execution_count": 23,
   "id": "da423187",
   "metadata": {},
   "outputs": [],
   "source": [
    "def format_docs(docs):\n",
    "    return \"\\n\".join([doc.page_content for i, doc in enumerate(docs)])"
   ]
  },
  {
   "cell_type": "code",
   "execution_count": 24,
   "id": "696b01bb",
   "metadata": {},
   "outputs": [
    {
     "name": "stdout",
     "output_type": "stream",
     "text": [
      "ChatGPT was developed by OpenAI and is continuously being improved.\n",
      "ChatGPT was developed by OpenAI and is continuously being improved.\n",
      "ChatGPT, an AI designed to converse with users, can answer various questions.\n",
      "ChatGPT, an AI designed to converse with users, can answer various questions.\n",
      "ChatGPT can be used to solve complex problems or suggest creative ideas.\n",
      "ChatGPT can be used to solve complex problems or suggest creative ideas.\n",
      "ChatGPT has learned from vast amounts of data to understand user questions and generate appropriate answers.\n",
      "ChatGPT has learned from vast amounts of data to understand user questions and generate appropriate answers.\n",
      "ChatGPT's capabilities are continuously evolving through ongoing learning and updates.\n",
      "ChatGPT's capabilities are continuously evolving through ongoing learning and updates.\n"
     ]
    }
   ],
   "source": [
    "print(format_docs(docs))"
   ]
  },
  {
   "cell_type": "code",
   "execution_count": 25,
   "id": "228d3fcf",
   "metadata": {},
   "outputs": [],
   "source": [
    "def format_docs(docs):\n",
    "    return \"\\n\".join(\n",
    "        [\n",
    "            f\"[{i}] {doc.page_content} [source: teddylee777@gmail.com]\"\n",
    "            for i, doc in enumerate(docs)\n",
    "        ]\n",
    "    )\n",
    "\n",
    "\n",
    "def reorder_documents(docs):\n",
    "    # Reorder\n",
    "    reordering = LongContextReorder()\n",
    "    reordered_docs = reordering.transform_documents(docs)\n",
    "    combined = format_docs(reordered_docs)\n",
    "    print(combined)\n",
    "    return combined"
   ]
  },
  {
   "cell_type": "markdown",
   "id": "1af40e60",
   "metadata": {},
   "source": [
    "Prints the reordered documents."
   ]
  },
  {
   "cell_type": "code",
   "execution_count": 26,
   "id": "37cd3eb0",
   "metadata": {},
   "outputs": [
    {
     "name": "stdout",
     "output_type": "stream",
     "text": [
      "[0] ChatGPT was developed by OpenAI and is continuously being improved. [source: teddylee777@gmail.com]\n",
      "[1] ChatGPT, an AI designed to converse with users, can answer various questions. [source: teddylee777@gmail.com]\n",
      "[2] ChatGPT can be used to solve complex problems or suggest creative ideas. [source: teddylee777@gmail.com]\n",
      "[3] ChatGPT has learned from vast amounts of data to understand user questions and generate appropriate answers. [source: teddylee777@gmail.com]\n",
      "[4] ChatGPT's capabilities are continuously evolving through ongoing learning and updates. [source: teddylee777@gmail.com]\n",
      "[5] ChatGPT's capabilities are continuously evolving through ongoing learning and updates. [source: teddylee777@gmail.com]\n",
      "[6] ChatGPT has learned from vast amounts of data to understand user questions and generate appropriate answers. [source: teddylee777@gmail.com]\n",
      "[7] ChatGPT can be used to solve complex problems or suggest creative ideas. [source: teddylee777@gmail.com]\n",
      "[8] ChatGPT, an AI designed to converse with users, can answer various questions. [source: teddylee777@gmail.com]\n",
      "[9] ChatGPT was developed by OpenAI and is continuously being improved. [source: teddylee777@gmail.com]\n"
     ]
    }
   ],
   "source": [
    "# Define prompt template\n",
    "_ = reorder_documents(docs)"
   ]
  },
  {
   "cell_type": "code",
   "execution_count": 28,
   "id": "ca7bc3fc",
   "metadata": {},
   "outputs": [],
   "source": [
    "from langchain.prompts import ChatPromptTemplate\n",
    "from operator import itemgetter\n",
    "from langchain_openai import ChatOpenAI\n",
    "from langchain_core.output_parsers import StrOutputParser\n",
    "from langchain_core.runnables import RunnableLambda\n",
    "\n",
    "# Define prompt template\n",
    "template = \"\"\"Given this text extracts:\n",
    "{context}\n",
    "\n",
    "-----\n",
    "Please answer the following question:\n",
    "{question}\n",
    "\n",
    "Answer in the following languages: {language}\n",
    "\"\"\"\n",
    "\n",
    "# Define prompt\n",
    "prompt = ChatPromptTemplate.from_template(template)\n",
    "\n",
    "# Define Chain\n",
    "chain = (\n",
    "    {\n",
    "        \"context\": itemgetter(\"question\")\n",
    "        | retriever\n",
    "        | RunnableLambda(reorder_documents),  # Search context based on question\n",
    "        \"question\": itemgetter(\"question\"),  # Extract question\n",
    "        \"language\": itemgetter(\"language\"),  # Extract answer language\n",
    "    }\n",
    "    | prompt  # Pass values to prompt template\n",
    "    | ChatOpenAI(model=\"gpt-4o-mini\")  # Pass prompt to language model\n",
    "    | StrOutputParser()  # Parse model output as string\n",
    ")"
   ]
  },
  {
   "cell_type": "markdown",
   "id": "9686eb7e",
   "metadata": {},
   "source": [
    "\n",
    "Enter the query in question and language for response.\n",
    "\n",
    "Check the search results of reordered documents."
   ]
  },
  {
   "cell_type": "code",
   "execution_count": 29,
   "id": "3a34707a",
   "metadata": {},
   "outputs": [
    {
     "name": "stdout",
     "output_type": "stream",
     "text": [
      "[0] ChatGPT's capabilities are continuously evolving through ongoing learning and updates. [source: teddylee777@gmail.com]\n",
      "[1] ChatGPT was developed by OpenAI and is continuously being improved. [source: teddylee777@gmail.com]\n",
      "[2] ChatGPT can be used to solve complex problems or suggest creative ideas. [source: teddylee777@gmail.com]\n",
      "[3] ChatGPT has learned from vast amounts of data to understand user questions and generate appropriate answers. [source: teddylee777@gmail.com]\n",
      "[4] ChatGPT, an AI designed to converse with users, can answer various questions. [source: teddylee777@gmail.com]\n",
      "[5] ChatGPT, an AI designed to converse with users, can answer various questions. [source: teddylee777@gmail.com]\n",
      "[6] ChatGPT has learned from vast amounts of data to understand user questions and generate appropriate answers. [source: teddylee777@gmail.com]\n",
      "[7] ChatGPT can be used to solve complex problems or suggest creative ideas. [source: teddylee777@gmail.com]\n",
      "[8] ChatGPT was developed by OpenAI and is continuously being improved. [source: teddylee777@gmail.com]\n",
      "[9] ChatGPT's capabilities are continuously evolving through ongoing learning and updates. [source: teddylee777@gmail.com]\n"
     ]
    }
   ],
   "source": [
    "answer = chain.invoke(\n",
    "    {\"question\": \"ChatGPT에 대해 무엇을 말해줄 수 있나요?\", \"language\": \"English\"}\n",
    ")"
   ]
  },
  {
   "cell_type": "markdown",
   "id": "f58119d0",
   "metadata": {},
   "source": [
    "Prints the response."
   ]
  },
  {
   "cell_type": "code",
   "execution_count": 30,
   "id": "fc86e520",
   "metadata": {},
   "outputs": [
    {
     "name": "stdout",
     "output_type": "stream",
     "text": [
      "ChatGPT is an AI developed by OpenAI that is designed to engage in conversations with users. It has been trained on vast amounts of data, allowing it to understand user questions and generate appropriate responses. Its capabilities are continuously evolving through ongoing learning and updates, which means it is regularly being improved to enhance its performance. ChatGPT can be used to solve complex problems, suggest creative ideas, and answer a wide variety of questions.\n"
     ]
    }
   ],
   "source": [
    "print(answer)"
   ]
  }
 ],
 "metadata": {
  "kernelspec": {
   "display_name": "langchain-opentutorial-LLYV5Gls-py3.11",
   "language": "python",
   "name": "python3"
  },
  "language_info": {
   "codemirror_mode": {
    "name": "ipython",
    "version": 3
   },
   "file_extension": ".py",
   "mimetype": "text/x-python",
   "name": "python",
   "nbconvert_exporter": "python",
   "pygments_lexer": "ipython3",
   "version": "3.11.11"
  }
 },
 "nbformat": 4,
 "nbformat_minor": 5
}
