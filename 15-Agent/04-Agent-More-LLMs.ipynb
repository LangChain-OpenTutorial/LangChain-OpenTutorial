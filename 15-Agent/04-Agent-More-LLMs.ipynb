{
  "cells": [
    {
      "cell_type": "markdown",
      "id": "059756b7",
      "metadata": {},
      "source": [
        "# Tool Calling Agent with More LLM Models\n",
        "\n",
        "- Author: [JoonHo Kim](https://github.com/jhboyo)\n",
        "- Design: []()\n",
        "- Peer Review :\n",
        "- This is a part of [LangChain Open Tutorial](https://github.com/LangChain-OpenTutorial/LangChain-OpenTutorial)\n",
        "\n",
        "[![Open in Colab](https://colab.research.google.com/assets/colab-badge.svg)](https://colab.research.google.com/github/LangChain-OpenTutorial/LangChain-OpenTutorial/blob/main/06-DocumentLoader/04-CSV-Loader.ipynb) [![Open in GitHub](https://img.shields.io/badge/Open%20in%20GitHub-181717?style=flat-square&logo=github&logoColor=white)](https://github.com/LangChain-OpenTutorial/LangChain-OpenTutorial/blob/main/06-DocumentLoader/04-CSV-Loader.ipynb)\n",
        "\n",
        "\n",
        "## Overview\n",
        "It is not limited to `OpenAI` models but also supports implementations from diverse LLM providers such as `Anthropic`, `Google Gemini`, `Together.ai`, `Ollama`, and `Mistral`. This allows developers to leverage the unique characteristics and strengths of each model to create agents optimized for the specific requirements of their applications.\n",
        "\n",
        "Key Topics\n",
        "In this chapter, we will delve into the process of creating and executing tool-calling agents using various `LLMs`. The key topics covered include:\n",
        "\n",
        "- Tool Selection: How agents choose the most suitable tools for specific tasks.\n",
        "- `LLM` Integration: Integrating `LLMs` from `OpenAI` and other providers into LangChain to enable agent functionality.\n",
        "- Agent Creation: Creating agents using LangChain's agent classes.\n",
        "- Agent Execution: Executing agents to perform tasks.\n",
        "\n",
        "Objectives\n",
        "By the end of this chapter, you will be able to:\n",
        "\n",
        "- How to create and execute tool-calling agents using various `LLMs`.\n",
        "- Create automated workflows that call various tools using LangChain's agent classes.\n",
        "- Combine multiple `LLMs` to implement agents with optimized performance.\n",
        "\n",
        "Now, let’s explore how to maximize productivity using LangChain’s flexible agent framework. 🚀\n",
        "\n",
        "### Table of Contents\n",
        "\n",
        "- [Overview](#overview)\n",
        "- [Environment Setup](#environment-setup)\n",
        "- [List of LLMs Supporting Tool Calling](#list-of-llms-supporting-tool-calling)\n",
        "- [Using Multiple LLM Integrations with LangChain](#using-multiple-llm-integrations-with-langchain)\n",
        "- [Define the tool](#define-the-tool)\n",
        "- [Generate Prompts for Agents](#generate-prompts-for-agents)\n",
        "- [Generate an AgentExecutor, run it and review the results](#generate-an-agentexecutor-run-it-and-review-the-results)\n",
        "\n",
        "### References\n",
        "\n",
        "- [Tool Calling Agent](https://python.langchain.com/v0.1/docs/modules/agents/agent_types/tool_calling/)\n",
        "- [OpenAI Tools](https://js.langchain.com/v0.1/docs/modules/agents/agent_types/openai_tools_agent/)\n",
        "- [LangChain ChatOpenAI](https://python.langchain.com/docs/integrations/chat/openai/)\n",
        "- [LangChain ChatAnthropic](https://python.langchain.com/docs/integrations/chat/anthropic/)\n",
        "- [LangChain ChatGoogleGenerativeAI](https://python.langchain.com/docs/integrations/providers/google/)\n",
        "- [LangChain ChatOllama](https://python.langchain.com/docs/integrations/providers/ollama/)\n",
        "- [LangChain ChatTogether](https://python.langchain.com/docs/integrations/providers/together/)\n",
        "----"
      ]
    },
    {
      "cell_type": "markdown",
      "id": "923a83b4",
      "metadata": {},
      "source": [
        "## Environment Setup\n",
        "\n",
        "Set up the environment. You may refer to [Environment Setup](https://wikidocs.net/257836) for more details.\n",
        "\n",
        "**[Note]**\n",
        "- `langchain-opentutorial` is a package that provides a set of easy-to-use environment setup, useful functions and utilities for tutorials. \n",
        "- You can checkout the [`langchain-opentutorial`](https://github.com/LangChain-OpenTutorial/langchain-opentutorial-pypi) for more details.\n",
        "- `langchain-ollama` is a package that provides a set of easy-to-use environment setup, useful functions and utilities for tutorials. "
      ]
    },
    {
      "cell_type": "code",
      "execution_count": 65,
      "id": "8e8ad1ef",
      "metadata": {},
      "outputs": [],
      "source": [
        "%%capture --no-stderr\n",
        "%pip install -qUlangchain-opentutorial\n",
        "%pip install -qU langchain-ollama==0.1.3\n",
        "%pip install -qU feedparser"
      ]
    },
    {
      "cell_type": "code",
      "execution_count": 66,
      "id": "446f6eba",
      "metadata": {},
      "outputs": [
        {
          "name": "stdout",
          "output_type": "stream",
          "text": [
            "Environment variables have been set successfully.\n"
          ]
        }
      ],
      "source": [
        "# Set environment variables\n",
        "from langchain_opentutorial import set_env\n",
        "\n",
        "set_env(\n",
        "    {\n",
        "        \"OPENAI_API_KEY\": \"\",\n",
        "        \"ANTHROPIC_API_KEY\": \"\",\n",
        "        \"GOOGLE_API_KEY\": \"\",\n",
        "        \"OLLAMA_API_KEY\": \"\",\n",
        "        \"TOGETHER_API_KEY\": \"\",\n",
        "        \"LANGCHAIN_API_KEY\": \"\",\n",
        "        \"LANGCHAIN_TRACING_V2\": \"true\",\n",
        "        \"LANGCHAIN_ENDPOINT\": \"https://api.smith.langchain.com\",\n",
        "        \"LANGCHAIN_PROJECT\": \"Tool Calling Agent with More LLM Models\",\n",
        "    }\n",
        ")"
      ]
    },
    {
      "cell_type": "code",
      "execution_count": 67,
      "id": "70361e4a",
      "metadata": {},
      "outputs": [],
      "source": [
        "# Install required packages\n",
        "from langchain_opentutorial import package\n",
        "\n",
        "package.install(\n",
        "    [\n",
        "        \"langchain\",\n",
        "        \"langchain_openai\",\n",
        "        \"langchain_anthropic\",\n",
        "        \"langchain_google_genai\",\n",
        "        \"langchain_ollama\",\n",
        "        \"langchain_community\",\n",
        "        \"langchain_core\"\n",
        "        \n",
        "    ],\n",
        "    verbose=False,\n",
        "    upgrade=False,\n",
        ")"
      ]
    },
    {
      "cell_type": "markdown",
      "id": "f5877653",
      "metadata": {},
      "source": [
        "\n",
        "## List of LLMs Supporting Tool Calling\n",
        "\n",
        "To proceed with the hands-on tutorial, the following setup steps are required:\n",
        "\n",
        "1. Issue API keys for each `LLM` call.\n",
        "2. Add the issued key to the `.env` file.\n",
        "\n",
        "\n",
        "**Anthropic**\n",
        "\n",
        "- [Anthropic API Key Issuance](https://console.anthropic.com/settings/keys)\n",
        "- Add the issued key to the `.env` file as `ANTHROPIC_API_KEY`.\n",
        "\n",
        "\n",
        "**Gemini**\n",
        "\n",
        "- [Gemini API Key Issuance](https://aistudio.google.com/app/apikey?hl=ko)\n",
        "- Add the issued key to the `.env` file as `GOOGLE_API_KEY`.\n",
        "\n",
        "\n",
        "**Ollama**\n",
        "- [List of Ollama Tool Calling Supported Models](https://ollama.com/search?c=tools)\n",
        "- Instead of issuing an API Key, [Ollama installation](https://ollama.com) is required to proceed with the ollama tutorial.\n",
        "- We will use [lama3.1 Model](https://ollama.com/library/llama3.1) for This Tutorial for this tutorial.\n",
        "- After installing Ollama, run the following command in the terminal to download the model: `ollama pull llama3.1`\n",
        "\n",
        "\n",
        "**Together AI**\n",
        "- [Together API Key Issuance](https://api.together.ai/)\n",
        "- Add the issued key to the `.env` file as `TOGETHER_API_KEY`."
      ]
    },
    {
      "cell_type": "markdown",
      "id": "4f3e9011",
      "metadata": {},
      "source": [
        "## Using Multiple LLM Integrations with LangChain\n",
        "This walks you through integrating and configuring various `LLMs` using LangChain, allowing you to experiment with different models from providers like `OpenAI`, `Anthropic`, `Google`, and others."
      ]
    },
    {
      "cell_type": "code",
      "execution_count": 68,
      "id": "265b2b64",
      "metadata": {},
      "outputs": [],
      "source": [
        "from langchain_anthropic import ChatAnthropic\n",
        "from langchain_google_genai import ChatGoogleGenerativeAI\n",
        "from langchain_openai import ChatOpenAI\n",
        "from langchain_ollama import ChatOllama\n",
        "import os\n",
        "\n",
        "# GPT-4o-mini\n",
        "gpt = ChatOpenAI(model=\"gpt-4o-mini\")\n",
        "\n",
        "# Claude-3-5-sonnet\n",
        "claude = ChatAnthropic(model=\"claude-3-5-sonnet-20240620\", temperature=0)\n",
        "\n",
        "# Gemini-1.5-pro-latest\n",
        "gemini = ChatGoogleGenerativeAI(model=\"gemini-1.5-pro\", temperature=0)\n",
        "\n",
        "# Llama-3.1-70B-Instruct-Turbo\n",
        "llama = ChatOpenAI(\n",
        "    base_url=\"https://api.together.xyz/v1\",\n",
        "    api_key=os.environ[\"TOGETHER_API_KEY\"],\n",
        "    model=\"meta-llama/Meta-Llama-3.1-70B-Instruct-Turbo\",\n",
        ")\n",
        "\n",
        "# Llama-3.1\n",
        "ollama = ChatOllama(model=\"llama3.1\", temperature=0)\n",
        "\n",
        "# Qwen2.5 7B \n",
        "qwen = ChatOllama(\n",
        "    model=\"qwen2.5:latest\",\n",
        ")"
      ]
    },
    {
      "cell_type": "markdown",
      "id": "486960e0",
      "metadata": {},
      "source": [
        "## Define the tool\n",
        "\n",
        "Before defining the tool, we will build some functions to collect and fetch news from Website for keyword that user input.\n",
        "\n",
        " `_fetch_news` funtion gets news from given url and return the result as a list of dictionaries.\n",
        " * `Args:` url (str) is a url for fetching news. k (int) is a number of news to fetch.(default: 3)\n",
        " * `Return:` List[Dict[str, str]] is a list of dictionaries that contains news title and link.\n",
        "\n",
        "\n",
        " `_collect_news` return a sorted list of news items.\n",
        " * `Args:` news_list (List[Dict[str, str]]) is a list of dictionaries that contains news information.\n",
        " * `Return:` List[Dict[str, str]] is a list of dictionaries that contains url and contents.\n",
        "\n",
        "`search_by_keyword` funtion searches news using keyword and return the result as a list of dictionaries.\n",
        " * `Args:` keyword (str) is a keyword to search. k (int) is a number of news to fetch.(default: 3)\n",
        " * `Return:` List[Dict[str, str]] is a list of dictionaries that contains url and contents.\n"
      ]
    },
    {
      "cell_type": "code",
      "execution_count": 69,
      "id": "9ea774db",
      "metadata": {},
      "outputs": [],
      "source": [
        "from typing import List, Dict, Optional\n",
        "from urllib.parse import quote\n",
        "import feedparser\n",
        "\n",
        "class GoogleNews:\n",
        "\n",
        "    def _fetch_news(self, url: str, k: int = 3) -> List[Dict[str, str]]:\n",
        "        news_data = feedparser.parse(url)\n",
        "        return [\n",
        "            {\"title\": entry.title, \"link\": entry.link}\n",
        "            for entry in news_data.entries[:k]\n",
        "        ]\n",
        "    \n",
        "    def _collect_news(self, news_list: List[Dict[str, str]]) -> List[Dict[str, str]]:\n",
        "        if not news_list:\n",
        "            print(\"There is no news for the keyword.\")\n",
        "            return []\n",
        "\n",
        "        result = []\n",
        "        for news in news_list:\n",
        "            result.append({\"url\": news[\"link\"], \"content\": news[\"title\"]})\n",
        "\n",
        "        return result\n",
        "\n",
        "    def search_by_keyword(\n",
        "            self, keyword: Optional[str] = None, k: int = 3\n",
        "        ) -> List[Dict[str, str]]:\n",
        "            \n",
        "            if keyword:\n",
        "                encoded_keyword = quote(keyword)\n",
        "                url = f\"https://news.google.com/rss/search?q={encoded_keyword}&hl=en&gl=US&ceid=US:en\"\n",
        "            else:\n",
        "                url = f\"https://news.google.com/rss?hl=en&gl=US&ceid=US:en\"\n",
        "\n",
        "            news_list = self._fetch_news(url, k)\n",
        "            return self._collect_news(news_list)"
      ]
    },
    {
      "cell_type": "markdown",
      "id": "3b482270",
      "metadata": {},
      "source": [
        "Fetch News for keyword that user input from Google News Website."
      ]
    },
    {
      "cell_type": "code",
      "execution_count": 70,
      "id": "6b694c35",
      "metadata": {},
      "outputs": [
        {
          "name": "stdout",
          "output_type": "stream",
          "text": [
            "Tool Name: search_news\n",
            "Tool Description: Search Google News by input keyword\n"
          ]
        }
      ],
      "source": [
        "from langchain.tools import tool\n",
        "from typing import List, Dict\n",
        "\n",
        "# Define the tool\n",
        "@tool\n",
        "def search_news(query: str) -> List[Dict[str, str]]:\n",
        "    \"\"\"Search Google News by input keyword\"\"\"\n",
        "    news_tool = GoogleNews()\n",
        "    return news_tool.search_by_keyword(query, k=5)\n",
        "\n",
        "print(f\"Tool Name: {search_news.name}\")\n",
        "print(f\"Tool Description: {search_news.description}\")"
      ]
    },
    {
      "cell_type": "markdown",
      "id": "d079b5b9",
      "metadata": {},
      "source": [
        "\n",
        "Define Tools"
      ]
    },
    {
      "cell_type": "code",
      "execution_count": 71,
      "id": "da936bf8",
      "metadata": {},
      "outputs": [],
      "source": [
        "tools = [search_news]"
      ]
    },
    {
      "cell_type": "markdown",
      "id": "8c5dc7d5",
      "metadata": {},
      "source": [
        "## Generate Prompts for Agents\n",
        "Prompt is a text that describes the task the model will perform.(Input the tool name and role)\n",
        "\n",
        "\n",
        "- `chat_history` : A variable that stores previous conversation history (can be omitted if multi-turn support is not required).\n",
        "- `agent_scratchpad` : A variable for temporary storage used by the agent.\n",
        "- `input` : The user's input."
      ]
    },
    {
      "cell_type": "code",
      "execution_count": 72,
      "id": "ea1677a8",
      "metadata": {},
      "outputs": [],
      "source": [
        "from langchain_core.prompts import ChatPromptTemplate\n",
        "from langchain.agents import create_tool_calling_agent\n",
        "\n",
        "prompt = ChatPromptTemplate.from_messages(\n",
        "    [\n",
        "        (\n",
        "            \"system\",\n",
        "            \"You are a helpful assistant.\"\n",
        "            \"Make sure to use the `search_news` tool for searching keyword related news.\",        ),\n",
        "        (\"placeholder\", \"{chat_history}\"),\n",
        "        (\"human\", \"{input}\"),\n",
        "        (\"placeholder\", \"{agent_scratchpad}\"),\n",
        "    ]\n",
        ")"
      ]
    },
    {
      "cell_type": "markdown",
      "id": "41401ee8",
      "metadata": {},
      "source": [
        "Generate an `Agent` based on an `LLM` (Large Language Model)"
      ]
    },
    {
      "cell_type": "code",
      "execution_count": 73,
      "id": "1920a041",
      "metadata": {},
      "outputs": [],
      "source": [
        "from langchain.agents import create_tool_calling_agent\n",
        "\n",
        "gpt_agent = create_tool_calling_agent(gpt, tools, prompt)\n",
        "claude_agent = create_tool_calling_agent(claude, tools, prompt)\n",
        "gemini_agent = create_tool_calling_agent(gemini, tools, prompt)\n",
        "llama_agent = create_tool_calling_agent(llama, tools, prompt)\n",
        "ollama_agent = create_tool_calling_agent(ollama, tools, prompt)\n",
        "qwen_agent = create_tool_calling_agent(qwen, tools, prompt)"
      ]
    },
    {
      "cell_type": "markdown",
      "id": "3e14778c",
      "metadata": {},
      "source": [
        "## Generate an AgentExecutor, run it and review the results\n"
      ]
    },
    {
      "cell_type": "code",
      "execution_count": 74,
      "id": "1d8e843e",
      "metadata": {},
      "outputs": [
        {
          "name": "stdout",
          "output_type": "stream",
          "text": [
            "\n",
            "\n",
            "\u001b[1m> Entering new AgentExecutor chain...\u001b[0m\n",
            "\u001b[32;1m\u001b[1;3m\n",
            "Invoking: `search_news` with `{'query': 'AI Investment'}`\n",
            "\n",
            "\n",
            "\u001b[0m\u001b[36;1m\u001b[1;3m[{'url': 'https://news.google.com/rss/articles/CBMimAFBVV95cUxNanh6RjlKdmt2SmZJN3RoNHRoTWhCck1lNnZrQ0h6T0xxNUFYdGM3OWltT0lJdFRLdXpNT0h2cEFiWTJtTVZuNDRZc2Jyd0pyeDBmZmdWc21tdWZUc1ItQUdjVXZ0SllxUnRwVHBBUDMwSVU0LTRNVGRRaGpLN3FrUk1PX3RRRlFqZGdHcHJveU11Y2phQVlxOA?oc=5', 'content': 'Got $1,000? Here Are 2 AI Stocks to Buy Hand Over Fist in 2025 - The Motley Fool'}, {'url': 'https://news.google.com/rss/articles/CBMicEFVX3lxTE1QeTI0QmMzRFphVWVZUXZkYmlZSDJTeU93SlJrMVo3YmhGTm1sc1hGdU0zaTJNWERxN0xVOXpvVVBuQ0R1VGZMSlFuTWVXVTI2VXE3YkFWSlNZYktHc3p6WDA2Rm80TEdZa2lQdzlscmM?oc=5', 'content': 'UK companies plan to invest in AI instead of hiring staff as costs rise - Financial Times'}, {'url': 'https://news.google.com/rss/articles/CBMi1wFBVV95cUxNM0tuR2RQTFIzblVkQ1g4aDVzWXA3UEhzQVhmZnhsbGVPOURJa1RsMmkxZV85cjAzaXhiRld2cHdCbEtIMVJLODVUUG4yelB3cjR3UTdOQk5zZ1plZFlLZzUtU19leGdPaVV0LUE3ZGdFVHJhdXpwbEgwT3BFZGhDWnV6LTJNUXdHU0VwRG5YUXBIVml0QThjWlhGXzdwY0Q1Qkt6V3NWTEtXZGpzOWtLYkxLcmRzZkNRUHU0MkN4ZnpFNmlJcFRCTVVhaVYzLW9uX2N1NmRJMA?oc=5', 'content': 'Joe Biden’s record on science and tech: Investments and regulation for vaccines, broadband, microchips and AI - The Conversation Indonesia'}, {'url': 'https://news.google.com/rss/articles/CBMiswFBVV95cUxQTGZVQnZlaFBBUVpCTVVqQzhvM3AyNzR5QXRIbUczM1FZQzMwTmpIZUxIelB2TUlyeGxGTVhmMFJFa3V4MXA0TklYZEpLcXZDVlNoQmI4RWZibkFka0JudTREZ2s2VlduTUp3OExkcjA3Z01tX0hCS0JuQkpoUlp6Nm1IRnByR2FnZEtlcUNDZFdKUWtKZGR5aTZYWEp5SnNEZ19nUi1zN1RhTFdxUFNESk5RMA?oc=5', 'content': 'Health AI investments are off to a roaring start in 2025 - STAT'}, {'url': 'https://news.google.com/rss/articles/CBMif0FVX3lxTFB3YzE3UEdBd0dHNWVoRW9DQ3RPdWNhN2QtbDRmT3BFSXNOSDd1aGFveC1yYk5TMGRpUTMtVGlOTHFLN3BWelZvelBxbUVBTUdDSDEtODkzX1BKQ2tvZS01N0NWNnJQZHFCUDdRMGRUUFZxWmZwRjVqM3JtY0lDdU0?oc=5', 'content': 'Could AI Agents Be the Next Billion-Dollar Investment Opportunity in Crypto? - Yahoo Finance'}]\u001b[0m\u001b[32;1m\u001b[1;3mHere are some of the latest news about AI investment:\n",
            "\n",
            "* Got $1,000? Here Are 2 AI Stocks to Buy Hand Over Fist in 2025 - The Motley Fool\n",
            "* UK companies plan to invest in AI instead of hiring staff as costs rise - Financial Times\n",
            "* Joe Biden’s record on science and tech: Investments and regulation for vaccines, broadband, microchips and AI - The Conversation Indonesia\n",
            "* Health AI investments are off to a roaring start in 2025 - STAT\n",
            "* Could AI Agents Be the Next Billion-Dollar Investment Opportunity in Crypto? - Yahoo Finance\u001b[0m\n",
            "\n",
            "\u001b[1m> Finished chain.\u001b[0m\n",
            "Results of Agent Execution:\n",
            "Here are some of the latest news about AI investment:\n",
            "\n",
            "* Got $1,000? Here Are 2 AI Stocks to Buy Hand Over Fist in 2025 - The Motley Fool\n",
            "* UK companies plan to invest in AI instead of hiring staff as costs rise - Financial Times\n",
            "* Joe Biden’s record on science and tech: Investments and regulation for vaccines, broadband, microchips and AI - The Conversation Indonesia\n",
            "* Health AI investments are off to a roaring start in 2025 - STAT\n",
            "* Could AI Agents Be the Next Billion-Dollar Investment Opportunity in Crypto? - Yahoo Finance\n"
          ]
        }
      ],
      "source": [
        "from langchain.agents import AgentExecutor\n",
        "\n",
        "# execute gpt_agent\n",
        "agent_executor = AgentExecutor(\n",
        "    agent=gemini_agent,\n",
        "    tools=tools,\n",
        "    verbose=True,\n",
        "    handle_parsing_errors=True,\n",
        ")\n",
        "\n",
        "result = agent_executor.invoke({\"input\": \"Search the latest AI Investment news\"})\n",
        "\n",
        "print(\"Results of Agent Execution:\")\n",
        "print(result[\"output\"])"
      ]
    },
    {
      "cell_type": "markdown",
      "id": "433c7da6",
      "metadata": {},
      "source": [
        "Run the agent using various `LLMs` (Large Language Models).\n",
        "\n",
        "The following is a function that generates and runs an Agent using the provided `LLM` and outputs the results."
      ]
    },
    {
      "cell_type": "code",
      "execution_count": 75,
      "id": "71ce609d",
      "metadata": {},
      "outputs": [],
      "source": [
        "def execute_agent(llm, tools, input_text, label):\n",
        "    \n",
        "    agent = create_tool_calling_agent(llm, tools, prompt)\n",
        "    executor = AgentExecutor(agent=agent, tools=tools, verbose=False)\n",
        "    result = executor.invoke({\"input\": input_text})\n",
        "    print(f\"Results from [{label}] \")\n",
        "\n",
        "    if isinstance(result[\"output\"], list) and len(result[\"output\"]) > 0:\n",
        "        for item in result[\"output\"]:\n",
        "            if \"text\" in item:\n",
        "                print(item[\"text\"])\n",
        "    elif isinstance(result[\"output\"], str):\n",
        "        print(result[\"output\"])\n",
        "    else:\n",
        "        print(result[\"output\"])"
      ]
    },
    {
      "cell_type": "markdown",
      "id": "e2213e2f",
      "metadata": {},
      "source": [
        "Generates and runs agents for each LLM and outputs the results."
      ]
    },
    {
      "cell_type": "code",
      "execution_count": 76,
      "id": "96c5c75d",
      "metadata": {},
      "outputs": [],
      "source": [
        "query = (\n",
        "    \"Search for news related to AI investment and write the results in the format of an Instagram post.\"\n",
        ")"
      ]
    },
    {
      "cell_type": "code",
      "execution_count": 77,
      "id": "456f8c93",
      "metadata": {},
      "outputs": [
        {
          "name": "stdout",
          "output_type": "stream",
          "text": [
            "Results from [gpt] \n",
            "🌟💰 **AI Investment News Update!** 💰🌟\n",
            "\n",
            "🔍 Exciting things are happening in the world of AI investments! Here are some highlights you won't want to miss:\n",
            "\n",
            "1️⃣ **Stock Picks for 2025**: If you've got $1,000 to invest, The Motley Fool suggests two AI stocks that could be game-changers! 📈💡 [Read more](https://news.google.com/rss/articles/CBMimAFBVV95cUxNanh6RjlKdmt2SmZJN3RoNHRoTWhCck1lNnZrQ0h6T0xxNUFYdGM3OWltT0lJdFRLdXpNT0h2cEFiWTJtTVZuNDRZc2Jyd0pyeDBmZmdWc21tdWZUc1ItQUdjVXZ0SllxUnRwVHBBUDMwSVU0LTRNVGRRaGpLN3FrUk1PX3RRRlFqZGdHcHJveU11Y2phQVlxOA?oc=5)\n",
            "\n",
            "2️⃣ **UK Companies' Shift**: As costs rise, UK companies are choosing to invest in AI technology rather than hiring new staff. A smart move for the future! 🇬🇧🤖 [Learn more](https://news.google.com/rss/articles/CBMicEFVX3lxTE1QeTI0QmMzRFphVWVZUXZkYmlZSDJTeU93SlJrMVo3YmhGTm1sc1hGdU0zaTJNWERxN0xVOXpvVVBuQ0R1VGZMSlFuTWVXVTI2VXE3YkFWSlNZYktHc3p6WDA2Rm80TEdZa2lQdzlscmM?oc=5)\n",
            "\n",
            "3️⃣ **Biden's Investments in Tech**: President Joe Biden is making waves with his record on science and tech, focusing on investments in AI, vaccines, and more! 🇺🇸💻 [Check it out](https://news.google.com/rss/articles/CBMi1wFBVV95cUxNM0tuR2RQTFIzblVkQ1g4aDVzWXA3UEhzQVhmZnhsbGVPOURJa1RsMmkxZV85cjAzaXhiRld2cHdCbEtIMVJLODVUUG4yelB3cjR3UTdOQk5zZ1plZFlLZzUtU19leGdPaVV0LUE3ZGdFVHJhdXpwbEgwT3BFZGhDWnV6LTJNUXdHU0VwRG5YUXBIVml0QThjWlhGXzdwY0Q1Qkt6V3NWTEtXZGpzOWtLYkxLcmRzZkNRUHU0MkN4ZnpFNmlJcFRCTVVhaVYzLW9uX2N1NmRJMA?oc=5)\n",
            "\n",
            "4️⃣ **Health AI Investments**: Exciting developments are underway in health AI investments, set for a roaring start in 2025! 🏥✨ [Discover more](https://news.google.com/rss/articles/CBMiswFBVV95cUxQTGZVQnZlaFBBUVpCTVVqQzhvM3AyNzR5QXRIbUczM1FZQzMwTmpIZUxIelB2TUlyeGxGTVhmMFJFa3V4MXA0TklYZEpLcXZDVlNoQmI4RWZibkFka0JudTREZ2s2VlduTUp3OExkcjA3Z01tX0hCS0JuQkpoUlp6Nm1IRnByR2FnZEtlcUNDZFdKUWtKZGR5aTZYWEp5SnNEZ19nUi1zN1RhTFdxUFNESk5RMA?oc=5)\n",
            "\n",
            "5️⃣ **Crypto and AI Agents**: Could AI agents be the next billion-dollar opportunity in the crypto space? The future looks bright! 🚀💸 [Read the article](https://news.google.com/rss/articles/CBMif0FVX3lxTFB3YzE3UEdBd0dHNWVoRW9DQ3RPdWNhN2QtbDRmT3BFSXNOSDd1aGFveC1yYk5TMGRpUTMtVGlOTHFLN3BWelZvelBxbUVBTUdDSDEtODkzX1BKQ2tvZS01N0NWNnJQZHFCUDdRMGRUUFZxWmZwRjVqM3JtY0lDdU0?oc=5)\n",
            "\n",
            "✨ Stay informed and invest wisely! The AI revolution is here! 💪💼 #AIInvestment #StockMarket #Crypto #TechNews #InvestSmart\n"
          ]
        }
      ],
      "source": [
        "# gpt\n",
        "execute_agent(gpt, tools, query, \"gpt\")"
      ]
    },
    {
      "cell_type": "code",
      "execution_count": 78,
      "id": "47c36e6b",
      "metadata": {},
      "outputs": [
        {
          "name": "stdout",
          "output_type": "stream",
          "text": [
            "Results from [claude] \n",
            "\n",
            "\n",
            "Great! I've gathered some interesting news about AI investment. Now, let me format this information into an Instagram-style post for you.\n",
            "\n",
            "📱 Instagram Post: AI Investment Buzz 🚀💰\n",
            "\n",
            "🔥 Hot off the press: AI investments are making waves in 2025! 🌊\n",
            "\n",
            "💼 UK companies are eyeing AI over new hires as costs rise. Smart move or risky business? 🤔\n",
            "\n",
            "💰 Got a spare $1,000? The Motley Fool suggests 2 AI stocks to grab ASAP! 📈\n",
            "\n",
            "🏥 Health AI investments are off to a roaring start this year. The future of healthcare looks techy! 🩺🤖\n",
            "\n",
            "🇺🇸 Biden's tech agenda: Vaccines, broadband, microchips, and yes, more AI! 🌐\n",
            "\n",
            "💡 Crypto alert: AI agents could be the next billion-dollar investment opportunity! 💎\n",
            "\n",
            "🔮 What's your take on the AI investment boom? Are you ready to ride the wave or watching from the shore? Let us know in the comments! 👇\n",
            "\n",
            "#AIInvestment #TechStocks #FutureOfFinance #HealthTech #CryptoAI #InvestmentTrends2025\n",
            "\n",
            "Remember, always do your research before making any investment decisions! 📚💼\n",
            "\n",
            "---\n",
            "\n",
            "This Instagram-style post summarizes the key points from the news articles, presenting them in a engaging and visually appealing format. It includes emojis, hashtags, and a call-to-action for comments, which are typical elements of popular Instagram posts. The content is designed to spark interest and encourage engagement from followers interested in AI, investment, and technology trends.\n"
          ]
        }
      ],
      "source": [
        "# claude\n",
        "execute_agent(claude, tools, query, \"claude\")"
      ]
    },
    {
      "cell_type": "code",
      "execution_count": 79,
      "id": "eddc1886",
      "metadata": {},
      "outputs": [
        {
          "name": "stderr",
          "output_type": "stream",
          "text": [
            "Retrying langchain_google_genai.chat_models._chat_with_retry.<locals>._chat_with_retry in 2.0 seconds as it raised ResourceExhausted: 429 Resource has been exhausted (e.g. check quota)..\n"
          ]
        },
        {
          "name": "stdout",
          "output_type": "stream",
          "text": [
            "Results from [gemini] \n",
            "🚀 **Investing in the Future: AI** 🚀\n",
            "\n",
            "The world of Artificial Intelligence is booming, and so is investment in the field!  From healthcare to finance, AI is transforming industries.  Check out the latest news:\n",
            "\n",
            "* **Motley Fool:** Got $1,000? Here Are 2 AI Stocks to Buy Hand Over Fist in 2025.\n",
            "* **Financial Times:** UK companies plan to invest in AI instead of hiring staff as costs rise.\n",
            "* **STAT:** Health AI investments are off to a roaring start in 2025.\n",
            "\n",
            "#AI #Investment #FutureTech #Innovation #TechNews\n"
          ]
        }
      ],
      "source": [
        "# gemini\n",
        "execute_agent(gemini, tools, query, \"gemini\")"
      ]
    },
    {
      "cell_type": "code",
      "execution_count": 80,
      "id": "7a58b85e",
      "metadata": {},
      "outputs": [
        {
          "name": "stdout",
          "output_type": "stream",
          "text": [
            "Results from [llama3.1 70B] \n",
            "\"Hey everyone! I've got the latest news on AI! \n",
            "\n",
            "OpenAI's o3 electrifies quest for human-level intelligence!\n",
            "\n",
            "Increased AI use linked to eroding critical thinking skills\n",
            "\n",
            "Chinese AI-related firm Zhipu says strongly opposes inclusion in US export control entity list\n",
            "\n",
            "Did AI Cause Those Layoffs? NY Employers May Have To Disclose.\n",
            "\n",
            "Aligned Data Centers completes capital raise of over $12 billion\n",
            "\n",
            "Stay up-to-date with the latest news on AI! #AI #News #Technology\"\n"
          ]
        }
      ],
      "source": [
        "# llama3.1 70B (Together.ai)\n",
        "execute_agent(\n",
        "    llama,\n",
        "    tools,\n",
        "    \"Search AI related news and write it in Instagram post format\",\n",
        "    \"llama3.1 70B\",\n",
        ")"
      ]
    },
    {
      "cell_type": "code",
      "execution_count": 81,
      "id": "5acd45a8",
      "metadata": {},
      "outputs": [
        {
          "name": "stdout",
          "output_type": "stream",
          "text": [
            "Results from [llama3.1(Ollama)] \n",
            "\"Breaking News!\n",
            "\n",
            "Investors, are you ready to dive into the world of Artificial Intelligence?\n",
            "\n",
            "We've got the scoop on the latest news related to AI investment! \n",
            "\n",
            "From stocks to investments, here's what's hot:\n",
            "\n",
            " Got $1,000? Here Are 2 AI Stocks to Buy Hand Over Fist in 2025 - The Motley Fool\n",
            " UK companies plan to invest in AI instead of hiring staff as costs rise - Financial Times\n",
            " Joe Biden’s record on science and tech: Investments and regulation for vaccines, broadband, microchips and AI - The Conversation Indonesia\n",
            " Health AI investments are off to a roaring start in 2025 - STAT\n",
            " Could AI Agents Be the Next Billion-Dollar Investment Opportunity in Crypto? - Yahoo Finance\n",
            "\n",
            "Stay ahead of the game and invest wisely! #AIinvestment #stockmarket #investing\"\n"
          ]
        }
      ],
      "source": [
        "# llama3.1 8B (ollama)\n",
        "execute_agent(ollama, tools, query, \"llama3.1(Ollama)\")"
      ]
    },
    {
      "cell_type": "code",
      "execution_count": 82,
      "id": "6841a173",
      "metadata": {},
      "outputs": [
        {
          "name": "stdout",
          "output_type": "stream",
          "text": [
            "Results from [qwen2.5(Ollama)] \n",
            "🌟 [INSTAGRAM POST] 🌟\n",
            "\n",
            "🔥 Dive into today's top news on AI investment:\n",
            "\n",
            "1. **Got $1,000? Here Are 2 AI Stocks to Buy Hand Over Fist in 2025** - The Motley Fool shares insights on potential profitable investments.\n",
            "   💡 [Read More](https://news.google.com/rss/articles/CBMimAFBVV95cUxNanh6RjlKdmt2SmZJN3RoNHRoTWhCck1lNnZrQ0h6T0xxNUFYdGM3OWltT0lJdFRLdXpNT0h2cEFiWTJtTVZuNDRZc2Jyd0pyeDBmZmdWc21tdWZUc1ItQUdjVXZ0SllxUnRwVHBBUDMwSVU0LTRNVGRRaGpLN3FrUk1PX3RRRlFqZGdHcHJveU11Y2phQVlxOA?oc=5)\n",
            "\n",
            "2. **UK companies plan to invest in AI instead of hiring staff as costs rise** - Financial Times discusses the shift from hiring to automation.\n",
            "   💡 [Read More](https://news.google.com/rss/articles/CBMicEFVX3lxTE1QeTI0QmMzRFphVWVZUXZkYmlZSDJTeU93SlJrMVo3YmhGTm1sc1hGdU0zaTJNWERxN0xVOXpvVVBuQ0R1VGZMSlFuTWVXVTI2VXE3YkFWSlNZYktHc3p6WDA2Rm80TEdZa2lQdzlscmM?oc=5)\n",
            "\n",
            "3. **Joe Biden’s record on science and tech: Investments and regulation for vaccines, broadband, microchips and AI** - The Conversation Indonesia highlights significant government investments.\n",
            "   💡 [Read More](https://news.google.com/rss/articles/CBMi1wFBVV95cUxNM0tuR2RQTFIzblVkQ1g4aDVzWXA3UEhzQVhmZnhsbGVPOURJa1RsMmkxZV85cjAzaXhiRld2cHdCbEtIMVJLODVUUG4yelB3cjR3UTdOQk5zZ1plZFlLZzUtU19leGdPaVV0LUE3ZGdFVHJhdXpwbEgwT3BFZGhDWnV6LTJNUXdHU0VwRG5YUXBIVml0QThjWlhGXzdwY0Q1Qkt6V3NWTEtXZGpzOWtLYkxLcmRzZkNRUHU0MkN4ZnpFNmlJcFRCTVVhaVYzLW9uX2N1NmRJMA?oc=5)\n",
            "\n",
            "4. **Health AI investments are off to a roaring start in 2025** - STAT reports on the booming healthcare sector.\n",
            "   💡 [Read More](https://news.google.com/rss/articles/CBMiswFBVV95cUxQTGZVQnZlaFBBUVpCTVVqQzhvM3AyNzR5QXRIbUczM1FZQzMwTmpIZUxIelB2TUlyeGxGTVhmMFJFa3V4MXA0TklYZEpLcXZDVlNoQmI4RWZiVTJrRmltQkdDdU0?oc=5)\n",
            "\n",
            "5. **Could AI Agents Be the Next Billion-Dollar Investment Opportunity in Crypto?** - Yahoo Finance explores this emerging market.\n",
            "   💡 [Read More](https://news.google.com/rss/articles/CBMif0FVX3lxTFB3YzE3UEdBd0dHNWVoRW9DQ3RPdWNhN2QtbDRmT3BFSXNOSDd1aGFveC1yYk5TMGRpUTMtVGlOTHFLN3BWelZvelBxbUVBTUdDSDEtODkzX1BKQ2tvZS01N0NWNnJQZHFCUDdRMGRUUFZxWmZwRjVqM3JtY0lDdU0?oc=5)\n",
            "\n",
            "🌟 Don't miss out on these key developments in the world of AI. Stay informed and invest wisely! 🌟\n",
            "\n",
            "#AIInvestments #TechTrends #BusinessGrowth #InnovationInAction 🚀💼💡\n"
          ]
        }
      ],
      "source": [
        "# qwen2.5 7B (ollama)\n",
        "execute_agent(qwen, tools, query, \"qwen2.5(Ollama)\")"
      ]
    }
  ],
  "metadata": {
    "kernelspec": {
      "display_name": "py-test",
      "language": "python",
      "name": "python3"
    },
    "language_info": {
      "codemirror_mode": {
        "name": "ipython",
        "version": 3
      },
      "file_extension": ".py",
      "mimetype": "text/x-python",
      "name": "python",
      "nbconvert_exporter": "python",
      "pygments_lexer": "ipython3",
      "version": "3.11.10"
    }
  },
  "nbformat": 4,
  "nbformat_minor": 5
}
